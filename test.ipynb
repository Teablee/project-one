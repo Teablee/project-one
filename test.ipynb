{
 "metadata": {
  "language_info": {
   "codemirror_mode": {
    "name": "ipython",
    "version": 3
   },
   "file_extension": ".py",
   "mimetype": "text/x-python",
   "name": "python",
   "nbconvert_exporter": "python",
   "pygments_lexer": "ipython3",
   "version": "3.7.9-final"
  },
  "orig_nbformat": 2,
  "kernelspec": {
   "name": "python379jvsc74a57bd0bd230f86950030d0145785e8ad3e4440ba8f9dbe936dc92717eba51f4029bf4b",
   "display_name": "Python 3.7.9 64-bit ('PythonData': conda)"
  }
 },
 "nbformat": 4,
 "nbformat_minor": 2,
 "cells": [
  {
   "cell_type": "code",
   "execution_count": 15,
   "metadata": {},
   "outputs": [
    {
     "output_type": "stream",
     "name": "stdout",
     "text": [
      "Requirement already satisfied: spotipy in c:\\users\\tracy\\anaconda3\\envs\\pythondata\\lib\\site-packages (2.18.0)\nRequirement already satisfied: requests>=2.25.0 in c:\\users\\tracy\\anaconda3\\envs\\pythondata\\lib\\site-packages (from spotipy) (2.25.1)\nRequirement already satisfied: six>=1.15.0 in c:\\users\\tracy\\anaconda3\\envs\\pythondata\\lib\\site-packages (from spotipy) (1.15.0)\nRequirement already satisfied: urllib3>=1.26.0 in c:\\users\\tracy\\anaconda3\\envs\\pythondata\\lib\\site-packages (from spotipy) (1.26.4)\nRequirement already satisfied: certifi>=2017.4.17 in c:\\users\\tracy\\anaconda3\\envs\\pythondata\\lib\\site-packages (from requests>=2.25.0->spotipy) (2020.6.20)\nRequirement already satisfied: chardet<5,>=3.0.2 in c:\\users\\tracy\\anaconda3\\envs\\pythondata\\lib\\site-packages (from requests>=2.25.0->spotipy) (3.0.4)\nRequirement already satisfied: idna<3,>=2.5 in c:\\users\\tracy\\anaconda3\\envs\\pythondata\\lib\\site-packages (from requests>=2.25.0->spotipy) (2.10)\nNote: you may need to restart the kernel to use updated packages.\n"
     ]
    }
   ],
   "source": [
    "pip install spotipy"
   ]
  },
  {
   "cell_type": "code",
   "execution_count": 54,
   "metadata": {},
   "outputs": [],
   "source": [
    "import spotipy\n",
    "\n",
    "client_id = '124000de66f645aeb7daad3b78da2fe4'\n",
    "client_secret = 'secret'\n",
    "\n",
    "from spotipy.oauth2 import SpotifyClientCredentials\n",
    "\n",
    "client_credentials_manager = SpotifyClientCredentials(client_id, client_secret)\n",
    "sp = spotipy.Spotify(client_credentials_manager=client_credentials_manager)\n"
   ]
  },
  {
   "cell_type": "code",
   "execution_count": 61,
   "metadata": {},
   "outputs": [
    {
     "output_type": "execute_result",
     "data": {
      "text/plain": [
       "   Position  ...        Genre\n",
       "0         1  ...  country rap\n",
       "1         2  ...             \n",
       "2         3  ...             \n",
       "3         4  ...             \n",
       "4         5  ...             \n",
       "\n",
       "[5 rows x 7 columns]"
      ],
      "text/html": "<div>\n<style scoped>\n    .dataframe tbody tr th:only-of-type {\n        vertical-align: middle;\n    }\n\n    .dataframe tbody tr th {\n        vertical-align: top;\n    }\n\n    .dataframe thead th {\n        text-align: right;\n    }\n</style>\n<table border=\"1\" class=\"dataframe\">\n  <thead>\n    <tr style=\"text-align: right;\">\n      <th></th>\n      <th>Position</th>\n      <th>Track Name</th>\n      <th>Artist</th>\n      <th>Streams</th>\n      <th>URL</th>\n      <th>Artist ID</th>\n      <th>Genre</th>\n    </tr>\n  </thead>\n  <tbody>\n    <tr>\n      <th>0</th>\n      <td>1</td>\n      <td>MONTERO (Call Me By Your Name)</td>\n      <td>Lil Nas X</td>\n      <td>7315661</td>\n      <td>https://open.spotify.com/track/67BtfxlNbhBmCDR...</td>\n      <td>7jVv8c5Fj3E9VhNjxT4snq</td>\n      <td>country rap</td>\n    </tr>\n    <tr>\n      <th>1</th>\n      <td>2</td>\n      <td>Peaches (feat. Daniel Caesar &amp; Giveon)</td>\n      <td>Justin Bieber</td>\n      <td>6721212</td>\n      <td>https://open.spotify.com/track/4iJyoBOLtHqaGxP...</td>\n      <td></td>\n      <td></td>\n    </tr>\n    <tr>\n      <th>2</th>\n      <td>3</td>\n      <td>RAPSTAR</td>\n      <td>Polo G</td>\n      <td>4330244</td>\n      <td>https://open.spotify.com/track/43PGPuHIlVOc04j...</td>\n      <td></td>\n      <td></td>\n    </tr>\n    <tr>\n      <th>3</th>\n      <td>4</td>\n      <td>Astronaut In The Ocean</td>\n      <td>Masked Wolf</td>\n      <td>4115436</td>\n      <td>https://open.spotify.com/track/3VT8hOC5vuDXBsH...</td>\n      <td></td>\n      <td></td>\n    </tr>\n    <tr>\n      <th>4</th>\n      <td>5</td>\n      <td>Kiss Me More (feat. SZA)</td>\n      <td>Doja Cat</td>\n      <td>3767386</td>\n      <td>https://open.spotify.com/track/748mdHapucXQri7...</td>\n      <td></td>\n      <td></td>\n    </tr>\n  </tbody>\n</table>\n</div>"
     },
     "metadata": {},
     "execution_count": 61
    }
   ],
   "source": [
    "import json\n",
    "import pandas as pd\n",
    "\n",
    "#open csv file and read with pandas JIC\n",
    "csv_path = r\"C:\\Users\\Tracy\\Documents\\GitHub\\project-one\\regional-global-daily-latest.csv\"\n",
    "viral_df = pd.read_csv(csv_path, skiprows=[0])\n",
    "viral_df.head()\n",
    "\n",
    "# Make blank column for storing the artist ID\n",
    "viral_df['Artist ID'] = \"\"\n",
    "viral_df['Genre'] = \"\"\n",
    "# Make empty list to collect the artist ID\n",
    "artist_id = []\n",
    "\n",
    "for index, row in viral_df.iterrows():\n",
    "\n",
    "    track_id = row['URL']\n",
    "    track_features = sp.track(track_id)\n",
    "    # print(track_features)\n",
    "    # viral_df.loc[index, 'Artist ID'] \n",
    "    # artist_id.append(track_features['album']['artists'][0]['id'])\n",
    "    viral_df.loc[index, 'Artist ID'] = track_features['album']['artists'][0]['id']\n",
    "    break\n",
    "\n",
    "for index, row in viral_df.iterrows():\n",
    "\n",
    "    genre_id = row['Artist ID']\n",
    "    artist_features = sp.artist(genre_id)\n",
    "    viral_df.loc[index, 'Genre'] = artist_features['genres'][0]\n",
    "    break\n",
    "\n",
    "\n",
    "viral_df.head()\n",
    "\n",
    "# #get an example of audio features\n",
    "# track_features = sp.track('1uNFoZAHBGtllmzznpCI3s')\n",
    "# #check the response format to find the fields we want\n",
    "# print(json.dumps(track_features, indent=4, sort_keys=True))"
   ]
  },
  {
   "cell_type": "code",
   "execution_count": null,
   "metadata": {},
   "outputs": [],
   "source": []
  },
  {
   "cell_type": "code",
   "execution_count": 47,
   "metadata": {},
   "outputs": [
    {
     "output_type": "stream",
     "name": "stdout",
     "text": [
      "{\n    \"album\": {\n        \"album_type\": \"single\",\n        \"artists\": [\n            {\n                \"external_urls\": {\n                    \"spotify\": \"https://open.spotify.com/artist/6AgTAQt8XS6jRWi4sX7w49\"\n                },\n                \"href\": \"https://api.spotify.com/v1/artists/6AgTAQt8XS6jRWi4sX7w49\",\n                \"id\": \"6AgTAQt8XS6jRWi4sX7w49\",\n                \"name\": \"Polo G\",\n                \"type\": \"artist\",\n                \"uri\": \"spotify:artist:6AgTAQt8XS6jRWi4sX7w49\"\n            }\n        ],\n        \"available_markets\": [\n            \"AD\",\n            \"AE\",\n            \"AG\",\n            \"AL\",\n            \"AM\",\n            \"AO\",\n            \"AR\",\n            \"AT\",\n            \"AU\",\n            \"AZ\",\n            \"BA\",\n            \"BB\",\n            \"BD\",\n            \"BE\",\n            \"BF\",\n            \"BG\",\n            \"BH\",\n            \"BI\",\n            \"BJ\",\n            \"BN\",\n            \"BO\",\n            \"BR\",\n            \"BS\",\n            \"BT\",\n            \"BW\",\n            \"BY\",\n            \"BZ\",\n            \"CA\",\n            \"CH\",\n            \"CI\",\n            \"CL\",\n            \"CM\",\n            \"CO\",\n            \"CR\",\n            \"CV\",\n            \"CW\",\n            \"CY\",\n            \"CZ\",\n            \"DE\",\n            \"DJ\",\n            \"DK\",\n            \"DM\",\n            \"DO\",\n            \"DZ\",\n            \"EC\",\n            \"EE\",\n            \"EG\",\n            \"ES\",\n            \"FI\",\n            \"FJ\",\n            \"FM\",\n            \"FR\",\n            \"GA\",\n            \"GB\",\n            \"GD\",\n            \"GE\",\n            \"GH\",\n            \"GM\",\n            \"GN\",\n            \"GQ\",\n            \"GR\",\n            \"GT\",\n            \"GW\",\n            \"GY\",\n            \"HK\",\n            \"HN\",\n            \"HR\",\n            \"HT\",\n            \"HU\",\n            \"ID\",\n            \"IE\",\n            \"IL\",\n            \"IN\",\n            \"IS\",\n            \"IT\",\n            \"JM\",\n            \"JO\",\n            \"JP\",\n            \"KE\",\n            \"KG\",\n            \"KH\",\n            \"KI\",\n            \"KM\",\n            \"KN\",\n            \"KR\",\n            \"KW\",\n            \"KZ\",\n            \"LA\",\n            \"LB\",\n            \"LC\",\n            \"LI\",\n            \"LK\",\n            \"LR\",\n            \"LS\",\n            \"LT\",\n            \"LU\",\n            \"LV\",\n            \"MA\",\n            \"MC\",\n            \"MD\",\n            \"ME\",\n            \"MG\",\n            \"MH\",\n            \"MK\",\n            \"ML\",\n            \"MN\",\n            \"MO\",\n            \"MR\",\n            \"MT\",\n            \"MU\",\n            \"MV\",\n            \"MW\",\n            \"MX\",\n            \"MY\",\n            \"MZ\",\n            \"NA\",\n            \"NE\",\n            \"NG\",\n            \"NI\",\n            \"NL\",\n            \"NO\",\n            \"NP\",\n            \"NR\",\n            \"NZ\",\n            \"OM\",\n            \"PA\",\n            \"PE\",\n            \"PG\",\n            \"PH\",\n            \"PK\",\n            \"PL\",\n            \"PS\",\n            \"PT\",\n            \"PW\",\n            \"PY\",\n            \"QA\",\n            \"RO\",\n            \"RS\",\n            \"RU\",\n            \"RW\",\n            \"SA\",\n            \"SB\",\n            \"SC\",\n            \"SE\",\n            \"SG\",\n            \"SI\",\n            \"SK\",\n            \"SL\",\n            \"SM\",\n            \"SN\",\n            \"SR\",\n            \"ST\",\n            \"SV\",\n            \"SZ\",\n            \"TD\",\n            \"TG\",\n            \"TH\",\n            \"TL\",\n            \"TN\",\n            \"TO\",\n            \"TR\",\n            \"TT\",\n            \"TV\",\n            \"TW\",\n            \"TZ\",\n            \"UA\",\n            \"UG\",\n            \"US\",\n            \"UY\",\n            \"UZ\",\n            \"VC\",\n            \"VN\",\n            \"VU\",\n            \"WS\",\n            \"XK\",\n            \"ZA\",\n            \"ZM\",\n            \"ZW\"\n        ],\n        \"external_urls\": {\n            \"spotify\": \"https://open.spotify.com/album/0SVzFcpsByITKgURaxXdsV\"\n        },\n        \"href\": \"https://api.spotify.com/v1/albums/0SVzFcpsByITKgURaxXdsV\",\n        \"id\": \"0SVzFcpsByITKgURaxXdsV\",\n        \"images\": [\n            {\n                \"height\": 640,\n                \"url\": \"https://i.scdn.co/image/ab67616d0000b273175715816616d0fb317fabeb\",\n                \"width\": 640\n            },\n            {\n                \"height\": 300,\n                \"url\": \"https://i.scdn.co/image/ab67616d00001e02175715816616d0fb317fabeb\",\n                \"width\": 300\n            },\n            {\n                \"height\": 64,\n                \"url\": \"https://i.scdn.co/image/ab67616d00004851175715816616d0fb317fabeb\",\n                \"width\": 64\n            }\n        ],\n        \"name\": \"RAPSTAR\",\n        \"release_date\": \"2021-04-09\",\n        \"release_date_precision\": \"day\",\n        \"total_tracks\": 1,\n        \"type\": \"album\",\n        \"uri\": \"spotify:album:0SVzFcpsByITKgURaxXdsV\"\n    },\n    \"artists\": [\n        {\n            \"external_urls\": {\n                \"spotify\": \"https://open.spotify.com/artist/6AgTAQt8XS6jRWi4sX7w49\"\n            },\n            \"href\": \"https://api.spotify.com/v1/artists/6AgTAQt8XS6jRWi4sX7w49\",\n            \"id\": \"6AgTAQt8XS6jRWi4sX7w49\",\n            \"name\": \"Polo G\",\n            \"type\": \"artist\",\n            \"uri\": \"spotify:artist:6AgTAQt8XS6jRWi4sX7w49\"\n        }\n    ],\n    \"available_markets\": [\n        \"AD\",\n        \"AE\",\n        \"AG\",\n        \"AL\",\n        \"AM\",\n        \"AO\",\n        \"AR\",\n        \"AT\",\n        \"AU\",\n        \"AZ\",\n        \"BA\",\n        \"BB\",\n        \"BD\",\n        \"BE\",\n        \"BF\",\n        \"BG\",\n        \"BH\",\n        \"BI\",\n        \"BJ\",\n        \"BN\",\n        \"BO\",\n        \"BR\",\n        \"BS\",\n        \"BT\",\n        \"BW\",\n        \"BY\",\n        \"BZ\",\n        \"CA\",\n        \"CH\",\n        \"CI\",\n        \"CL\",\n        \"CM\",\n        \"CO\",\n        \"CR\",\n        \"CV\",\n        \"CW\",\n        \"CY\",\n        \"CZ\",\n        \"DE\",\n        \"DJ\",\n        \"DK\",\n        \"DM\",\n        \"DO\",\n        \"DZ\",\n        \"EC\",\n        \"EE\",\n        \"EG\",\n        \"ES\",\n        \"FI\",\n        \"FJ\",\n        \"FM\",\n        \"FR\",\n        \"GA\",\n        \"GB\",\n        \"GD\",\n        \"GE\",\n        \"GH\",\n        \"GM\",\n        \"GN\",\n        \"GQ\",\n        \"GR\",\n        \"GT\",\n        \"GW\",\n        \"GY\",\n        \"HK\",\n        \"HN\",\n        \"HR\",\n        \"HT\",\n        \"HU\",\n        \"ID\",\n        \"IE\",\n        \"IL\",\n        \"IN\",\n        \"IS\",\n        \"IT\",\n        \"JM\",\n        \"JO\",\n        \"JP\",\n        \"KE\",\n        \"KG\",\n        \"KH\",\n        \"KI\",\n        \"KM\",\n        \"KN\",\n        \"KR\",\n        \"KW\",\n        \"KZ\",\n        \"LA\",\n        \"LB\",\n        \"LC\",\n        \"LI\",\n        \"LK\",\n        \"LR\",\n        \"LS\",\n        \"LT\",\n        \"LU\",\n        \"LV\",\n        \"MA\",\n        \"MC\",\n        \"MD\",\n        \"ME\",\n        \"MG\",\n        \"MH\",\n        \"MK\",\n        \"ML\",\n        \"MN\",\n        \"MO\",\n        \"MR\",\n        \"MT\",\n        \"MU\",\n        \"MV\",\n        \"MW\",\n        \"MX\",\n        \"MY\",\n        \"MZ\",\n        \"NA\",\n        \"NE\",\n        \"NG\",\n        \"NI\",\n        \"NL\",\n        \"NO\",\n        \"NP\",\n        \"NR\",\n        \"NZ\",\n        \"OM\",\n        \"PA\",\n        \"PE\",\n        \"PG\",\n        \"PH\",\n        \"PK\",\n        \"PL\",\n        \"PS\",\n        \"PT\",\n        \"PW\",\n        \"PY\",\n        \"QA\",\n        \"RO\",\n        \"RS\",\n        \"RU\",\n        \"RW\",\n        \"SA\",\n        \"SB\",\n        \"SC\",\n        \"SE\",\n        \"SG\",\n        \"SI\",\n        \"SK\",\n        \"SL\",\n        \"SM\",\n        \"SN\",\n        \"SR\",\n        \"ST\",\n        \"SV\",\n        \"SZ\",\n        \"TD\",\n        \"TG\",\n        \"TH\",\n        \"TL\",\n        \"TN\",\n        \"TO\",\n        \"TR\",\n        \"TT\",\n        \"TV\",\n        \"TW\",\n        \"TZ\",\n        \"UA\",\n        \"UG\",\n        \"US\",\n        \"UY\",\n        \"UZ\",\n        \"VC\",\n        \"VN\",\n        \"VU\",\n        \"WS\",\n        \"XK\",\n        \"ZA\",\n        \"ZM\",\n        \"ZW\"\n    ],\n    \"disc_number\": 1,\n    \"duration_ms\": 165925,\n    \"explicit\": true,\n    \"external_ids\": {\n        \"isrc\": \"USSM12101640\"\n    },\n    \"external_urls\": {\n        \"spotify\": \"https://open.spotify.com/track/43PGPuHIlVOc04jrZVh9L6\"\n    },\n    \"href\": \"https://api.spotify.com/v1/tracks/43PGPuHIlVOc04jrZVh9L6\",\n    \"id\": \"43PGPuHIlVOc04jrZVh9L6\",\n    \"is_local\": false,\n    \"name\": \"RAPSTAR\",\n    \"popularity\": 93,\n    \"preview_url\": \"https://p.scdn.co/mp3-preview/ade054b0d605e53c388d383b59b20248aafb1636?cid=124000de66f645aeb7daad3b78da2fe4\",\n    \"track_number\": 1,\n    \"type\": \"track\",\n    \"uri\": \"spotify:track:43PGPuHIlVOc04jrZVh9L6\"\n}\n"
     ]
    }
   ],
   "source": [
    "# #get an example of audio features\n",
    "track_features = sp.track('https://open.spotify.com/track/43PGPuHIlVOc04jrZVh9L6')\n",
    "# #check the response format to find the fields we want\n",
    "print(json.dumps(track_features, indent=4, sort_keys=True))"
   ]
  },
  {
   "cell_type": "code",
   "execution_count": 56,
   "metadata": {},
   "outputs": [
    {
     "output_type": "stream",
     "name": "stdout",
     "text": [
      "{\n    \"external_urls\": {\n        \"spotify\": \"https://open.spotify.com/artist/7jVv8c5Fj3E9VhNjxT4snq\"\n    },\n    \"followers\": {\n        \"href\": null,\n        \"total\": 4603093\n    },\n    \"genres\": [\n        \"country rap\",\n        \"lgbtq+ hip hop\",\n        \"pop rap\",\n        \"queer country\"\n    ],\n    \"href\": \"https://api.spotify.com/v1/artists/7jVv8c5Fj3E9VhNjxT4snq\",\n    \"id\": \"7jVv8c5Fj3E9VhNjxT4snq\",\n    \"images\": [\n        {\n            \"height\": 640,\n            \"url\": \"https://i.scdn.co/image/ab6761610000e5eb8f16bf057f39efe6517fd3dc\",\n            \"width\": 640\n        },\n        {\n            \"height\": 320,\n            \"url\": \"https://i.scdn.co/image/ab676161000051748f16bf057f39efe6517fd3dc\",\n            \"width\": 320\n        },\n        {\n            \"height\": 160,\n            \"url\": \"https://i.scdn.co/image/ab6761610000f1788f16bf057f39efe6517fd3dc\",\n            \"width\": 160\n        }\n    ],\n    \"name\": \"Lil Nas X\",\n    \"popularity\": 90,\n    \"type\": \"artist\",\n    \"uri\": \"spotify:artist:7jVv8c5Fj3E9VhNjxT4snq\"\n}\n"
     ]
    }
   ],
   "source": [
    "# #get an example of audio features\n",
    "track_features = sp.artist('7jVv8c5Fj3E9VhNjxT4snq')\n",
    "# #check the response format to find the fields we want\n",
    "print(json.dumps(track_features, indent=4, sort_keys=True))"
   ]
  },
  {
   "cell_type": "code",
   "execution_count": null,
   "metadata": {},
   "outputs": [],
   "source": []
  }
 ]
}