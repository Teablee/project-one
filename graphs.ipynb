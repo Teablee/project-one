{
 "metadata": {
  "language_info": {
   "codemirror_mode": {
    "name": "ipython",
    "version": 3
   },
   "file_extension": ".py",
   "mimetype": "text/x-python",
   "name": "python",
   "nbconvert_exporter": "python",
   "pygments_lexer": "ipython3",
   "version": "3.7.9-final"
  },
  "orig_nbformat": 2,
  "kernelspec": {
   "name": "python3",
   "display_name": "Python 3.7.9 64-bit",
   "metadata": {
    "interpreter": {
     "hash": "e3896c66a75c41725fea970d0c2a2982cf91def990c8dcb709e7b9c0cc3a398d"
    }
   }
  }
 },
 "nbformat": 4,
 "nbformat_minor": 2,
 "cells": [
  {
   "source": [
    "## Visualizations: Histograms/Bar Graphs for Top Viral Songs"
   ],
   "cell_type": "markdown",
   "metadata": {}
  },
  {
   "cell_type": "code",
   "execution_count": 1,
   "metadata": {},
   "outputs": [],
   "source": [
    "%matplotlib inline"
   ]
  },
  {
   "cell_type": "code",
   "execution_count": 2,
   "metadata": {},
   "outputs": [],
   "source": [
    "import matplotlib.pyplot as plt\n",
    "import matplotlib\n",
    "import pandas as pd\n",
    "import numpy as np\n",
    "import time"
   ]
  },
  {
   "cell_type": "code",
   "execution_count": 3,
   "metadata": {},
   "outputs": [
    {
     "output_type": "execute_result",
     "data": {
      "text/plain": [
       "   Unnamed: 0  Position                                         Track Name  \\\n",
       "0           0         1                                            The Box   \n",
       "1           1         2  All I Want - From \"High School Musical: The Mu...   \n",
       "2           2         3                                    Blueberry Fergo   \n",
       "3           3         4                                  GOODMORNINGTOKYO!   \n",
       "4           4         5                                             Kraazy   \n",
       "\n",
       "            Artist                                                URL  \\\n",
       "0      Roddy Ricch  https://open.spotify.com/track/0nbXyq5TXYPCO7p...   \n",
       "1   Olivia Rodrigo  https://open.spotify.com/track/4Yxc55NX3tAXC2m...   \n",
       "2        Lil Monet  https://open.spotify.com/track/6CrMU5zXlKNGsip...   \n",
       "3  TOKYO’S REVENGE  https://open.spotify.com/track/0Q2n5yzl2XRqYbV...   \n",
       "4           Likybo  https://open.spotify.com/track/3s2Qd1rsWqbvOox...   \n",
       "\n",
       "                                     Filename    Month  Week Number      Type  \\\n",
       "0  viral-us-weekly-2020-01-09--2020-01-09.csv  January            2  Viral 50   \n",
       "1  viral-us-weekly-2020-01-09--2020-01-09.csv  January            2  Viral 50   \n",
       "2  viral-us-weekly-2020-01-09--2020-01-09.csv  January            2  Viral 50   \n",
       "3  viral-us-weekly-2020-01-09--2020-01-09.csv  January            2  Viral 50   \n",
       "4  viral-us-weekly-2020-01-09--2020-01-09.csv  January            2  Viral 50   \n",
       "\n",
       "         Date               Artist ID      Genre 1        Genre 2     Genre 3  \n",
       "0  2020-01-09  757aE44tKEUQEqRuT6GnEB  melodic rap            rap        trap  \n",
       "1  2020-01-09  1McMsnEElThX1knmY4oliG          pop  post-teen pop         NaN  \n",
       "2  2020-01-09  19FsxZm98evcrjWFFhHnC4  unspecified            NaN         NaN  \n",
       "3  2020-01-09  5TbLOwv8BNnik3f03NZJlt     meme rap        sad rap  vapor trap  \n",
       "4  2020-01-09  16Nc36xAtNyQ7BMBcDsaLv     cali rap            NaN         NaN  "
      ],
      "text/html": "<div>\n<style scoped>\n    .dataframe tbody tr th:only-of-type {\n        vertical-align: middle;\n    }\n\n    .dataframe tbody tr th {\n        vertical-align: top;\n    }\n\n    .dataframe thead th {\n        text-align: right;\n    }\n</style>\n<table border=\"1\" class=\"dataframe\">\n  <thead>\n    <tr style=\"text-align: right;\">\n      <th></th>\n      <th>Unnamed: 0</th>\n      <th>Position</th>\n      <th>Track Name</th>\n      <th>Artist</th>\n      <th>URL</th>\n      <th>Filename</th>\n      <th>Month</th>\n      <th>Week Number</th>\n      <th>Type</th>\n      <th>Date</th>\n      <th>Artist ID</th>\n      <th>Genre 1</th>\n      <th>Genre 2</th>\n      <th>Genre 3</th>\n    </tr>\n  </thead>\n  <tbody>\n    <tr>\n      <th>0</th>\n      <td>0</td>\n      <td>1</td>\n      <td>The Box</td>\n      <td>Roddy Ricch</td>\n      <td>https://open.spotify.com/track/0nbXyq5TXYPCO7p...</td>\n      <td>viral-us-weekly-2020-01-09--2020-01-09.csv</td>\n      <td>January</td>\n      <td>2</td>\n      <td>Viral 50</td>\n      <td>2020-01-09</td>\n      <td>757aE44tKEUQEqRuT6GnEB</td>\n      <td>melodic rap</td>\n      <td>rap</td>\n      <td>trap</td>\n    </tr>\n    <tr>\n      <th>1</th>\n      <td>1</td>\n      <td>2</td>\n      <td>All I Want - From \"High School Musical: The Mu...</td>\n      <td>Olivia Rodrigo</td>\n      <td>https://open.spotify.com/track/4Yxc55NX3tAXC2m...</td>\n      <td>viral-us-weekly-2020-01-09--2020-01-09.csv</td>\n      <td>January</td>\n      <td>2</td>\n      <td>Viral 50</td>\n      <td>2020-01-09</td>\n      <td>1McMsnEElThX1knmY4oliG</td>\n      <td>pop</td>\n      <td>post-teen pop</td>\n      <td>NaN</td>\n    </tr>\n    <tr>\n      <th>2</th>\n      <td>2</td>\n      <td>3</td>\n      <td>Blueberry Fergo</td>\n      <td>Lil Monet</td>\n      <td>https://open.spotify.com/track/6CrMU5zXlKNGsip...</td>\n      <td>viral-us-weekly-2020-01-09--2020-01-09.csv</td>\n      <td>January</td>\n      <td>2</td>\n      <td>Viral 50</td>\n      <td>2020-01-09</td>\n      <td>19FsxZm98evcrjWFFhHnC4</td>\n      <td>unspecified</td>\n      <td>NaN</td>\n      <td>NaN</td>\n    </tr>\n    <tr>\n      <th>3</th>\n      <td>3</td>\n      <td>4</td>\n      <td>GOODMORNINGTOKYO!</td>\n      <td>TOKYO’S REVENGE</td>\n      <td>https://open.spotify.com/track/0Q2n5yzl2XRqYbV...</td>\n      <td>viral-us-weekly-2020-01-09--2020-01-09.csv</td>\n      <td>January</td>\n      <td>2</td>\n      <td>Viral 50</td>\n      <td>2020-01-09</td>\n      <td>5TbLOwv8BNnik3f03NZJlt</td>\n      <td>meme rap</td>\n      <td>sad rap</td>\n      <td>vapor trap</td>\n    </tr>\n    <tr>\n      <th>4</th>\n      <td>4</td>\n      <td>5</td>\n      <td>Kraazy</td>\n      <td>Likybo</td>\n      <td>https://open.spotify.com/track/3s2Qd1rsWqbvOox...</td>\n      <td>viral-us-weekly-2020-01-09--2020-01-09.csv</td>\n      <td>January</td>\n      <td>2</td>\n      <td>Viral 50</td>\n      <td>2020-01-09</td>\n      <td>16Nc36xAtNyQ7BMBcDsaLv</td>\n      <td>cali rap</td>\n      <td>NaN</td>\n      <td>NaN</td>\n    </tr>\n  </tbody>\n</table>\n</div>"
     },
     "metadata": {},
     "execution_count": 3
    }
   ],
   "source": [
    "viral_all_df = pd.read_csv('viral_all.csv')\n",
    "viral_all_df.head()"
   ]
  },
  {
   "cell_type": "code",
   "execution_count": 4,
   "metadata": {},
   "outputs": [
    {
     "output_type": "execute_result",
     "data": {
      "text/plain": [
       "   Position                                         Track Name  \\\n",
       "0         1                                            The Box   \n",
       "1         2  All I Want - From \"High School Musical: The Mu...   \n",
       "2         3                                    Blueberry Fergo   \n",
       "3         4                                  GOODMORNINGTOKYO!   \n",
       "4         5                                             Kraazy   \n",
       "\n",
       "            Artist                                                URL  \\\n",
       "0      Roddy Ricch  https://open.spotify.com/track/0nbXyq5TXYPCO7p...   \n",
       "1   Olivia Rodrigo  https://open.spotify.com/track/4Yxc55NX3tAXC2m...   \n",
       "2        Lil Monet  https://open.spotify.com/track/6CrMU5zXlKNGsip...   \n",
       "3  TOKYO’S REVENGE  https://open.spotify.com/track/0Q2n5yzl2XRqYbV...   \n",
       "4           Likybo  https://open.spotify.com/track/3s2Qd1rsWqbvOox...   \n",
       "\n",
       "                                     Filename    Month  Week Number      Type  \\\n",
       "0  viral-us-weekly-2020-01-09--2020-01-09.csv  January            2  Viral 50   \n",
       "1  viral-us-weekly-2020-01-09--2020-01-09.csv  January            2  Viral 50   \n",
       "2  viral-us-weekly-2020-01-09--2020-01-09.csv  January            2  Viral 50   \n",
       "3  viral-us-weekly-2020-01-09--2020-01-09.csv  January            2  Viral 50   \n",
       "4  viral-us-weekly-2020-01-09--2020-01-09.csv  January            2  Viral 50   \n",
       "\n",
       "         Date               Artist ID      Genre 1        Genre 2     Genre 3  \n",
       "0  2020-01-09  757aE44tKEUQEqRuT6GnEB  melodic rap            rap        trap  \n",
       "1  2020-01-09  1McMsnEElThX1knmY4oliG          pop  post-teen pop         NaN  \n",
       "2  2020-01-09  19FsxZm98evcrjWFFhHnC4  unspecified            NaN         NaN  \n",
       "3  2020-01-09  5TbLOwv8BNnik3f03NZJlt     meme rap        sad rap  vapor trap  \n",
       "4  2020-01-09  16Nc36xAtNyQ7BMBcDsaLv     cali rap            NaN         NaN  "
      ],
      "text/html": "<div>\n<style scoped>\n    .dataframe tbody tr th:only-of-type {\n        vertical-align: middle;\n    }\n\n    .dataframe tbody tr th {\n        vertical-align: top;\n    }\n\n    .dataframe thead th {\n        text-align: right;\n    }\n</style>\n<table border=\"1\" class=\"dataframe\">\n  <thead>\n    <tr style=\"text-align: right;\">\n      <th></th>\n      <th>Position</th>\n      <th>Track Name</th>\n      <th>Artist</th>\n      <th>URL</th>\n      <th>Filename</th>\n      <th>Month</th>\n      <th>Week Number</th>\n      <th>Type</th>\n      <th>Date</th>\n      <th>Artist ID</th>\n      <th>Genre 1</th>\n      <th>Genre 2</th>\n      <th>Genre 3</th>\n    </tr>\n  </thead>\n  <tbody>\n    <tr>\n      <th>0</th>\n      <td>1</td>\n      <td>The Box</td>\n      <td>Roddy Ricch</td>\n      <td>https://open.spotify.com/track/0nbXyq5TXYPCO7p...</td>\n      <td>viral-us-weekly-2020-01-09--2020-01-09.csv</td>\n      <td>January</td>\n      <td>2</td>\n      <td>Viral 50</td>\n      <td>2020-01-09</td>\n      <td>757aE44tKEUQEqRuT6GnEB</td>\n      <td>melodic rap</td>\n      <td>rap</td>\n      <td>trap</td>\n    </tr>\n    <tr>\n      <th>1</th>\n      <td>2</td>\n      <td>All I Want - From \"High School Musical: The Mu...</td>\n      <td>Olivia Rodrigo</td>\n      <td>https://open.spotify.com/track/4Yxc55NX3tAXC2m...</td>\n      <td>viral-us-weekly-2020-01-09--2020-01-09.csv</td>\n      <td>January</td>\n      <td>2</td>\n      <td>Viral 50</td>\n      <td>2020-01-09</td>\n      <td>1McMsnEElThX1knmY4oliG</td>\n      <td>pop</td>\n      <td>post-teen pop</td>\n      <td>NaN</td>\n    </tr>\n    <tr>\n      <th>2</th>\n      <td>3</td>\n      <td>Blueberry Fergo</td>\n      <td>Lil Monet</td>\n      <td>https://open.spotify.com/track/6CrMU5zXlKNGsip...</td>\n      <td>viral-us-weekly-2020-01-09--2020-01-09.csv</td>\n      <td>January</td>\n      <td>2</td>\n      <td>Viral 50</td>\n      <td>2020-01-09</td>\n      <td>19FsxZm98evcrjWFFhHnC4</td>\n      <td>unspecified</td>\n      <td>NaN</td>\n      <td>NaN</td>\n    </tr>\n    <tr>\n      <th>3</th>\n      <td>4</td>\n      <td>GOODMORNINGTOKYO!</td>\n      <td>TOKYO’S REVENGE</td>\n      <td>https://open.spotify.com/track/0Q2n5yzl2XRqYbV...</td>\n      <td>viral-us-weekly-2020-01-09--2020-01-09.csv</td>\n      <td>January</td>\n      <td>2</td>\n      <td>Viral 50</td>\n      <td>2020-01-09</td>\n      <td>5TbLOwv8BNnik3f03NZJlt</td>\n      <td>meme rap</td>\n      <td>sad rap</td>\n      <td>vapor trap</td>\n    </tr>\n    <tr>\n      <th>4</th>\n      <td>5</td>\n      <td>Kraazy</td>\n      <td>Likybo</td>\n      <td>https://open.spotify.com/track/3s2Qd1rsWqbvOox...</td>\n      <td>viral-us-weekly-2020-01-09--2020-01-09.csv</td>\n      <td>January</td>\n      <td>2</td>\n      <td>Viral 50</td>\n      <td>2020-01-09</td>\n      <td>16Nc36xAtNyQ7BMBcDsaLv</td>\n      <td>cali rap</td>\n      <td>NaN</td>\n      <td>NaN</td>\n    </tr>\n  </tbody>\n</table>\n</div>"
     },
     "metadata": {},
     "execution_count": 4
    }
   ],
   "source": [
    "new_viral_all_df=viral_all_df.drop([\"Unnamed: 0\"], axis=1)\n",
    "new_viral_all_df.head()"
   ]
  },
  {
   "cell_type": "code",
   "execution_count": 5,
   "metadata": {},
   "outputs": [
    {
     "output_type": "execute_result",
     "data": {
      "text/plain": [
       "              Genre  Count\n",
       "0  Rap/Hip Hop/Trap    433\n",
       "1    R&B/Soul/Blues    111\n",
       "2               Pop    495\n",
       "3              Rock     43\n",
       "4           Country     84"
      ],
      "text/html": "<div>\n<style scoped>\n    .dataframe tbody tr th:only-of-type {\n        vertical-align: middle;\n    }\n\n    .dataframe tbody tr th {\n        vertical-align: top;\n    }\n\n    .dataframe thead th {\n        text-align: right;\n    }\n</style>\n<table border=\"1\" class=\"dataframe\">\n  <thead>\n    <tr style=\"text-align: right;\">\n      <th></th>\n      <th>Genre</th>\n      <th>Count</th>\n    </tr>\n  </thead>\n  <tbody>\n    <tr>\n      <th>0</th>\n      <td>Rap/Hip Hop/Trap</td>\n      <td>433</td>\n    </tr>\n    <tr>\n      <th>1</th>\n      <td>R&amp;B/Soul/Blues</td>\n      <td>111</td>\n    </tr>\n    <tr>\n      <th>2</th>\n      <td>Pop</td>\n      <td>495</td>\n    </tr>\n    <tr>\n      <th>3</th>\n      <td>Rock</td>\n      <td>43</td>\n    </tr>\n    <tr>\n      <th>4</th>\n      <td>Country</td>\n      <td>84</td>\n    </tr>\n  </tbody>\n</table>\n</div>"
     },
     "metadata": {},
     "execution_count": 5
    }
   ],
   "source": [
    "genre_data = {\n",
    "    'Genre': ['Rap/Hip Hop/Trap', 'R&B/Soul/Blues',  'Pop', 'Rock', 'Country', 'Latin', 'Disco', 'Indie', 'House/EDM', 'Alternative/Alt', 'Glitchcore', 'Brooklyn Drill', 'Halloween', 'Christmas', 'Classical'],\n",
    "    'Count': [len(new_viral_all_df[new_viral_all_df['Genre 1'].str.contains('rap|hip hop|trap') | new_viral_all_df['Genre 2'].str.contains('rap|hip hop|trap') | new_viral_all_df['Genre 3'].str.contains('rap|hip hop|trap')]), len(new_viral_all_df[new_viral_all_df['Genre 1'].str.contains('r&b|soul|blues') | new_viral_all_df['Genre 2'].str.contains('r&b|soul|blues') | new_viral_all_df['Genre 3'].str.contains('r&b|soul|blues')]), len(new_viral_all_df[new_viral_all_df['Genre 1'].str.contains('pop') | new_viral_all_df['Genre 2'].str.contains('pop') | new_viral_all_df['Genre 3'].str.contains('pop')]), len(new_viral_all_df[new_viral_all_df['Genre 1'].str.contains('rock') | new_viral_all_df['Genre 2'].str.contains('rock') | new_viral_all_df['Genre 3'].str.contains('rock')]), len(new_viral_all_df[new_viral_all_df['Genre 1'].str.contains('country') | new_viral_all_df['Genre 2'].str.contains('country') | new_viral_all_df['Genre 3'].str.contains('country')]), len(new_viral_all_df[new_viral_all_df['Genre 1'].str.contains('latin') | new_viral_all_df['Genre 2'].str.contains('latin') | new_viral_all_df['Genre 3'].str.contains('latin')]), len(new_viral_all_df[new_viral_all_df['Genre 1'].str.contains('disco') | new_viral_all_df['Genre 2'].str.contains('disco') | new_viral_all_df['Genre 3'].str.contains('disco')]), len(new_viral_all_df[new_viral_all_df['Genre 1'].str.contains('indie') | new_viral_all_df['Genre 2'].str.contains('indie') | new_viral_all_df['Genre 3'].str.contains('indie')]), len(new_viral_all_df[new_viral_all_df['Genre 1'].str.contains('house|edm') | new_viral_all_df['Genre 2'].str.contains('house|edm') | new_viral_all_df['Genre 3'].str.contains('house|edm')]), len(new_viral_all_df[new_viral_all_df['Genre 1'].str.contains('alt|alternative') | new_viral_all_df['Genre 2'].str.contains('alt|alternative') | new_viral_all_df['Genre 3'].str.contains('alt|alternative')]), len(new_viral_all_df[new_viral_all_df['Genre 1'].str.contains('glitchcore') | new_viral_all_df['Genre 2'].str.contains('glitchcore') | new_viral_all_df['Genre 3'].str.contains('glitchcore')]), len(new_viral_all_df[new_viral_all_df['Genre 1'].str.contains('brooklyn drill') | new_viral_all_df['Genre 2'].str.contains('brooklyn drill') | new_viral_all_df['Genre 3'].str.contains('brooklyn drill')]), len(new_viral_all_df[new_viral_all_df['Genre 1'].str.contains('halloween') | new_viral_all_df['Genre 2'].str.contains('halloween') | new_viral_all_df['Genre 3'].str.contains('halloween')]), len(new_viral_all_df[new_viral_all_df['Genre 1'].str.contains('christmas') | new_viral_all_df['Genre 2'].str.contains('christmas') | new_viral_all_df['Genre 3'].str.contains('christmas')]), len(new_viral_all_df[new_viral_all_df['Genre 1'].str.contains('classical') | new_viral_all_df['Genre 2'].str.contains('classical') | new_viral_all_df['Genre 3'].str.contains('classical')])]\n",
    "}\n",
    "all_viral_genre_df = pd.DataFrame(genre_data)\n",
    "all_viral_genre_df.head()"
   ]
  },
  {
   "cell_type": "code",
   "execution_count": 6,
   "metadata": {},
   "outputs": [
    {
     "output_type": "stream",
     "name": "stdout",
     "text": [
      "495\n31.54875717017208\n"
     ]
    }
   ],
   "source": [
    "max_count = all_viral_genre_df['Count'].max()\n",
    "print(max_count)\n",
    "percent_total_max = (max_count/all_viral_genre_df['Count'].sum())*100\n",
    "print(percent_total_max)"
   ]
  },
  {
   "cell_type": "code",
   "execution_count": 7,
   "metadata": {},
   "outputs": [],
   "source": [
    "all_viral_genre_df['Percent']=(all_viral_genre_df['Count']/all_viral_genre_df['Count'].sum())*100"
   ]
  },
  {
   "cell_type": "code",
   "execution_count": 8,
   "metadata": {},
   "outputs": [
    {
     "output_type": "execute_result",
     "data": {
      "text/plain": [
       "               Genre  Count    Percent\n",
       "0   Rap/Hip Hop/Trap    433  27.597196\n",
       "1     R&B/Soul/Blues    111   7.074570\n",
       "2                Pop    495  31.548757\n",
       "3               Rock     43   2.740599\n",
       "4            Country     84   5.353728\n",
       "5              Latin     35   2.230720\n",
       "6              Disco      2   0.127470\n",
       "7              Indie    136   8.667941\n",
       "8          House/EDM     56   3.569152\n",
       "9    Alternative/Alt    150   9.560229\n",
       "10        Glitchcore     11   0.701083\n",
       "11    Brooklyn Drill     12   0.764818\n",
       "12         Halloween      1   0.063735\n",
       "13         Christmas      0   0.000000\n",
       "14         Classical      0   0.000000"
      ],
      "text/html": "<div>\n<style scoped>\n    .dataframe tbody tr th:only-of-type {\n        vertical-align: middle;\n    }\n\n    .dataframe tbody tr th {\n        vertical-align: top;\n    }\n\n    .dataframe thead th {\n        text-align: right;\n    }\n</style>\n<table border=\"1\" class=\"dataframe\">\n  <thead>\n    <tr style=\"text-align: right;\">\n      <th></th>\n      <th>Genre</th>\n      <th>Count</th>\n      <th>Percent</th>\n    </tr>\n  </thead>\n  <tbody>\n    <tr>\n      <th>0</th>\n      <td>Rap/Hip Hop/Trap</td>\n      <td>433</td>\n      <td>27.597196</td>\n    </tr>\n    <tr>\n      <th>1</th>\n      <td>R&amp;B/Soul/Blues</td>\n      <td>111</td>\n      <td>7.074570</td>\n    </tr>\n    <tr>\n      <th>2</th>\n      <td>Pop</td>\n      <td>495</td>\n      <td>31.548757</td>\n    </tr>\n    <tr>\n      <th>3</th>\n      <td>Rock</td>\n      <td>43</td>\n      <td>2.740599</td>\n    </tr>\n    <tr>\n      <th>4</th>\n      <td>Country</td>\n      <td>84</td>\n      <td>5.353728</td>\n    </tr>\n    <tr>\n      <th>5</th>\n      <td>Latin</td>\n      <td>35</td>\n      <td>2.230720</td>\n    </tr>\n    <tr>\n      <th>6</th>\n      <td>Disco</td>\n      <td>2</td>\n      <td>0.127470</td>\n    </tr>\n    <tr>\n      <th>7</th>\n      <td>Indie</td>\n      <td>136</td>\n      <td>8.667941</td>\n    </tr>\n    <tr>\n      <th>8</th>\n      <td>House/EDM</td>\n      <td>56</td>\n      <td>3.569152</td>\n    </tr>\n    <tr>\n      <th>9</th>\n      <td>Alternative/Alt</td>\n      <td>150</td>\n      <td>9.560229</td>\n    </tr>\n    <tr>\n      <th>10</th>\n      <td>Glitchcore</td>\n      <td>11</td>\n      <td>0.701083</td>\n    </tr>\n    <tr>\n      <th>11</th>\n      <td>Brooklyn Drill</td>\n      <td>12</td>\n      <td>0.764818</td>\n    </tr>\n    <tr>\n      <th>12</th>\n      <td>Halloween</td>\n      <td>1</td>\n      <td>0.063735</td>\n    </tr>\n    <tr>\n      <th>13</th>\n      <td>Christmas</td>\n      <td>0</td>\n      <td>0.000000</td>\n    </tr>\n    <tr>\n      <th>14</th>\n      <td>Classical</td>\n      <td>0</td>\n      <td>0.000000</td>\n    </tr>\n  </tbody>\n</table>\n</div>"
     },
     "metadata": {},
     "execution_count": 8
    }
   ],
   "source": [
    "all_viral_genre_df"
   ]
  },
  {
   "cell_type": "code",
   "execution_count": 9,
   "metadata": {},
   "outputs": [],
   "source": [
    "sorted_all_viral_genre_df = all_viral_genre_df.sort_values('Count', ascending=False)"
   ]
  },
  {
   "source": [
    "## Top Viral Genres Distribution Throughout 2020 (Sampled Months)"
   ],
   "cell_type": "markdown",
   "metadata": {}
  },
  {
   "cell_type": "code",
   "execution_count": 10,
   "metadata": {},
   "outputs": [],
   "source": [
    "genres = ['Rap/Hip Hop/Trap', 'R&B/Soul/Blues',  'Pop', 'Rock', 'Country', 'Latin', 'Disco', 'Indie', 'House/EDM', 'Alternative/Alt', 'Glitchcore', 'Brooklyn Drill', 'Halloween', 'Christmas', 'Classical']\n",
    "colors = ['red', 'blue', 'purple', 'orchid', 'orange', 'indianred', 'gold', 'seagreen', 'slateblue', 'coral', 'silver', 'palevioletred', 'limegreen', 'maroon', 'purple']"
   ]
  },
  {
   "cell_type": "code",
   "execution_count": 11,
   "metadata": {},
   "outputs": [],
   "source": [
    "genres_all = sorted_all_viral_genre_df['Genre'].tolist()\n",
    "all_colors = []\n",
    "\n",
    "for x in genres_all:\n",
    "    if x == genres[0]:\n",
    "        all_colors.append(colors[0])\n",
    "    if x == genres[1]:\n",
    "        all_colors.append(colors[1])\n",
    "    if x == genres[2]:\n",
    "        all_colors.append(colors[2])      \n",
    "    if x == genres[3]:\n",
    "        all_colors.append(colors[3]) \n",
    "    if x == genres[4]:\n",
    "        all_colors.append(colors[4])\n",
    "    if x == genres[5]:\n",
    "        all_colors.append(colors[5])\n",
    "    if x == genres[6]:\n",
    "        all_colors.append(colors[6])\n",
    "    if x == genres[7]:\n",
    "        all_colors.append(colors[7]) \n",
    "    if x == genres[8]:\n",
    "        all_colors.append(colors[8])\n",
    "    if x == genres[9]:\n",
    "        all_colors.append(colors[9])\n",
    "    if x == genres[10]:\n",
    "        all_colors.append(colors[10])\n",
    "    if x == genres[11]:\n",
    "        all_colors.append(colors[11])\n",
    "    if x == genres[12]:\n",
    "        all_colors.append(colors[12])\n",
    "    if x == genres[13]:\n",
    "        all_colors.append(colors[13])\n",
    "    if x == genres[14]:\n",
    "        all_colors.append(colors[14])"
   ]
  },
  {
   "cell_type": "code",
   "execution_count": 12,
   "metadata": {},
   "outputs": [
    {
     "output_type": "display_data",
     "data": {
      "text/plain": "<Figure size 1080x720 with 1 Axes>",
      "image/svg+xml": "<?xml version=\"1.0\" encoding=\"utf-8\" standalone=\"no\"?>\n<!DOCTYPE svg PUBLIC \"-//W3C//DTD SVG 1.1//EN\"\n  \"http://www.w3.org/Graphics/SVG/1.1/DTD/svg11.dtd\">\n<!-- Created with matplotlib (https://matplotlib.org/) -->\n<svg height=\"706.435625pt\" version=\"1.1\" viewBox=\"0 0 902.671875 706.435625\" width=\"902.671875pt\" xmlns=\"http://www.w3.org/2000/svg\" xmlns:xlink=\"http://www.w3.org/1999/xlink\">\n <metadata>\n  <rdf:RDF xmlns:cc=\"http://creativecommons.org/ns#\" xmlns:dc=\"http://purl.org/dc/elements/1.1/\" xmlns:rdf=\"http://www.w3.org/1999/02/22-rdf-syntax-ns#\">\n   <cc:Work>\n    <dc:type rdf:resource=\"http://purl.org/dc/dcmitype/StillImage\"/>\n    <dc:date>2021-04-28T17:24:28.221143</dc:date>\n    <dc:format>image/svg+xml</dc:format>\n    <dc:creator>\n     <cc:Agent>\n      <dc:title>Matplotlib v3.3.2, https://matplotlib.org/</dc:title>\n     </cc:Agent>\n    </dc:creator>\n   </cc:Work>\n  </rdf:RDF>\n </metadata>\n <defs>\n  <style type=\"text/css\">*{stroke-linecap:butt;stroke-linejoin:round;}</style>\n </defs>\n <g id=\"figure_1\">\n  <g id=\"patch_1\">\n   <path d=\"M 0 706.435625 \nL 902.671875 706.435625 \nL 902.671875 0 \nL 0 0 \nz\n\" style=\"fill:none;\"/>\n  </g>\n  <g id=\"axes_1\">\n   <g id=\"patch_2\">\n    <path d=\"M 58.471875 570.477187 \nL 895.471875 570.477187 \nL 895.471875 26.877187 \nL 58.471875 26.877187 \nz\n\" style=\"fill:#ffffff;\"/>\n   </g>\n   <g id=\"matplotlib.axis_1\">\n    <g id=\"xtick_1\">\n     <g id=\"line2d_1\">\n      <path clip-path=\"url(#pa236d4e446)\" d=\"M 117.08244 570.477187 \nL 117.08244 26.877187 \n\" style=\"fill:none;stroke:#b0b0b0;stroke-linecap:square;stroke-opacity:0.5;stroke-width:0.8;\"/>\n     </g>\n     <g id=\"line2d_2\">\n      <defs>\n       <path d=\"M 0 0 \nL 0 3.5 \n\" id=\"me2d92fd6e9\" style=\"stroke:#000000;stroke-width:0.8;\"/>\n      </defs>\n      <g>\n       <use style=\"stroke:#000000;stroke-width:0.8;\" x=\"117.08244\" xlink:href=\"#me2d92fd6e9\" y=\"570.477187\"/>\n      </g>\n     </g>\n     <g id=\"text_1\">\n      <!-- Pop -->\n      <g transform=\"translate(120.945565 602.865312)rotate(-90)scale(0.14 -0.14)\">\n       <defs>\n        <path d=\"M 19.671875 64.796875 \nL 19.671875 37.40625 \nL 32.078125 37.40625 \nQ 38.96875 37.40625 42.71875 40.96875 \nQ 46.484375 44.53125 46.484375 51.125 \nQ 46.484375 57.671875 42.71875 61.234375 \nQ 38.96875 64.796875 32.078125 64.796875 \nz\nM 9.8125 72.90625 \nL 32.078125 72.90625 \nQ 44.34375 72.90625 50.609375 67.359375 \nQ 56.890625 61.8125 56.890625 51.125 \nQ 56.890625 40.328125 50.609375 34.8125 \nQ 44.34375 29.296875 32.078125 29.296875 \nL 19.671875 29.296875 \nL 19.671875 0 \nL 9.8125 0 \nz\n\" id=\"DejaVuSans-80\"/>\n        <path d=\"M 30.609375 48.390625 \nQ 23.390625 48.390625 19.1875 42.75 \nQ 14.984375 37.109375 14.984375 27.296875 \nQ 14.984375 17.484375 19.15625 11.84375 \nQ 23.34375 6.203125 30.609375 6.203125 \nQ 37.796875 6.203125 41.984375 11.859375 \nQ 46.1875 17.53125 46.1875 27.296875 \nQ 46.1875 37.015625 41.984375 42.703125 \nQ 37.796875 48.390625 30.609375 48.390625 \nz\nM 30.609375 56 \nQ 42.328125 56 49.015625 48.375 \nQ 55.71875 40.765625 55.71875 27.296875 \nQ 55.71875 13.875 49.015625 6.21875 \nQ 42.328125 -1.421875 30.609375 -1.421875 \nQ 18.84375 -1.421875 12.171875 6.21875 \nQ 5.515625 13.875 5.515625 27.296875 \nQ 5.515625 40.765625 12.171875 48.375 \nQ 18.84375 56 30.609375 56 \nz\n\" id=\"DejaVuSans-111\"/>\n        <path d=\"M 18.109375 8.203125 \nL 18.109375 -20.796875 \nL 9.078125 -20.796875 \nL 9.078125 54.6875 \nL 18.109375 54.6875 \nL 18.109375 46.390625 \nQ 20.953125 51.265625 25.265625 53.625 \nQ 29.59375 56 35.59375 56 \nQ 45.5625 56 51.78125 48.09375 \nQ 58.015625 40.1875 58.015625 27.296875 \nQ 58.015625 14.40625 51.78125 6.484375 \nQ 45.5625 -1.421875 35.59375 -1.421875 \nQ 29.59375 -1.421875 25.265625 0.953125 \nQ 20.953125 3.328125 18.109375 8.203125 \nz\nM 48.6875 27.296875 \nQ 48.6875 37.203125 44.609375 42.84375 \nQ 40.53125 48.484375 33.40625 48.484375 \nQ 26.265625 48.484375 22.1875 42.84375 \nQ 18.109375 37.203125 18.109375 27.296875 \nQ 18.109375 17.390625 22.1875 11.75 \nQ 26.265625 6.109375 33.40625 6.109375 \nQ 40.53125 6.109375 44.609375 11.75 \nQ 48.6875 17.390625 48.6875 27.296875 \nz\n\" id=\"DejaVuSans-112\"/>\n       </defs>\n       <use xlink:href=\"#DejaVuSans-80\"/>\n       <use x=\"56.677734\" xlink:href=\"#DejaVuSans-111\"/>\n       <use x=\"117.859375\" xlink:href=\"#DejaVuSans-112\"/>\n      </g>\n     </g>\n    </g>\n    <g id=\"xtick_2\">\n     <g id=\"line2d_3\">\n      <path clip-path=\"url(#pa236d4e446)\" d=\"M 168.495217 570.477187 \nL 168.495217 26.877187 \n\" style=\"fill:none;stroke:#b0b0b0;stroke-linecap:square;stroke-opacity:0.5;stroke-width:0.8;\"/>\n     </g>\n     <g id=\"line2d_4\">\n      <g>\n       <use style=\"stroke:#000000;stroke-width:0.8;\" x=\"168.495217\" xlink:href=\"#me2d92fd6e9\" y=\"570.477187\"/>\n      </g>\n     </g>\n     <g id=\"text_2\">\n      <!-- Rap/Hip Hop/Trap -->\n      <g transform=\"translate(172.358342 699.235625)rotate(-90)scale(0.14 -0.14)\">\n       <defs>\n        <path d=\"M 44.390625 34.1875 \nQ 47.5625 33.109375 50.5625 29.59375 \nQ 53.5625 26.078125 56.59375 19.921875 \nL 66.609375 0 \nL 56 0 \nL 46.6875 18.703125 \nQ 43.0625 26.03125 39.671875 28.421875 \nQ 36.28125 30.8125 30.421875 30.8125 \nL 19.671875 30.8125 \nL 19.671875 0 \nL 9.8125 0 \nL 9.8125 72.90625 \nL 32.078125 72.90625 \nQ 44.578125 72.90625 50.734375 67.671875 \nQ 56.890625 62.453125 56.890625 51.90625 \nQ 56.890625 45.015625 53.6875 40.46875 \nQ 50.484375 35.9375 44.390625 34.1875 \nz\nM 19.671875 64.796875 \nL 19.671875 38.921875 \nL 32.078125 38.921875 \nQ 39.203125 38.921875 42.84375 42.21875 \nQ 46.484375 45.515625 46.484375 51.90625 \nQ 46.484375 58.296875 42.84375 61.546875 \nQ 39.203125 64.796875 32.078125 64.796875 \nz\n\" id=\"DejaVuSans-82\"/>\n        <path d=\"M 34.28125 27.484375 \nQ 23.390625 27.484375 19.1875 25 \nQ 14.984375 22.515625 14.984375 16.5 \nQ 14.984375 11.71875 18.140625 8.90625 \nQ 21.296875 6.109375 26.703125 6.109375 \nQ 34.1875 6.109375 38.703125 11.40625 \nQ 43.21875 16.703125 43.21875 25.484375 \nL 43.21875 27.484375 \nz\nM 52.203125 31.203125 \nL 52.203125 0 \nL 43.21875 0 \nL 43.21875 8.296875 \nQ 40.140625 3.328125 35.546875 0.953125 \nQ 30.953125 -1.421875 24.3125 -1.421875 \nQ 15.921875 -1.421875 10.953125 3.296875 \nQ 6 8.015625 6 15.921875 \nQ 6 25.140625 12.171875 29.828125 \nQ 18.359375 34.515625 30.609375 34.515625 \nL 43.21875 34.515625 \nL 43.21875 35.40625 \nQ 43.21875 41.609375 39.140625 45 \nQ 35.0625 48.390625 27.6875 48.390625 \nQ 23 48.390625 18.546875 47.265625 \nQ 14.109375 46.140625 10.015625 43.890625 \nL 10.015625 52.203125 \nQ 14.9375 54.109375 19.578125 55.046875 \nQ 24.21875 56 28.609375 56 \nQ 40.484375 56 46.34375 49.84375 \nQ 52.203125 43.703125 52.203125 31.203125 \nz\n\" id=\"DejaVuSans-97\"/>\n        <path d=\"M 25.390625 72.90625 \nL 33.6875 72.90625 \nL 8.296875 -9.28125 \nL 0 -9.28125 \nz\n\" id=\"DejaVuSans-47\"/>\n        <path d=\"M 9.8125 72.90625 \nL 19.671875 72.90625 \nL 19.671875 43.015625 \nL 55.515625 43.015625 \nL 55.515625 72.90625 \nL 65.375 72.90625 \nL 65.375 0 \nL 55.515625 0 \nL 55.515625 34.71875 \nL 19.671875 34.71875 \nL 19.671875 0 \nL 9.8125 0 \nz\n\" id=\"DejaVuSans-72\"/>\n        <path d=\"M 9.421875 54.6875 \nL 18.40625 54.6875 \nL 18.40625 0 \nL 9.421875 0 \nz\nM 9.421875 75.984375 \nL 18.40625 75.984375 \nL 18.40625 64.59375 \nL 9.421875 64.59375 \nz\n\" id=\"DejaVuSans-105\"/>\n        <path id=\"DejaVuSans-32\"/>\n        <path d=\"M -0.296875 72.90625 \nL 61.375 72.90625 \nL 61.375 64.59375 \nL 35.5 64.59375 \nL 35.5 0 \nL 25.59375 0 \nL 25.59375 64.59375 \nL -0.296875 64.59375 \nz\n\" id=\"DejaVuSans-84\"/>\n        <path d=\"M 41.109375 46.296875 \nQ 39.59375 47.171875 37.8125 47.578125 \nQ 36.03125 48 33.890625 48 \nQ 26.265625 48 22.1875 43.046875 \nQ 18.109375 38.09375 18.109375 28.8125 \nL 18.109375 0 \nL 9.078125 0 \nL 9.078125 54.6875 \nL 18.109375 54.6875 \nL 18.109375 46.1875 \nQ 20.953125 51.171875 25.484375 53.578125 \nQ 30.03125 56 36.53125 56 \nQ 37.453125 56 38.578125 55.875 \nQ 39.703125 55.765625 41.0625 55.515625 \nz\n\" id=\"DejaVuSans-114\"/>\n       </defs>\n       <use xlink:href=\"#DejaVuSans-82\"/>\n       <use x=\"67.232422\" xlink:href=\"#DejaVuSans-97\"/>\n       <use x=\"128.511719\" xlink:href=\"#DejaVuSans-112\"/>\n       <use x=\"191.988281\" xlink:href=\"#DejaVuSans-47\"/>\n       <use x=\"225.679688\" xlink:href=\"#DejaVuSans-72\"/>\n       <use x=\"300.875\" xlink:href=\"#DejaVuSans-105\"/>\n       <use x=\"328.658203\" xlink:href=\"#DejaVuSans-112\"/>\n       <use x=\"392.134766\" xlink:href=\"#DejaVuSans-32\"/>\n       <use x=\"423.921875\" xlink:href=\"#DejaVuSans-72\"/>\n       <use x=\"499.117188\" xlink:href=\"#DejaVuSans-111\"/>\n       <use x=\"560.298828\" xlink:href=\"#DejaVuSans-112\"/>\n       <use x=\"623.775391\" xlink:href=\"#DejaVuSans-47\"/>\n       <use x=\"657.466797\" xlink:href=\"#DejaVuSans-84\"/>\n       <use x=\"703.800781\" xlink:href=\"#DejaVuSans-114\"/>\n       <use x=\"744.914062\" xlink:href=\"#DejaVuSans-97\"/>\n       <use x=\"806.193359\" xlink:href=\"#DejaVuSans-112\"/>\n      </g>\n     </g>\n    </g>\n    <g id=\"xtick_3\">\n     <g id=\"line2d_5\">\n      <path clip-path=\"url(#pa236d4e446)\" d=\"M 219.907993 570.477187 \nL 219.907993 26.877187 \n\" style=\"fill:none;stroke:#b0b0b0;stroke-linecap:square;stroke-opacity:0.5;stroke-width:0.8;\"/>\n     </g>\n     <g id=\"line2d_6\">\n      <g>\n       <use style=\"stroke:#000000;stroke-width:0.8;\" x=\"219.907993\" xlink:href=\"#me2d92fd6e9\" y=\"570.477187\"/>\n      </g>\n     </g>\n     <g id=\"text_3\">\n      <!-- Alternative/Alt -->\n      <g transform=\"translate(223.771118 677.957812)rotate(-90)scale(0.14 -0.14)\">\n       <defs>\n        <path d=\"M 34.1875 63.1875 \nL 20.796875 26.90625 \nL 47.609375 26.90625 \nz\nM 28.609375 72.90625 \nL 39.796875 72.90625 \nL 67.578125 0 \nL 57.328125 0 \nL 50.6875 18.703125 \nL 17.828125 18.703125 \nL 11.1875 0 \nL 0.78125 0 \nz\n\" id=\"DejaVuSans-65\"/>\n        <path d=\"M 9.421875 75.984375 \nL 18.40625 75.984375 \nL 18.40625 0 \nL 9.421875 0 \nz\n\" id=\"DejaVuSans-108\"/>\n        <path d=\"M 18.3125 70.21875 \nL 18.3125 54.6875 \nL 36.8125 54.6875 \nL 36.8125 47.703125 \nL 18.3125 47.703125 \nL 18.3125 18.015625 \nQ 18.3125 11.328125 20.140625 9.421875 \nQ 21.96875 7.515625 27.59375 7.515625 \nL 36.8125 7.515625 \nL 36.8125 0 \nL 27.59375 0 \nQ 17.1875 0 13.234375 3.875 \nQ 9.28125 7.765625 9.28125 18.015625 \nL 9.28125 47.703125 \nL 2.6875 47.703125 \nL 2.6875 54.6875 \nL 9.28125 54.6875 \nL 9.28125 70.21875 \nz\n\" id=\"DejaVuSans-116\"/>\n        <path d=\"M 56.203125 29.59375 \nL 56.203125 25.203125 \nL 14.890625 25.203125 \nQ 15.484375 15.921875 20.484375 11.0625 \nQ 25.484375 6.203125 34.421875 6.203125 \nQ 39.59375 6.203125 44.453125 7.46875 \nQ 49.3125 8.734375 54.109375 11.28125 \nL 54.109375 2.78125 \nQ 49.265625 0.734375 44.1875 -0.34375 \nQ 39.109375 -1.421875 33.890625 -1.421875 \nQ 20.796875 -1.421875 13.15625 6.1875 \nQ 5.515625 13.8125 5.515625 26.8125 \nQ 5.515625 40.234375 12.765625 48.109375 \nQ 20.015625 56 32.328125 56 \nQ 43.359375 56 49.78125 48.890625 \nQ 56.203125 41.796875 56.203125 29.59375 \nz\nM 47.21875 32.234375 \nQ 47.125 39.59375 43.09375 43.984375 \nQ 39.0625 48.390625 32.421875 48.390625 \nQ 24.90625 48.390625 20.390625 44.140625 \nQ 15.875 39.890625 15.1875 32.171875 \nz\n\" id=\"DejaVuSans-101\"/>\n        <path d=\"M 54.890625 33.015625 \nL 54.890625 0 \nL 45.90625 0 \nL 45.90625 32.71875 \nQ 45.90625 40.484375 42.875 44.328125 \nQ 39.84375 48.1875 33.796875 48.1875 \nQ 26.515625 48.1875 22.3125 43.546875 \nQ 18.109375 38.921875 18.109375 30.90625 \nL 18.109375 0 \nL 9.078125 0 \nL 9.078125 54.6875 \nL 18.109375 54.6875 \nL 18.109375 46.1875 \nQ 21.34375 51.125 25.703125 53.5625 \nQ 30.078125 56 35.796875 56 \nQ 45.21875 56 50.046875 50.171875 \nQ 54.890625 44.34375 54.890625 33.015625 \nz\n\" id=\"DejaVuSans-110\"/>\n        <path d=\"M 2.984375 54.6875 \nL 12.5 54.6875 \nL 29.59375 8.796875 \nL 46.6875 54.6875 \nL 56.203125 54.6875 \nL 35.6875 0 \nL 23.484375 0 \nz\n\" id=\"DejaVuSans-118\"/>\n       </defs>\n       <use xlink:href=\"#DejaVuSans-65\"/>\n       <use x=\"68.408203\" xlink:href=\"#DejaVuSans-108\"/>\n       <use x=\"96.191406\" xlink:href=\"#DejaVuSans-116\"/>\n       <use x=\"135.400391\" xlink:href=\"#DejaVuSans-101\"/>\n       <use x=\"196.923828\" xlink:href=\"#DejaVuSans-114\"/>\n       <use x=\"236.287109\" xlink:href=\"#DejaVuSans-110\"/>\n       <use x=\"299.666016\" xlink:href=\"#DejaVuSans-97\"/>\n       <use x=\"360.945312\" xlink:href=\"#DejaVuSans-116\"/>\n       <use x=\"400.154297\" xlink:href=\"#DejaVuSans-105\"/>\n       <use x=\"427.9375\" xlink:href=\"#DejaVuSans-118\"/>\n       <use x=\"487.117188\" xlink:href=\"#DejaVuSans-101\"/>\n       <use x=\"548.640625\" xlink:href=\"#DejaVuSans-47\"/>\n       <use x=\"582.332031\" xlink:href=\"#DejaVuSans-65\"/>\n       <use x=\"650.740234\" xlink:href=\"#DejaVuSans-108\"/>\n       <use x=\"678.523438\" xlink:href=\"#DejaVuSans-116\"/>\n      </g>\n     </g>\n    </g>\n    <g id=\"xtick_4\">\n     <g id=\"line2d_7\">\n      <path clip-path=\"url(#pa236d4e446)\" d=\"M 271.320769 570.477187 \nL 271.320769 26.877187 \n\" style=\"fill:none;stroke:#b0b0b0;stroke-linecap:square;stroke-opacity:0.5;stroke-width:0.8;\"/>\n     </g>\n     <g id=\"line2d_8\">\n      <g>\n       <use style=\"stroke:#000000;stroke-width:0.8;\" x=\"271.320769\" xlink:href=\"#me2d92fd6e9\" y=\"570.477187\"/>\n      </g>\n     </g>\n     <g id=\"text_4\">\n      <!-- Indie -->\n      <g transform=\"translate(275.183894 611.87125)rotate(-90)scale(0.14 -0.14)\">\n       <defs>\n        <path d=\"M 9.8125 72.90625 \nL 19.671875 72.90625 \nL 19.671875 0 \nL 9.8125 0 \nz\n\" id=\"DejaVuSans-73\"/>\n        <path d=\"M 45.40625 46.390625 \nL 45.40625 75.984375 \nL 54.390625 75.984375 \nL 54.390625 0 \nL 45.40625 0 \nL 45.40625 8.203125 \nQ 42.578125 3.328125 38.25 0.953125 \nQ 33.9375 -1.421875 27.875 -1.421875 \nQ 17.96875 -1.421875 11.734375 6.484375 \nQ 5.515625 14.40625 5.515625 27.296875 \nQ 5.515625 40.1875 11.734375 48.09375 \nQ 17.96875 56 27.875 56 \nQ 33.9375 56 38.25 53.625 \nQ 42.578125 51.265625 45.40625 46.390625 \nz\nM 14.796875 27.296875 \nQ 14.796875 17.390625 18.875 11.75 \nQ 22.953125 6.109375 30.078125 6.109375 \nQ 37.203125 6.109375 41.296875 11.75 \nQ 45.40625 17.390625 45.40625 27.296875 \nQ 45.40625 37.203125 41.296875 42.84375 \nQ 37.203125 48.484375 30.078125 48.484375 \nQ 22.953125 48.484375 18.875 42.84375 \nQ 14.796875 37.203125 14.796875 27.296875 \nz\n\" id=\"DejaVuSans-100\"/>\n       </defs>\n       <use xlink:href=\"#DejaVuSans-73\"/>\n       <use x=\"29.492188\" xlink:href=\"#DejaVuSans-110\"/>\n       <use x=\"92.871094\" xlink:href=\"#DejaVuSans-100\"/>\n       <use x=\"156.347656\" xlink:href=\"#DejaVuSans-105\"/>\n       <use x=\"184.130859\" xlink:href=\"#DejaVuSans-101\"/>\n      </g>\n     </g>\n    </g>\n    <g id=\"xtick_5\">\n     <g id=\"line2d_9\">\n      <path clip-path=\"url(#pa236d4e446)\" d=\"M 322.733546 570.477187 \nL 322.733546 26.877187 \n\" style=\"fill:none;stroke:#b0b0b0;stroke-linecap:square;stroke-opacity:0.5;stroke-width:0.8;\"/>\n     </g>\n     <g id=\"line2d_10\">\n      <g>\n       <use style=\"stroke:#000000;stroke-width:0.8;\" x=\"322.733546\" xlink:href=\"#me2d92fd6e9\" y=\"570.477187\"/>\n      </g>\n     </g>\n     <g id=\"text_5\">\n      <!-- R&amp;B/Soul/Blues -->\n      <g transform=\"translate(326.596671 685.65125)rotate(-90)scale(0.14 -0.14)\">\n       <defs>\n        <path d=\"M 24.3125 39.203125 \nQ 19.875 35.25 17.796875 31.3125 \nQ 15.71875 27.390625 15.71875 23.09375 \nQ 15.71875 15.96875 20.890625 11.234375 \nQ 26.078125 6.5 33.890625 6.5 \nQ 38.53125 6.5 42.578125 8.03125 \nQ 46.625 9.578125 50.203125 12.703125 \nz\nM 31.203125 44.671875 \nL 56 19.28125 \nQ 58.890625 23.640625 60.5 28.59375 \nQ 62.109375 33.546875 62.40625 39.109375 \nL 71.484375 39.109375 \nQ 70.90625 32.671875 68.359375 26.359375 \nQ 65.828125 20.0625 61.28125 13.921875 \nL 74.90625 0 \nL 62.59375 0 \nL 55.609375 7.171875 \nQ 50.53125 2.828125 44.96875 0.703125 \nQ 39.40625 -1.421875 33.015625 -1.421875 \nQ 21.234375 -1.421875 13.765625 5.296875 \nQ 6.296875 12.015625 6.296875 22.515625 \nQ 6.296875 28.765625 9.5625 34.25 \nQ 12.84375 39.75 19.390625 44.578125 \nQ 17.046875 47.65625 15.8125 50.703125 \nQ 14.59375 53.765625 14.59375 56.6875 \nQ 14.59375 64.59375 20.015625 69.40625 \nQ 25.4375 74.21875 34.421875 74.21875 \nQ 38.484375 74.21875 42.5 73.34375 \nQ 46.53125 72.46875 50.6875 70.703125 \nL 50.6875 61.8125 \nQ 46.4375 64.109375 42.578125 65.296875 \nQ 38.71875 66.5 35.40625 66.5 \nQ 30.28125 66.5 27.078125 63.78125 \nQ 23.875 61.078125 23.875 56.78125 \nQ 23.875 54.296875 25.3125 51.78125 \nQ 26.765625 49.265625 31.203125 44.671875 \nz\n\" id=\"DejaVuSans-38\"/>\n        <path d=\"M 19.671875 34.8125 \nL 19.671875 8.109375 \nL 35.5 8.109375 \nQ 43.453125 8.109375 47.28125 11.40625 \nQ 51.125 14.703125 51.125 21.484375 \nQ 51.125 28.328125 47.28125 31.5625 \nQ 43.453125 34.8125 35.5 34.8125 \nz\nM 19.671875 64.796875 \nL 19.671875 42.828125 \nL 34.28125 42.828125 \nQ 41.5 42.828125 45.03125 45.53125 \nQ 48.578125 48.25 48.578125 53.8125 \nQ 48.578125 59.328125 45.03125 62.0625 \nQ 41.5 64.796875 34.28125 64.796875 \nz\nM 9.8125 72.90625 \nL 35.015625 72.90625 \nQ 46.296875 72.90625 52.390625 68.21875 \nQ 58.5 63.53125 58.5 54.890625 \nQ 58.5 48.1875 55.375 44.234375 \nQ 52.25 40.28125 46.1875 39.3125 \nQ 53.46875 37.75 57.5 32.78125 \nQ 61.53125 27.828125 61.53125 20.40625 \nQ 61.53125 10.640625 54.890625 5.3125 \nQ 48.25 0 35.984375 0 \nL 9.8125 0 \nz\n\" id=\"DejaVuSans-66\"/>\n        <path d=\"M 53.515625 70.515625 \nL 53.515625 60.890625 \nQ 47.90625 63.578125 42.921875 64.890625 \nQ 37.9375 66.21875 33.296875 66.21875 \nQ 25.25 66.21875 20.875 63.09375 \nQ 16.5 59.96875 16.5 54.203125 \nQ 16.5 49.359375 19.40625 46.890625 \nQ 22.3125 44.4375 30.421875 42.921875 \nL 36.375 41.703125 \nQ 47.40625 39.59375 52.65625 34.296875 \nQ 57.90625 29 57.90625 20.125 \nQ 57.90625 9.515625 50.796875 4.046875 \nQ 43.703125 -1.421875 29.984375 -1.421875 \nQ 24.8125 -1.421875 18.96875 -0.25 \nQ 13.140625 0.921875 6.890625 3.21875 \nL 6.890625 13.375 \nQ 12.890625 10.015625 18.65625 8.296875 \nQ 24.421875 6.59375 29.984375 6.59375 \nQ 38.421875 6.59375 43.015625 9.90625 \nQ 47.609375 13.234375 47.609375 19.390625 \nQ 47.609375 24.75 44.3125 27.78125 \nQ 41.015625 30.8125 33.5 32.328125 \nL 27.484375 33.5 \nQ 16.453125 35.6875 11.515625 40.375 \nQ 6.59375 45.0625 6.59375 53.421875 \nQ 6.59375 63.09375 13.40625 68.65625 \nQ 20.21875 74.21875 32.171875 74.21875 \nQ 37.3125 74.21875 42.625 73.28125 \nQ 47.953125 72.359375 53.515625 70.515625 \nz\n\" id=\"DejaVuSans-83\"/>\n        <path d=\"M 8.5 21.578125 \nL 8.5 54.6875 \nL 17.484375 54.6875 \nL 17.484375 21.921875 \nQ 17.484375 14.15625 20.5 10.265625 \nQ 23.53125 6.390625 29.59375 6.390625 \nQ 36.859375 6.390625 41.078125 11.03125 \nQ 45.3125 15.671875 45.3125 23.6875 \nL 45.3125 54.6875 \nL 54.296875 54.6875 \nL 54.296875 0 \nL 45.3125 0 \nL 45.3125 8.40625 \nQ 42.046875 3.421875 37.71875 1 \nQ 33.40625 -1.421875 27.6875 -1.421875 \nQ 18.265625 -1.421875 13.375 4.4375 \nQ 8.5 10.296875 8.5 21.578125 \nz\nM 31.109375 56 \nz\n\" id=\"DejaVuSans-117\"/>\n        <path d=\"M 44.28125 53.078125 \nL 44.28125 44.578125 \nQ 40.484375 46.53125 36.375 47.5 \nQ 32.28125 48.484375 27.875 48.484375 \nQ 21.1875 48.484375 17.84375 46.4375 \nQ 14.5 44.390625 14.5 40.28125 \nQ 14.5 37.15625 16.890625 35.375 \nQ 19.28125 33.59375 26.515625 31.984375 \nL 29.59375 31.296875 \nQ 39.15625 29.25 43.1875 25.515625 \nQ 47.21875 21.78125 47.21875 15.09375 \nQ 47.21875 7.46875 41.1875 3.015625 \nQ 35.15625 -1.421875 24.609375 -1.421875 \nQ 20.21875 -1.421875 15.453125 -0.5625 \nQ 10.6875 0.296875 5.421875 2 \nL 5.421875 11.28125 \nQ 10.40625 8.6875 15.234375 7.390625 \nQ 20.0625 6.109375 24.8125 6.109375 \nQ 31.15625 6.109375 34.5625 8.28125 \nQ 37.984375 10.453125 37.984375 14.40625 \nQ 37.984375 18.0625 35.515625 20.015625 \nQ 33.0625 21.96875 24.703125 23.78125 \nL 21.578125 24.515625 \nQ 13.234375 26.265625 9.515625 29.90625 \nQ 5.8125 33.546875 5.8125 39.890625 \nQ 5.8125 47.609375 11.28125 51.796875 \nQ 16.75 56 26.8125 56 \nQ 31.78125 56 36.171875 55.265625 \nQ 40.578125 54.546875 44.28125 53.078125 \nz\n\" id=\"DejaVuSans-115\"/>\n       </defs>\n       <use xlink:href=\"#DejaVuSans-82\"/>\n       <use x=\"69.482422\" xlink:href=\"#DejaVuSans-38\"/>\n       <use x=\"147.460938\" xlink:href=\"#DejaVuSans-66\"/>\n       <use x=\"216.064453\" xlink:href=\"#DejaVuSans-47\"/>\n       <use x=\"249.755859\" xlink:href=\"#DejaVuSans-83\"/>\n       <use x=\"313.232422\" xlink:href=\"#DejaVuSans-111\"/>\n       <use x=\"374.414062\" xlink:href=\"#DejaVuSans-117\"/>\n       <use x=\"437.792969\" xlink:href=\"#DejaVuSans-108\"/>\n       <use x=\"465.576172\" xlink:href=\"#DejaVuSans-47\"/>\n       <use x=\"499.267578\" xlink:href=\"#DejaVuSans-66\"/>\n       <use x=\"567.871094\" xlink:href=\"#DejaVuSans-108\"/>\n       <use x=\"595.654297\" xlink:href=\"#DejaVuSans-117\"/>\n       <use x=\"659.033203\" xlink:href=\"#DejaVuSans-101\"/>\n       <use x=\"720.556641\" xlink:href=\"#DejaVuSans-115\"/>\n      </g>\n     </g>\n    </g>\n    <g id=\"xtick_6\">\n     <g id=\"line2d_11\">\n      <path clip-path=\"url(#pa236d4e446)\" d=\"M 374.146322 570.477187 \nL 374.146322 26.877187 \n\" style=\"fill:none;stroke:#b0b0b0;stroke-linecap:square;stroke-opacity:0.5;stroke-width:0.8;\"/>\n     </g>\n     <g id=\"line2d_12\">\n      <g>\n       <use style=\"stroke:#000000;stroke-width:0.8;\" x=\"374.146322\" xlink:href=\"#me2d92fd6e9\" y=\"570.477187\"/>\n      </g>\n     </g>\n     <g id=\"text_6\">\n      <!-- Country -->\n      <g transform=\"translate(378.009447 633.094375)rotate(-90)scale(0.14 -0.14)\">\n       <defs>\n        <path d=\"M 64.40625 67.28125 \nL 64.40625 56.890625 \nQ 59.421875 61.53125 53.78125 63.8125 \nQ 48.140625 66.109375 41.796875 66.109375 \nQ 29.296875 66.109375 22.65625 58.46875 \nQ 16.015625 50.828125 16.015625 36.375 \nQ 16.015625 21.96875 22.65625 14.328125 \nQ 29.296875 6.6875 41.796875 6.6875 \nQ 48.140625 6.6875 53.78125 8.984375 \nQ 59.421875 11.28125 64.40625 15.921875 \nL 64.40625 5.609375 \nQ 59.234375 2.09375 53.4375 0.328125 \nQ 47.65625 -1.421875 41.21875 -1.421875 \nQ 24.65625 -1.421875 15.125 8.703125 \nQ 5.609375 18.84375 5.609375 36.375 \nQ 5.609375 53.953125 15.125 64.078125 \nQ 24.65625 74.21875 41.21875 74.21875 \nQ 47.75 74.21875 53.53125 72.484375 \nQ 59.328125 70.75 64.40625 67.28125 \nz\n\" id=\"DejaVuSans-67\"/>\n        <path d=\"M 32.171875 -5.078125 \nQ 28.375 -14.84375 24.75 -17.8125 \nQ 21.140625 -20.796875 15.09375 -20.796875 \nL 7.90625 -20.796875 \nL 7.90625 -13.28125 \nL 13.1875 -13.28125 \nQ 16.890625 -13.28125 18.9375 -11.515625 \nQ 21 -9.765625 23.484375 -3.21875 \nL 25.09375 0.875 \nL 2.984375 54.6875 \nL 12.5 54.6875 \nL 29.59375 11.921875 \nL 46.6875 54.6875 \nL 56.203125 54.6875 \nz\n\" id=\"DejaVuSans-121\"/>\n       </defs>\n       <use xlink:href=\"#DejaVuSans-67\"/>\n       <use x=\"69.824219\" xlink:href=\"#DejaVuSans-111\"/>\n       <use x=\"131.005859\" xlink:href=\"#DejaVuSans-117\"/>\n       <use x=\"194.384766\" xlink:href=\"#DejaVuSans-110\"/>\n       <use x=\"257.763672\" xlink:href=\"#DejaVuSans-116\"/>\n       <use x=\"296.972656\" xlink:href=\"#DejaVuSans-114\"/>\n       <use x=\"338.085938\" xlink:href=\"#DejaVuSans-121\"/>\n      </g>\n     </g>\n    </g>\n    <g id=\"xtick_7\">\n     <g id=\"line2d_13\">\n      <path clip-path=\"url(#pa236d4e446)\" d=\"M 425.559099 570.477187 \nL 425.559099 26.877187 \n\" style=\"fill:none;stroke:#b0b0b0;stroke-linecap:square;stroke-opacity:0.5;stroke-width:0.8;\"/>\n     </g>\n     <g id=\"line2d_14\">\n      <g>\n       <use style=\"stroke:#000000;stroke-width:0.8;\" x=\"425.559099\" xlink:href=\"#me2d92fd6e9\" y=\"570.477187\"/>\n      </g>\n     </g>\n     <g id=\"text_7\">\n      <!-- House/EDM -->\n      <g transform=\"translate(429.422224 657.77375)rotate(-90)scale(0.14 -0.14)\">\n       <defs>\n        <path d=\"M 9.8125 72.90625 \nL 55.90625 72.90625 \nL 55.90625 64.59375 \nL 19.671875 64.59375 \nL 19.671875 43.015625 \nL 54.390625 43.015625 \nL 54.390625 34.71875 \nL 19.671875 34.71875 \nL 19.671875 8.296875 \nL 56.78125 8.296875 \nL 56.78125 0 \nL 9.8125 0 \nz\n\" id=\"DejaVuSans-69\"/>\n        <path d=\"M 19.671875 64.796875 \nL 19.671875 8.109375 \nL 31.59375 8.109375 \nQ 46.6875 8.109375 53.6875 14.9375 \nQ 60.6875 21.78125 60.6875 36.53125 \nQ 60.6875 51.171875 53.6875 57.984375 \nQ 46.6875 64.796875 31.59375 64.796875 \nz\nM 9.8125 72.90625 \nL 30.078125 72.90625 \nQ 51.265625 72.90625 61.171875 64.09375 \nQ 71.09375 55.28125 71.09375 36.53125 \nQ 71.09375 17.671875 61.125 8.828125 \nQ 51.171875 0 30.078125 0 \nL 9.8125 0 \nz\n\" id=\"DejaVuSans-68\"/>\n        <path d=\"M 9.8125 72.90625 \nL 24.515625 72.90625 \nL 43.109375 23.296875 \nL 61.8125 72.90625 \nL 76.515625 72.90625 \nL 76.515625 0 \nL 66.890625 0 \nL 66.890625 64.015625 \nL 48.09375 14.015625 \nL 38.1875 14.015625 \nL 19.390625 64.015625 \nL 19.390625 0 \nL 9.8125 0 \nz\n\" id=\"DejaVuSans-77\"/>\n       </defs>\n       <use xlink:href=\"#DejaVuSans-72\"/>\n       <use x=\"75.195312\" xlink:href=\"#DejaVuSans-111\"/>\n       <use x=\"136.376953\" xlink:href=\"#DejaVuSans-117\"/>\n       <use x=\"199.755859\" xlink:href=\"#DejaVuSans-115\"/>\n       <use x=\"251.855469\" xlink:href=\"#DejaVuSans-101\"/>\n       <use x=\"313.378906\" xlink:href=\"#DejaVuSans-47\"/>\n       <use x=\"347.070312\" xlink:href=\"#DejaVuSans-69\"/>\n       <use x=\"410.253906\" xlink:href=\"#DejaVuSans-68\"/>\n       <use x=\"487.255859\" xlink:href=\"#DejaVuSans-77\"/>\n      </g>\n     </g>\n    </g>\n    <g id=\"xtick_8\">\n     <g id=\"line2d_15\">\n      <path clip-path=\"url(#pa236d4e446)\" d=\"M 476.971875 570.477187 \nL 476.971875 26.877187 \n\" style=\"fill:none;stroke:#b0b0b0;stroke-linecap:square;stroke-opacity:0.5;stroke-width:0.8;\"/>\n     </g>\n     <g id=\"line2d_16\">\n      <g>\n       <use style=\"stroke:#000000;stroke-width:0.8;\" x=\"476.971875\" xlink:href=\"#me2d92fd6e9\" y=\"570.477187\"/>\n      </g>\n     </g>\n     <g id=\"text_8\">\n      <!-- Rock -->\n      <g transform=\"translate(480.835 610.945937)rotate(-90)scale(0.14 -0.14)\">\n       <defs>\n        <path d=\"M 48.78125 52.59375 \nL 48.78125 44.1875 \nQ 44.96875 46.296875 41.140625 47.34375 \nQ 37.3125 48.390625 33.40625 48.390625 \nQ 24.65625 48.390625 19.8125 42.84375 \nQ 14.984375 37.3125 14.984375 27.296875 \nQ 14.984375 17.28125 19.8125 11.734375 \nQ 24.65625 6.203125 33.40625 6.203125 \nQ 37.3125 6.203125 41.140625 7.25 \nQ 44.96875 8.296875 48.78125 10.40625 \nL 48.78125 2.09375 \nQ 45.015625 0.34375 40.984375 -0.53125 \nQ 36.96875 -1.421875 32.421875 -1.421875 \nQ 20.0625 -1.421875 12.78125 6.34375 \nQ 5.515625 14.109375 5.515625 27.296875 \nQ 5.515625 40.671875 12.859375 48.328125 \nQ 20.21875 56 33.015625 56 \nQ 37.15625 56 41.109375 55.140625 \nQ 45.0625 54.296875 48.78125 52.59375 \nz\n\" id=\"DejaVuSans-99\"/>\n        <path d=\"M 9.078125 75.984375 \nL 18.109375 75.984375 \nL 18.109375 31.109375 \nL 44.921875 54.6875 \nL 56.390625 54.6875 \nL 27.390625 29.109375 \nL 57.625 0 \nL 45.90625 0 \nL 18.109375 26.703125 \nL 18.109375 0 \nL 9.078125 0 \nz\n\" id=\"DejaVuSans-107\"/>\n       </defs>\n       <use xlink:href=\"#DejaVuSans-82\"/>\n       <use x=\"64.982422\" xlink:href=\"#DejaVuSans-111\"/>\n       <use x=\"126.164062\" xlink:href=\"#DejaVuSans-99\"/>\n       <use x=\"181.144531\" xlink:href=\"#DejaVuSans-107\"/>\n      </g>\n     </g>\n    </g>\n    <g id=\"xtick_9\">\n     <g id=\"line2d_17\">\n      <path clip-path=\"url(#pa236d4e446)\" d=\"M 528.384651 570.477187 \nL 528.384651 26.877187 \n\" style=\"fill:none;stroke:#b0b0b0;stroke-linecap:square;stroke-opacity:0.5;stroke-width:0.8;\"/>\n     </g>\n     <g id=\"line2d_18\">\n      <g>\n       <use style=\"stroke:#000000;stroke-width:0.8;\" x=\"528.384651\" xlink:href=\"#me2d92fd6e9\" y=\"570.477187\"/>\n      </g>\n     </g>\n     <g id=\"text_9\">\n      <!-- Latin -->\n      <g transform=\"translate(532.247776 612.1075)rotate(-90)scale(0.14 -0.14)\">\n       <defs>\n        <path d=\"M 9.8125 72.90625 \nL 19.671875 72.90625 \nL 19.671875 8.296875 \nL 55.171875 8.296875 \nL 55.171875 0 \nL 9.8125 0 \nz\n\" id=\"DejaVuSans-76\"/>\n       </defs>\n       <use xlink:href=\"#DejaVuSans-76\"/>\n       <use x=\"55.712891\" xlink:href=\"#DejaVuSans-97\"/>\n       <use x=\"116.992188\" xlink:href=\"#DejaVuSans-116\"/>\n       <use x=\"156.201172\" xlink:href=\"#DejaVuSans-105\"/>\n       <use x=\"183.984375\" xlink:href=\"#DejaVuSans-110\"/>\n      </g>\n     </g>\n    </g>\n    <g id=\"xtick_10\">\n     <g id=\"line2d_19\">\n      <path clip-path=\"url(#pa236d4e446)\" d=\"M 579.797428 570.477187 \nL 579.797428 26.877187 \n\" style=\"fill:none;stroke:#b0b0b0;stroke-linecap:square;stroke-opacity:0.5;stroke-width:0.8;\"/>\n     </g>\n     <g id=\"line2d_20\">\n      <g>\n       <use style=\"stroke:#000000;stroke-width:0.8;\" x=\"579.797428\" xlink:href=\"#me2d92fd6e9\" y=\"570.477187\"/>\n      </g>\n     </g>\n     <g id=\"text_10\">\n      <!-- Brooklyn Drill -->\n      <g transform=\"translate(583.660553 671.463125)rotate(-90)scale(0.14 -0.14)\">\n       <use xlink:href=\"#DejaVuSans-66\"/>\n       <use x=\"68.603516\" xlink:href=\"#DejaVuSans-114\"/>\n       <use x=\"107.466797\" xlink:href=\"#DejaVuSans-111\"/>\n       <use x=\"168.648438\" xlink:href=\"#DejaVuSans-111\"/>\n       <use x=\"229.830078\" xlink:href=\"#DejaVuSans-107\"/>\n       <use x=\"287.740234\" xlink:href=\"#DejaVuSans-108\"/>\n       <use x=\"315.523438\" xlink:href=\"#DejaVuSans-121\"/>\n       <use x=\"374.703125\" xlink:href=\"#DejaVuSans-110\"/>\n       <use x=\"438.082031\" xlink:href=\"#DejaVuSans-32\"/>\n       <use x=\"469.869141\" xlink:href=\"#DejaVuSans-68\"/>\n       <use x=\"546.871094\" xlink:href=\"#DejaVuSans-114\"/>\n       <use x=\"587.984375\" xlink:href=\"#DejaVuSans-105\"/>\n       <use x=\"615.767578\" xlink:href=\"#DejaVuSans-108\"/>\n       <use x=\"643.550781\" xlink:href=\"#DejaVuSans-108\"/>\n      </g>\n     </g>\n    </g>\n    <g id=\"xtick_11\">\n     <g id=\"line2d_21\">\n      <path clip-path=\"url(#pa236d4e446)\" d=\"M 631.210204 570.477187 \nL 631.210204 26.877187 \n\" style=\"fill:none;stroke:#b0b0b0;stroke-linecap:square;stroke-opacity:0.5;stroke-width:0.8;\"/>\n     </g>\n     <g id=\"line2d_22\">\n      <g>\n       <use style=\"stroke:#000000;stroke-width:0.8;\" x=\"631.210204\" xlink:href=\"#me2d92fd6e9\" y=\"570.477187\"/>\n      </g>\n     </g>\n     <g id=\"text_11\">\n      <!-- Glitchcore -->\n      <g transform=\"translate(635.073329 648.48125)rotate(-90)scale(0.14 -0.14)\">\n       <defs>\n        <path d=\"M 59.515625 10.40625 \nL 59.515625 29.984375 \nL 43.40625 29.984375 \nL 43.40625 38.09375 \nL 69.28125 38.09375 \nL 69.28125 6.78125 \nQ 63.578125 2.734375 56.6875 0.65625 \nQ 49.8125 -1.421875 42 -1.421875 \nQ 24.90625 -1.421875 15.25 8.5625 \nQ 5.609375 18.5625 5.609375 36.375 \nQ 5.609375 54.25 15.25 64.234375 \nQ 24.90625 74.21875 42 74.21875 \nQ 49.125 74.21875 55.546875 72.453125 \nQ 61.96875 70.703125 67.390625 67.28125 \nL 67.390625 56.78125 \nQ 61.921875 61.421875 55.765625 63.765625 \nQ 49.609375 66.109375 42.828125 66.109375 \nQ 29.4375 66.109375 22.71875 58.640625 \nQ 16.015625 51.171875 16.015625 36.375 \nQ 16.015625 21.625 22.71875 14.15625 \nQ 29.4375 6.6875 42.828125 6.6875 \nQ 48.046875 6.6875 52.140625 7.59375 \nQ 56.25 8.5 59.515625 10.40625 \nz\n\" id=\"DejaVuSans-71\"/>\n        <path d=\"M 54.890625 33.015625 \nL 54.890625 0 \nL 45.90625 0 \nL 45.90625 32.71875 \nQ 45.90625 40.484375 42.875 44.328125 \nQ 39.84375 48.1875 33.796875 48.1875 \nQ 26.515625 48.1875 22.3125 43.546875 \nQ 18.109375 38.921875 18.109375 30.90625 \nL 18.109375 0 \nL 9.078125 0 \nL 9.078125 75.984375 \nL 18.109375 75.984375 \nL 18.109375 46.1875 \nQ 21.34375 51.125 25.703125 53.5625 \nQ 30.078125 56 35.796875 56 \nQ 45.21875 56 50.046875 50.171875 \nQ 54.890625 44.34375 54.890625 33.015625 \nz\n\" id=\"DejaVuSans-104\"/>\n       </defs>\n       <use xlink:href=\"#DejaVuSans-71\"/>\n       <use x=\"77.490234\" xlink:href=\"#DejaVuSans-108\"/>\n       <use x=\"105.273438\" xlink:href=\"#DejaVuSans-105\"/>\n       <use x=\"133.056641\" xlink:href=\"#DejaVuSans-116\"/>\n       <use x=\"172.265625\" xlink:href=\"#DejaVuSans-99\"/>\n       <use x=\"227.246094\" xlink:href=\"#DejaVuSans-104\"/>\n       <use x=\"290.625\" xlink:href=\"#DejaVuSans-99\"/>\n       <use x=\"345.605469\" xlink:href=\"#DejaVuSans-111\"/>\n       <use x=\"406.787109\" xlink:href=\"#DejaVuSans-114\"/>\n       <use x=\"445.650391\" xlink:href=\"#DejaVuSans-101\"/>\n      </g>\n     </g>\n    </g>\n    <g id=\"xtick_12\">\n     <g id=\"line2d_23\">\n      <path clip-path=\"url(#pa236d4e446)\" d=\"M 682.622981 570.477187 \nL 682.622981 26.877187 \n\" style=\"fill:none;stroke:#b0b0b0;stroke-linecap:square;stroke-opacity:0.5;stroke-width:0.8;\"/>\n     </g>\n     <g id=\"line2d_24\">\n      <g>\n       <use style=\"stroke:#000000;stroke-width:0.8;\" x=\"682.622981\" xlink:href=\"#me2d92fd6e9\" y=\"570.477187\"/>\n      </g>\n     </g>\n     <g id=\"text_12\">\n      <!-- Disco -->\n      <g transform=\"translate(686.486106 615.70375)rotate(-90)scale(0.14 -0.14)\">\n       <use xlink:href=\"#DejaVuSans-68\"/>\n       <use x=\"77.001953\" xlink:href=\"#DejaVuSans-105\"/>\n       <use x=\"104.785156\" xlink:href=\"#DejaVuSans-115\"/>\n       <use x=\"156.884766\" xlink:href=\"#DejaVuSans-99\"/>\n       <use x=\"211.865234\" xlink:href=\"#DejaVuSans-111\"/>\n      </g>\n     </g>\n    </g>\n    <g id=\"xtick_13\">\n     <g id=\"line2d_25\">\n      <path clip-path=\"url(#pa236d4e446)\" d=\"M 734.035757 570.477187 \nL 734.035757 26.877187 \n\" style=\"fill:none;stroke:#b0b0b0;stroke-linecap:square;stroke-opacity:0.5;stroke-width:0.8;\"/>\n     </g>\n     <g id=\"line2d_26\">\n      <g>\n       <use style=\"stroke:#000000;stroke-width:0.8;\" x=\"734.035757\" xlink:href=\"#me2d92fd6e9\" y=\"570.477187\"/>\n      </g>\n     </g>\n     <g id=\"text_13\">\n      <!-- Halloween -->\n      <g transform=\"translate(737.898882 650.480625)rotate(-90)scale(0.14 -0.14)\">\n       <defs>\n        <path d=\"M 4.203125 54.6875 \nL 13.1875 54.6875 \nL 24.421875 12.015625 \nL 35.59375 54.6875 \nL 46.1875 54.6875 \nL 57.421875 12.015625 \nL 68.609375 54.6875 \nL 77.59375 54.6875 \nL 63.28125 0 \nL 52.6875 0 \nL 40.921875 44.828125 \nL 29.109375 0 \nL 18.5 0 \nz\n\" id=\"DejaVuSans-119\"/>\n       </defs>\n       <use xlink:href=\"#DejaVuSans-72\"/>\n       <use x=\"75.195312\" xlink:href=\"#DejaVuSans-97\"/>\n       <use x=\"136.474609\" xlink:href=\"#DejaVuSans-108\"/>\n       <use x=\"164.257812\" xlink:href=\"#DejaVuSans-108\"/>\n       <use x=\"192.041016\" xlink:href=\"#DejaVuSans-111\"/>\n       <use x=\"253.222656\" xlink:href=\"#DejaVuSans-119\"/>\n       <use x=\"335.009766\" xlink:href=\"#DejaVuSans-101\"/>\n       <use x=\"396.533203\" xlink:href=\"#DejaVuSans-101\"/>\n       <use x=\"458.056641\" xlink:href=\"#DejaVuSans-110\"/>\n      </g>\n     </g>\n    </g>\n    <g id=\"xtick_14\">\n     <g id=\"line2d_27\">\n      <path clip-path=\"url(#pa236d4e446)\" d=\"M 785.448533 570.477187 \nL 785.448533 26.877187 \n\" style=\"fill:none;stroke:#b0b0b0;stroke-linecap:square;stroke-opacity:0.5;stroke-width:0.8;\"/>\n     </g>\n     <g id=\"line2d_28\">\n      <g>\n       <use style=\"stroke:#000000;stroke-width:0.8;\" x=\"785.448533\" xlink:href=\"#me2d92fd6e9\" y=\"570.477187\"/>\n      </g>\n     </g>\n     <g id=\"text_14\">\n      <!-- Christmas -->\n      <g transform=\"translate(789.311658 648.06125)rotate(-90)scale(0.14 -0.14)\">\n       <defs>\n        <path d=\"M 52 44.1875 \nQ 55.375 50.25 60.0625 53.125 \nQ 64.75 56 71.09375 56 \nQ 79.640625 56 84.28125 50.015625 \nQ 88.921875 44.046875 88.921875 33.015625 \nL 88.921875 0 \nL 79.890625 0 \nL 79.890625 32.71875 \nQ 79.890625 40.578125 77.09375 44.375 \nQ 74.3125 48.1875 68.609375 48.1875 \nQ 61.625 48.1875 57.5625 43.546875 \nQ 53.515625 38.921875 53.515625 30.90625 \nL 53.515625 0 \nL 44.484375 0 \nL 44.484375 32.71875 \nQ 44.484375 40.625 41.703125 44.40625 \nQ 38.921875 48.1875 33.109375 48.1875 \nQ 26.21875 48.1875 22.15625 43.53125 \nQ 18.109375 38.875 18.109375 30.90625 \nL 18.109375 0 \nL 9.078125 0 \nL 9.078125 54.6875 \nL 18.109375 54.6875 \nL 18.109375 46.1875 \nQ 21.1875 51.21875 25.484375 53.609375 \nQ 29.78125 56 35.6875 56 \nQ 41.65625 56 45.828125 52.96875 \nQ 50 49.953125 52 44.1875 \nz\n\" id=\"DejaVuSans-109\"/>\n       </defs>\n       <use xlink:href=\"#DejaVuSans-67\"/>\n       <use x=\"69.824219\" xlink:href=\"#DejaVuSans-104\"/>\n       <use x=\"133.203125\" xlink:href=\"#DejaVuSans-114\"/>\n       <use x=\"174.316406\" xlink:href=\"#DejaVuSans-105\"/>\n       <use x=\"202.099609\" xlink:href=\"#DejaVuSans-115\"/>\n       <use x=\"254.199219\" xlink:href=\"#DejaVuSans-116\"/>\n       <use x=\"293.408203\" xlink:href=\"#DejaVuSans-109\"/>\n       <use x=\"390.820312\" xlink:href=\"#DejaVuSans-97\"/>\n       <use x=\"452.099609\" xlink:href=\"#DejaVuSans-115\"/>\n      </g>\n     </g>\n    </g>\n    <g id=\"xtick_15\">\n     <g id=\"line2d_29\">\n      <path clip-path=\"url(#pa236d4e446)\" d=\"M 836.86131 570.477187 \nL 836.86131 26.877187 \n\" style=\"fill:none;stroke:#b0b0b0;stroke-linecap:square;stroke-opacity:0.5;stroke-width:0.8;\"/>\n     </g>\n     <g id=\"line2d_30\">\n      <g>\n       <use style=\"stroke:#000000;stroke-width:0.8;\" x=\"836.86131\" xlink:href=\"#me2d92fd6e9\" y=\"570.477187\"/>\n      </g>\n     </g>\n     <g id=\"text_15\">\n      <!-- Classical -->\n      <g transform=\"translate(840.724435 638.364062)rotate(-90)scale(0.14 -0.14)\">\n       <use xlink:href=\"#DejaVuSans-67\"/>\n       <use x=\"69.824219\" xlink:href=\"#DejaVuSans-108\"/>\n       <use x=\"97.607422\" xlink:href=\"#DejaVuSans-97\"/>\n       <use x=\"158.886719\" xlink:href=\"#DejaVuSans-115\"/>\n       <use x=\"210.986328\" xlink:href=\"#DejaVuSans-115\"/>\n       <use x=\"263.085938\" xlink:href=\"#DejaVuSans-105\"/>\n       <use x=\"290.869141\" xlink:href=\"#DejaVuSans-99\"/>\n       <use x=\"345.849609\" xlink:href=\"#DejaVuSans-97\"/>\n       <use x=\"407.128906\" xlink:href=\"#DejaVuSans-108\"/>\n      </g>\n     </g>\n    </g>\n   </g>\n   <g id=\"matplotlib.axis_2\">\n    <g id=\"ytick_1\">\n     <g id=\"line2d_31\">\n      <path clip-path=\"url(#pa236d4e446)\" d=\"M 58.471875 570.477187 \nL 895.471875 570.477187 \n\" style=\"fill:none;stroke:#b0b0b0;stroke-linecap:square;stroke-opacity:0.5;stroke-width:0.8;\"/>\n     </g>\n     <g id=\"line2d_32\">\n      <defs>\n       <path d=\"M 0 0 \nL -3.5 0 \n\" id=\"m088bc4f7af\" style=\"stroke:#000000;stroke-width:0.8;\"/>\n      </defs>\n      <g>\n       <use style=\"stroke:#000000;stroke-width:0.8;\" x=\"58.471875\" xlink:href=\"#m088bc4f7af\" y=\"570.477187\"/>\n      </g>\n     </g>\n     <g id=\"text_16\">\n      <!-- 0 -->\n      <g transform=\"translate(42.564375 575.796094)scale(0.14 -0.14)\">\n       <defs>\n        <path d=\"M 31.78125 66.40625 \nQ 24.171875 66.40625 20.328125 58.90625 \nQ 16.5 51.421875 16.5 36.375 \nQ 16.5 21.390625 20.328125 13.890625 \nQ 24.171875 6.390625 31.78125 6.390625 \nQ 39.453125 6.390625 43.28125 13.890625 \nQ 47.125 21.390625 47.125 36.375 \nQ 47.125 51.421875 43.28125 58.90625 \nQ 39.453125 66.40625 31.78125 66.40625 \nz\nM 31.78125 74.21875 \nQ 44.046875 74.21875 50.515625 64.515625 \nQ 56.984375 54.828125 56.984375 36.375 \nQ 56.984375 17.96875 50.515625 8.265625 \nQ 44.046875 -1.421875 31.78125 -1.421875 \nQ 19.53125 -1.421875 13.0625 8.265625 \nQ 6.59375 17.96875 6.59375 36.375 \nQ 6.59375 54.828125 13.0625 64.515625 \nQ 19.53125 74.21875 31.78125 74.21875 \nz\n\" id=\"DejaVuSans-48\"/>\n       </defs>\n       <use xlink:href=\"#DejaVuSans-48\"/>\n      </g>\n     </g>\n    </g>\n    <g id=\"ytick_2\">\n     <g id=\"line2d_33\">\n      <path clip-path=\"url(#pa236d4e446)\" d=\"M 58.471875 465.888443 \nL 895.471875 465.888443 \n\" style=\"fill:none;stroke:#b0b0b0;stroke-linecap:square;stroke-opacity:0.5;stroke-width:0.8;\"/>\n     </g>\n     <g id=\"line2d_34\">\n      <g>\n       <use style=\"stroke:#000000;stroke-width:0.8;\" x=\"58.471875\" xlink:href=\"#m088bc4f7af\" y=\"465.888443\"/>\n      </g>\n     </g>\n     <g id=\"text_17\">\n      <!-- 100 -->\n      <g transform=\"translate(24.749375 471.207349)scale(0.14 -0.14)\">\n       <defs>\n        <path d=\"M 12.40625 8.296875 \nL 28.515625 8.296875 \nL 28.515625 63.921875 \nL 10.984375 60.40625 \nL 10.984375 69.390625 \nL 28.421875 72.90625 \nL 38.28125 72.90625 \nL 38.28125 8.296875 \nL 54.390625 8.296875 \nL 54.390625 0 \nL 12.40625 0 \nz\n\" id=\"DejaVuSans-49\"/>\n       </defs>\n       <use xlink:href=\"#DejaVuSans-49\"/>\n       <use x=\"63.623047\" xlink:href=\"#DejaVuSans-48\"/>\n       <use x=\"127.246094\" xlink:href=\"#DejaVuSans-48\"/>\n      </g>\n     </g>\n    </g>\n    <g id=\"ytick_3\">\n     <g id=\"line2d_35\">\n      <path clip-path=\"url(#pa236d4e446)\" d=\"M 58.471875 361.299698 \nL 895.471875 361.299698 \n\" style=\"fill:none;stroke:#b0b0b0;stroke-linecap:square;stroke-opacity:0.5;stroke-width:0.8;\"/>\n     </g>\n     <g id=\"line2d_36\">\n      <g>\n       <use style=\"stroke:#000000;stroke-width:0.8;\" x=\"58.471875\" xlink:href=\"#m088bc4f7af\" y=\"361.299698\"/>\n      </g>\n     </g>\n     <g id=\"text_18\">\n      <!-- 200 -->\n      <g transform=\"translate(24.749375 366.618605)scale(0.14 -0.14)\">\n       <defs>\n        <path d=\"M 19.1875 8.296875 \nL 53.609375 8.296875 \nL 53.609375 0 \nL 7.328125 0 \nL 7.328125 8.296875 \nQ 12.9375 14.109375 22.625 23.890625 \nQ 32.328125 33.6875 34.8125 36.53125 \nQ 39.546875 41.84375 41.421875 45.53125 \nQ 43.3125 49.21875 43.3125 52.78125 \nQ 43.3125 58.59375 39.234375 62.25 \nQ 35.15625 65.921875 28.609375 65.921875 \nQ 23.96875 65.921875 18.8125 64.3125 \nQ 13.671875 62.703125 7.8125 59.421875 \nL 7.8125 69.390625 \nQ 13.765625 71.78125 18.9375 73 \nQ 24.125 74.21875 28.421875 74.21875 \nQ 39.75 74.21875 46.484375 68.546875 \nQ 53.21875 62.890625 53.21875 53.421875 \nQ 53.21875 48.921875 51.53125 44.890625 \nQ 49.859375 40.875 45.40625 35.40625 \nQ 44.1875 33.984375 37.640625 27.21875 \nQ 31.109375 20.453125 19.1875 8.296875 \nz\n\" id=\"DejaVuSans-50\"/>\n       </defs>\n       <use xlink:href=\"#DejaVuSans-50\"/>\n       <use x=\"63.623047\" xlink:href=\"#DejaVuSans-48\"/>\n       <use x=\"127.246094\" xlink:href=\"#DejaVuSans-48\"/>\n      </g>\n     </g>\n    </g>\n    <g id=\"ytick_4\">\n     <g id=\"line2d_37\">\n      <path clip-path=\"url(#pa236d4e446)\" d=\"M 58.471875 256.710954 \nL 895.471875 256.710954 \n\" style=\"fill:none;stroke:#b0b0b0;stroke-linecap:square;stroke-opacity:0.5;stroke-width:0.8;\"/>\n     </g>\n     <g id=\"line2d_38\">\n      <g>\n       <use style=\"stroke:#000000;stroke-width:0.8;\" x=\"58.471875\" xlink:href=\"#m088bc4f7af\" y=\"256.710954\"/>\n      </g>\n     </g>\n     <g id=\"text_19\">\n      <!-- 300 -->\n      <g transform=\"translate(24.749375 262.02986)scale(0.14 -0.14)\">\n       <defs>\n        <path d=\"M 40.578125 39.3125 \nQ 47.65625 37.796875 51.625 33 \nQ 55.609375 28.21875 55.609375 21.1875 \nQ 55.609375 10.40625 48.1875 4.484375 \nQ 40.765625 -1.421875 27.09375 -1.421875 \nQ 22.515625 -1.421875 17.65625 -0.515625 \nQ 12.796875 0.390625 7.625 2.203125 \nL 7.625 11.71875 \nQ 11.71875 9.328125 16.59375 8.109375 \nQ 21.484375 6.890625 26.8125 6.890625 \nQ 36.078125 6.890625 40.9375 10.546875 \nQ 45.796875 14.203125 45.796875 21.1875 \nQ 45.796875 27.640625 41.28125 31.265625 \nQ 36.765625 34.90625 28.71875 34.90625 \nL 20.21875 34.90625 \nL 20.21875 43.015625 \nL 29.109375 43.015625 \nQ 36.375 43.015625 40.234375 45.921875 \nQ 44.09375 48.828125 44.09375 54.296875 \nQ 44.09375 59.90625 40.109375 62.90625 \nQ 36.140625 65.921875 28.71875 65.921875 \nQ 24.65625 65.921875 20.015625 65.03125 \nQ 15.375 64.15625 9.8125 62.3125 \nL 9.8125 71.09375 \nQ 15.4375 72.65625 20.34375 73.4375 \nQ 25.25 74.21875 29.59375 74.21875 \nQ 40.828125 74.21875 47.359375 69.109375 \nQ 53.90625 64.015625 53.90625 55.328125 \nQ 53.90625 49.265625 50.4375 45.09375 \nQ 46.96875 40.921875 40.578125 39.3125 \nz\n\" id=\"DejaVuSans-51\"/>\n       </defs>\n       <use xlink:href=\"#DejaVuSans-51\"/>\n       <use x=\"63.623047\" xlink:href=\"#DejaVuSans-48\"/>\n       <use x=\"127.246094\" xlink:href=\"#DejaVuSans-48\"/>\n      </g>\n     </g>\n    </g>\n    <g id=\"ytick_5\">\n     <g id=\"line2d_39\">\n      <path clip-path=\"url(#pa236d4e446)\" d=\"M 58.471875 152.122209 \nL 895.471875 152.122209 \n\" style=\"fill:none;stroke:#b0b0b0;stroke-linecap:square;stroke-opacity:0.5;stroke-width:0.8;\"/>\n     </g>\n     <g id=\"line2d_40\">\n      <g>\n       <use style=\"stroke:#000000;stroke-width:0.8;\" x=\"58.471875\" xlink:href=\"#m088bc4f7af\" y=\"152.122209\"/>\n      </g>\n     </g>\n     <g id=\"text_20\">\n      <!-- 400 -->\n      <g transform=\"translate(24.749375 157.441115)scale(0.14 -0.14)\">\n       <defs>\n        <path d=\"M 37.796875 64.3125 \nL 12.890625 25.390625 \nL 37.796875 25.390625 \nz\nM 35.203125 72.90625 \nL 47.609375 72.90625 \nL 47.609375 25.390625 \nL 58.015625 25.390625 \nL 58.015625 17.1875 \nL 47.609375 17.1875 \nL 47.609375 0 \nL 37.796875 0 \nL 37.796875 17.1875 \nL 4.890625 17.1875 \nL 4.890625 26.703125 \nz\n\" id=\"DejaVuSans-52\"/>\n       </defs>\n       <use xlink:href=\"#DejaVuSans-52\"/>\n       <use x=\"63.623047\" xlink:href=\"#DejaVuSans-48\"/>\n       <use x=\"127.246094\" xlink:href=\"#DejaVuSans-48\"/>\n      </g>\n     </g>\n    </g>\n    <g id=\"ytick_6\">\n     <g id=\"line2d_41\">\n      <path clip-path=\"url(#pa236d4e446)\" d=\"M 58.471875 47.533465 \nL 895.471875 47.533465 \n\" style=\"fill:none;stroke:#b0b0b0;stroke-linecap:square;stroke-opacity:0.5;stroke-width:0.8;\"/>\n     </g>\n     <g id=\"line2d_42\">\n      <g>\n       <use style=\"stroke:#000000;stroke-width:0.8;\" x=\"58.471875\" xlink:href=\"#m088bc4f7af\" y=\"47.533465\"/>\n      </g>\n     </g>\n     <g id=\"text_21\">\n      <!-- 500 -->\n      <g transform=\"translate(24.749375 52.852371)scale(0.14 -0.14)\">\n       <defs>\n        <path d=\"M 10.796875 72.90625 \nL 49.515625 72.90625 \nL 49.515625 64.59375 \nL 19.828125 64.59375 \nL 19.828125 46.734375 \nQ 21.96875 47.46875 24.109375 47.828125 \nQ 26.265625 48.1875 28.421875 48.1875 \nQ 40.625 48.1875 47.75 41.5 \nQ 54.890625 34.8125 54.890625 23.390625 \nQ 54.890625 11.625 47.5625 5.09375 \nQ 40.234375 -1.421875 26.90625 -1.421875 \nQ 22.3125 -1.421875 17.546875 -0.640625 \nQ 12.796875 0.140625 7.71875 1.703125 \nL 7.71875 11.625 \nQ 12.109375 9.234375 16.796875 8.0625 \nQ 21.484375 6.890625 26.703125 6.890625 \nQ 35.15625 6.890625 40.078125 11.328125 \nQ 45.015625 15.765625 45.015625 23.390625 \nQ 45.015625 31 40.078125 35.4375 \nQ 35.15625 39.890625 26.703125 39.890625 \nQ 22.75 39.890625 18.8125 39.015625 \nQ 14.890625 38.140625 10.796875 36.28125 \nz\n\" id=\"DejaVuSans-53\"/>\n       </defs>\n       <use xlink:href=\"#DejaVuSans-53\"/>\n       <use x=\"63.623047\" xlink:href=\"#DejaVuSans-48\"/>\n       <use x=\"127.246094\" xlink:href=\"#DejaVuSans-48\"/>\n      </g>\n     </g>\n    </g>\n    <g id=\"text_22\">\n     <!-- Counts -->\n     <g transform=\"translate(17.837813 323.111562)rotate(-90)scale(0.14 -0.14)\">\n      <use xlink:href=\"#DejaVuSans-67\"/>\n      <use x=\"69.824219\" xlink:href=\"#DejaVuSans-111\"/>\n      <use x=\"131.005859\" xlink:href=\"#DejaVuSans-117\"/>\n      <use x=\"194.384766\" xlink:href=\"#DejaVuSans-110\"/>\n      <use x=\"257.763672\" xlink:href=\"#DejaVuSans-116\"/>\n      <use x=\"296.972656\" xlink:href=\"#DejaVuSans-115\"/>\n     </g>\n    </g>\n   </g>\n   <g id=\"patch_3\">\n    <path clip-path=\"url(#pa236d4e446)\" d=\"M 96.51733 570.477187 \nL 137.647551 570.477187 \nL 137.647551 52.762902 \nL 96.51733 52.762902 \nz\n\" style=\"fill:#ff0000;\"/>\n   </g>\n   <g id=\"patch_4\">\n    <path clip-path=\"url(#pa236d4e446)\" d=\"M 147.930106 570.477187 \nL 189.060327 570.477187 \nL 189.060327 117.607923 \nL 147.930106 117.607923 \nz\n\" style=\"fill:#0000ff;\"/>\n   </g>\n   <g id=\"patch_5\">\n    <path clip-path=\"url(#pa236d4e446)\" d=\"M 199.342882 570.477187 \nL 240.473104 570.477187 \nL 240.473104 413.594071 \nL 199.342882 413.594071 \nz\n\" style=\"fill:#800080;\"/>\n   </g>\n   <g id=\"patch_6\">\n    <path clip-path=\"url(#pa236d4e446)\" d=\"M 250.755659 570.477187 \nL 291.88588 570.477187 \nL 291.88588 428.236495 \nL 250.755659 428.236495 \nz\n\" style=\"fill:#da70d6;\"/>\n   </g>\n   <g id=\"patch_7\">\n    <path clip-path=\"url(#pa236d4e446)\" d=\"M 302.168435 570.477187 \nL 343.298656 570.477187 \nL 343.298656 454.383681 \nL 302.168435 454.383681 \nz\n\" style=\"fill:#ffa500;\"/>\n   </g>\n   <g id=\"patch_8\">\n    <path clip-path=\"url(#pa236d4e446)\" d=\"M 353.581212 570.477187 \nL 394.711433 570.477187 \nL 394.711433 482.622642 \nL 353.581212 482.622642 \nz\n\" style=\"fill:#cd5c5c;\"/>\n   </g>\n   <g id=\"patch_9\">\n    <path clip-path=\"url(#pa236d4e446)\" d=\"M 404.993988 570.477187 \nL 446.124209 570.477187 \nL 446.124209 511.907491 \nL 404.993988 511.907491 \nz\n\" style=\"fill:#ffd700;\"/>\n   </g>\n   <g id=\"patch_10\">\n    <path clip-path=\"url(#pa236d4e446)\" d=\"M 456.406764 570.477187 \nL 497.536986 570.477187 \nL 497.536986 525.504027 \nL 456.406764 525.504027 \nz\n\" style=\"fill:#2e8b57;\"/>\n   </g>\n   <g id=\"patch_11\">\n    <path clip-path=\"url(#pa236d4e446)\" d=\"M 507.819541 570.477187 \nL 548.949762 570.477187 \nL 548.949762 533.871127 \nL 507.819541 533.871127 \nz\n\" style=\"fill:#6a5acd;\"/>\n   </g>\n   <g id=\"patch_12\">\n    <path clip-path=\"url(#pa236d4e446)\" d=\"M 559.232317 570.477187 \nL 600.362538 570.477187 \nL 600.362538 557.926538 \nL 559.232317 557.926538 \nz\n\" style=\"fill:#ff7f50;\"/>\n   </g>\n   <g id=\"patch_13\">\n    <path clip-path=\"url(#pa236d4e446)\" d=\"M 610.645094 570.477187 \nL 651.775315 570.477187 \nL 651.775315 558.972426 \nL 610.645094 558.972426 \nz\n\" style=\"fill:#c0c0c0;\"/>\n   </g>\n   <g id=\"patch_14\">\n    <path clip-path=\"url(#pa236d4e446)\" d=\"M 662.05787 570.477187 \nL 703.188091 570.477187 \nL 703.188091 568.385413 \nL 662.05787 568.385413 \nz\n\" style=\"fill:#db7093;\"/>\n   </g>\n   <g id=\"patch_15\">\n    <path clip-path=\"url(#pa236d4e446)\" d=\"M 713.470646 570.477187 \nL 754.600868 570.477187 \nL 754.600868 569.4313 \nL 713.470646 569.4313 \nz\n\" style=\"fill:#32cd32;\"/>\n   </g>\n   <g id=\"patch_16\">\n    <path clip-path=\"url(#pa236d4e446)\" d=\"M 764.883423 570.477187 \nL 806.013644 570.477187 \nL 806.013644 570.477187 \nL 764.883423 570.477187 \nz\n\" style=\"fill:#ff0000;\"/>\n   </g>\n   <g id=\"patch_17\">\n    <path clip-path=\"url(#pa236d4e446)\" d=\"M 816.296199 570.477187 \nL 857.42642 570.477187 \nL 857.42642 570.477187 \nL 816.296199 570.477187 \nz\n\" style=\"fill:#0000ff;\"/>\n   </g>\n   <g id=\"patch_18\">\n    <path d=\"M 58.471875 570.477187 \nL 58.471875 26.877187 \n\" style=\"fill:none;stroke:#000000;stroke-linecap:square;stroke-linejoin:miter;stroke-width:0.8;\"/>\n   </g>\n   <g id=\"patch_19\">\n    <path d=\"M 895.471875 570.477187 \nL 895.471875 26.877187 \n\" style=\"fill:none;stroke:#000000;stroke-linecap:square;stroke-linejoin:miter;stroke-width:0.8;\"/>\n   </g>\n   <g id=\"patch_20\">\n    <path d=\"M 58.471875 570.477187 \nL 895.471875 570.477187 \n\" style=\"fill:none;stroke:#000000;stroke-linecap:square;stroke-linejoin:miter;stroke-width:0.8;\"/>\n   </g>\n   <g id=\"patch_21\">\n    <path d=\"M 58.471875 26.877187 \nL 895.471875 26.877187 \n\" style=\"fill:none;stroke:#000000;stroke-linecap:square;stroke-linejoin:miter;stroke-width:0.8;\"/>\n   </g>\n   <g id=\"text_23\">\n    <!-- Total Distribution of Viral Song Genres for Sampled Months in 2020 -->\n    <g transform=\"translate(175.584375 20.877187)scale(0.18 -0.18)\">\n     <defs>\n      <path d=\"M 48.6875 27.296875 \nQ 48.6875 37.203125 44.609375 42.84375 \nQ 40.53125 48.484375 33.40625 48.484375 \nQ 26.265625 48.484375 22.1875 42.84375 \nQ 18.109375 37.203125 18.109375 27.296875 \nQ 18.109375 17.390625 22.1875 11.75 \nQ 26.265625 6.109375 33.40625 6.109375 \nQ 40.53125 6.109375 44.609375 11.75 \nQ 48.6875 17.390625 48.6875 27.296875 \nz\nM 18.109375 46.390625 \nQ 20.953125 51.265625 25.265625 53.625 \nQ 29.59375 56 35.59375 56 \nQ 45.5625 56 51.78125 48.09375 \nQ 58.015625 40.1875 58.015625 27.296875 \nQ 58.015625 14.40625 51.78125 6.484375 \nQ 45.5625 -1.421875 35.59375 -1.421875 \nQ 29.59375 -1.421875 25.265625 0.953125 \nQ 20.953125 3.328125 18.109375 8.203125 \nL 18.109375 0 \nL 9.078125 0 \nL 9.078125 75.984375 \nL 18.109375 75.984375 \nz\n\" id=\"DejaVuSans-98\"/>\n      <path d=\"M 37.109375 75.984375 \nL 37.109375 68.5 \nL 28.515625 68.5 \nQ 23.6875 68.5 21.796875 66.546875 \nQ 19.921875 64.59375 19.921875 59.515625 \nL 19.921875 54.6875 \nL 34.71875 54.6875 \nL 34.71875 47.703125 \nL 19.921875 47.703125 \nL 19.921875 0 \nL 10.890625 0 \nL 10.890625 47.703125 \nL 2.296875 47.703125 \nL 2.296875 54.6875 \nL 10.890625 54.6875 \nL 10.890625 58.5 \nQ 10.890625 67.625 15.140625 71.796875 \nQ 19.390625 75.984375 28.609375 75.984375 \nz\n\" id=\"DejaVuSans-102\"/>\n      <path d=\"M 28.609375 0 \nL 0.78125 72.90625 \nL 11.078125 72.90625 \nL 34.1875 11.53125 \nL 57.328125 72.90625 \nL 67.578125 72.90625 \nL 39.796875 0 \nz\n\" id=\"DejaVuSans-86\"/>\n      <path d=\"M 45.40625 27.984375 \nQ 45.40625 37.75 41.375 43.109375 \nQ 37.359375 48.484375 30.078125 48.484375 \nQ 22.859375 48.484375 18.828125 43.109375 \nQ 14.796875 37.75 14.796875 27.984375 \nQ 14.796875 18.265625 18.828125 12.890625 \nQ 22.859375 7.515625 30.078125 7.515625 \nQ 37.359375 7.515625 41.375 12.890625 \nQ 45.40625 18.265625 45.40625 27.984375 \nz\nM 54.390625 6.78125 \nQ 54.390625 -7.171875 48.1875 -13.984375 \nQ 42 -20.796875 29.203125 -20.796875 \nQ 24.46875 -20.796875 20.265625 -20.09375 \nQ 16.0625 -19.390625 12.109375 -17.921875 \nL 12.109375 -9.1875 \nQ 16.0625 -11.328125 19.921875 -12.34375 \nQ 23.78125 -13.375 27.78125 -13.375 \nQ 36.625 -13.375 41.015625 -8.765625 \nQ 45.40625 -4.15625 45.40625 5.171875 \nL 45.40625 9.625 \nQ 42.625 4.78125 38.28125 2.390625 \nQ 33.9375 0 27.875 0 \nQ 17.828125 0 11.671875 7.65625 \nQ 5.515625 15.328125 5.515625 27.984375 \nQ 5.515625 40.671875 11.671875 48.328125 \nQ 17.828125 56 27.875 56 \nQ 33.9375 56 38.28125 53.609375 \nQ 42.625 51.21875 45.40625 46.390625 \nL 45.40625 54.6875 \nL 54.390625 54.6875 \nz\n\" id=\"DejaVuSans-103\"/>\n     </defs>\n     <use xlink:href=\"#DejaVuSans-84\"/>\n     <use x=\"44.083984\" xlink:href=\"#DejaVuSans-111\"/>\n     <use x=\"105.265625\" xlink:href=\"#DejaVuSans-116\"/>\n     <use x=\"144.474609\" xlink:href=\"#DejaVuSans-97\"/>\n     <use x=\"205.753906\" xlink:href=\"#DejaVuSans-108\"/>\n     <use x=\"233.537109\" xlink:href=\"#DejaVuSans-32\"/>\n     <use x=\"265.324219\" xlink:href=\"#DejaVuSans-68\"/>\n     <use x=\"342.326172\" xlink:href=\"#DejaVuSans-105\"/>\n     <use x=\"370.109375\" xlink:href=\"#DejaVuSans-115\"/>\n     <use x=\"422.208984\" xlink:href=\"#DejaVuSans-116\"/>\n     <use x=\"461.417969\" xlink:href=\"#DejaVuSans-114\"/>\n     <use x=\"502.53125\" xlink:href=\"#DejaVuSans-105\"/>\n     <use x=\"530.314453\" xlink:href=\"#DejaVuSans-98\"/>\n     <use x=\"593.791016\" xlink:href=\"#DejaVuSans-117\"/>\n     <use x=\"657.169922\" xlink:href=\"#DejaVuSans-116\"/>\n     <use x=\"696.378906\" xlink:href=\"#DejaVuSans-105\"/>\n     <use x=\"724.162109\" xlink:href=\"#DejaVuSans-111\"/>\n     <use x=\"785.34375\" xlink:href=\"#DejaVuSans-110\"/>\n     <use x=\"848.722656\" xlink:href=\"#DejaVuSans-32\"/>\n     <use x=\"880.509766\" xlink:href=\"#DejaVuSans-111\"/>\n     <use x=\"941.691406\" xlink:href=\"#DejaVuSans-102\"/>\n     <use x=\"976.896484\" xlink:href=\"#DejaVuSans-32\"/>\n     <use x=\"1008.683594\" xlink:href=\"#DejaVuSans-86\"/>\n     <use x=\"1074.841797\" xlink:href=\"#DejaVuSans-105\"/>\n     <use x=\"1102.625\" xlink:href=\"#DejaVuSans-114\"/>\n     <use x=\"1143.738281\" xlink:href=\"#DejaVuSans-97\"/>\n     <use x=\"1205.017578\" xlink:href=\"#DejaVuSans-108\"/>\n     <use x=\"1232.800781\" xlink:href=\"#DejaVuSans-32\"/>\n     <use x=\"1264.587891\" xlink:href=\"#DejaVuSans-83\"/>\n     <use x=\"1328.064453\" xlink:href=\"#DejaVuSans-111\"/>\n     <use x=\"1389.246094\" xlink:href=\"#DejaVuSans-110\"/>\n     <use x=\"1452.625\" xlink:href=\"#DejaVuSans-103\"/>\n     <use x=\"1516.101562\" xlink:href=\"#DejaVuSans-32\"/>\n     <use x=\"1547.888672\" xlink:href=\"#DejaVuSans-71\"/>\n     <use x=\"1625.378906\" xlink:href=\"#DejaVuSans-101\"/>\n     <use x=\"1686.902344\" xlink:href=\"#DejaVuSans-110\"/>\n     <use x=\"1750.28125\" xlink:href=\"#DejaVuSans-114\"/>\n     <use x=\"1789.144531\" xlink:href=\"#DejaVuSans-101\"/>\n     <use x=\"1850.667969\" xlink:href=\"#DejaVuSans-115\"/>\n     <use x=\"1902.767578\" xlink:href=\"#DejaVuSans-32\"/>\n     <use x=\"1934.554688\" xlink:href=\"#DejaVuSans-102\"/>\n     <use x=\"1969.759766\" xlink:href=\"#DejaVuSans-111\"/>\n     <use x=\"2030.941406\" xlink:href=\"#DejaVuSans-114\"/>\n     <use x=\"2072.054688\" xlink:href=\"#DejaVuSans-32\"/>\n     <use x=\"2103.841797\" xlink:href=\"#DejaVuSans-83\"/>\n     <use x=\"2167.318359\" xlink:href=\"#DejaVuSans-97\"/>\n     <use x=\"2228.597656\" xlink:href=\"#DejaVuSans-109\"/>\n     <use x=\"2326.009766\" xlink:href=\"#DejaVuSans-112\"/>\n     <use x=\"2389.486328\" xlink:href=\"#DejaVuSans-108\"/>\n     <use x=\"2417.269531\" xlink:href=\"#DejaVuSans-101\"/>\n     <use x=\"2478.792969\" xlink:href=\"#DejaVuSans-100\"/>\n     <use x=\"2542.269531\" xlink:href=\"#DejaVuSans-32\"/>\n     <use x=\"2574.056641\" xlink:href=\"#DejaVuSans-77\"/>\n     <use x=\"2660.335938\" xlink:href=\"#DejaVuSans-111\"/>\n     <use x=\"2721.517578\" xlink:href=\"#DejaVuSans-110\"/>\n     <use x=\"2784.896484\" xlink:href=\"#DejaVuSans-116\"/>\n     <use x=\"2824.105469\" xlink:href=\"#DejaVuSans-104\"/>\n     <use x=\"2887.484375\" xlink:href=\"#DejaVuSans-115\"/>\n     <use x=\"2939.583984\" xlink:href=\"#DejaVuSans-32\"/>\n     <use x=\"2971.371094\" xlink:href=\"#DejaVuSans-105\"/>\n     <use x=\"2999.154297\" xlink:href=\"#DejaVuSans-110\"/>\n     <use x=\"3062.533203\" xlink:href=\"#DejaVuSans-32\"/>\n     <use x=\"3094.320312\" xlink:href=\"#DejaVuSans-50\"/>\n     <use x=\"3157.943359\" xlink:href=\"#DejaVuSans-48\"/>\n     <use x=\"3221.566406\" xlink:href=\"#DejaVuSans-50\"/>\n     <use x=\"3285.189453\" xlink:href=\"#DejaVuSans-48\"/>\n    </g>\n   </g>\n  </g>\n </g>\n <defs>\n  <clipPath id=\"pa236d4e446\">\n   <rect height=\"543.6\" width=\"837\" x=\"58.471875\" y=\"26.877187\"/>\n  </clipPath>\n </defs>\n</svg>\n",
      "image/png": "[encoded data removed]"
     },
     "metadata": {
      "needs_background": "light"
     }
    }
   ],
   "source": [
    "names = sorted_all_viral_genre_df['Genre']\n",
    "values = sorted_all_viral_genre_df['Count'].astype(float)\n",
    "\n",
    "plt.bar(names, values, color=['red', 'blue', 'purple', 'orchid', 'orange', 'indianred', 'gold', 'seagreen', 'slateblue', 'coral', 'silver', 'palevioletred', 'limegreen'], zorder=2)\n",
    "plt.xticks(rotation=90, size=14)\n",
    "plt.grid(alpha=0.5, zorder=0)\n",
    "plt.yticks(size=14)\n",
    "plt.ylabel(\"Counts\", size=14)\n",
    "plt.title(\"Total Distribution of Viral Song Genres for Sampled Months in 2020\", size=18)\n",
    "\n",
    "plt.gcf().set_size_inches(15,10)\n",
    "plt.savefig('total_all_viral_genre.jpg', facecolor='w')\n",
    "plt.show()\n",
    "\n"
   ]
  },
  {
   "source": [
    "## Distribution per Month"
   ],
   "cell_type": "markdown",
   "metadata": {}
  },
  {
   "source": [
    "### January"
   ],
   "cell_type": "markdown",
   "metadata": {}
  },
  {
   "cell_type": "code",
   "execution_count": 13,
   "metadata": {},
   "outputs": [
    {
     "output_type": "execute_result",
     "data": {
      "text/plain": [
       "   Position                                         Track Name  \\\n",
       "0         1                                            The Box   \n",
       "1         2  All I Want - From \"High School Musical: The Mu...   \n",
       "2         3                                    Blueberry Fergo   \n",
       "3         4                                  GOODMORNINGTOKYO!   \n",
       "4         5                                             Kraazy   \n",
       "\n",
       "            Artist                                                URL  \\\n",
       "0      Roddy Ricch  https://open.spotify.com/track/0nbXyq5TXYPCO7p...   \n",
       "1   Olivia Rodrigo  https://open.spotify.com/track/4Yxc55NX3tAXC2m...   \n",
       "2        Lil Monet  https://open.spotify.com/track/6CrMU5zXlKNGsip...   \n",
       "3  TOKYO’S REVENGE  https://open.spotify.com/track/0Q2n5yzl2XRqYbV...   \n",
       "4           Likybo  https://open.spotify.com/track/3s2Qd1rsWqbvOox...   \n",
       "\n",
       "                                     Filename    Month  Week Number      Type  \\\n",
       "0  viral-us-weekly-2020-01-09--2020-01-09.csv  January            2  Viral 50   \n",
       "1  viral-us-weekly-2020-01-09--2020-01-09.csv  January            2  Viral 50   \n",
       "2  viral-us-weekly-2020-01-09--2020-01-09.csv  January            2  Viral 50   \n",
       "3  viral-us-weekly-2020-01-09--2020-01-09.csv  January            2  Viral 50   \n",
       "4  viral-us-weekly-2020-01-09--2020-01-09.csv  January            2  Viral 50   \n",
       "\n",
       "         Date               Artist ID      Genre 1        Genre 2     Genre 3  \n",
       "0  2020-01-09  757aE44tKEUQEqRuT6GnEB  melodic rap            rap        trap  \n",
       "1  2020-01-09  1McMsnEElThX1knmY4oliG          pop  post-teen pop         NaN  \n",
       "2  2020-01-09  19FsxZm98evcrjWFFhHnC4  unspecified            NaN         NaN  \n",
       "3  2020-01-09  5TbLOwv8BNnik3f03NZJlt     meme rap        sad rap  vapor trap  \n",
       "4  2020-01-09  16Nc36xAtNyQ7BMBcDsaLv     cali rap            NaN         NaN  "
      ],
      "text/html": "<div>\n<style scoped>\n    .dataframe tbody tr th:only-of-type {\n        vertical-align: middle;\n    }\n\n    .dataframe tbody tr th {\n        vertical-align: top;\n    }\n\n    .dataframe thead th {\n        text-align: right;\n    }\n</style>\n<table border=\"1\" class=\"dataframe\">\n  <thead>\n    <tr style=\"text-align: right;\">\n      <th></th>\n      <th>Position</th>\n      <th>Track Name</th>\n      <th>Artist</th>\n      <th>URL</th>\n      <th>Filename</th>\n      <th>Month</th>\n      <th>Week Number</th>\n      <th>Type</th>\n      <th>Date</th>\n      <th>Artist ID</th>\n      <th>Genre 1</th>\n      <th>Genre 2</th>\n      <th>Genre 3</th>\n    </tr>\n  </thead>\n  <tbody>\n    <tr>\n      <th>0</th>\n      <td>1</td>\n      <td>The Box</td>\n      <td>Roddy Ricch</td>\n      <td>https://open.spotify.com/track/0nbXyq5TXYPCO7p...</td>\n      <td>viral-us-weekly-2020-01-09--2020-01-09.csv</td>\n      <td>January</td>\n      <td>2</td>\n      <td>Viral 50</td>\n      <td>2020-01-09</td>\n      <td>757aE44tKEUQEqRuT6GnEB</td>\n      <td>melodic rap</td>\n      <td>rap</td>\n      <td>trap</td>\n    </tr>\n    <tr>\n      <th>1</th>\n      <td>2</td>\n      <td>All I Want - From \"High School Musical: The Mu...</td>\n      <td>Olivia Rodrigo</td>\n      <td>https://open.spotify.com/track/4Yxc55NX3tAXC2m...</td>\n      <td>viral-us-weekly-2020-01-09--2020-01-09.csv</td>\n      <td>January</td>\n      <td>2</td>\n      <td>Viral 50</td>\n      <td>2020-01-09</td>\n      <td>1McMsnEElThX1knmY4oliG</td>\n      <td>pop</td>\n      <td>post-teen pop</td>\n      <td>NaN</td>\n    </tr>\n    <tr>\n      <th>2</th>\n      <td>3</td>\n      <td>Blueberry Fergo</td>\n      <td>Lil Monet</td>\n      <td>https://open.spotify.com/track/6CrMU5zXlKNGsip...</td>\n      <td>viral-us-weekly-2020-01-09--2020-01-09.csv</td>\n      <td>January</td>\n      <td>2</td>\n      <td>Viral 50</td>\n      <td>2020-01-09</td>\n      <td>19FsxZm98evcrjWFFhHnC4</td>\n      <td>unspecified</td>\n      <td>NaN</td>\n      <td>NaN</td>\n    </tr>\n    <tr>\n      <th>3</th>\n      <td>4</td>\n      <td>GOODMORNINGTOKYO!</td>\n      <td>TOKYO’S REVENGE</td>\n      <td>https://open.spotify.com/track/0Q2n5yzl2XRqYbV...</td>\n      <td>viral-us-weekly-2020-01-09--2020-01-09.csv</td>\n      <td>January</td>\n      <td>2</td>\n      <td>Viral 50</td>\n      <td>2020-01-09</td>\n      <td>5TbLOwv8BNnik3f03NZJlt</td>\n      <td>meme rap</td>\n      <td>sad rap</td>\n      <td>vapor trap</td>\n    </tr>\n    <tr>\n      <th>4</th>\n      <td>5</td>\n      <td>Kraazy</td>\n      <td>Likybo</td>\n      <td>https://open.spotify.com/track/3s2Qd1rsWqbvOox...</td>\n      <td>viral-us-weekly-2020-01-09--2020-01-09.csv</td>\n      <td>January</td>\n      <td>2</td>\n      <td>Viral 50</td>\n      <td>2020-01-09</td>\n      <td>16Nc36xAtNyQ7BMBcDsaLv</td>\n      <td>cali rap</td>\n      <td>NaN</td>\n      <td>NaN</td>\n    </tr>\n  </tbody>\n</table>\n</div>"
     },
     "metadata": {},
     "execution_count": 13
    }
   ],
   "source": [
    "jan_df = new_viral_all_df[new_viral_all_df['Month'] == 'January']\n",
    "jan_df.head()"
   ]
  },
  {
   "cell_type": "code",
   "execution_count": 14,
   "metadata": {},
   "outputs": [
    {
     "output_type": "execute_result",
     "data": {
      "text/plain": [
       "              Genre  Count\n",
       "0  Rap/Hip Hop/Trap     87\n",
       "1    R&B/Soul/Blues     22\n",
       "2               Pop    105\n",
       "3              Rock      4\n",
       "4           Country     11"
      ],
      "text/html": "<div>\n<style scoped>\n    .dataframe tbody tr th:only-of-type {\n        vertical-align: middle;\n    }\n\n    .dataframe tbody tr th {\n        vertical-align: top;\n    }\n\n    .dataframe thead th {\n        text-align: right;\n    }\n</style>\n<table border=\"1\" class=\"dataframe\">\n  <thead>\n    <tr style=\"text-align: right;\">\n      <th></th>\n      <th>Genre</th>\n      <th>Count</th>\n    </tr>\n  </thead>\n  <tbody>\n    <tr>\n      <th>0</th>\n      <td>Rap/Hip Hop/Trap</td>\n      <td>87</td>\n    </tr>\n    <tr>\n      <th>1</th>\n      <td>R&amp;B/Soul/Blues</td>\n      <td>22</td>\n    </tr>\n    <tr>\n      <th>2</th>\n      <td>Pop</td>\n      <td>105</td>\n    </tr>\n    <tr>\n      <th>3</th>\n      <td>Rock</td>\n      <td>4</td>\n    </tr>\n    <tr>\n      <th>4</th>\n      <td>Country</td>\n      <td>11</td>\n    </tr>\n  </tbody>\n</table>\n</div>"
     },
     "metadata": {},
     "execution_count": 14
    }
   ],
   "source": [
    "genre_data = {\n",
    "    'Genre': ['Rap/Hip Hop/Trap', 'R&B/Soul/Blues',  'Pop', 'Rock', 'Country', 'Latin', 'Disco', 'Indie', 'House/EDM', 'Alternative/Alt', 'Glitchcore', 'Brooklyn Drill', 'Halloween', 'Christmas', 'Classical'],\n",
    "    'Count': [len(jan_df[jan_df['Genre 1'].str.contains('rap|hip hop|trap') | jan_df['Genre 2'].str.contains('rap|hip hop|trap') | jan_df['Genre 3'].str.contains('rap|hip hop|trap')]), len(jan_df[jan_df['Genre 1'].str.contains('r&b|soul|blues') | jan_df['Genre 2'].str.contains('r&b|soul|blues') | jan_df['Genre 3'].str.contains('r&b|soul|blues')]), len(jan_df[jan_df['Genre 1'].str.contains('pop') | jan_df['Genre 2'].str.contains('pop') | jan_df['Genre 3'].str.contains('pop')]), len(jan_df[jan_df['Genre 1'].str.contains('rock') | jan_df['Genre 2'].str.contains('rock') | jan_df['Genre 3'].str.contains('rock')]), len(jan_df[jan_df['Genre 1'].str.contains('country') | jan_df['Genre 2'].str.contains('country') | jan_df['Genre 3'].str.contains('country')]), len(jan_df[jan_df['Genre 1'].str.contains('latin') | jan_df['Genre 2'].str.contains('latin') | jan_df['Genre 3'].str.contains('latin')]), len(jan_df[jan_df['Genre 1'].str.contains('disco') | jan_df['Genre 2'].str.contains('disco') | jan_df['Genre 3'].str.contains('disco')]), len(jan_df[jan_df['Genre 1'].str.contains('indie') | jan_df['Genre 2'].str.contains('indie') | jan_df['Genre 3'].str.contains('indie')]), len(jan_df[jan_df['Genre 1'].str.contains('house|edm') | jan_df['Genre 2'].str.contains('house|edm') | jan_df['Genre 3'].str.contains('house|edm')]), len(jan_df[jan_df['Genre 1'].str.contains('alt|alternative') | jan_df['Genre 2'].str.contains('alt|alternative') | jan_df['Genre 3'].str.contains('alt|alternative')]), len(jan_df[jan_df['Genre 1'].str.contains('glitchcore') | jan_df['Genre 2'].str.contains('glitchcore') | jan_df['Genre 3'].str.contains('glitchcore')]), len(jan_df[jan_df['Genre 1'].str.contains('brooklyn drill') | jan_df['Genre 2'].str.contains('brooklyn drill') | jan_df['Genre 3'].str.contains('brooklyn drill')]), len(jan_df[jan_df['Genre 1'].str.contains('halloween') | jan_df['Genre 2'].str.contains('halloween') | jan_df['Genre 3'].str.contains('halloween')]), len(jan_df[jan_df['Genre 1'].str.contains('christmas') | jan_df['Genre 2'].str.contains('christmas') | jan_df['Genre 3'].str.contains('christmas')]), len(jan_df[jan_df['Genre 1'].str.contains('classical') | jan_df['Genre 2'].str.contains('classical') | jan_df['Genre 3'].str.contains('classical')])]\n",
    "}\n",
    "jan_viral_genre_df = pd.DataFrame(genre_data)\n",
    "jan_viral_genre_df.head()"
   ]
  },
  {
   "cell_type": "code",
   "execution_count": 15,
   "metadata": {},
   "outputs": [
    {
     "output_type": "execute_result",
     "data": {
      "text/plain": [
       "              Genre  Count\n",
       "2               Pop    105\n",
       "0  Rap/Hip Hop/Trap     87\n",
       "9   Alternative/Alt     28\n",
       "1    R&B/Soul/Blues     22\n",
       "7             Indie     13"
      ],
      "text/html": "<div>\n<style scoped>\n    .dataframe tbody tr th:only-of-type {\n        vertical-align: middle;\n    }\n\n    .dataframe tbody tr th {\n        vertical-align: top;\n    }\n\n    .dataframe thead th {\n        text-align: right;\n    }\n</style>\n<table border=\"1\" class=\"dataframe\">\n  <thead>\n    <tr style=\"text-align: right;\">\n      <th></th>\n      <th>Genre</th>\n      <th>Count</th>\n    </tr>\n  </thead>\n  <tbody>\n    <tr>\n      <th>2</th>\n      <td>Pop</td>\n      <td>105</td>\n    </tr>\n    <tr>\n      <th>0</th>\n      <td>Rap/Hip Hop/Trap</td>\n      <td>87</td>\n    </tr>\n    <tr>\n      <th>9</th>\n      <td>Alternative/Alt</td>\n      <td>28</td>\n    </tr>\n    <tr>\n      <th>1</th>\n      <td>R&amp;B/Soul/Blues</td>\n      <td>22</td>\n    </tr>\n    <tr>\n      <th>7</th>\n      <td>Indie</td>\n      <td>13</td>\n    </tr>\n  </tbody>\n</table>\n</div>"
     },
     "metadata": {},
     "execution_count": 15
    }
   ],
   "source": [
    "sorted_jan_viral_genre_df = jan_viral_genre_df.sort_values('Count', ascending=False)\n",
    "sorted_jan_viral_genre_df.head()"
   ]
  },
  {
   "source": [
    "### March"
   ],
   "cell_type": "markdown",
   "metadata": {}
  },
  {
   "cell_type": "code",
   "execution_count": 16,
   "metadata": {},
   "outputs": [
    {
     "output_type": "execute_result",
     "data": {
      "text/plain": [
       "     Position                            Track Name        Artist  \\\n",
       "200         1                              Skechers    DripReport   \n",
       "201         2  ily (i love you baby) (feat. Emilee)     Surf Mesa   \n",
       "202         3                               Miss Me  Joseph Black   \n",
       "203         4      death bed (coffee for your head)         Powfu   \n",
       "204         5                            Supalonely         BENEE   \n",
       "\n",
       "                                                   URL  \\\n",
       "200  https://open.spotify.com/track/2alc8VZAzDgdAsL...   \n",
       "201  https://open.spotify.com/track/62aP9fBQKYKxi7P...   \n",
       "202  https://open.spotify.com/track/5y6wOadQ0RZfGZk...   \n",
       "203  https://open.spotify.com/track/7eJMfftS33KTjuF...   \n",
       "204  https://open.spotify.com/track/4nK5YrxbMGZstTL...   \n",
       "\n",
       "                                       Filename  Month  Week Number      Type  \\\n",
       "200  viral-us-weekly-2020-03-26--2020-03-26.csv  March           13  Viral 50   \n",
       "201  viral-us-weekly-2020-03-26--2020-03-26.csv  March           13  Viral 50   \n",
       "202  viral-us-weekly-2020-03-26--2020-03-26.csv  March           13  Viral 50   \n",
       "203  viral-us-weekly-2020-03-26--2020-03-26.csv  March           13  Viral 50   \n",
       "204  viral-us-weekly-2020-03-26--2020-03-26.csv  March           13  Viral 50   \n",
       "\n",
       "           Date               Artist ID         Genre 1  Genre 2 Genre 3  \n",
       "200  2020-03-26  3O5HD95HTEPgoPFOjAb7yV       viral rap      NaN     NaN  \n",
       "201  2020-03-26  1lmU3giNF3CSbkVSQmLpHQ  tropical house      NaN     NaN  \n",
       "202  2020-03-26  7sPFCTilT1dZsqcDXzOiQf       viral rap      NaN     NaN  \n",
       "203  2020-03-26  6bmlMHgSheBauioMgKv2tn         emo rap  sad rap     NaN  \n",
       "204  2020-03-26  0Cp8WN4V8Tu4QJQwCN5Md4           alt z   nz pop     pop  "
      ],
      "text/html": "<div>\n<style scoped>\n    .dataframe tbody tr th:only-of-type {\n        vertical-align: middle;\n    }\n\n    .dataframe tbody tr th {\n        vertical-align: top;\n    }\n\n    .dataframe thead th {\n        text-align: right;\n    }\n</style>\n<table border=\"1\" class=\"dataframe\">\n  <thead>\n    <tr style=\"text-align: right;\">\n      <th></th>\n      <th>Position</th>\n      <th>Track Name</th>\n      <th>Artist</th>\n      <th>URL</th>\n      <th>Filename</th>\n      <th>Month</th>\n      <th>Week Number</th>\n      <th>Type</th>\n      <th>Date</th>\n      <th>Artist ID</th>\n      <th>Genre 1</th>\n      <th>Genre 2</th>\n      <th>Genre 3</th>\n    </tr>\n  </thead>\n  <tbody>\n    <tr>\n      <th>200</th>\n      <td>1</td>\n      <td>Skechers</td>\n      <td>DripReport</td>\n      <td>https://open.spotify.com/track/2alc8VZAzDgdAsL...</td>\n      <td>viral-us-weekly-2020-03-26--2020-03-26.csv</td>\n      <td>March</td>\n      <td>13</td>\n      <td>Viral 50</td>\n      <td>2020-03-26</td>\n      <td>3O5HD95HTEPgoPFOjAb7yV</td>\n      <td>viral rap</td>\n      <td>NaN</td>\n      <td>NaN</td>\n    </tr>\n    <tr>\n      <th>201</th>\n      <td>2</td>\n      <td>ily (i love you baby) (feat. Emilee)</td>\n      <td>Surf Mesa</td>\n      <td>https://open.spotify.com/track/62aP9fBQKYKxi7P...</td>\n      <td>viral-us-weekly-2020-03-26--2020-03-26.csv</td>\n      <td>March</td>\n      <td>13</td>\n      <td>Viral 50</td>\n      <td>2020-03-26</td>\n      <td>1lmU3giNF3CSbkVSQmLpHQ</td>\n      <td>tropical house</td>\n      <td>NaN</td>\n      <td>NaN</td>\n    </tr>\n    <tr>\n      <th>202</th>\n      <td>3</td>\n      <td>Miss Me</td>\n      <td>Joseph Black</td>\n      <td>https://open.spotify.com/track/5y6wOadQ0RZfGZk...</td>\n      <td>viral-us-weekly-2020-03-26--2020-03-26.csv</td>\n      <td>March</td>\n      <td>13</td>\n      <td>Viral 50</td>\n      <td>2020-03-26</td>\n      <td>7sPFCTilT1dZsqcDXzOiQf</td>\n      <td>viral rap</td>\n      <td>NaN</td>\n      <td>NaN</td>\n    </tr>\n    <tr>\n      <th>203</th>\n      <td>4</td>\n      <td>death bed (coffee for your head)</td>\n      <td>Powfu</td>\n      <td>https://open.spotify.com/track/7eJMfftS33KTjuF...</td>\n      <td>viral-us-weekly-2020-03-26--2020-03-26.csv</td>\n      <td>March</td>\n      <td>13</td>\n      <td>Viral 50</td>\n      <td>2020-03-26</td>\n      <td>6bmlMHgSheBauioMgKv2tn</td>\n      <td>emo rap</td>\n      <td>sad rap</td>\n      <td>NaN</td>\n    </tr>\n    <tr>\n      <th>204</th>\n      <td>5</td>\n      <td>Supalonely</td>\n      <td>BENEE</td>\n      <td>https://open.spotify.com/track/4nK5YrxbMGZstTL...</td>\n      <td>viral-us-weekly-2020-03-26--2020-03-26.csv</td>\n      <td>March</td>\n      <td>13</td>\n      <td>Viral 50</td>\n      <td>2020-03-26</td>\n      <td>0Cp8WN4V8Tu4QJQwCN5Md4</td>\n      <td>alt z</td>\n      <td>nz pop</td>\n      <td>pop</td>\n    </tr>\n  </tbody>\n</table>\n</div>"
     },
     "metadata": {},
     "execution_count": 16
    }
   ],
   "source": [
    "mar_df = new_viral_all_df[new_viral_all_df['Month'] == 'March']\n",
    "mar_df.head()"
   ]
  },
  {
   "cell_type": "code",
   "execution_count": 17,
   "metadata": {},
   "outputs": [
    {
     "output_type": "execute_result",
     "data": {
      "text/plain": [
       "              Genre  Count\n",
       "0  Rap/Hip Hop/Trap     92\n",
       "1    R&B/Soul/Blues     25\n",
       "2               Pop     80\n",
       "3              Rock      6\n",
       "4           Country     16"
      ],
      "text/html": "<div>\n<style scoped>\n    .dataframe tbody tr th:only-of-type {\n        vertical-align: middle;\n    }\n\n    .dataframe tbody tr th {\n        vertical-align: top;\n    }\n\n    .dataframe thead th {\n        text-align: right;\n    }\n</style>\n<table border=\"1\" class=\"dataframe\">\n  <thead>\n    <tr style=\"text-align: right;\">\n      <th></th>\n      <th>Genre</th>\n      <th>Count</th>\n    </tr>\n  </thead>\n  <tbody>\n    <tr>\n      <th>0</th>\n      <td>Rap/Hip Hop/Trap</td>\n      <td>92</td>\n    </tr>\n    <tr>\n      <th>1</th>\n      <td>R&amp;B/Soul/Blues</td>\n      <td>25</td>\n    </tr>\n    <tr>\n      <th>2</th>\n      <td>Pop</td>\n      <td>80</td>\n    </tr>\n    <tr>\n      <th>3</th>\n      <td>Rock</td>\n      <td>6</td>\n    </tr>\n    <tr>\n      <th>4</th>\n      <td>Country</td>\n      <td>16</td>\n    </tr>\n  </tbody>\n</table>\n</div>"
     },
     "metadata": {},
     "execution_count": 17
    }
   ],
   "source": [
    "genre_data = {\n",
    "    'Genre': ['Rap/Hip Hop/Trap', 'R&B/Soul/Blues',  'Pop', 'Rock', 'Country', 'Latin', 'Disco', 'Indie', 'House/EDM', 'Alternative/Alt', 'Glitchcore', 'Brooklyn Drill', 'Halloween', 'Christmas', 'Classical'],\n",
    "    'Count': [len(mar_df[mar_df['Genre 1'].str.contains('rap|hip hop|trap') | mar_df['Genre 2'].str.contains('rap|hip hop|trap') | mar_df['Genre 3'].str.contains('rap|hip hop|trap')]), len(mar_df[mar_df['Genre 1'].str.contains('r&b|soul|blues') | mar_df['Genre 2'].str.contains('r&b|soul|blues') | mar_df['Genre 3'].str.contains('r&b|soul|blues')]), len(mar_df[mar_df['Genre 1'].str.contains('pop') | mar_df['Genre 2'].str.contains('pop') | mar_df['Genre 3'].str.contains('pop')]), len(mar_df[mar_df['Genre 1'].str.contains('rock') | mar_df['Genre 2'].str.contains('rock') | mar_df['Genre 3'].str.contains('rock')]), len(mar_df[mar_df['Genre 1'].str.contains('country') | mar_df['Genre 2'].str.contains('country') | mar_df['Genre 3'].str.contains('country')]), len(mar_df[mar_df['Genre 1'].str.contains('latin') | mar_df['Genre 2'].str.contains('latin') | mar_df['Genre 3'].str.contains('latin')]), len(mar_df[mar_df['Genre 1'].str.contains('disco') | mar_df['Genre 2'].str.contains('disco') | mar_df['Genre 3'].str.contains('disco')]), len(mar_df[mar_df['Genre 1'].str.contains('indie') | mar_df['Genre 2'].str.contains('indie') | mar_df['Genre 3'].str.contains('indie')]), len(mar_df[mar_df['Genre 1'].str.contains('house|edm') | mar_df['Genre 2'].str.contains('house|edm') | mar_df['Genre 3'].str.contains('house|edm')]), len(mar_df[mar_df['Genre 1'].str.contains('alt|alternative') | mar_df['Genre 2'].str.contains('alt|alternative') | mar_df['Genre 3'].str.contains('alt|alternative')]), len(mar_df[mar_df['Genre 1'].str.contains('glitchcore') | mar_df['Genre 2'].str.contains('glitchcore') | mar_df['Genre 3'].str.contains('glitchcore')]), len(mar_df[mar_df['Genre 1'].str.contains('brooklyn drill') | mar_df['Genre 2'].str.contains('brooklyn drill') | mar_df['Genre 3'].str.contains('brooklyn drill')]), len(mar_df[mar_df['Genre 1'].str.contains('halloween') | mar_df['Genre 2'].str.contains('halloween') | mar_df['Genre 3'].str.contains('halloween')]), len(mar_df[mar_df['Genre 1'].str.contains('christmas') | mar_df['Genre 2'].str.contains('christmas') | mar_df['Genre 3'].str.contains('christmas')]), len(mar_df[mar_df['Genre 1'].str.contains('classical') | mar_df['Genre 2'].str.contains('classical') | mar_df['Genre 3'].str.contains('classical')])]\n",
    "}\n",
    "mar_viral_genre_df = pd.DataFrame(genre_data)\n",
    "mar_viral_genre_df.head()"
   ]
  },
  {
   "cell_type": "code",
   "execution_count": 18,
   "metadata": {},
   "outputs": [
    {
     "output_type": "execute_result",
     "data": {
      "text/plain": [
       "              Genre  Count\n",
       "0  Rap/Hip Hop/Trap     92\n",
       "2               Pop     80\n",
       "9   Alternative/Alt     27\n",
       "1    R&B/Soul/Blues     25\n",
       "4           Country     16"
      ],
      "text/html": "<div>\n<style scoped>\n    .dataframe tbody tr th:only-of-type {\n        vertical-align: middle;\n    }\n\n    .dataframe tbody tr th {\n        vertical-align: top;\n    }\n\n    .dataframe thead th {\n        text-align: right;\n    }\n</style>\n<table border=\"1\" class=\"dataframe\">\n  <thead>\n    <tr style=\"text-align: right;\">\n      <th></th>\n      <th>Genre</th>\n      <th>Count</th>\n    </tr>\n  </thead>\n  <tbody>\n    <tr>\n      <th>0</th>\n      <td>Rap/Hip Hop/Trap</td>\n      <td>92</td>\n    </tr>\n    <tr>\n      <th>2</th>\n      <td>Pop</td>\n      <td>80</td>\n    </tr>\n    <tr>\n      <th>9</th>\n      <td>Alternative/Alt</td>\n      <td>27</td>\n    </tr>\n    <tr>\n      <th>1</th>\n      <td>R&amp;B/Soul/Blues</td>\n      <td>25</td>\n    </tr>\n    <tr>\n      <th>4</th>\n      <td>Country</td>\n      <td>16</td>\n    </tr>\n  </tbody>\n</table>\n</div>"
     },
     "metadata": {},
     "execution_count": 18
    }
   ],
   "source": [
    "sorted_mar_viral_genre_df = mar_viral_genre_df.sort_values('Count', ascending=False)\n",
    "sorted_mar_viral_genre_df.head()"
   ]
  },
  {
   "source": [
    "### March"
   ],
   "cell_type": "markdown",
   "metadata": {}
  },
  {
   "cell_type": "code",
   "execution_count": 19,
   "metadata": {},
   "outputs": [
    {
     "output_type": "execute_result",
     "data": {
      "text/plain": [
       "     Position                            Track Name          Artist  \\\n",
       "400         1                                50//50         Vantage   \n",
       "401         2  ily (i love you baby) (feat. Emilee)       Surf Mesa   \n",
       "402         3                         Con Tus Besos  Eslabon Armado   \n",
       "403         4                                   LMK        Lil Xxel   \n",
       "404         5                                  Yoga           645AR   \n",
       "\n",
       "                                                   URL  \\\n",
       "400  https://open.spotify.com/track/36lNDeaRf8F8aYa...   \n",
       "401  https://open.spotify.com/track/62aP9fBQKYKxi7P...   \n",
       "402  https://open.spotify.com/track/6WYB1odDfMPVMyp...   \n",
       "403  https://open.spotify.com/track/0efL46uAuNEfukX...   \n",
       "404  https://open.spotify.com/track/2DiybJZJGXyV1UY...   \n",
       "\n",
       "                                       Filename Month  Week Number      Type  \\\n",
       "400  viral-us-weekly-2020-05-07--2020-05-07.csv   May           19  Viral 50   \n",
       "401  viral-us-weekly-2020-05-07--2020-05-07.csv   May           19  Viral 50   \n",
       "402  viral-us-weekly-2020-05-07--2020-05-07.csv   May           19  Viral 50   \n",
       "403  viral-us-weekly-2020-05-07--2020-05-07.csv   May           19  Viral 50   \n",
       "404  viral-us-weekly-2020-05-07--2020-05-07.csv   May           19  Viral 50   \n",
       "\n",
       "           Date               Artist ID            Genre 1  \\\n",
       "400  2020-05-07  6owH8F2INpb18PhnISiVh2        future funk   \n",
       "401  2020-05-07  1lmU3giNF3CSbkVSQmLpHQ     tropical house   \n",
       "402  2020-05-07  0XeEobZplHxzM9QzFQWLiR  corridos tumbados   \n",
       "403  2020-05-07  7iDeMFJKjI1ak40N3hoYOZ            pop r&b   \n",
       "404  2020-05-07  3Iv3mOsjFV8vZkXphpQ8hz        unspecified   \n",
       "\n",
       "                     Genre 2   Genre 3  \n",
       "400                      NaN       NaN  \n",
       "401                      NaN       NaN  \n",
       "402  nuevo regional mexicano  sierreno  \n",
       "403                      NaN       NaN  \n",
       "404                      NaN       NaN  "
      ],
      "text/html": "<div>\n<style scoped>\n    .dataframe tbody tr th:only-of-type {\n        vertical-align: middle;\n    }\n\n    .dataframe tbody tr th {\n        vertical-align: top;\n    }\n\n    .dataframe thead th {\n        text-align: right;\n    }\n</style>\n<table border=\"1\" class=\"dataframe\">\n  <thead>\n    <tr style=\"text-align: right;\">\n      <th></th>\n      <th>Position</th>\n      <th>Track Name</th>\n      <th>Artist</th>\n      <th>URL</th>\n      <th>Filename</th>\n      <th>Month</th>\n      <th>Week Number</th>\n      <th>Type</th>\n      <th>Date</th>\n      <th>Artist ID</th>\n      <th>Genre 1</th>\n      <th>Genre 2</th>\n      <th>Genre 3</th>\n    </tr>\n  </thead>\n  <tbody>\n    <tr>\n      <th>400</th>\n      <td>1</td>\n      <td>50//50</td>\n      <td>Vantage</td>\n      <td>https://open.spotify.com/track/36lNDeaRf8F8aYa...</td>\n      <td>viral-us-weekly-2020-05-07--2020-05-07.csv</td>\n      <td>May</td>\n      <td>19</td>\n      <td>Viral 50</td>\n      <td>2020-05-07</td>\n      <td>6owH8F2INpb18PhnISiVh2</td>\n      <td>future funk</td>\n      <td>NaN</td>\n      <td>NaN</td>\n    </tr>\n    <tr>\n      <th>401</th>\n      <td>2</td>\n      <td>ily (i love you baby) (feat. Emilee)</td>\n      <td>Surf Mesa</td>\n      <td>https://open.spotify.com/track/62aP9fBQKYKxi7P...</td>\n      <td>viral-us-weekly-2020-05-07--2020-05-07.csv</td>\n      <td>May</td>\n      <td>19</td>\n      <td>Viral 50</td>\n      <td>2020-05-07</td>\n      <td>1lmU3giNF3CSbkVSQmLpHQ</td>\n      <td>tropical house</td>\n      <td>NaN</td>\n      <td>NaN</td>\n    </tr>\n    <tr>\n      <th>402</th>\n      <td>3</td>\n      <td>Con Tus Besos</td>\n      <td>Eslabon Armado</td>\n      <td>https://open.spotify.com/track/6WYB1odDfMPVMyp...</td>\n      <td>viral-us-weekly-2020-05-07--2020-05-07.csv</td>\n      <td>May</td>\n      <td>19</td>\n      <td>Viral 50</td>\n      <td>2020-05-07</td>\n      <td>0XeEobZplHxzM9QzFQWLiR</td>\n      <td>corridos tumbados</td>\n      <td>nuevo regional mexicano</td>\n      <td>sierreno</td>\n    </tr>\n    <tr>\n      <th>403</th>\n      <td>4</td>\n      <td>LMK</td>\n      <td>Lil Xxel</td>\n      <td>https://open.spotify.com/track/0efL46uAuNEfukX...</td>\n      <td>viral-us-weekly-2020-05-07--2020-05-07.csv</td>\n      <td>May</td>\n      <td>19</td>\n      <td>Viral 50</td>\n      <td>2020-05-07</td>\n      <td>7iDeMFJKjI1ak40N3hoYOZ</td>\n      <td>pop r&amp;b</td>\n      <td>NaN</td>\n      <td>NaN</td>\n    </tr>\n    <tr>\n      <th>404</th>\n      <td>5</td>\n      <td>Yoga</td>\n      <td>645AR</td>\n      <td>https://open.spotify.com/track/2DiybJZJGXyV1UY...</td>\n      <td>viral-us-weekly-2020-05-07--2020-05-07.csv</td>\n      <td>May</td>\n      <td>19</td>\n      <td>Viral 50</td>\n      <td>2020-05-07</td>\n      <td>3Iv3mOsjFV8vZkXphpQ8hz</td>\n      <td>unspecified</td>\n      <td>NaN</td>\n      <td>NaN</td>\n    </tr>\n  </tbody>\n</table>\n</div>"
     },
     "metadata": {},
     "execution_count": 19
    }
   ],
   "source": [
    "may_df = new_viral_all_df[new_viral_all_df['Month'] == 'May']\n",
    "may_df.head()"
   ]
  },
  {
   "cell_type": "code",
   "execution_count": 20,
   "metadata": {},
   "outputs": [
    {
     "output_type": "execute_result",
     "data": {
      "text/plain": [
       "              Genre  Count\n",
       "0  Rap/Hip Hop/Trap     59\n",
       "1    R&B/Soul/Blues     19\n",
       "2               Pop     75\n",
       "3              Rock     10\n",
       "4           Country     21"
      ],
      "text/html": "<div>\n<style scoped>\n    .dataframe tbody tr th:only-of-type {\n        vertical-align: middle;\n    }\n\n    .dataframe tbody tr th {\n        vertical-align: top;\n    }\n\n    .dataframe thead th {\n        text-align: right;\n    }\n</style>\n<table border=\"1\" class=\"dataframe\">\n  <thead>\n    <tr style=\"text-align: right;\">\n      <th></th>\n      <th>Genre</th>\n      <th>Count</th>\n    </tr>\n  </thead>\n  <tbody>\n    <tr>\n      <th>0</th>\n      <td>Rap/Hip Hop/Trap</td>\n      <td>59</td>\n    </tr>\n    <tr>\n      <th>1</th>\n      <td>R&amp;B/Soul/Blues</td>\n      <td>19</td>\n    </tr>\n    <tr>\n      <th>2</th>\n      <td>Pop</td>\n      <td>75</td>\n    </tr>\n    <tr>\n      <th>3</th>\n      <td>Rock</td>\n      <td>10</td>\n    </tr>\n    <tr>\n      <th>4</th>\n      <td>Country</td>\n      <td>21</td>\n    </tr>\n  </tbody>\n</table>\n</div>"
     },
     "metadata": {},
     "execution_count": 20
    }
   ],
   "source": [
    "genre_data = {\n",
    "    'Genre': ['Rap/Hip Hop/Trap', 'R&B/Soul/Blues',  'Pop', 'Rock', 'Country', 'Latin', 'Disco', 'Indie', 'House/EDM', 'Alternative/Alt', 'Glitchcore', 'Brooklyn Drill', 'Halloween', 'Christmas', 'Classical'],\n",
    "    'Count': [len(may_df[may_df['Genre 1'].str.contains('rap|hip hop|trap') | may_df['Genre 2'].str.contains('rap|hip hop|trap') | may_df['Genre 3'].str.contains('rap|hip hop|trap')]), len(may_df[may_df['Genre 1'].str.contains('r&b|soul|blues') | may_df['Genre 2'].str.contains('r&b|soul|blues') | may_df['Genre 3'].str.contains('r&b|soul|blues')]), len(may_df[may_df['Genre 1'].str.contains('pop') | may_df['Genre 2'].str.contains('pop') | may_df['Genre 3'].str.contains('pop')]), len(may_df[may_df['Genre 1'].str.contains('rock') | may_df['Genre 2'].str.contains('rock') | may_df['Genre 3'].str.contains('rock')]), len(may_df[may_df['Genre 1'].str.contains('country') | may_df['Genre 2'].str.contains('country') | may_df['Genre 3'].str.contains('country')]), len(may_df[may_df['Genre 1'].str.contains('latin') | may_df['Genre 2'].str.contains('latin') | may_df['Genre 3'].str.contains('latin')]), len(may_df[may_df['Genre 1'].str.contains('disco') | may_df['Genre 2'].str.contains('disco') | may_df['Genre 3'].str.contains('disco')]), len(may_df[may_df['Genre 1'].str.contains('indie') | may_df['Genre 2'].str.contains('indie') | may_df['Genre 3'].str.contains('indie')]), len(may_df[may_df['Genre 1'].str.contains('house|edm') | may_df['Genre 2'].str.contains('house|edm') | may_df['Genre 3'].str.contains('house|edm')]), len(may_df[may_df['Genre 1'].str.contains('alt|alternative') | may_df['Genre 2'].str.contains('alt|alternative') | may_df['Genre 3'].str.contains('alt|alternative')]), len(may_df[may_df['Genre 1'].str.contains('glitchcore') | may_df['Genre 2'].str.contains('glitchcore') | may_df['Genre 3'].str.contains('glitchcore')]), len(may_df[may_df['Genre 1'].str.contains('brooklyn drill') | may_df['Genre 2'].str.contains('brooklyn drill') | may_df['Genre 3'].str.contains('brooklyn drill')]), len(may_df[may_df['Genre 1'].str.contains('halloween') | may_df['Genre 2'].str.contains('halloween') | may_df['Genre 3'].str.contains('halloween')]), len(may_df[may_df['Genre 1'].str.contains('christmas') | may_df['Genre 2'].str.contains('christmas') | may_df['Genre 3'].str.contains('christmas')]), len(may_df[may_df['Genre 1'].str.contains('classical') | may_df['Genre 2'].str.contains('classical') | may_df['Genre 3'].str.contains('classical')])]\n",
    "}\n",
    "may_viral_genre_df = pd.DataFrame(genre_data)\n",
    "may_viral_genre_df.head()"
   ]
  },
  {
   "cell_type": "code",
   "execution_count": 21,
   "metadata": {},
   "outputs": [
    {
     "output_type": "execute_result",
     "data": {
      "text/plain": [
       "              Genre  Count\n",
       "2               Pop     75\n",
       "0  Rap/Hip Hop/Trap     59\n",
       "9   Alternative/Alt     28\n",
       "7             Indie     24\n",
       "4           Country     21"
      ],
      "text/html": "<div>\n<style scoped>\n    .dataframe tbody tr th:only-of-type {\n        vertical-align: middle;\n    }\n\n    .dataframe tbody tr th {\n        vertical-align: top;\n    }\n\n    .dataframe thead th {\n        text-align: right;\n    }\n</style>\n<table border=\"1\" class=\"dataframe\">\n  <thead>\n    <tr style=\"text-align: right;\">\n      <th></th>\n      <th>Genre</th>\n      <th>Count</th>\n    </tr>\n  </thead>\n  <tbody>\n    <tr>\n      <th>2</th>\n      <td>Pop</td>\n      <td>75</td>\n    </tr>\n    <tr>\n      <th>0</th>\n      <td>Rap/Hip Hop/Trap</td>\n      <td>59</td>\n    </tr>\n    <tr>\n      <th>9</th>\n      <td>Alternative/Alt</td>\n      <td>28</td>\n    </tr>\n    <tr>\n      <th>7</th>\n      <td>Indie</td>\n      <td>24</td>\n    </tr>\n    <tr>\n      <th>4</th>\n      <td>Country</td>\n      <td>21</td>\n    </tr>\n  </tbody>\n</table>\n</div>"
     },
     "metadata": {},
     "execution_count": 21
    }
   ],
   "source": [
    "sorted_may_viral_genre_df = may_viral_genre_df.sort_values('Count', ascending=False)\n",
    "sorted_may_viral_genre_df.head()"
   ]
  },
  {
   "source": [
    "### July"
   ],
   "cell_type": "markdown",
   "metadata": {}
  },
  {
   "cell_type": "code",
   "execution_count": 22,
   "metadata": {},
   "outputs": [
    {
     "output_type": "execute_result",
     "data": {
      "text/plain": [
       "     Position                        Track Name                     Artist  \\\n",
       "600         1                         I See Red  Everybody Loves an Outlaw   \n",
       "601         2  Then Leave (feat. Queendom Come)                   BeatKing   \n",
       "602         3    Stunnin' (feat. Harm Franklin)              Curtis Waters   \n",
       "603         4                         Hood Baby                       KBFR   \n",
       "604         5                       Hard For Me            Michele Morrone   \n",
       "\n",
       "                                                   URL  \\\n",
       "600  https://open.spotify.com/track/2Xau3uNsnIb9Fwz...   \n",
       "601  https://open.spotify.com/track/2Xoc4gqPbBa3QHK...   \n",
       "602  https://open.spotify.com/track/2D0dj3hVkRQJCp6...   \n",
       "603  https://open.spotify.com/track/5au5NgWCdev4WeL...   \n",
       "604  https://open.spotify.com/track/00PesUdTmC3Y5xt...   \n",
       "\n",
       "                                       Filename Month  Week Number      Type  \\\n",
       "600  viral-us-weekly-2020-07-02--2020-07-02.csv  July           27  Viral 50   \n",
       "601  viral-us-weekly-2020-07-02--2020-07-02.csv  July           27  Viral 50   \n",
       "602  viral-us-weekly-2020-07-02--2020-07-02.csv  July           27  Viral 50   \n",
       "603  viral-us-weekly-2020-07-02--2020-07-02.csv  July           27  Viral 50   \n",
       "604  viral-us-weekly-2020-07-02--2020-07-02.csv  July           27  Viral 50   \n",
       "\n",
       "           Date               Artist ID            Genre 1 Genre 2 Genre 3  \n",
       "600  2020-07-02  5RCWMaArEntbkeWYVxCiFW  modern blues rock     NaN     NaN  \n",
       "601  2020-07-02  5L8p9kDnX2cgoI8VLUL2p4        houston rap     NaN     NaN  \n",
       "602  2020-07-02  2JbE7jUIGtpXSzytnyMg6U        unspecified     NaN     NaN  \n",
       "603  2020-07-02  0JFjWic1b9Mvv7WcNYhDvZ          viral rap     NaN     NaN  \n",
       "604  2020-07-02  03fLoIOO015incUitpfkad        unspecified     NaN     NaN  "
      ],
      "text/html": "<div>\n<style scoped>\n    .dataframe tbody tr th:only-of-type {\n        vertical-align: middle;\n    }\n\n    .dataframe tbody tr th {\n        vertical-align: top;\n    }\n\n    .dataframe thead th {\n        text-align: right;\n    }\n</style>\n<table border=\"1\" class=\"dataframe\">\n  <thead>\n    <tr style=\"text-align: right;\">\n      <th></th>\n      <th>Position</th>\n      <th>Track Name</th>\n      <th>Artist</th>\n      <th>URL</th>\n      <th>Filename</th>\n      <th>Month</th>\n      <th>Week Number</th>\n      <th>Type</th>\n      <th>Date</th>\n      <th>Artist ID</th>\n      <th>Genre 1</th>\n      <th>Genre 2</th>\n      <th>Genre 3</th>\n    </tr>\n  </thead>\n  <tbody>\n    <tr>\n      <th>600</th>\n      <td>1</td>\n      <td>I See Red</td>\n      <td>Everybody Loves an Outlaw</td>\n      <td>https://open.spotify.com/track/2Xau3uNsnIb9Fwz...</td>\n      <td>viral-us-weekly-2020-07-02--2020-07-02.csv</td>\n      <td>July</td>\n      <td>27</td>\n      <td>Viral 50</td>\n      <td>2020-07-02</td>\n      <td>5RCWMaArEntbkeWYVxCiFW</td>\n      <td>modern blues rock</td>\n      <td>NaN</td>\n      <td>NaN</td>\n    </tr>\n    <tr>\n      <th>601</th>\n      <td>2</td>\n      <td>Then Leave (feat. Queendom Come)</td>\n      <td>BeatKing</td>\n      <td>https://open.spotify.com/track/2Xoc4gqPbBa3QHK...</td>\n      <td>viral-us-weekly-2020-07-02--2020-07-02.csv</td>\n      <td>July</td>\n      <td>27</td>\n      <td>Viral 50</td>\n      <td>2020-07-02</td>\n      <td>5L8p9kDnX2cgoI8VLUL2p4</td>\n      <td>houston rap</td>\n      <td>NaN</td>\n      <td>NaN</td>\n    </tr>\n    <tr>\n      <th>602</th>\n      <td>3</td>\n      <td>Stunnin' (feat. Harm Franklin)</td>\n      <td>Curtis Waters</td>\n      <td>https://open.spotify.com/track/2D0dj3hVkRQJCp6...</td>\n      <td>viral-us-weekly-2020-07-02--2020-07-02.csv</td>\n      <td>July</td>\n      <td>27</td>\n      <td>Viral 50</td>\n      <td>2020-07-02</td>\n      <td>2JbE7jUIGtpXSzytnyMg6U</td>\n      <td>unspecified</td>\n      <td>NaN</td>\n      <td>NaN</td>\n    </tr>\n    <tr>\n      <th>603</th>\n      <td>4</td>\n      <td>Hood Baby</td>\n      <td>KBFR</td>\n      <td>https://open.spotify.com/track/5au5NgWCdev4WeL...</td>\n      <td>viral-us-weekly-2020-07-02--2020-07-02.csv</td>\n      <td>July</td>\n      <td>27</td>\n      <td>Viral 50</td>\n      <td>2020-07-02</td>\n      <td>0JFjWic1b9Mvv7WcNYhDvZ</td>\n      <td>viral rap</td>\n      <td>NaN</td>\n      <td>NaN</td>\n    </tr>\n    <tr>\n      <th>604</th>\n      <td>5</td>\n      <td>Hard For Me</td>\n      <td>Michele Morrone</td>\n      <td>https://open.spotify.com/track/00PesUdTmC3Y5xt...</td>\n      <td>viral-us-weekly-2020-07-02--2020-07-02.csv</td>\n      <td>July</td>\n      <td>27</td>\n      <td>Viral 50</td>\n      <td>2020-07-02</td>\n      <td>03fLoIOO015incUitpfkad</td>\n      <td>unspecified</td>\n      <td>NaN</td>\n      <td>NaN</td>\n    </tr>\n  </tbody>\n</table>\n</div>"
     },
     "metadata": {},
     "execution_count": 22
    }
   ],
   "source": [
    "jul_df = new_viral_all_df[new_viral_all_df['Month'] == 'July']\n",
    "jul_df.head()"
   ]
  },
  {
   "cell_type": "code",
   "execution_count": 23,
   "metadata": {},
   "outputs": [
    {
     "output_type": "execute_result",
     "data": {
      "text/plain": [
       "              Genre  Count\n",
       "0  Rap/Hip Hop/Trap     62\n",
       "1    R&B/Soul/Blues     18\n",
       "2               Pop     73\n",
       "3              Rock      9\n",
       "4           Country      8"
      ],
      "text/html": "<div>\n<style scoped>\n    .dataframe tbody tr th:only-of-type {\n        vertical-align: middle;\n    }\n\n    .dataframe tbody tr th {\n        vertical-align: top;\n    }\n\n    .dataframe thead th {\n        text-align: right;\n    }\n</style>\n<table border=\"1\" class=\"dataframe\">\n  <thead>\n    <tr style=\"text-align: right;\">\n      <th></th>\n      <th>Genre</th>\n      <th>Count</th>\n    </tr>\n  </thead>\n  <tbody>\n    <tr>\n      <th>0</th>\n      <td>Rap/Hip Hop/Trap</td>\n      <td>62</td>\n    </tr>\n    <tr>\n      <th>1</th>\n      <td>R&amp;B/Soul/Blues</td>\n      <td>18</td>\n    </tr>\n    <tr>\n      <th>2</th>\n      <td>Pop</td>\n      <td>73</td>\n    </tr>\n    <tr>\n      <th>3</th>\n      <td>Rock</td>\n      <td>9</td>\n    </tr>\n    <tr>\n      <th>4</th>\n      <td>Country</td>\n      <td>8</td>\n    </tr>\n  </tbody>\n</table>\n</div>"
     },
     "metadata": {},
     "execution_count": 23
    }
   ],
   "source": [
    "genre_data = {\n",
    "    'Genre': ['Rap/Hip Hop/Trap', 'R&B/Soul/Blues',  'Pop', 'Rock', 'Country', 'Latin', 'Disco', 'Indie', 'House/EDM', 'Alternative/Alt', 'Glitchcore', 'Brooklyn Drill', 'Halloween', 'Christmas', 'Classical'],\n",
    "    'Count': [len(jul_df[jul_df['Genre 1'].str.contains('rap|hip hop|trap') | jul_df['Genre 2'].str.contains('rap|hip hop|trap') | jul_df['Genre 3'].str.contains('rap|hip hop|trap')]), len(jul_df[jul_df['Genre 1'].str.contains('r&b|soul|blues') | jul_df['Genre 2'].str.contains('r&b|soul|blues') | jul_df['Genre 3'].str.contains('r&b|soul|blues')]), len(jul_df[jul_df['Genre 1'].str.contains('pop') | jul_df['Genre 2'].str.contains('pop') | jul_df['Genre 3'].str.contains('pop')]), len(jul_df[jul_df['Genre 1'].str.contains('rock') | jul_df['Genre 2'].str.contains('rock') | jul_df['Genre 3'].str.contains('rock')]), len(jul_df[jul_df['Genre 1'].str.contains('country') | jul_df['Genre 2'].str.contains('country') | jul_df['Genre 3'].str.contains('country')]), len(jul_df[jul_df['Genre 1'].str.contains('latin') | jul_df['Genre 2'].str.contains('latin') | jul_df['Genre 3'].str.contains('latin')]), len(jul_df[jul_df['Genre 1'].str.contains('disco') | jul_df['Genre 2'].str.contains('disco') | jul_df['Genre 3'].str.contains('disco')]), len(jul_df[jul_df['Genre 1'].str.contains('indie') | jul_df['Genre 2'].str.contains('indie') | jul_df['Genre 3'].str.contains('indie')]), len(jul_df[jul_df['Genre 1'].str.contains('house|edm') | jul_df['Genre 2'].str.contains('house|edm') | jul_df['Genre 3'].str.contains('house|edm')]), len(jul_df[jul_df['Genre 1'].str.contains('alt|alternative') | jul_df['Genre 2'].str.contains('alt|alternative') | jul_df['Genre 3'].str.contains('alt|alternative')]), len(jul_df[jul_df['Genre 1'].str.contains('glitchcore') | jul_df['Genre 2'].str.contains('glitchcore') | jul_df['Genre 3'].str.contains('glitchcore')]), len(jul_df[jul_df['Genre 1'].str.contains('brooklyn drill') | jul_df['Genre 2'].str.contains('brooklyn drill') | jul_df['Genre 3'].str.contains('brooklyn drill')]), len(jul_df[jul_df['Genre 1'].str.contains('halloween') | jul_df['Genre 2'].str.contains('halloween') | jul_df['Genre 3'].str.contains('halloween')]), len(jul_df[jul_df['Genre 1'].str.contains('christmas') | jul_df['Genre 2'].str.contains('christmas') | jul_df['Genre 3'].str.contains('christmas')]), len(jul_df[jul_df['Genre 1'].str.contains('classical') | jul_df['Genre 2'].str.contains('classical') | jul_df['Genre 3'].str.contains('classical')])]\n",
    "}\n",
    "jul_viral_genre_df = pd.DataFrame(genre_data)\n",
    "jul_viral_genre_df.head()"
   ]
  },
  {
   "cell_type": "code",
   "execution_count": 24,
   "metadata": {},
   "outputs": [
    {
     "output_type": "execute_result",
     "data": {
      "text/plain": [
       "              Genre  Count\n",
       "2               Pop     73\n",
       "0  Rap/Hip Hop/Trap     62\n",
       "7             Indie     28\n",
       "9   Alternative/Alt     20\n",
       "1    R&B/Soul/Blues     18"
      ],
      "text/html": "<div>\n<style scoped>\n    .dataframe tbody tr th:only-of-type {\n        vertical-align: middle;\n    }\n\n    .dataframe tbody tr th {\n        vertical-align: top;\n    }\n\n    .dataframe thead th {\n        text-align: right;\n    }\n</style>\n<table border=\"1\" class=\"dataframe\">\n  <thead>\n    <tr style=\"text-align: right;\">\n      <th></th>\n      <th>Genre</th>\n      <th>Count</th>\n    </tr>\n  </thead>\n  <tbody>\n    <tr>\n      <th>2</th>\n      <td>Pop</td>\n      <td>73</td>\n    </tr>\n    <tr>\n      <th>0</th>\n      <td>Rap/Hip Hop/Trap</td>\n      <td>62</td>\n    </tr>\n    <tr>\n      <th>7</th>\n      <td>Indie</td>\n      <td>28</td>\n    </tr>\n    <tr>\n      <th>9</th>\n      <td>Alternative/Alt</td>\n      <td>20</td>\n    </tr>\n    <tr>\n      <th>1</th>\n      <td>R&amp;B/Soul/Blues</td>\n      <td>18</td>\n    </tr>\n  </tbody>\n</table>\n</div>"
     },
     "metadata": {},
     "execution_count": 24
    }
   ],
   "source": [
    "sorted_jul_viral_genre_df = jul_viral_genre_df.sort_values('Count', ascending=False)\n",
    "sorted_jul_viral_genre_df.head()"
   ]
  },
  {
   "source": [
    "### September"
   ],
   "cell_type": "markdown",
   "metadata": {}
  },
  {
   "cell_type": "code",
   "execution_count": 25,
   "metadata": {},
   "outputs": [
    {
     "output_type": "execute_result",
     "data": {
      "text/plain": [
       "     Position                       Track Name             Artist  \\\n",
       "800         1                    Mad at Disney        salem ilese   \n",
       "801         2  WAP (feat. Megan Thee Stallion)            Cardi B   \n",
       "802         3           Mood (feat. iann dior)           24kGoldn   \n",
       "803         4                     3 Musketeers        NextYoungin   \n",
       "804         5                     Backyard Boy  Claire Rosinkranz   \n",
       "\n",
       "                                                   URL  \\\n",
       "800  https://open.spotify.com/track/7aGyRfJWtLqgJaZ...   \n",
       "801  https://open.spotify.com/track/4Oun2ylbjFKMPTi...   \n",
       "802  https://open.spotify.com/track/3tjFYV6RSFtuktY...   \n",
       "803  https://open.spotify.com/track/57Oi4yqY27uJzCy...   \n",
       "804  https://open.spotify.com/track/0QpOqKz66ZxHNqj...   \n",
       "\n",
       "                                       Filename      Month  Week Number  \\\n",
       "800  viral-us-weekly-2020-09-03--2020-09-03.csv  September           36   \n",
       "801  viral-us-weekly-2020-09-03--2020-09-03.csv  September           36   \n",
       "802  viral-us-weekly-2020-09-03--2020-09-03.csv  September           36   \n",
       "803  viral-us-weekly-2020-09-03--2020-09-03.csv  September           36   \n",
       "804  viral-us-weekly-2020-09-03--2020-09-03.csv  September           36   \n",
       "\n",
       "         Type        Date               Artist ID           Genre 1  \\\n",
       "800  Viral 50  2020-09-03  3QJUFtGBGL05vo0kCJZsmT             alt z   \n",
       "801  Viral 50  2020-09-03  4kYSro6naA4h99UJvo89HB               pop   \n",
       "802  Viral 50  2020-09-03  6fWVd57NKTalqvmjRd2t8Z          cali rap   \n",
       "803  Viral 50  2020-09-03  2u1aL8XADqj0nJFHMKRjNw         viral rap   \n",
       "804  Viral 50  2020-09-03  3V0ZQW0dNuVaFtbVYgSI24  modern indie pop   \n",
       "\n",
       "              Genre 2           Genre 3  \n",
       "800  modern indie pop  social media pop  \n",
       "801           pop rap     post-teen pop  \n",
       "802               NaN               NaN  \n",
       "803               NaN               NaN  \n",
       "804               NaN               NaN  "
      ],
      "text/html": "<div>\n<style scoped>\n    .dataframe tbody tr th:only-of-type {\n        vertical-align: middle;\n    }\n\n    .dataframe tbody tr th {\n        vertical-align: top;\n    }\n\n    .dataframe thead th {\n        text-align: right;\n    }\n</style>\n<table border=\"1\" class=\"dataframe\">\n  <thead>\n    <tr style=\"text-align: right;\">\n      <th></th>\n      <th>Position</th>\n      <th>Track Name</th>\n      <th>Artist</th>\n      <th>URL</th>\n      <th>Filename</th>\n      <th>Month</th>\n      <th>Week Number</th>\n      <th>Type</th>\n      <th>Date</th>\n      <th>Artist ID</th>\n      <th>Genre 1</th>\n      <th>Genre 2</th>\n      <th>Genre 3</th>\n    </tr>\n  </thead>\n  <tbody>\n    <tr>\n      <th>800</th>\n      <td>1</td>\n      <td>Mad at Disney</td>\n      <td>salem ilese</td>\n      <td>https://open.spotify.com/track/7aGyRfJWtLqgJaZ...</td>\n      <td>viral-us-weekly-2020-09-03--2020-09-03.csv</td>\n      <td>September</td>\n      <td>36</td>\n      <td>Viral 50</td>\n      <td>2020-09-03</td>\n      <td>3QJUFtGBGL05vo0kCJZsmT</td>\n      <td>alt z</td>\n      <td>modern indie pop</td>\n      <td>social media pop</td>\n    </tr>\n    <tr>\n      <th>801</th>\n      <td>2</td>\n      <td>WAP (feat. Megan Thee Stallion)</td>\n      <td>Cardi B</td>\n      <td>https://open.spotify.com/track/4Oun2ylbjFKMPTi...</td>\n      <td>viral-us-weekly-2020-09-03--2020-09-03.csv</td>\n      <td>September</td>\n      <td>36</td>\n      <td>Viral 50</td>\n      <td>2020-09-03</td>\n      <td>4kYSro6naA4h99UJvo89HB</td>\n      <td>pop</td>\n      <td>pop rap</td>\n      <td>post-teen pop</td>\n    </tr>\n    <tr>\n      <th>802</th>\n      <td>3</td>\n      <td>Mood (feat. iann dior)</td>\n      <td>24kGoldn</td>\n      <td>https://open.spotify.com/track/3tjFYV6RSFtuktY...</td>\n      <td>viral-us-weekly-2020-09-03--2020-09-03.csv</td>\n      <td>September</td>\n      <td>36</td>\n      <td>Viral 50</td>\n      <td>2020-09-03</td>\n      <td>6fWVd57NKTalqvmjRd2t8Z</td>\n      <td>cali rap</td>\n      <td>NaN</td>\n      <td>NaN</td>\n    </tr>\n    <tr>\n      <th>803</th>\n      <td>4</td>\n      <td>3 Musketeers</td>\n      <td>NextYoungin</td>\n      <td>https://open.spotify.com/track/57Oi4yqY27uJzCy...</td>\n      <td>viral-us-weekly-2020-09-03--2020-09-03.csv</td>\n      <td>September</td>\n      <td>36</td>\n      <td>Viral 50</td>\n      <td>2020-09-03</td>\n      <td>2u1aL8XADqj0nJFHMKRjNw</td>\n      <td>viral rap</td>\n      <td>NaN</td>\n      <td>NaN</td>\n    </tr>\n    <tr>\n      <th>804</th>\n      <td>5</td>\n      <td>Backyard Boy</td>\n      <td>Claire Rosinkranz</td>\n      <td>https://open.spotify.com/track/0QpOqKz66ZxHNqj...</td>\n      <td>viral-us-weekly-2020-09-03--2020-09-03.csv</td>\n      <td>September</td>\n      <td>36</td>\n      <td>Viral 50</td>\n      <td>2020-09-03</td>\n      <td>3V0ZQW0dNuVaFtbVYgSI24</td>\n      <td>modern indie pop</td>\n      <td>NaN</td>\n      <td>NaN</td>\n    </tr>\n  </tbody>\n</table>\n</div>"
     },
     "metadata": {},
     "execution_count": 25
    }
   ],
   "source": [
    "sep_df = new_viral_all_df[new_viral_all_df['Month'] == 'September']\n",
    "sep_df.head()"
   ]
  },
  {
   "cell_type": "code",
   "execution_count": 26,
   "metadata": {},
   "outputs": [
    {
     "output_type": "execute_result",
     "data": {
      "text/plain": [
       "              Genre  Count\n",
       "0  Rap/Hip Hop/Trap     65\n",
       "1    R&B/Soul/Blues      7\n",
       "2               Pop    110\n",
       "3              Rock      5\n",
       "4           Country     22"
      ],
      "text/html": "<div>\n<style scoped>\n    .dataframe tbody tr th:only-of-type {\n        vertical-align: middle;\n    }\n\n    .dataframe tbody tr th {\n        vertical-align: top;\n    }\n\n    .dataframe thead th {\n        text-align: right;\n    }\n</style>\n<table border=\"1\" class=\"dataframe\">\n  <thead>\n    <tr style=\"text-align: right;\">\n      <th></th>\n      <th>Genre</th>\n      <th>Count</th>\n    </tr>\n  </thead>\n  <tbody>\n    <tr>\n      <th>0</th>\n      <td>Rap/Hip Hop/Trap</td>\n      <td>65</td>\n    </tr>\n    <tr>\n      <th>1</th>\n      <td>R&amp;B/Soul/Blues</td>\n      <td>7</td>\n    </tr>\n    <tr>\n      <th>2</th>\n      <td>Pop</td>\n      <td>110</td>\n    </tr>\n    <tr>\n      <th>3</th>\n      <td>Rock</td>\n      <td>5</td>\n    </tr>\n    <tr>\n      <th>4</th>\n      <td>Country</td>\n      <td>22</td>\n    </tr>\n  </tbody>\n</table>\n</div>"
     },
     "metadata": {},
     "execution_count": 26
    }
   ],
   "source": [
    "genre_data = {\n",
    "    'Genre': ['Rap/Hip Hop/Trap', 'R&B/Soul/Blues',  'Pop', 'Rock', 'Country', 'Latin', 'Disco', 'Indie', 'House/EDM', 'Alternative/Alt', 'Glitchcore', 'Brooklyn Drill', 'Halloween', 'Christmas', 'Classical'],\n",
    "    'Count': [len(sep_df[sep_df['Genre 1'].str.contains('rap|hip hop|trap') | sep_df['Genre 2'].str.contains('rap|hip hop|trap') | sep_df['Genre 3'].str.contains('rap|hip hop|trap')]), len(sep_df[sep_df['Genre 1'].str.contains('r&b|soul|blues') | sep_df['Genre 2'].str.contains('r&b|soul|blues') | sep_df['Genre 3'].str.contains('r&b|soul|blues')]), len(sep_df[sep_df['Genre 1'].str.contains('pop') | sep_df['Genre 2'].str.contains('pop') | sep_df['Genre 3'].str.contains('pop')]), len(sep_df[sep_df['Genre 1'].str.contains('rock') | sep_df['Genre 2'].str.contains('rock') | sep_df['Genre 3'].str.contains('rock')]), len(sep_df[sep_df['Genre 1'].str.contains('country') | sep_df['Genre 2'].str.contains('country') | sep_df['Genre 3'].str.contains('country')]), len(sep_df[sep_df['Genre 1'].str.contains('latin') | sep_df['Genre 2'].str.contains('latin') | sep_df['Genre 3'].str.contains('latin')]), len(sep_df[sep_df['Genre 1'].str.contains('disco') | sep_df['Genre 2'].str.contains('disco') | sep_df['Genre 3'].str.contains('disco')]), len(sep_df[sep_df['Genre 1'].str.contains('indie') | sep_df['Genre 2'].str.contains('indie') | sep_df['Genre 3'].str.contains('indie')]), len(sep_df[sep_df['Genre 1'].str.contains('house|edm') | sep_df['Genre 2'].str.contains('house|edm') | sep_df['Genre 3'].str.contains('house|edm')]), len(sep_df[sep_df['Genre 1'].str.contains('alt|alternative') | sep_df['Genre 2'].str.contains('alt|alternative') | sep_df['Genre 3'].str.contains('alt|alternative')]), len(sep_df[sep_df['Genre 1'].str.contains('glitchcore') | sep_df['Genre 2'].str.contains('glitchcore') | sep_df['Genre 3'].str.contains('glitchcore')]), len(sep_df[sep_df['Genre 1'].str.contains('brooklyn drill') | sep_df['Genre 2'].str.contains('brooklyn drill') | sep_df['Genre 3'].str.contains('brooklyn drill')]), len(sep_df[sep_df['Genre 1'].str.contains('halloween') | sep_df['Genre 2'].str.contains('halloween') | sep_df['Genre 3'].str.contains('halloween')]), len(sep_df[sep_df['Genre 1'].str.contains('christmas') | sep_df['Genre 2'].str.contains('christmas') | sep_df['Genre 3'].str.contains('christmas')]), len(sep_df[sep_df['Genre 1'].str.contains('classical') | sep_df['Genre 2'].str.contains('classical') | sep_df['Genre 3'].str.contains('classical')])]\n",
    "}\n",
    "sep_viral_genre_df = pd.DataFrame(genre_data)\n",
    "sep_viral_genre_df.head()"
   ]
  },
  {
   "cell_type": "code",
   "execution_count": 27,
   "metadata": {},
   "outputs": [
    {
     "output_type": "execute_result",
     "data": {
      "text/plain": [
       "              Genre  Count\n",
       "2               Pop    110\n",
       "0  Rap/Hip Hop/Trap     65\n",
       "9   Alternative/Alt     31\n",
       "7             Indie     30\n",
       "4           Country     22"
      ],
      "text/html": "<div>\n<style scoped>\n    .dataframe tbody tr th:only-of-type {\n        vertical-align: middle;\n    }\n\n    .dataframe tbody tr th {\n        vertical-align: top;\n    }\n\n    .dataframe thead th {\n        text-align: right;\n    }\n</style>\n<table border=\"1\" class=\"dataframe\">\n  <thead>\n    <tr style=\"text-align: right;\">\n      <th></th>\n      <th>Genre</th>\n      <th>Count</th>\n    </tr>\n  </thead>\n  <tbody>\n    <tr>\n      <th>2</th>\n      <td>Pop</td>\n      <td>110</td>\n    </tr>\n    <tr>\n      <th>0</th>\n      <td>Rap/Hip Hop/Trap</td>\n      <td>65</td>\n    </tr>\n    <tr>\n      <th>9</th>\n      <td>Alternative/Alt</td>\n      <td>31</td>\n    </tr>\n    <tr>\n      <th>7</th>\n      <td>Indie</td>\n      <td>30</td>\n    </tr>\n    <tr>\n      <th>4</th>\n      <td>Country</td>\n      <td>22</td>\n    </tr>\n  </tbody>\n</table>\n</div>"
     },
     "metadata": {},
     "execution_count": 27
    }
   ],
   "source": [
    "sorted_sep_viral_genre_df = sep_viral_genre_df.sort_values('Count', ascending=False)\n",
    "sorted_sep_viral_genre_df.head()"
   ]
  },
  {
   "source": [
    "### November"
   ],
   "cell_type": "markdown",
   "metadata": {}
  },
  {
   "cell_type": "code",
   "execution_count": 28,
   "metadata": {},
   "outputs": [
    {
     "output_type": "execute_result",
     "data": {
      "text/plain": [
       "      Position                    Track Name                 Artist  \\\n",
       "1000         1  E-GIRLS ARE RUINING MY LIFE!                 CORPSE   \n",
       "1001         2       Trump Is Your President            Bryson Gray   \n",
       "1002         3                Die Very Rough            Mario Judah   \n",
       "1003         4                     Touch You                   遠野高志   \n",
       "1004         5                  Monster Mash  Bobby \"Boris\" Pickett   \n",
       "\n",
       "                                                    URL  \\\n",
       "1000  https://open.spotify.com/track/7bCfHiRcfUjG0YV...   \n",
       "1001  https://open.spotify.com/track/3PdQfXbIuEjUoNl...   \n",
       "1002  https://open.spotify.com/track/1AyrLa7PkFQvt1A...   \n",
       "1003  https://open.spotify.com/track/6qWEpnyU43Bcrx3...   \n",
       "1004  https://open.spotify.com/track/0xxZY5C9xxij3D1...   \n",
       "\n",
       "                                        Filename     Month  Week Number  \\\n",
       "1000  viral-us-weekly-2020-11-05--2020-11-05.csv  November           45   \n",
       "1001  viral-us-weekly-2020-11-05--2020-11-05.csv  November           45   \n",
       "1002  viral-us-weekly-2020-11-05--2020-11-05.csv  November           45   \n",
       "1003  viral-us-weekly-2020-11-05--2020-11-05.csv  November           45   \n",
       "1004  viral-us-weekly-2020-11-05--2020-11-05.csv  November           45   \n",
       "\n",
       "          Type        Date               Artist ID      Genre 1  Genre 2  \\\n",
       "1000  Viral 50  2020-11-05  7yntSJ6uojO3z6GFUVwhAW    viral rap      NaN   \n",
       "1001  Viral 50  2020-11-05  66pGC6EHiiLr7Ce6twM5bk  unspecified      NaN   \n",
       "1002  Viral 50  2020-11-05  5HFSWl4JPwju06kHxukvTe     meme rap      NaN   \n",
       "1003  Viral 50  2020-11-05  01ACNPPnzgrwcqlbX6eo3x  unspecified      NaN   \n",
       "1004  Viral 50  2020-11-05  42MRYPhQfcEXqb18dl5ERX    halloween  novelty   \n",
       "\n",
       "     Genre 3  \n",
       "1000     NaN  \n",
       "1001     NaN  \n",
       "1002     NaN  \n",
       "1003     NaN  \n",
       "1004     NaN  "
      ],
      "text/html": "<div>\n<style scoped>\n    .dataframe tbody tr th:only-of-type {\n        vertical-align: middle;\n    }\n\n    .dataframe tbody tr th {\n        vertical-align: top;\n    }\n\n    .dataframe thead th {\n        text-align: right;\n    }\n</style>\n<table border=\"1\" class=\"dataframe\">\n  <thead>\n    <tr style=\"text-align: right;\">\n      <th></th>\n      <th>Position</th>\n      <th>Track Name</th>\n      <th>Artist</th>\n      <th>URL</th>\n      <th>Filename</th>\n      <th>Month</th>\n      <th>Week Number</th>\n      <th>Type</th>\n      <th>Date</th>\n      <th>Artist ID</th>\n      <th>Genre 1</th>\n      <th>Genre 2</th>\n      <th>Genre 3</th>\n    </tr>\n  </thead>\n  <tbody>\n    <tr>\n      <th>1000</th>\n      <td>1</td>\n      <td>E-GIRLS ARE RUINING MY LIFE!</td>\n      <td>CORPSE</td>\n      <td>https://open.spotify.com/track/7bCfHiRcfUjG0YV...</td>\n      <td>viral-us-weekly-2020-11-05--2020-11-05.csv</td>\n      <td>November</td>\n      <td>45</td>\n      <td>Viral 50</td>\n      <td>2020-11-05</td>\n      <td>7yntSJ6uojO3z6GFUVwhAW</td>\n      <td>viral rap</td>\n      <td>NaN</td>\n      <td>NaN</td>\n    </tr>\n    <tr>\n      <th>1001</th>\n      <td>2</td>\n      <td>Trump Is Your President</td>\n      <td>Bryson Gray</td>\n      <td>https://open.spotify.com/track/3PdQfXbIuEjUoNl...</td>\n      <td>viral-us-weekly-2020-11-05--2020-11-05.csv</td>\n      <td>November</td>\n      <td>45</td>\n      <td>Viral 50</td>\n      <td>2020-11-05</td>\n      <td>66pGC6EHiiLr7Ce6twM5bk</td>\n      <td>unspecified</td>\n      <td>NaN</td>\n      <td>NaN</td>\n    </tr>\n    <tr>\n      <th>1002</th>\n      <td>3</td>\n      <td>Die Very Rough</td>\n      <td>Mario Judah</td>\n      <td>https://open.spotify.com/track/1AyrLa7PkFQvt1A...</td>\n      <td>viral-us-weekly-2020-11-05--2020-11-05.csv</td>\n      <td>November</td>\n      <td>45</td>\n      <td>Viral 50</td>\n      <td>2020-11-05</td>\n      <td>5HFSWl4JPwju06kHxukvTe</td>\n      <td>meme rap</td>\n      <td>NaN</td>\n      <td>NaN</td>\n    </tr>\n    <tr>\n      <th>1003</th>\n      <td>4</td>\n      <td>Touch You</td>\n      <td>遠野高志</td>\n      <td>https://open.spotify.com/track/6qWEpnyU43Bcrx3...</td>\n      <td>viral-us-weekly-2020-11-05--2020-11-05.csv</td>\n      <td>November</td>\n      <td>45</td>\n      <td>Viral 50</td>\n      <td>2020-11-05</td>\n      <td>01ACNPPnzgrwcqlbX6eo3x</td>\n      <td>unspecified</td>\n      <td>NaN</td>\n      <td>NaN</td>\n    </tr>\n    <tr>\n      <th>1004</th>\n      <td>5</td>\n      <td>Monster Mash</td>\n      <td>Bobby \"Boris\" Pickett</td>\n      <td>https://open.spotify.com/track/0xxZY5C9xxij3D1...</td>\n      <td>viral-us-weekly-2020-11-05--2020-11-05.csv</td>\n      <td>November</td>\n      <td>45</td>\n      <td>Viral 50</td>\n      <td>2020-11-05</td>\n      <td>42MRYPhQfcEXqb18dl5ERX</td>\n      <td>halloween</td>\n      <td>novelty</td>\n      <td>NaN</td>\n    </tr>\n  </tbody>\n</table>\n</div>"
     },
     "metadata": {},
     "execution_count": 28
    }
   ],
   "source": [
    "nov_df = new_viral_all_df[new_viral_all_df['Month'] == 'November']\n",
    "nov_df.head()\n"
   ]
  },
  {
   "cell_type": "code",
   "execution_count": 29,
   "metadata": {},
   "outputs": [
    {
     "output_type": "execute_result",
     "data": {
      "text/plain": [
       "              Genre  Count\n",
       "0  Rap/Hip Hop/Trap     68\n",
       "1    R&B/Soul/Blues     20\n",
       "2               Pop     52\n",
       "3              Rock      9\n",
       "4           Country      6"
      ],
      "text/html": "<div>\n<style scoped>\n    .dataframe tbody tr th:only-of-type {\n        vertical-align: middle;\n    }\n\n    .dataframe tbody tr th {\n        vertical-align: top;\n    }\n\n    .dataframe thead th {\n        text-align: right;\n    }\n</style>\n<table border=\"1\" class=\"dataframe\">\n  <thead>\n    <tr style=\"text-align: right;\">\n      <th></th>\n      <th>Genre</th>\n      <th>Count</th>\n    </tr>\n  </thead>\n  <tbody>\n    <tr>\n      <th>0</th>\n      <td>Rap/Hip Hop/Trap</td>\n      <td>68</td>\n    </tr>\n    <tr>\n      <th>1</th>\n      <td>R&amp;B/Soul/Blues</td>\n      <td>20</td>\n    </tr>\n    <tr>\n      <th>2</th>\n      <td>Pop</td>\n      <td>52</td>\n    </tr>\n    <tr>\n      <th>3</th>\n      <td>Rock</td>\n      <td>9</td>\n    </tr>\n    <tr>\n      <th>4</th>\n      <td>Country</td>\n      <td>6</td>\n    </tr>\n  </tbody>\n</table>\n</div>"
     },
     "metadata": {},
     "execution_count": 29
    }
   ],
   "source": [
    "genre_data = {\n",
    "    'Genre': ['Rap/Hip Hop/Trap', 'R&B/Soul/Blues',  'Pop', 'Rock', 'Country', 'Latin', 'Disco', 'Indie', 'House/EDM', 'Alternative/Alt', 'Glitchcore', 'Brooklyn Drill', 'Halloween', 'Christmas', 'Classical'],\n",
    "    'Count': [len(nov_df[nov_df['Genre 1'].str.contains('rap|hip hop|trap') | nov_df['Genre 2'].str.contains('rap|hip hop|trap') | nov_df['Genre 3'].str.contains('rap|hip hop|trap')]), len(nov_df[nov_df['Genre 1'].str.contains('r&b|soul|blues') | nov_df['Genre 2'].str.contains('r&b|soul|blues') | nov_df['Genre 3'].str.contains('r&b|soul|blues')]), len(nov_df[nov_df['Genre 1'].str.contains('pop') | nov_df['Genre 2'].str.contains('pop') | nov_df['Genre 3'].str.contains('pop')]), len(nov_df[nov_df['Genre 1'].str.contains('rock') | nov_df['Genre 2'].str.contains('rock') | nov_df['Genre 3'].str.contains('rock')]), len(nov_df[nov_df['Genre 1'].str.contains('country') | nov_df['Genre 2'].str.contains('country') | nov_df['Genre 3'].str.contains('country')]), len(nov_df[nov_df['Genre 1'].str.contains('latin') | nov_df['Genre 2'].str.contains('latin') | nov_df['Genre 3'].str.contains('latin')]), len(nov_df[nov_df['Genre 1'].str.contains('disco') | nov_df['Genre 2'].str.contains('disco') | nov_df['Genre 3'].str.contains('disco')]), len(nov_df[nov_df['Genre 1'].str.contains('indie') | nov_df['Genre 2'].str.contains('indie') | nov_df['Genre 3'].str.contains('indie')]), len(nov_df[nov_df['Genre 1'].str.contains('house|edm') | nov_df['Genre 2'].str.contains('house|edm') | nov_df['Genre 3'].str.contains('house|edm')]), len(nov_df[nov_df['Genre 1'].str.contains('alt|alternative') | nov_df['Genre 2'].str.contains('alt|alternative') | nov_df['Genre 3'].str.contains('alt|alternative')]), len(nov_df[nov_df['Genre 1'].str.contains('glitchcore') | nov_df['Genre 2'].str.contains('glitchcore') | nov_df['Genre 3'].str.contains('glitchcore')]), len(nov_df[nov_df['Genre 1'].str.contains('brooklyn drill') | nov_df['Genre 2'].str.contains('brooklyn drill') | nov_df['Genre 3'].str.contains('brooklyn drill')]), len(nov_df[nov_df['Genre 1'].str.contains('halloween') | nov_df['Genre 2'].str.contains('halloween') | nov_df['Genre 3'].str.contains('halloween')]), len(nov_df[nov_df['Genre 1'].str.contains('christmas') | nov_df['Genre 2'].str.contains('christmas') | nov_df['Genre 3'].str.contains('christmas')]), len(nov_df[nov_df['Genre 1'].str.contains('classical') | nov_df['Genre 2'].str.contains('classical') | nov_df['Genre 3'].str.contains('classical')])]\n",
    "}\n",
    "nov_viral_genre_df = pd.DataFrame(genre_data)\n",
    "nov_viral_genre_df.head()"
   ]
  },
  {
   "cell_type": "code",
   "execution_count": 30,
   "metadata": {},
   "outputs": [
    {
     "output_type": "execute_result",
     "data": {
      "text/plain": [
       "              Genre  Count\n",
       "0  Rap/Hip Hop/Trap     68\n",
       "2               Pop     52\n",
       "7             Indie     25\n",
       "1    R&B/Soul/Blues     20\n",
       "9   Alternative/Alt     16"
      ],
      "text/html": "<div>\n<style scoped>\n    .dataframe tbody tr th:only-of-type {\n        vertical-align: middle;\n    }\n\n    .dataframe tbody tr th {\n        vertical-align: top;\n    }\n\n    .dataframe thead th {\n        text-align: right;\n    }\n</style>\n<table border=\"1\" class=\"dataframe\">\n  <thead>\n    <tr style=\"text-align: right;\">\n      <th></th>\n      <th>Genre</th>\n      <th>Count</th>\n    </tr>\n  </thead>\n  <tbody>\n    <tr>\n      <th>0</th>\n      <td>Rap/Hip Hop/Trap</td>\n      <td>68</td>\n    </tr>\n    <tr>\n      <th>2</th>\n      <td>Pop</td>\n      <td>52</td>\n    </tr>\n    <tr>\n      <th>7</th>\n      <td>Indie</td>\n      <td>25</td>\n    </tr>\n    <tr>\n      <th>1</th>\n      <td>R&amp;B/Soul/Blues</td>\n      <td>20</td>\n    </tr>\n    <tr>\n      <th>9</th>\n      <td>Alternative/Alt</td>\n      <td>16</td>\n    </tr>\n  </tbody>\n</table>\n</div>"
     },
     "metadata": {},
     "execution_count": 30
    }
   ],
   "source": [
    "sorted_nov_viral_genre_df = nov_viral_genre_df.sort_values('Count', ascending=False)\n",
    "sorted_nov_viral_genre_df.head()"
   ]
  },
  {
   "cell_type": "code",
   "execution_count": 31,
   "metadata": {},
   "outputs": [
    {
     "output_type": "execute_result",
     "data": {
      "text/plain": [
       "               Genre  Count Colors\n",
       "2                Pop    105       \n",
       "0   Rap/Hip Hop/Trap     87       \n",
       "9    Alternative/Alt     28       \n",
       "1     R&B/Soul/Blues     22       \n",
       "7              Indie     13       \n",
       "4            Country     11       \n",
       "5              Latin      7       \n",
       "8          House/EDM      5       \n",
       "3               Rock      4       \n",
       "6              Disco      0       \n",
       "10        Glitchcore      0       \n",
       "11    Brooklyn Drill      0       \n",
       "12         Halloween      0       \n",
       "13         Christmas      0       \n",
       "14         Classical      0       "
      ],
      "text/html": "<div>\n<style scoped>\n    .dataframe tbody tr th:only-of-type {\n        vertical-align: middle;\n    }\n\n    .dataframe tbody tr th {\n        vertical-align: top;\n    }\n\n    .dataframe thead th {\n        text-align: right;\n    }\n</style>\n<table border=\"1\" class=\"dataframe\">\n  <thead>\n    <tr style=\"text-align: right;\">\n      <th></th>\n      <th>Genre</th>\n      <th>Count</th>\n      <th>Colors</th>\n    </tr>\n  </thead>\n  <tbody>\n    <tr>\n      <th>2</th>\n      <td>Pop</td>\n      <td>105</td>\n      <td></td>\n    </tr>\n    <tr>\n      <th>0</th>\n      <td>Rap/Hip Hop/Trap</td>\n      <td>87</td>\n      <td></td>\n    </tr>\n    <tr>\n      <th>9</th>\n      <td>Alternative/Alt</td>\n      <td>28</td>\n      <td></td>\n    </tr>\n    <tr>\n      <th>1</th>\n      <td>R&amp;B/Soul/Blues</td>\n      <td>22</td>\n      <td></td>\n    </tr>\n    <tr>\n      <th>7</th>\n      <td>Indie</td>\n      <td>13</td>\n      <td></td>\n    </tr>\n    <tr>\n      <th>4</th>\n      <td>Country</td>\n      <td>11</td>\n      <td></td>\n    </tr>\n    <tr>\n      <th>5</th>\n      <td>Latin</td>\n      <td>7</td>\n      <td></td>\n    </tr>\n    <tr>\n      <th>8</th>\n      <td>House/EDM</td>\n      <td>5</td>\n      <td></td>\n    </tr>\n    <tr>\n      <th>3</th>\n      <td>Rock</td>\n      <td>4</td>\n      <td></td>\n    </tr>\n    <tr>\n      <th>6</th>\n      <td>Disco</td>\n      <td>0</td>\n      <td></td>\n    </tr>\n    <tr>\n      <th>10</th>\n      <td>Glitchcore</td>\n      <td>0</td>\n      <td></td>\n    </tr>\n    <tr>\n      <th>11</th>\n      <td>Brooklyn Drill</td>\n      <td>0</td>\n      <td></td>\n    </tr>\n    <tr>\n      <th>12</th>\n      <td>Halloween</td>\n      <td>0</td>\n      <td></td>\n    </tr>\n    <tr>\n      <th>13</th>\n      <td>Christmas</td>\n      <td>0</td>\n      <td></td>\n    </tr>\n    <tr>\n      <th>14</th>\n      <td>Classical</td>\n      <td>0</td>\n      <td></td>\n    </tr>\n  </tbody>\n</table>\n</div>"
     },
     "metadata": {},
     "execution_count": 31
    }
   ],
   "source": [
    "sorted_jan_viral_genre_df[\"Colors\"] = \"\"\n",
    "sorted_jan_viral_genre_df"
   ]
  },
  {
   "cell_type": "code",
   "execution_count": 32,
   "metadata": {},
   "outputs": [
    {
     "output_type": "execute_result",
     "data": {
      "text/plain": [
       "Genre     object\n",
       "Count      int64\n",
       "Colors    object\n",
       "dtype: object"
      ]
     },
     "metadata": {},
     "execution_count": 32
    }
   ],
   "source": [
    "sorted_jan_viral_genre_df.dtypes"
   ]
  },
  {
   "cell_type": "code",
   "execution_count": 33,
   "metadata": {},
   "outputs": [],
   "source": [
    "genres = ['Rap/Hip Hop/Trap', 'R&B/Soul/Blues',  'Pop', 'Rock', 'Country', 'Latin', 'Disco', 'Indie', 'House/EDM', 'Alternative/Alt', 'Glitchcore', 'Brooklyn Drill', 'Halloween', 'Christmas', 'Classical']\n",
    "colors = ['red', 'blue', 'purple', 'orchid', 'orange', 'indianred', 'gold', 'seagreen', 'slateblue', 'coral', 'silver', 'palevioletred', 'limegreen', 'maroon', 'purple']"
   ]
  },
  {
   "cell_type": "code",
   "execution_count": 34,
   "metadata": {},
   "outputs": [],
   "source": [
    "genres_jan = sorted_jan_viral_genre_df['Genre'].tolist()\n",
    "jan_colors = []\n",
    "\n",
    "for x in genres_jan:\n",
    "    if x == genres[0]:\n",
    "        jan_colors.append(colors[0])\n",
    "    if x == genres[1]:\n",
    "        jan_colors.append(colors[1])\n",
    "    if x == genres[2]:\n",
    "        jan_colors.append(colors[2])      \n",
    "    if x == genres[3]:\n",
    "        jan_colors.append(colors[3]) \n",
    "    if x == genres[4]:\n",
    "        jan_colors.append(colors[4])\n",
    "    if x == genres[5]:\n",
    "        jan_colors.append(colors[5])\n",
    "    if x == genres[6]:\n",
    "        jan_colors.append(colors[6])\n",
    "    if x == genres[7]:\n",
    "        jan_colors.append(colors[7]) \n",
    "    if x == genres[8]:\n",
    "        jan_colors.append(colors[8])\n",
    "    if x == genres[9]:\n",
    "        jan_colors.append(colors[9])\n",
    "    if x == genres[10]:\n",
    "        jan_colors.append(colors[10])\n",
    "    if x == genres[11]:\n",
    "        jan_colors.append(colors[11])\n",
    "    if x == genres[12]:\n",
    "        jan_colors.append(colors[12])\n",
    "    if x == genres[13]:\n",
    "        jan_colors.append(colors[13])\n",
    "    if x == genres[14]:\n",
    "        jan_colors.append(colors[14])\n",
    "                    "
   ]
  },
  {
   "cell_type": "code",
   "execution_count": 35,
   "metadata": {},
   "outputs": [],
   "source": [
    "genres_mar = sorted_mar_viral_genre_df['Genre'].tolist()\n",
    "mar_colors = []\n",
    "\n",
    "for x in genres_mar:\n",
    "    if x == genres[0]:\n",
    "        mar_colors.append(colors[0])\n",
    "    if x == genres[1]:\n",
    "        mar_colors.append(colors[1])\n",
    "    if x == genres[2]:\n",
    "        mar_colors.append(colors[2])      \n",
    "    if x == genres[3]:\n",
    "        mar_colors.append(colors[3]) \n",
    "    if x == genres[4]:\n",
    "        mar_colors.append(colors[4])\n",
    "    if x == genres[5]:\n",
    "        mar_colors.append(colors[5])\n",
    "    if x == genres[6]:\n",
    "        mar_colors.append(colors[6])\n",
    "    if x == genres[7]:\n",
    "        mar_colors.append(colors[7]) \n",
    "    if x == genres[8]:\n",
    "        mar_colors.append(colors[8])\n",
    "    if x == genres[9]:\n",
    "        mar_colors.append(colors[9])\n",
    "    if x == genres[10]:\n",
    "        mar_colors.append(colors[10])\n",
    "    if x == genres[11]:\n",
    "        mar_colors.append(colors[11])\n",
    "    if x == genres[12]:\n",
    "        mar_colors.append(colors[12])\n",
    "    if x == genres[13]:\n",
    "        mar_colors.append(colors[13])\n",
    "    if x == genres[14]:\n",
    "        mar_colors.append(colors[14])"
   ]
  },
  {
   "cell_type": "code",
   "execution_count": 36,
   "metadata": {},
   "outputs": [],
   "source": [
    "genres_may = sorted_may_viral_genre_df['Genre'].tolist()\n",
    "may_colors = []\n",
    "\n",
    "for x in genres_may:\n",
    "    if x == genres[0]:\n",
    "        may_colors.append(colors[0])\n",
    "    if x == genres[1]:\n",
    "        may_colors.append(colors[1])\n",
    "    if x == genres[2]:\n",
    "        may_colors.append(colors[2])      \n",
    "    if x == genres[3]:\n",
    "        may_colors.append(colors[3]) \n",
    "    if x == genres[4]:\n",
    "        may_colors.append(colors[4])\n",
    "    if x == genres[5]:\n",
    "        may_colors.append(colors[5])\n",
    "    if x == genres[6]:\n",
    "        may_colors.append(colors[6])\n",
    "    if x == genres[7]:\n",
    "        may_colors.append(colors[7]) \n",
    "    if x == genres[8]:\n",
    "        may_colors.append(colors[8])\n",
    "    if x == genres[9]:\n",
    "        may_colors.append(colors[9])\n",
    "    if x == genres[10]:\n",
    "        may_colors.append(colors[10])\n",
    "    if x == genres[11]:\n",
    "        may_colors.append(colors[11])\n",
    "    if x == genres[12]:\n",
    "        may_colors.append(colors[12])\n",
    "    if x == genres[13]:\n",
    "        may_colors.append(colors[13])\n",
    "    if x == genres[14]:\n",
    "        may_colors.append(colors[14])"
   ]
  },
  {
   "cell_type": "code",
   "execution_count": 37,
   "metadata": {},
   "outputs": [],
   "source": [
    "genres_jul = sorted_jul_viral_genre_df['Genre'].tolist()\n",
    "jul_colors = []\n",
    "\n",
    "for x in genres_jul:\n",
    "    if x == genres[0]:\n",
    "        jul_colors.append(colors[0])\n",
    "    if x == genres[1]:\n",
    "        jul_colors.append(colors[1])\n",
    "    if x == genres[2]:\n",
    "        jul_colors.append(colors[2])      \n",
    "    if x == genres[3]:\n",
    "        jul_colors.append(colors[3]) \n",
    "    if x == genres[4]:\n",
    "        jul_colors.append(colors[4])\n",
    "    if x == genres[5]:\n",
    "        jul_colors.append(colors[5])\n",
    "    if x == genres[6]:\n",
    "        jul_colors.append(colors[6])\n",
    "    if x == genres[7]:\n",
    "        jul_colors.append(colors[7]) \n",
    "    if x == genres[8]:\n",
    "        jul_colors.append(colors[8])\n",
    "    if x == genres[9]:\n",
    "        jul_colors.append(colors[9])\n",
    "    if x == genres[10]:\n",
    "        jul_colors.append(colors[10])\n",
    "    if x == genres[11]:\n",
    "        jul_colors.append(colors[11])\n",
    "    if x == genres[12]:\n",
    "        jul_colors.append(colors[12])\n",
    "    if x == genres[13]:\n",
    "        jul_colors.append(colors[13])\n",
    "    if x == genres[14]:\n",
    "        jul_colors.append(colors[14])"
   ]
  },
  {
   "cell_type": "code",
   "execution_count": 38,
   "metadata": {},
   "outputs": [],
   "source": [
    "genres_sep = sorted_sep_viral_genre_df['Genre'].tolist()\n",
    "sep_colors = []\n",
    "\n",
    "for x in genres_sep:\n",
    "    if x == genres[0]:\n",
    "        sep_colors.append(colors[0])\n",
    "    if x == genres[1]:\n",
    "        sep_colors.append(colors[1])\n",
    "    if x == genres[2]:\n",
    "        sep_colors.append(colors[2])      \n",
    "    if x == genres[3]:\n",
    "        sep_colors.append(colors[3]) \n",
    "    if x == genres[4]:\n",
    "        sep_colors.append(colors[4])\n",
    "    if x == genres[5]:\n",
    "        sep_colors.append(colors[5])\n",
    "    if x == genres[6]:\n",
    "        sep_colors.append(colors[6])\n",
    "    if x == genres[7]:\n",
    "        sep_colors.append(colors[7]) \n",
    "    if x == genres[8]:\n",
    "        sep_colors.append(colors[8])\n",
    "    if x == genres[9]:\n",
    "        sep_colors.append(colors[9])\n",
    "    if x == genres[10]:\n",
    "        sep_colors.append(colors[10])\n",
    "    if x == genres[11]:\n",
    "        sep_colors.append(colors[11])\n",
    "    if x == genres[12]:\n",
    "        sep_colors.append(colors[12])\n",
    "    if x == genres[13]:\n",
    "        sep_colors.append(colors[13])\n",
    "    if x == genres[14]:\n",
    "        sep_colors.append(colors[14])"
   ]
  },
  {
   "cell_type": "code",
   "execution_count": 39,
   "metadata": {},
   "outputs": [],
   "source": [
    "genres_nov = sorted_nov_viral_genre_df['Genre'].tolist()\n",
    "nov_colors = []\n",
    "\n",
    "for x in genres_nov:\n",
    "    if x == genres[0]:\n",
    "        nov_colors.append(colors[0])\n",
    "    if x == genres[1]:\n",
    "        nov_colors.append(colors[1])\n",
    "    if x == genres[2]:\n",
    "        nov_colors.append(colors[2])      \n",
    "    if x == genres[3]:\n",
    "        nov_colors.append(colors[3]) \n",
    "    if x == genres[4]:\n",
    "        nov_colors.append(colors[4])\n",
    "    if x == genres[5]:\n",
    "        nov_colors.append(colors[5])\n",
    "    if x == genres[6]:\n",
    "        nov_colors.append(colors[6])\n",
    "    if x == genres[7]:\n",
    "        nov_colors.append(colors[7]) \n",
    "    if x == genres[8]:\n",
    "        nov_colors.append(colors[8])\n",
    "    if x == genres[9]:\n",
    "        nov_colors.append(colors[9])\n",
    "    if x == genres[10]:\n",
    "        nov_colors.append(colors[10])\n",
    "    if x == genres[11]:\n",
    "        nov_colors.append(colors[11])\n",
    "    if x == genres[12]:\n",
    "        nov_colors.append(colors[12])\n",
    "    if x == genres[13]:\n",
    "        nov_colors.append(colors[13])\n",
    "    if x == genres[14]:\n",
    "        nov_colors.append(colors[14])"
   ]
  },
  {
   "cell_type": "code",
   "execution_count": 55,
   "metadata": {},
   "outputs": [
    {
     "output_type": "display_data",
     "data": {
      "text/plain": "<Figure size 1800x864 with 6 Axes>",
      "image/svg+xml": "<?xml version=\"1.0\" encoding=\"utf-8\" standalone=\"no\"?>\n<!DOCTYPE svg PUBLIC \"-//W3C//DTD SVG 1.1//EN\"\n  \"http://www.w3.org/Graphics/SVG/1.1/DTD/svg11.dtd\">\n<!-- Created with matplotlib (https://matplotlib.org/) -->\n<svg height=\"848.590312pt\" version=\"1.1\" viewBox=\"0 0 1454.536875 848.590312\" width=\"1454.536875pt\" xmlns=\"http://www.w3.org/2000/svg\" xmlns:xlink=\"http://www.w3.org/1999/xlink\">\n <metadata>\n  <rdf:RDF xmlns:cc=\"http://creativecommons.org/ns#\" xmlns:dc=\"http://purl.org/dc/elements/1.1/\" xmlns:rdf=\"http://www.w3.org/1999/02/22-rdf-syntax-ns#\">\n   <cc:Work>\n    <dc:type rdf:resource=\"http://purl.org/dc/dcmitype/StillImage\"/>\n    <dc:date>2021-04-28T17:36:09.602083</dc:date>\n    <dc:format>image/svg+xml</dc:format>\n    <dc:creator>\n     <cc:Agent>\n      <dc:title>Matplotlib v3.3.2, https://matplotlib.org/</dc:title>\n     </cc:Agent>\n    </dc:creator>\n   </cc:Work>\n  </rdf:RDF>\n </metadata>\n <defs>\n  <style type=\"text/css\">*{stroke-linecap:butt;stroke-linejoin:round;}</style>\n </defs>\n <g id=\"figure_1\">\n  <g id=\"patch_1\">\n   <path d=\"M 0 848.590312 \nL 1454.536875 848.590312 \nL 1454.536875 0 \nL 0 0 \nz\n\" style=\"fill:none;\"/>\n  </g>\n  <g id=\"axes_1\">\n   <g id=\"patch_2\">\n    <path d=\"M 52.336875 354.528 \nL 475.064148 354.528 \nL 475.064148 93.6 \nL 52.336875 93.6 \nz\n\" style=\"fill:#ffffff;\"/>\n   </g>\n   <g id=\"matplotlib.axis_1\">\n    <g id=\"xtick_1\">\n     <g id=\"line2d_1\">\n      <path clip-path=\"url(#p0cb6aafd35)\" d=\"M 81.938171 354.528 \nL 81.938171 93.6 \n\" style=\"fill:none;stroke:#b0b0b0;stroke-linecap:square;stroke-opacity:0.5;stroke-width:0.8;\"/>\n     </g>\n     <g id=\"line2d_2\">\n      <defs>\n       <path d=\"M 0 5 \nL 0 -5 \n\" id=\"m9e32518061\" style=\"stroke:#000000;stroke-width:0.8;\"/>\n      </defs>\n      <g>\n       <use style=\"stroke:#000000;stroke-width:0.8;\" x=\"81.938171\" xlink:href=\"#m9e32518061\" y=\"354.528\"/>\n      </g>\n     </g>\n     <g id=\"text_1\">\n      <!-- Pop -->\n      <g transform=\"translate(84.697546 381.162375)rotate(-90)scale(0.1 -0.1)\">\n       <defs>\n        <path d=\"M 19.671875 64.796875 \nL 19.671875 37.40625 \nL 32.078125 37.40625 \nQ 38.96875 37.40625 42.71875 40.96875 \nQ 46.484375 44.53125 46.484375 51.125 \nQ 46.484375 57.671875 42.71875 61.234375 \nQ 38.96875 64.796875 32.078125 64.796875 \nz\nM 9.8125 72.90625 \nL 32.078125 72.90625 \nQ 44.34375 72.90625 50.609375 67.359375 \nQ 56.890625 61.8125 56.890625 51.125 \nQ 56.890625 40.328125 50.609375 34.8125 \nQ 44.34375 29.296875 32.078125 29.296875 \nL 19.671875 29.296875 \nL 19.671875 0 \nL 9.8125 0 \nz\n\" id=\"DejaVuSans-80\"/>\n        <path d=\"M 30.609375 48.390625 \nQ 23.390625 48.390625 19.1875 42.75 \nQ 14.984375 37.109375 14.984375 27.296875 \nQ 14.984375 17.484375 19.15625 11.84375 \nQ 23.34375 6.203125 30.609375 6.203125 \nQ 37.796875 6.203125 41.984375 11.859375 \nQ 46.1875 17.53125 46.1875 27.296875 \nQ 46.1875 37.015625 41.984375 42.703125 \nQ 37.796875 48.390625 30.609375 48.390625 \nz\nM 30.609375 56 \nQ 42.328125 56 49.015625 48.375 \nQ 55.71875 40.765625 55.71875 27.296875 \nQ 55.71875 13.875 49.015625 6.21875 \nQ 42.328125 -1.421875 30.609375 -1.421875 \nQ 18.84375 -1.421875 12.171875 6.21875 \nQ 5.515625 13.875 5.515625 27.296875 \nQ 5.515625 40.765625 12.171875 48.375 \nQ 18.84375 56 30.609375 56 \nz\n\" id=\"DejaVuSans-111\"/>\n        <path d=\"M 18.109375 8.203125 \nL 18.109375 -20.796875 \nL 9.078125 -20.796875 \nL 9.078125 54.6875 \nL 18.109375 54.6875 \nL 18.109375 46.390625 \nQ 20.953125 51.265625 25.265625 53.625 \nQ 29.59375 56 35.59375 56 \nQ 45.5625 56 51.78125 48.09375 \nQ 58.015625 40.1875 58.015625 27.296875 \nQ 58.015625 14.40625 51.78125 6.484375 \nQ 45.5625 -1.421875 35.59375 -1.421875 \nQ 29.59375 -1.421875 25.265625 0.953125 \nQ 20.953125 3.328125 18.109375 8.203125 \nz\nM 48.6875 27.296875 \nQ 48.6875 37.203125 44.609375 42.84375 \nQ 40.53125 48.484375 33.40625 48.484375 \nQ 26.265625 48.484375 22.1875 42.84375 \nQ 18.109375 37.203125 18.109375 27.296875 \nQ 18.109375 17.390625 22.1875 11.75 \nQ 26.265625 6.109375 33.40625 6.109375 \nQ 40.53125 6.109375 44.609375 11.75 \nQ 48.6875 17.390625 48.6875 27.296875 \nz\n\" id=\"DejaVuSans-112\"/>\n       </defs>\n       <use xlink:href=\"#DejaVuSans-80\"/>\n       <use x=\"56.677734\" xlink:href=\"#DejaVuSans-111\"/>\n       <use x=\"117.859375\" xlink:href=\"#DejaVuSans-112\"/>\n      </g>\n     </g>\n    </g>\n    <g id=\"xtick_2\">\n     <g id=\"line2d_3\">\n      <path clip-path=\"url(#p0cb6aafd35)\" d=\"M 107.904219 354.528 \nL 107.904219 93.6 \n\" style=\"fill:none;stroke:#b0b0b0;stroke-linecap:square;stroke-opacity:0.5;stroke-width:0.8;\"/>\n     </g>\n     <g id=\"line2d_4\">\n      <g>\n       <use style=\"stroke:#000000;stroke-width:0.8;\" x=\"107.904219\" xlink:href=\"#m9e32518061\" y=\"354.528\"/>\n      </g>\n     </g>\n     <g id=\"text_2\">\n      <!-- Rap/Hip Hop/Trap -->\n      <g transform=\"translate(110.663594 449.998312)rotate(-90)scale(0.1 -0.1)\">\n       <defs>\n        <path d=\"M 44.390625 34.1875 \nQ 47.5625 33.109375 50.5625 29.59375 \nQ 53.5625 26.078125 56.59375 19.921875 \nL 66.609375 0 \nL 56 0 \nL 46.6875 18.703125 \nQ 43.0625 26.03125 39.671875 28.421875 \nQ 36.28125 30.8125 30.421875 30.8125 \nL 19.671875 30.8125 \nL 19.671875 0 \nL 9.8125 0 \nL 9.8125 72.90625 \nL 32.078125 72.90625 \nQ 44.578125 72.90625 50.734375 67.671875 \nQ 56.890625 62.453125 56.890625 51.90625 \nQ 56.890625 45.015625 53.6875 40.46875 \nQ 50.484375 35.9375 44.390625 34.1875 \nz\nM 19.671875 64.796875 \nL 19.671875 38.921875 \nL 32.078125 38.921875 \nQ 39.203125 38.921875 42.84375 42.21875 \nQ 46.484375 45.515625 46.484375 51.90625 \nQ 46.484375 58.296875 42.84375 61.546875 \nQ 39.203125 64.796875 32.078125 64.796875 \nz\n\" id=\"DejaVuSans-82\"/>\n        <path d=\"M 34.28125 27.484375 \nQ 23.390625 27.484375 19.1875 25 \nQ 14.984375 22.515625 14.984375 16.5 \nQ 14.984375 11.71875 18.140625 8.90625 \nQ 21.296875 6.109375 26.703125 6.109375 \nQ 34.1875 6.109375 38.703125 11.40625 \nQ 43.21875 16.703125 43.21875 25.484375 \nL 43.21875 27.484375 \nz\nM 52.203125 31.203125 \nL 52.203125 0 \nL 43.21875 0 \nL 43.21875 8.296875 \nQ 40.140625 3.328125 35.546875 0.953125 \nQ 30.953125 -1.421875 24.3125 -1.421875 \nQ 15.921875 -1.421875 10.953125 3.296875 \nQ 6 8.015625 6 15.921875 \nQ 6 25.140625 12.171875 29.828125 \nQ 18.359375 34.515625 30.609375 34.515625 \nL 43.21875 34.515625 \nL 43.21875 35.40625 \nQ 43.21875 41.609375 39.140625 45 \nQ 35.0625 48.390625 27.6875 48.390625 \nQ 23 48.390625 18.546875 47.265625 \nQ 14.109375 46.140625 10.015625 43.890625 \nL 10.015625 52.203125 \nQ 14.9375 54.109375 19.578125 55.046875 \nQ 24.21875 56 28.609375 56 \nQ 40.484375 56 46.34375 49.84375 \nQ 52.203125 43.703125 52.203125 31.203125 \nz\n\" id=\"DejaVuSans-97\"/>\n        <path d=\"M 25.390625 72.90625 \nL 33.6875 72.90625 \nL 8.296875 -9.28125 \nL 0 -9.28125 \nz\n\" id=\"DejaVuSans-47\"/>\n        <path d=\"M 9.8125 72.90625 \nL 19.671875 72.90625 \nL 19.671875 43.015625 \nL 55.515625 43.015625 \nL 55.515625 72.90625 \nL 65.375 72.90625 \nL 65.375 0 \nL 55.515625 0 \nL 55.515625 34.71875 \nL 19.671875 34.71875 \nL 19.671875 0 \nL 9.8125 0 \nz\n\" id=\"DejaVuSans-72\"/>\n        <path d=\"M 9.421875 54.6875 \nL 18.40625 54.6875 \nL 18.40625 0 \nL 9.421875 0 \nz\nM 9.421875 75.984375 \nL 18.40625 75.984375 \nL 18.40625 64.59375 \nL 9.421875 64.59375 \nz\n\" id=\"DejaVuSans-105\"/>\n        <path id=\"DejaVuSans-32\"/>\n        <path d=\"M -0.296875 72.90625 \nL 61.375 72.90625 \nL 61.375 64.59375 \nL 35.5 64.59375 \nL 35.5 0 \nL 25.59375 0 \nL 25.59375 64.59375 \nL -0.296875 64.59375 \nz\n\" id=\"DejaVuSans-84\"/>\n        <path d=\"M 41.109375 46.296875 \nQ 39.59375 47.171875 37.8125 47.578125 \nQ 36.03125 48 33.890625 48 \nQ 26.265625 48 22.1875 43.046875 \nQ 18.109375 38.09375 18.109375 28.8125 \nL 18.109375 0 \nL 9.078125 0 \nL 9.078125 54.6875 \nL 18.109375 54.6875 \nL 18.109375 46.1875 \nQ 20.953125 51.171875 25.484375 53.578125 \nQ 30.03125 56 36.53125 56 \nQ 37.453125 56 38.578125 55.875 \nQ 39.703125 55.765625 41.0625 55.515625 \nz\n\" id=\"DejaVuSans-114\"/>\n       </defs>\n       <use xlink:href=\"#DejaVuSans-82\"/>\n       <use x=\"67.232422\" xlink:href=\"#DejaVuSans-97\"/>\n       <use x=\"128.511719\" xlink:href=\"#DejaVuSans-112\"/>\n       <use x=\"191.988281\" xlink:href=\"#DejaVuSans-47\"/>\n       <use x=\"225.679688\" xlink:href=\"#DejaVuSans-72\"/>\n       <use x=\"300.875\" xlink:href=\"#DejaVuSans-105\"/>\n       <use x=\"328.658203\" xlink:href=\"#DejaVuSans-112\"/>\n       <use x=\"392.134766\" xlink:href=\"#DejaVuSans-32\"/>\n       <use x=\"423.921875\" xlink:href=\"#DejaVuSans-72\"/>\n       <use x=\"499.117188\" xlink:href=\"#DejaVuSans-111\"/>\n       <use x=\"560.298828\" xlink:href=\"#DejaVuSans-112\"/>\n       <use x=\"623.775391\" xlink:href=\"#DejaVuSans-47\"/>\n       <use x=\"657.466797\" xlink:href=\"#DejaVuSans-84\"/>\n       <use x=\"703.800781\" xlink:href=\"#DejaVuSans-114\"/>\n       <use x=\"744.914062\" xlink:href=\"#DejaVuSans-97\"/>\n       <use x=\"806.193359\" xlink:href=\"#DejaVuSans-112\"/>\n      </g>\n     </g>\n    </g>\n    <g id=\"xtick_3\">\n     <g id=\"line2d_5\">\n      <path clip-path=\"url(#p0cb6aafd35)\" d=\"M 133.870268 354.528 \nL 133.870268 93.6 \n\" style=\"fill:none;stroke:#b0b0b0;stroke-linecap:square;stroke-opacity:0.5;stroke-width:0.8;\"/>\n     </g>\n     <g id=\"line2d_6\">\n      <g>\n       <use style=\"stroke:#000000;stroke-width:0.8;\" x=\"133.870268\" xlink:href=\"#m9e32518061\" y=\"354.528\"/>\n      </g>\n     </g>\n     <g id=\"text_3\">\n      <!-- Alternative/Alt -->\n      <g transform=\"translate(136.629643 434.799875)rotate(-90)scale(0.1 -0.1)\">\n       <defs>\n        <path d=\"M 34.1875 63.1875 \nL 20.796875 26.90625 \nL 47.609375 26.90625 \nz\nM 28.609375 72.90625 \nL 39.796875 72.90625 \nL 67.578125 0 \nL 57.328125 0 \nL 50.6875 18.703125 \nL 17.828125 18.703125 \nL 11.1875 0 \nL 0.78125 0 \nz\n\" id=\"DejaVuSans-65\"/>\n        <path d=\"M 9.421875 75.984375 \nL 18.40625 75.984375 \nL 18.40625 0 \nL 9.421875 0 \nz\n\" id=\"DejaVuSans-108\"/>\n        <path d=\"M 18.3125 70.21875 \nL 18.3125 54.6875 \nL 36.8125 54.6875 \nL 36.8125 47.703125 \nL 18.3125 47.703125 \nL 18.3125 18.015625 \nQ 18.3125 11.328125 20.140625 9.421875 \nQ 21.96875 7.515625 27.59375 7.515625 \nL 36.8125 7.515625 \nL 36.8125 0 \nL 27.59375 0 \nQ 17.1875 0 13.234375 3.875 \nQ 9.28125 7.765625 9.28125 18.015625 \nL 9.28125 47.703125 \nL 2.6875 47.703125 \nL 2.6875 54.6875 \nL 9.28125 54.6875 \nL 9.28125 70.21875 \nz\n\" id=\"DejaVuSans-116\"/>\n        <path d=\"M 56.203125 29.59375 \nL 56.203125 25.203125 \nL 14.890625 25.203125 \nQ 15.484375 15.921875 20.484375 11.0625 \nQ 25.484375 6.203125 34.421875 6.203125 \nQ 39.59375 6.203125 44.453125 7.46875 \nQ 49.3125 8.734375 54.109375 11.28125 \nL 54.109375 2.78125 \nQ 49.265625 0.734375 44.1875 -0.34375 \nQ 39.109375 -1.421875 33.890625 -1.421875 \nQ 20.796875 -1.421875 13.15625 6.1875 \nQ 5.515625 13.8125 5.515625 26.8125 \nQ 5.515625 40.234375 12.765625 48.109375 \nQ 20.015625 56 32.328125 56 \nQ 43.359375 56 49.78125 48.890625 \nQ 56.203125 41.796875 56.203125 29.59375 \nz\nM 47.21875 32.234375 \nQ 47.125 39.59375 43.09375 43.984375 \nQ 39.0625 48.390625 32.421875 48.390625 \nQ 24.90625 48.390625 20.390625 44.140625 \nQ 15.875 39.890625 15.1875 32.171875 \nz\n\" id=\"DejaVuSans-101\"/>\n        <path d=\"M 54.890625 33.015625 \nL 54.890625 0 \nL 45.90625 0 \nL 45.90625 32.71875 \nQ 45.90625 40.484375 42.875 44.328125 \nQ 39.84375 48.1875 33.796875 48.1875 \nQ 26.515625 48.1875 22.3125 43.546875 \nQ 18.109375 38.921875 18.109375 30.90625 \nL 18.109375 0 \nL 9.078125 0 \nL 9.078125 54.6875 \nL 18.109375 54.6875 \nL 18.109375 46.1875 \nQ 21.34375 51.125 25.703125 53.5625 \nQ 30.078125 56 35.796875 56 \nQ 45.21875 56 50.046875 50.171875 \nQ 54.890625 44.34375 54.890625 33.015625 \nz\n\" id=\"DejaVuSans-110\"/>\n        <path d=\"M 2.984375 54.6875 \nL 12.5 54.6875 \nL 29.59375 8.796875 \nL 46.6875 54.6875 \nL 56.203125 54.6875 \nL 35.6875 0 \nL 23.484375 0 \nz\n\" id=\"DejaVuSans-118\"/>\n       </defs>\n       <use xlink:href=\"#DejaVuSans-65\"/>\n       <use x=\"68.408203\" xlink:href=\"#DejaVuSans-108\"/>\n       <use x=\"96.191406\" xlink:href=\"#DejaVuSans-116\"/>\n       <use x=\"135.400391\" xlink:href=\"#DejaVuSans-101\"/>\n       <use x=\"196.923828\" xlink:href=\"#DejaVuSans-114\"/>\n       <use x=\"236.287109\" xlink:href=\"#DejaVuSans-110\"/>\n       <use x=\"299.666016\" xlink:href=\"#DejaVuSans-97\"/>\n       <use x=\"360.945312\" xlink:href=\"#DejaVuSans-116\"/>\n       <use x=\"400.154297\" xlink:href=\"#DejaVuSans-105\"/>\n       <use x=\"427.9375\" xlink:href=\"#DejaVuSans-118\"/>\n       <use x=\"487.117188\" xlink:href=\"#DejaVuSans-101\"/>\n       <use x=\"548.640625\" xlink:href=\"#DejaVuSans-47\"/>\n       <use x=\"582.332031\" xlink:href=\"#DejaVuSans-65\"/>\n       <use x=\"650.740234\" xlink:href=\"#DejaVuSans-108\"/>\n       <use x=\"678.523438\" xlink:href=\"#DejaVuSans-116\"/>\n      </g>\n     </g>\n    </g>\n    <g id=\"xtick_4\">\n     <g id=\"line2d_7\">\n      <path clip-path=\"url(#p0cb6aafd35)\" d=\"M 159.836317 354.528 \nL 159.836317 93.6 \n\" style=\"fill:none;stroke:#b0b0b0;stroke-linecap:square;stroke-opacity:0.5;stroke-width:0.8;\"/>\n     </g>\n     <g id=\"line2d_8\">\n      <g>\n       <use style=\"stroke:#000000;stroke-width:0.8;\" x=\"159.836317\" xlink:href=\"#m9e32518061\" y=\"354.528\"/>\n      </g>\n     </g>\n     <g id=\"text_4\">\n      <!-- R&amp;B/Soul/Blues -->\n      <g transform=\"translate(162.595692 440.295187)rotate(-90)scale(0.1 -0.1)\">\n       <defs>\n        <path d=\"M 24.3125 39.203125 \nQ 19.875 35.25 17.796875 31.3125 \nQ 15.71875 27.390625 15.71875 23.09375 \nQ 15.71875 15.96875 20.890625 11.234375 \nQ 26.078125 6.5 33.890625 6.5 \nQ 38.53125 6.5 42.578125 8.03125 \nQ 46.625 9.578125 50.203125 12.703125 \nz\nM 31.203125 44.671875 \nL 56 19.28125 \nQ 58.890625 23.640625 60.5 28.59375 \nQ 62.109375 33.546875 62.40625 39.109375 \nL 71.484375 39.109375 \nQ 70.90625 32.671875 68.359375 26.359375 \nQ 65.828125 20.0625 61.28125 13.921875 \nL 74.90625 0 \nL 62.59375 0 \nL 55.609375 7.171875 \nQ 50.53125 2.828125 44.96875 0.703125 \nQ 39.40625 -1.421875 33.015625 -1.421875 \nQ 21.234375 -1.421875 13.765625 5.296875 \nQ 6.296875 12.015625 6.296875 22.515625 \nQ 6.296875 28.765625 9.5625 34.25 \nQ 12.84375 39.75 19.390625 44.578125 \nQ 17.046875 47.65625 15.8125 50.703125 \nQ 14.59375 53.765625 14.59375 56.6875 \nQ 14.59375 64.59375 20.015625 69.40625 \nQ 25.4375 74.21875 34.421875 74.21875 \nQ 38.484375 74.21875 42.5 73.34375 \nQ 46.53125 72.46875 50.6875 70.703125 \nL 50.6875 61.8125 \nQ 46.4375 64.109375 42.578125 65.296875 \nQ 38.71875 66.5 35.40625 66.5 \nQ 30.28125 66.5 27.078125 63.78125 \nQ 23.875 61.078125 23.875 56.78125 \nQ 23.875 54.296875 25.3125 51.78125 \nQ 26.765625 49.265625 31.203125 44.671875 \nz\n\" id=\"DejaVuSans-38\"/>\n        <path d=\"M 19.671875 34.8125 \nL 19.671875 8.109375 \nL 35.5 8.109375 \nQ 43.453125 8.109375 47.28125 11.40625 \nQ 51.125 14.703125 51.125 21.484375 \nQ 51.125 28.328125 47.28125 31.5625 \nQ 43.453125 34.8125 35.5 34.8125 \nz\nM 19.671875 64.796875 \nL 19.671875 42.828125 \nL 34.28125 42.828125 \nQ 41.5 42.828125 45.03125 45.53125 \nQ 48.578125 48.25 48.578125 53.8125 \nQ 48.578125 59.328125 45.03125 62.0625 \nQ 41.5 64.796875 34.28125 64.796875 \nz\nM 9.8125 72.90625 \nL 35.015625 72.90625 \nQ 46.296875 72.90625 52.390625 68.21875 \nQ 58.5 63.53125 58.5 54.890625 \nQ 58.5 48.1875 55.375 44.234375 \nQ 52.25 40.28125 46.1875 39.3125 \nQ 53.46875 37.75 57.5 32.78125 \nQ 61.53125 27.828125 61.53125 20.40625 \nQ 61.53125 10.640625 54.890625 5.3125 \nQ 48.25 0 35.984375 0 \nL 9.8125 0 \nz\n\" id=\"DejaVuSans-66\"/>\n        <path d=\"M 53.515625 70.515625 \nL 53.515625 60.890625 \nQ 47.90625 63.578125 42.921875 64.890625 \nQ 37.9375 66.21875 33.296875 66.21875 \nQ 25.25 66.21875 20.875 63.09375 \nQ 16.5 59.96875 16.5 54.203125 \nQ 16.5 49.359375 19.40625 46.890625 \nQ 22.3125 44.4375 30.421875 42.921875 \nL 36.375 41.703125 \nQ 47.40625 39.59375 52.65625 34.296875 \nQ 57.90625 29 57.90625 20.125 \nQ 57.90625 9.515625 50.796875 4.046875 \nQ 43.703125 -1.421875 29.984375 -1.421875 \nQ 24.8125 -1.421875 18.96875 -0.25 \nQ 13.140625 0.921875 6.890625 3.21875 \nL 6.890625 13.375 \nQ 12.890625 10.015625 18.65625 8.296875 \nQ 24.421875 6.59375 29.984375 6.59375 \nQ 38.421875 6.59375 43.015625 9.90625 \nQ 47.609375 13.234375 47.609375 19.390625 \nQ 47.609375 24.75 44.3125 27.78125 \nQ 41.015625 30.8125 33.5 32.328125 \nL 27.484375 33.5 \nQ 16.453125 35.6875 11.515625 40.375 \nQ 6.59375 45.0625 6.59375 53.421875 \nQ 6.59375 63.09375 13.40625 68.65625 \nQ 20.21875 74.21875 32.171875 74.21875 \nQ 37.3125 74.21875 42.625 73.28125 \nQ 47.953125 72.359375 53.515625 70.515625 \nz\n\" id=\"DejaVuSans-83\"/>\n        <path d=\"M 8.5 21.578125 \nL 8.5 54.6875 \nL 17.484375 54.6875 \nL 17.484375 21.921875 \nQ 17.484375 14.15625 20.5 10.265625 \nQ 23.53125 6.390625 29.59375 6.390625 \nQ 36.859375 6.390625 41.078125 11.03125 \nQ 45.3125 15.671875 45.3125 23.6875 \nL 45.3125 54.6875 \nL 54.296875 54.6875 \nL 54.296875 0 \nL 45.3125 0 \nL 45.3125 8.40625 \nQ 42.046875 3.421875 37.71875 1 \nQ 33.40625 -1.421875 27.6875 -1.421875 \nQ 18.265625 -1.421875 13.375 4.4375 \nQ 8.5 10.296875 8.5 21.578125 \nz\nM 31.109375 56 \nz\n\" id=\"DejaVuSans-117\"/>\n        <path d=\"M 44.28125 53.078125 \nL 44.28125 44.578125 \nQ 40.484375 46.53125 36.375 47.5 \nQ 32.28125 48.484375 27.875 48.484375 \nQ 21.1875 48.484375 17.84375 46.4375 \nQ 14.5 44.390625 14.5 40.28125 \nQ 14.5 37.15625 16.890625 35.375 \nQ 19.28125 33.59375 26.515625 31.984375 \nL 29.59375 31.296875 \nQ 39.15625 29.25 43.1875 25.515625 \nQ 47.21875 21.78125 47.21875 15.09375 \nQ 47.21875 7.46875 41.1875 3.015625 \nQ 35.15625 -1.421875 24.609375 -1.421875 \nQ 20.21875 -1.421875 15.453125 -0.5625 \nQ 10.6875 0.296875 5.421875 2 \nL 5.421875 11.28125 \nQ 10.40625 8.6875 15.234375 7.390625 \nQ 20.0625 6.109375 24.8125 6.109375 \nQ 31.15625 6.109375 34.5625 8.28125 \nQ 37.984375 10.453125 37.984375 14.40625 \nQ 37.984375 18.0625 35.515625 20.015625 \nQ 33.0625 21.96875 24.703125 23.78125 \nL 21.578125 24.515625 \nQ 13.234375 26.265625 9.515625 29.90625 \nQ 5.8125 33.546875 5.8125 39.890625 \nQ 5.8125 47.609375 11.28125 51.796875 \nQ 16.75 56 26.8125 56 \nQ 31.78125 56 36.171875 55.265625 \nQ 40.578125 54.546875 44.28125 53.078125 \nz\n\" id=\"DejaVuSans-115\"/>\n       </defs>\n       <use xlink:href=\"#DejaVuSans-82\"/>\n       <use x=\"69.482422\" xlink:href=\"#DejaVuSans-38\"/>\n       <use x=\"147.460938\" xlink:href=\"#DejaVuSans-66\"/>\n       <use x=\"216.064453\" xlink:href=\"#DejaVuSans-47\"/>\n       <use x=\"249.755859\" xlink:href=\"#DejaVuSans-83\"/>\n       <use x=\"313.232422\" xlink:href=\"#DejaVuSans-111\"/>\n       <use x=\"374.414062\" xlink:href=\"#DejaVuSans-117\"/>\n       <use x=\"437.792969\" xlink:href=\"#DejaVuSans-108\"/>\n       <use x=\"465.576172\" xlink:href=\"#DejaVuSans-47\"/>\n       <use x=\"499.267578\" xlink:href=\"#DejaVuSans-66\"/>\n       <use x=\"567.871094\" xlink:href=\"#DejaVuSans-108\"/>\n       <use x=\"595.654297\" xlink:href=\"#DejaVuSans-117\"/>\n       <use x=\"659.033203\" xlink:href=\"#DejaVuSans-101\"/>\n       <use x=\"720.556641\" xlink:href=\"#DejaVuSans-115\"/>\n      </g>\n     </g>\n    </g>\n    <g id=\"xtick_5\">\n     <g id=\"line2d_9\">\n      <path clip-path=\"url(#p0cb6aafd35)\" d=\"M 185.802365 354.528 \nL 185.802365 93.6 \n\" style=\"fill:none;stroke:#b0b0b0;stroke-linecap:square;stroke-opacity:0.5;stroke-width:0.8;\"/>\n     </g>\n     <g id=\"line2d_10\">\n      <g>\n       <use style=\"stroke:#000000;stroke-width:0.8;\" x=\"185.802365\" xlink:href=\"#m9e32518061\" y=\"354.528\"/>\n      </g>\n     </g>\n     <g id=\"text_5\">\n      <!-- Indie -->\n      <g transform=\"translate(188.56174 387.595187)rotate(-90)scale(0.1 -0.1)\">\n       <defs>\n        <path d=\"M 9.8125 72.90625 \nL 19.671875 72.90625 \nL 19.671875 0 \nL 9.8125 0 \nz\n\" id=\"DejaVuSans-73\"/>\n        <path d=\"M 45.40625 46.390625 \nL 45.40625 75.984375 \nL 54.390625 75.984375 \nL 54.390625 0 \nL 45.40625 0 \nL 45.40625 8.203125 \nQ 42.578125 3.328125 38.25 0.953125 \nQ 33.9375 -1.421875 27.875 -1.421875 \nQ 17.96875 -1.421875 11.734375 6.484375 \nQ 5.515625 14.40625 5.515625 27.296875 \nQ 5.515625 40.1875 11.734375 48.09375 \nQ 17.96875 56 27.875 56 \nQ 33.9375 56 38.25 53.625 \nQ 42.578125 51.265625 45.40625 46.390625 \nz\nM 14.796875 27.296875 \nQ 14.796875 17.390625 18.875 11.75 \nQ 22.953125 6.109375 30.078125 6.109375 \nQ 37.203125 6.109375 41.296875 11.75 \nQ 45.40625 17.390625 45.40625 27.296875 \nQ 45.40625 37.203125 41.296875 42.84375 \nQ 37.203125 48.484375 30.078125 48.484375 \nQ 22.953125 48.484375 18.875 42.84375 \nQ 14.796875 37.203125 14.796875 27.296875 \nz\n\" id=\"DejaVuSans-100\"/>\n       </defs>\n       <use xlink:href=\"#DejaVuSans-73\"/>\n       <use x=\"29.492188\" xlink:href=\"#DejaVuSans-110\"/>\n       <use x=\"92.871094\" xlink:href=\"#DejaVuSans-100\"/>\n       <use x=\"156.347656\" xlink:href=\"#DejaVuSans-105\"/>\n       <use x=\"184.130859\" xlink:href=\"#DejaVuSans-101\"/>\n      </g>\n     </g>\n    </g>\n    <g id=\"xtick_6\">\n     <g id=\"line2d_11\">\n      <path clip-path=\"url(#p0cb6aafd35)\" d=\"M 211.768414 354.528 \nL 211.768414 93.6 \n\" style=\"fill:none;stroke:#b0b0b0;stroke-linecap:square;stroke-opacity:0.5;stroke-width:0.8;\"/>\n     </g>\n     <g id=\"line2d_12\">\n      <g>\n       <use style=\"stroke:#000000;stroke-width:0.8;\" x=\"211.768414\" xlink:href=\"#m9e32518061\" y=\"354.528\"/>\n      </g>\n     </g>\n     <g id=\"text_6\">\n      <!-- Country -->\n      <g transform=\"translate(214.527789 402.754562)rotate(-90)scale(0.1 -0.1)\">\n       <defs>\n        <path d=\"M 64.40625 67.28125 \nL 64.40625 56.890625 \nQ 59.421875 61.53125 53.78125 63.8125 \nQ 48.140625 66.109375 41.796875 66.109375 \nQ 29.296875 66.109375 22.65625 58.46875 \nQ 16.015625 50.828125 16.015625 36.375 \nQ 16.015625 21.96875 22.65625 14.328125 \nQ 29.296875 6.6875 41.796875 6.6875 \nQ 48.140625 6.6875 53.78125 8.984375 \nQ 59.421875 11.28125 64.40625 15.921875 \nL 64.40625 5.609375 \nQ 59.234375 2.09375 53.4375 0.328125 \nQ 47.65625 -1.421875 41.21875 -1.421875 \nQ 24.65625 -1.421875 15.125 8.703125 \nQ 5.609375 18.84375 5.609375 36.375 \nQ 5.609375 53.953125 15.125 64.078125 \nQ 24.65625 74.21875 41.21875 74.21875 \nQ 47.75 74.21875 53.53125 72.484375 \nQ 59.328125 70.75 64.40625 67.28125 \nz\n\" id=\"DejaVuSans-67\"/>\n        <path d=\"M 32.171875 -5.078125 \nQ 28.375 -14.84375 24.75 -17.8125 \nQ 21.140625 -20.796875 15.09375 -20.796875 \nL 7.90625 -20.796875 \nL 7.90625 -13.28125 \nL 13.1875 -13.28125 \nQ 16.890625 -13.28125 18.9375 -11.515625 \nQ 21 -9.765625 23.484375 -3.21875 \nL 25.09375 0.875 \nL 2.984375 54.6875 \nL 12.5 54.6875 \nL 29.59375 11.921875 \nL 46.6875 54.6875 \nL 56.203125 54.6875 \nz\n\" id=\"DejaVuSans-121\"/>\n       </defs>\n       <use xlink:href=\"#DejaVuSans-67\"/>\n       <use x=\"69.824219\" xlink:href=\"#DejaVuSans-111\"/>\n       <use x=\"131.005859\" xlink:href=\"#DejaVuSans-117\"/>\n       <use x=\"194.384766\" xlink:href=\"#DejaVuSans-110\"/>\n       <use x=\"257.763672\" xlink:href=\"#DejaVuSans-116\"/>\n       <use x=\"296.972656\" xlink:href=\"#DejaVuSans-114\"/>\n       <use x=\"338.085938\" xlink:href=\"#DejaVuSans-121\"/>\n      </g>\n     </g>\n    </g>\n    <g id=\"xtick_7\">\n     <g id=\"line2d_13\">\n      <path clip-path=\"url(#p0cb6aafd35)\" d=\"M 237.734463 354.528 \nL 237.734463 93.6 \n\" style=\"fill:none;stroke:#b0b0b0;stroke-linecap:square;stroke-opacity:0.5;stroke-width:0.8;\"/>\n     </g>\n     <g id=\"line2d_14\">\n      <g>\n       <use style=\"stroke:#000000;stroke-width:0.8;\" x=\"237.734463\" xlink:href=\"#m9e32518061\" y=\"354.528\"/>\n      </g>\n     </g>\n     <g id=\"text_7\">\n      <!-- Latin -->\n      <g transform=\"translate(240.493838 387.763937)rotate(-90)scale(0.1 -0.1)\">\n       <defs>\n        <path d=\"M 9.8125 72.90625 \nL 19.671875 72.90625 \nL 19.671875 8.296875 \nL 55.171875 8.296875 \nL 55.171875 0 \nL 9.8125 0 \nz\n\" id=\"DejaVuSans-76\"/>\n       </defs>\n       <use xlink:href=\"#DejaVuSans-76\"/>\n       <use x=\"55.712891\" xlink:href=\"#DejaVuSans-97\"/>\n       <use x=\"116.992188\" xlink:href=\"#DejaVuSans-116\"/>\n       <use x=\"156.201172\" xlink:href=\"#DejaVuSans-105\"/>\n       <use x=\"183.984375\" xlink:href=\"#DejaVuSans-110\"/>\n      </g>\n     </g>\n    </g>\n    <g id=\"xtick_8\">\n     <g id=\"line2d_15\">\n      <path clip-path=\"url(#p0cb6aafd35)\" d=\"M 263.700511 354.528 \nL 263.700511 93.6 \n\" style=\"fill:none;stroke:#b0b0b0;stroke-linecap:square;stroke-opacity:0.5;stroke-width:0.8;\"/>\n     </g>\n     <g id=\"line2d_16\">\n      <g>\n       <use style=\"stroke:#000000;stroke-width:0.8;\" x=\"263.700511\" xlink:href=\"#m9e32518061\" y=\"354.528\"/>\n      </g>\n     </g>\n     <g id=\"text_8\">\n      <!-- House/EDM -->\n      <g transform=\"translate(266.459886 420.382687)rotate(-90)scale(0.1 -0.1)\">\n       <defs>\n        <path d=\"M 9.8125 72.90625 \nL 55.90625 72.90625 \nL 55.90625 64.59375 \nL 19.671875 64.59375 \nL 19.671875 43.015625 \nL 54.390625 43.015625 \nL 54.390625 34.71875 \nL 19.671875 34.71875 \nL 19.671875 8.296875 \nL 56.78125 8.296875 \nL 56.78125 0 \nL 9.8125 0 \nz\n\" id=\"DejaVuSans-69\"/>\n        <path d=\"M 19.671875 64.796875 \nL 19.671875 8.109375 \nL 31.59375 8.109375 \nQ 46.6875 8.109375 53.6875 14.9375 \nQ 60.6875 21.78125 60.6875 36.53125 \nQ 60.6875 51.171875 53.6875 57.984375 \nQ 46.6875 64.796875 31.59375 64.796875 \nz\nM 9.8125 72.90625 \nL 30.078125 72.90625 \nQ 51.265625 72.90625 61.171875 64.09375 \nQ 71.09375 55.28125 71.09375 36.53125 \nQ 71.09375 17.671875 61.125 8.828125 \nQ 51.171875 0 30.078125 0 \nL 9.8125 0 \nz\n\" id=\"DejaVuSans-68\"/>\n        <path d=\"M 9.8125 72.90625 \nL 24.515625 72.90625 \nL 43.109375 23.296875 \nL 61.8125 72.90625 \nL 76.515625 72.90625 \nL 76.515625 0 \nL 66.890625 0 \nL 66.890625 64.015625 \nL 48.09375 14.015625 \nL 38.1875 14.015625 \nL 19.390625 64.015625 \nL 19.390625 0 \nL 9.8125 0 \nz\n\" id=\"DejaVuSans-77\"/>\n       </defs>\n       <use xlink:href=\"#DejaVuSans-72\"/>\n       <use x=\"75.195312\" xlink:href=\"#DejaVuSans-111\"/>\n       <use x=\"136.376953\" xlink:href=\"#DejaVuSans-117\"/>\n       <use x=\"199.755859\" xlink:href=\"#DejaVuSans-115\"/>\n       <use x=\"251.855469\" xlink:href=\"#DejaVuSans-101\"/>\n       <use x=\"313.378906\" xlink:href=\"#DejaVuSans-47\"/>\n       <use x=\"347.070312\" xlink:href=\"#DejaVuSans-69\"/>\n       <use x=\"410.253906\" xlink:href=\"#DejaVuSans-68\"/>\n       <use x=\"487.255859\" xlink:href=\"#DejaVuSans-77\"/>\n      </g>\n     </g>\n    </g>\n    <g id=\"xtick_9\">\n     <g id=\"line2d_17\">\n      <path clip-path=\"url(#p0cb6aafd35)\" d=\"M 289.66656 354.528 \nL 289.66656 93.6 \n\" style=\"fill:none;stroke:#b0b0b0;stroke-linecap:square;stroke-opacity:0.5;stroke-width:0.8;\"/>\n     </g>\n     <g id=\"line2d_18\">\n      <g>\n       <use style=\"stroke:#000000;stroke-width:0.8;\" x=\"289.66656\" xlink:href=\"#m9e32518061\" y=\"354.528\"/>\n      </g>\n     </g>\n     <g id=\"text_9\">\n      <!-- Rock -->\n      <g transform=\"translate(292.425935 386.93425)rotate(-90)scale(0.1 -0.1)\">\n       <defs>\n        <path d=\"M 48.78125 52.59375 \nL 48.78125 44.1875 \nQ 44.96875 46.296875 41.140625 47.34375 \nQ 37.3125 48.390625 33.40625 48.390625 \nQ 24.65625 48.390625 19.8125 42.84375 \nQ 14.984375 37.3125 14.984375 27.296875 \nQ 14.984375 17.28125 19.8125 11.734375 \nQ 24.65625 6.203125 33.40625 6.203125 \nQ 37.3125 6.203125 41.140625 7.25 \nQ 44.96875 8.296875 48.78125 10.40625 \nL 48.78125 2.09375 \nQ 45.015625 0.34375 40.984375 -0.53125 \nQ 36.96875 -1.421875 32.421875 -1.421875 \nQ 20.0625 -1.421875 12.78125 6.34375 \nQ 5.515625 14.109375 5.515625 27.296875 \nQ 5.515625 40.671875 12.859375 48.328125 \nQ 20.21875 56 33.015625 56 \nQ 37.15625 56 41.109375 55.140625 \nQ 45.0625 54.296875 48.78125 52.59375 \nz\n\" id=\"DejaVuSans-99\"/>\n        <path d=\"M 9.078125 75.984375 \nL 18.109375 75.984375 \nL 18.109375 31.109375 \nL 44.921875 54.6875 \nL 56.390625 54.6875 \nL 27.390625 29.109375 \nL 57.625 0 \nL 45.90625 0 \nL 18.109375 26.703125 \nL 18.109375 0 \nL 9.078125 0 \nz\n\" id=\"DejaVuSans-107\"/>\n       </defs>\n       <use xlink:href=\"#DejaVuSans-82\"/>\n       <use x=\"64.982422\" xlink:href=\"#DejaVuSans-111\"/>\n       <use x=\"126.164062\" xlink:href=\"#DejaVuSans-99\"/>\n       <use x=\"181.144531\" xlink:href=\"#DejaVuSans-107\"/>\n      </g>\n     </g>\n    </g>\n    <g id=\"xtick_10\">\n     <g id=\"line2d_19\">\n      <path clip-path=\"url(#p0cb6aafd35)\" d=\"M 315.632609 354.528 \nL 315.632609 93.6 \n\" style=\"fill:none;stroke:#b0b0b0;stroke-linecap:square;stroke-opacity:0.5;stroke-width:0.8;\"/>\n     </g>\n     <g id=\"line2d_20\">\n      <g>\n       <use style=\"stroke:#000000;stroke-width:0.8;\" x=\"315.632609\" xlink:href=\"#m9e32518061\" y=\"354.528\"/>\n      </g>\n     </g>\n     <g id=\"text_10\">\n      <!-- Disco -->\n      <g transform=\"translate(318.391984 390.332687)rotate(-90)scale(0.1 -0.1)\">\n       <use xlink:href=\"#DejaVuSans-68\"/>\n       <use x=\"77.001953\" xlink:href=\"#DejaVuSans-105\"/>\n       <use x=\"104.785156\" xlink:href=\"#DejaVuSans-115\"/>\n       <use x=\"156.884766\" xlink:href=\"#DejaVuSans-99\"/>\n       <use x=\"211.865234\" xlink:href=\"#DejaVuSans-111\"/>\n      </g>\n     </g>\n    </g>\n    <g id=\"xtick_11\">\n     <g id=\"line2d_21\">\n      <path clip-path=\"url(#p0cb6aafd35)\" d=\"M 341.598657 354.528 \nL 341.598657 93.6 \n\" style=\"fill:none;stroke:#b0b0b0;stroke-linecap:square;stroke-opacity:0.5;stroke-width:0.8;\"/>\n     </g>\n     <g id=\"line2d_22\">\n      <g>\n       <use style=\"stroke:#000000;stroke-width:0.8;\" x=\"341.598657\" xlink:href=\"#m9e32518061\" y=\"354.528\"/>\n      </g>\n     </g>\n     <g id=\"text_11\">\n      <!-- Glitchcore -->\n      <g transform=\"translate(344.358032 413.745187)rotate(-90)scale(0.1 -0.1)\">\n       <defs>\n        <path d=\"M 59.515625 10.40625 \nL 59.515625 29.984375 \nL 43.40625 29.984375 \nL 43.40625 38.09375 \nL 69.28125 38.09375 \nL 69.28125 6.78125 \nQ 63.578125 2.734375 56.6875 0.65625 \nQ 49.8125 -1.421875 42 -1.421875 \nQ 24.90625 -1.421875 15.25 8.5625 \nQ 5.609375 18.5625 5.609375 36.375 \nQ 5.609375 54.25 15.25 64.234375 \nQ 24.90625 74.21875 42 74.21875 \nQ 49.125 74.21875 55.546875 72.453125 \nQ 61.96875 70.703125 67.390625 67.28125 \nL 67.390625 56.78125 \nQ 61.921875 61.421875 55.765625 63.765625 \nQ 49.609375 66.109375 42.828125 66.109375 \nQ 29.4375 66.109375 22.71875 58.640625 \nQ 16.015625 51.171875 16.015625 36.375 \nQ 16.015625 21.625 22.71875 14.15625 \nQ 29.4375 6.6875 42.828125 6.6875 \nQ 48.046875 6.6875 52.140625 7.59375 \nQ 56.25 8.5 59.515625 10.40625 \nz\n\" id=\"DejaVuSans-71\"/>\n        <path d=\"M 54.890625 33.015625 \nL 54.890625 0 \nL 45.90625 0 \nL 45.90625 32.71875 \nQ 45.90625 40.484375 42.875 44.328125 \nQ 39.84375 48.1875 33.796875 48.1875 \nQ 26.515625 48.1875 22.3125 43.546875 \nQ 18.109375 38.921875 18.109375 30.90625 \nL 18.109375 0 \nL 9.078125 0 \nL 9.078125 75.984375 \nL 18.109375 75.984375 \nL 18.109375 46.1875 \nQ 21.34375 51.125 25.703125 53.5625 \nQ 30.078125 56 35.796875 56 \nQ 45.21875 56 50.046875 50.171875 \nQ 54.890625 44.34375 54.890625 33.015625 \nz\n\" id=\"DejaVuSans-104\"/>\n       </defs>\n       <use xlink:href=\"#DejaVuSans-71\"/>\n       <use x=\"77.490234\" xlink:href=\"#DejaVuSans-108\"/>\n       <use x=\"105.273438\" xlink:href=\"#DejaVuSans-105\"/>\n       <use x=\"133.056641\" xlink:href=\"#DejaVuSans-116\"/>\n       <use x=\"172.265625\" xlink:href=\"#DejaVuSans-99\"/>\n       <use x=\"227.246094\" xlink:href=\"#DejaVuSans-104\"/>\n       <use x=\"290.625\" xlink:href=\"#DejaVuSans-99\"/>\n       <use x=\"345.605469\" xlink:href=\"#DejaVuSans-111\"/>\n       <use x=\"406.787109\" xlink:href=\"#DejaVuSans-114\"/>\n       <use x=\"445.650391\" xlink:href=\"#DejaVuSans-101\"/>\n      </g>\n     </g>\n    </g>\n    <g id=\"xtick_12\">\n     <g id=\"line2d_23\">\n      <path clip-path=\"url(#p0cb6aafd35)\" d=\"M 367.564706 354.528 \nL 367.564706 93.6 \n\" style=\"fill:none;stroke:#b0b0b0;stroke-linecap:square;stroke-opacity:0.5;stroke-width:0.8;\"/>\n     </g>\n     <g id=\"line2d_24\">\n      <g>\n       <use style=\"stroke:#000000;stroke-width:0.8;\" x=\"367.564706\" xlink:href=\"#m9e32518061\" y=\"354.528\"/>\n      </g>\n     </g>\n     <g id=\"text_12\">\n      <!-- Brooklyn Drill -->\n      <g transform=\"translate(370.324081 430.160812)rotate(-90)scale(0.1 -0.1)\">\n       <use xlink:href=\"#DejaVuSans-66\"/>\n       <use x=\"68.603516\" xlink:href=\"#DejaVuSans-114\"/>\n       <use x=\"107.466797\" xlink:href=\"#DejaVuSans-111\"/>\n       <use x=\"168.648438\" xlink:href=\"#DejaVuSans-111\"/>\n       <use x=\"229.830078\" xlink:href=\"#DejaVuSans-107\"/>\n       <use x=\"287.740234\" xlink:href=\"#DejaVuSans-108\"/>\n       <use x=\"315.523438\" xlink:href=\"#DejaVuSans-121\"/>\n       <use x=\"374.703125\" xlink:href=\"#DejaVuSans-110\"/>\n       <use x=\"438.082031\" xlink:href=\"#DejaVuSans-32\"/>\n       <use x=\"469.869141\" xlink:href=\"#DejaVuSans-68\"/>\n       <use x=\"546.871094\" xlink:href=\"#DejaVuSans-114\"/>\n       <use x=\"587.984375\" xlink:href=\"#DejaVuSans-105\"/>\n       <use x=\"615.767578\" xlink:href=\"#DejaVuSans-108\"/>\n       <use x=\"643.550781\" xlink:href=\"#DejaVuSans-108\"/>\n      </g>\n     </g>\n    </g>\n    <g id=\"xtick_13\">\n     <g id=\"line2d_25\">\n      <path clip-path=\"url(#p0cb6aafd35)\" d=\"M 393.530755 354.528 \nL 393.530755 93.6 \n\" style=\"fill:none;stroke:#b0b0b0;stroke-linecap:square;stroke-opacity:0.5;stroke-width:0.8;\"/>\n     </g>\n     <g id=\"line2d_26\">\n      <g>\n       <use style=\"stroke:#000000;stroke-width:0.8;\" x=\"393.530755\" xlink:href=\"#m9e32518061\" y=\"354.528\"/>\n      </g>\n     </g>\n     <g id=\"text_13\">\n      <!-- Halloween -->\n      <g transform=\"translate(396.29013 415.173312)rotate(-90)scale(0.1 -0.1)\">\n       <defs>\n        <path d=\"M 4.203125 54.6875 \nL 13.1875 54.6875 \nL 24.421875 12.015625 \nL 35.59375 54.6875 \nL 46.1875 54.6875 \nL 57.421875 12.015625 \nL 68.609375 54.6875 \nL 77.59375 54.6875 \nL 63.28125 0 \nL 52.6875 0 \nL 40.921875 44.828125 \nL 29.109375 0 \nL 18.5 0 \nz\n\" id=\"DejaVuSans-119\"/>\n       </defs>\n       <use xlink:href=\"#DejaVuSans-72\"/>\n       <use x=\"75.195312\" xlink:href=\"#DejaVuSans-97\"/>\n       <use x=\"136.474609\" xlink:href=\"#DejaVuSans-108\"/>\n       <use x=\"164.257812\" xlink:href=\"#DejaVuSans-108\"/>\n       <use x=\"192.041016\" xlink:href=\"#DejaVuSans-111\"/>\n       <use x=\"253.222656\" xlink:href=\"#DejaVuSans-119\"/>\n       <use x=\"335.009766\" xlink:href=\"#DejaVuSans-101\"/>\n       <use x=\"396.533203\" xlink:href=\"#DejaVuSans-101\"/>\n       <use x=\"458.056641\" xlink:href=\"#DejaVuSans-110\"/>\n      </g>\n     </g>\n    </g>\n    <g id=\"xtick_14\">\n     <g id=\"line2d_27\">\n      <path clip-path=\"url(#p0cb6aafd35)\" d=\"M 419.496804 354.528 \nL 419.496804 93.6 \n\" style=\"fill:none;stroke:#b0b0b0;stroke-linecap:square;stroke-opacity:0.5;stroke-width:0.8;\"/>\n     </g>\n     <g id=\"line2d_28\">\n      <g>\n       <use style=\"stroke:#000000;stroke-width:0.8;\" x=\"419.496804\" xlink:href=\"#m9e32518061\" y=\"354.528\"/>\n      </g>\n     </g>\n     <g id=\"text_14\">\n      <!-- Christmas -->\n      <g transform=\"translate(422.256179 413.445187)rotate(-90)scale(0.1 -0.1)\">\n       <defs>\n        <path d=\"M 52 44.1875 \nQ 55.375 50.25 60.0625 53.125 \nQ 64.75 56 71.09375 56 \nQ 79.640625 56 84.28125 50.015625 \nQ 88.921875 44.046875 88.921875 33.015625 \nL 88.921875 0 \nL 79.890625 0 \nL 79.890625 32.71875 \nQ 79.890625 40.578125 77.09375 44.375 \nQ 74.3125 48.1875 68.609375 48.1875 \nQ 61.625 48.1875 57.5625 43.546875 \nQ 53.515625 38.921875 53.515625 30.90625 \nL 53.515625 0 \nL 44.484375 0 \nL 44.484375 32.71875 \nQ 44.484375 40.625 41.703125 44.40625 \nQ 38.921875 48.1875 33.109375 48.1875 \nQ 26.21875 48.1875 22.15625 43.53125 \nQ 18.109375 38.875 18.109375 30.90625 \nL 18.109375 0 \nL 9.078125 0 \nL 9.078125 54.6875 \nL 18.109375 54.6875 \nL 18.109375 46.1875 \nQ 21.1875 51.21875 25.484375 53.609375 \nQ 29.78125 56 35.6875 56 \nQ 41.65625 56 45.828125 52.96875 \nQ 50 49.953125 52 44.1875 \nz\n\" id=\"DejaVuSans-109\"/>\n       </defs>\n       <use xlink:href=\"#DejaVuSans-67\"/>\n       <use x=\"69.824219\" xlink:href=\"#DejaVuSans-104\"/>\n       <use x=\"133.203125\" xlink:href=\"#DejaVuSans-114\"/>\n       <use x=\"174.316406\" xlink:href=\"#DejaVuSans-105\"/>\n       <use x=\"202.099609\" xlink:href=\"#DejaVuSans-115\"/>\n       <use x=\"254.199219\" xlink:href=\"#DejaVuSans-116\"/>\n       <use x=\"293.408203\" xlink:href=\"#DejaVuSans-109\"/>\n       <use x=\"390.820312\" xlink:href=\"#DejaVuSans-97\"/>\n       <use x=\"452.099609\" xlink:href=\"#DejaVuSans-115\"/>\n      </g>\n     </g>\n    </g>\n    <g id=\"xtick_15\">\n     <g id=\"line2d_29\">\n      <path clip-path=\"url(#p0cb6aafd35)\" d=\"M 445.462852 354.528 \nL 445.462852 93.6 \n\" style=\"fill:none;stroke:#b0b0b0;stroke-linecap:square;stroke-opacity:0.5;stroke-width:0.8;\"/>\n     </g>\n     <g id=\"line2d_30\">\n      <g>\n       <use style=\"stroke:#000000;stroke-width:0.8;\" x=\"445.462852\" xlink:href=\"#m9e32518061\" y=\"354.528\"/>\n      </g>\n     </g>\n     <g id=\"text_15\">\n      <!-- Classical -->\n      <g transform=\"translate(448.222227 406.518625)rotate(-90)scale(0.1 -0.1)\">\n       <use xlink:href=\"#DejaVuSans-67\"/>\n       <use x=\"69.824219\" xlink:href=\"#DejaVuSans-108\"/>\n       <use x=\"97.607422\" xlink:href=\"#DejaVuSans-97\"/>\n       <use x=\"158.886719\" xlink:href=\"#DejaVuSans-115\"/>\n       <use x=\"210.986328\" xlink:href=\"#DejaVuSans-115\"/>\n       <use x=\"263.085938\" xlink:href=\"#DejaVuSans-105\"/>\n       <use x=\"290.869141\" xlink:href=\"#DejaVuSans-99\"/>\n       <use x=\"345.849609\" xlink:href=\"#DejaVuSans-97\"/>\n       <use x=\"407.128906\" xlink:href=\"#DejaVuSans-108\"/>\n      </g>\n     </g>\n    </g>\n   </g>\n   <g id=\"matplotlib.axis_2\">\n    <g id=\"ytick_1\">\n     <g id=\"line2d_31\">\n      <path clip-path=\"url(#p0cb6aafd35)\" d=\"M 52.336875 354.528 \nL 475.064148 354.528 \n\" style=\"fill:none;stroke:#b0b0b0;stroke-linecap:square;stroke-opacity:0.5;stroke-width:0.8;\"/>\n     </g>\n     <g id=\"line2d_32\">\n      <defs>\n       <path d=\"M 5 0 \nL -5 -0 \n\" id=\"m4c7f25099e\" style=\"stroke:#000000;stroke-width:0.8;\"/>\n      </defs>\n      <g>\n       <use style=\"stroke:#000000;stroke-width:0.8;\" x=\"52.336875\" xlink:href=\"#m4c7f25099e\" y=\"354.528\"/>\n      </g>\n     </g>\n     <g id=\"text_16\">\n      <!-- 0 -->\n      <g transform=\"translate(37.474375 358.327219)scale(0.1 -0.1)\">\n       <defs>\n        <path d=\"M 31.78125 66.40625 \nQ 24.171875 66.40625 20.328125 58.90625 \nQ 16.5 51.421875 16.5 36.375 \nQ 16.5 21.390625 20.328125 13.890625 \nQ 24.171875 6.390625 31.78125 6.390625 \nQ 39.453125 6.390625 43.28125 13.890625 \nQ 47.125 21.390625 47.125 36.375 \nQ 47.125 51.421875 43.28125 58.90625 \nQ 39.453125 66.40625 31.78125 66.40625 \nz\nM 31.78125 74.21875 \nQ 44.046875 74.21875 50.515625 64.515625 \nQ 56.984375 54.828125 56.984375 36.375 \nQ 56.984375 17.96875 50.515625 8.265625 \nQ 44.046875 -1.421875 31.78125 -1.421875 \nQ 19.53125 -1.421875 13.0625 8.265625 \nQ 6.59375 17.96875 6.59375 36.375 \nQ 6.59375 54.828125 13.0625 64.515625 \nQ 19.53125 74.21875 31.78125 74.21875 \nz\n\" id=\"DejaVuSans-48\"/>\n       </defs>\n       <use xlink:href=\"#DejaVuSans-48\"/>\n      </g>\n     </g>\n    </g>\n    <g id=\"ytick_2\">\n     <g id=\"line2d_33\">\n      <path clip-path=\"url(#p0cb6aafd35)\" d=\"M 52.336875 307.194122 \nL 475.064148 307.194122 \n\" style=\"fill:none;stroke:#b0b0b0;stroke-linecap:square;stroke-opacity:0.5;stroke-width:0.8;\"/>\n     </g>\n     <g id=\"line2d_34\">\n      <g>\n       <use style=\"stroke:#000000;stroke-width:0.8;\" x=\"52.336875\" xlink:href=\"#m4c7f25099e\" y=\"307.194122\"/>\n      </g>\n     </g>\n     <g id=\"text_17\">\n      <!-- 20 -->\n      <g transform=\"translate(31.111875 310.993341)scale(0.1 -0.1)\">\n       <defs>\n        <path d=\"M 19.1875 8.296875 \nL 53.609375 8.296875 \nL 53.609375 0 \nL 7.328125 0 \nL 7.328125 8.296875 \nQ 12.9375 14.109375 22.625 23.890625 \nQ 32.328125 33.6875 34.8125 36.53125 \nQ 39.546875 41.84375 41.421875 45.53125 \nQ 43.3125 49.21875 43.3125 52.78125 \nQ 43.3125 58.59375 39.234375 62.25 \nQ 35.15625 65.921875 28.609375 65.921875 \nQ 23.96875 65.921875 18.8125 64.3125 \nQ 13.671875 62.703125 7.8125 59.421875 \nL 7.8125 69.390625 \nQ 13.765625 71.78125 18.9375 73 \nQ 24.125 74.21875 28.421875 74.21875 \nQ 39.75 74.21875 46.484375 68.546875 \nQ 53.21875 62.890625 53.21875 53.421875 \nQ 53.21875 48.921875 51.53125 44.890625 \nQ 49.859375 40.875 45.40625 35.40625 \nQ 44.1875 33.984375 37.640625 27.21875 \nQ 31.109375 20.453125 19.1875 8.296875 \nz\n\" id=\"DejaVuSans-50\"/>\n       </defs>\n       <use xlink:href=\"#DejaVuSans-50\"/>\n       <use x=\"63.623047\" xlink:href=\"#DejaVuSans-48\"/>\n      </g>\n     </g>\n    </g>\n    <g id=\"ytick_3\">\n     <g id=\"line2d_35\">\n      <path clip-path=\"url(#p0cb6aafd35)\" d=\"M 52.336875 259.860245 \nL 475.064148 259.860245 \n\" style=\"fill:none;stroke:#b0b0b0;stroke-linecap:square;stroke-opacity:0.5;stroke-width:0.8;\"/>\n     </g>\n     <g id=\"line2d_36\">\n      <g>\n       <use style=\"stroke:#000000;stroke-width:0.8;\" x=\"52.336875\" xlink:href=\"#m4c7f25099e\" y=\"259.860245\"/>\n      </g>\n     </g>\n     <g id=\"text_18\">\n      <!-- 40 -->\n      <g transform=\"translate(31.111875 263.659464)scale(0.1 -0.1)\">\n       <defs>\n        <path d=\"M 37.796875 64.3125 \nL 12.890625 25.390625 \nL 37.796875 25.390625 \nz\nM 35.203125 72.90625 \nL 47.609375 72.90625 \nL 47.609375 25.390625 \nL 58.015625 25.390625 \nL 58.015625 17.1875 \nL 47.609375 17.1875 \nL 47.609375 0 \nL 37.796875 0 \nL 37.796875 17.1875 \nL 4.890625 17.1875 \nL 4.890625 26.703125 \nz\n\" id=\"DejaVuSans-52\"/>\n       </defs>\n       <use xlink:href=\"#DejaVuSans-52\"/>\n       <use x=\"63.623047\" xlink:href=\"#DejaVuSans-48\"/>\n      </g>\n     </g>\n    </g>\n    <g id=\"ytick_4\">\n     <g id=\"line2d_37\">\n      <path clip-path=\"url(#p0cb6aafd35)\" d=\"M 52.336875 212.526367 \nL 475.064148 212.526367 \n\" style=\"fill:none;stroke:#b0b0b0;stroke-linecap:square;stroke-opacity:0.5;stroke-width:0.8;\"/>\n     </g>\n     <g id=\"line2d_38\">\n      <g>\n       <use style=\"stroke:#000000;stroke-width:0.8;\" x=\"52.336875\" xlink:href=\"#m4c7f25099e\" y=\"212.526367\"/>\n      </g>\n     </g>\n     <g id=\"text_19\">\n      <!-- 60 -->\n      <g transform=\"translate(31.111875 216.325586)scale(0.1 -0.1)\">\n       <defs>\n        <path d=\"M 33.015625 40.375 \nQ 26.375 40.375 22.484375 35.828125 \nQ 18.609375 31.296875 18.609375 23.390625 \nQ 18.609375 15.53125 22.484375 10.953125 \nQ 26.375 6.390625 33.015625 6.390625 \nQ 39.65625 6.390625 43.53125 10.953125 \nQ 47.40625 15.53125 47.40625 23.390625 \nQ 47.40625 31.296875 43.53125 35.828125 \nQ 39.65625 40.375 33.015625 40.375 \nz\nM 52.59375 71.296875 \nL 52.59375 62.3125 \nQ 48.875 64.0625 45.09375 64.984375 \nQ 41.3125 65.921875 37.59375 65.921875 \nQ 27.828125 65.921875 22.671875 59.328125 \nQ 17.53125 52.734375 16.796875 39.40625 \nQ 19.671875 43.65625 24.015625 45.921875 \nQ 28.375 48.1875 33.59375 48.1875 \nQ 44.578125 48.1875 50.953125 41.515625 \nQ 57.328125 34.859375 57.328125 23.390625 \nQ 57.328125 12.15625 50.6875 5.359375 \nQ 44.046875 -1.421875 33.015625 -1.421875 \nQ 20.359375 -1.421875 13.671875 8.265625 \nQ 6.984375 17.96875 6.984375 36.375 \nQ 6.984375 53.65625 15.1875 63.9375 \nQ 23.390625 74.21875 37.203125 74.21875 \nQ 40.921875 74.21875 44.703125 73.484375 \nQ 48.484375 72.75 52.59375 71.296875 \nz\n\" id=\"DejaVuSans-54\"/>\n       </defs>\n       <use xlink:href=\"#DejaVuSans-54\"/>\n       <use x=\"63.623047\" xlink:href=\"#DejaVuSans-48\"/>\n      </g>\n     </g>\n    </g>\n    <g id=\"ytick_5\">\n     <g id=\"line2d_39\">\n      <path clip-path=\"url(#p0cb6aafd35)\" d=\"M 52.336875 165.19249 \nL 475.064148 165.19249 \n\" style=\"fill:none;stroke:#b0b0b0;stroke-linecap:square;stroke-opacity:0.5;stroke-width:0.8;\"/>\n     </g>\n     <g id=\"line2d_40\">\n      <g>\n       <use style=\"stroke:#000000;stroke-width:0.8;\" x=\"52.336875\" xlink:href=\"#m4c7f25099e\" y=\"165.19249\"/>\n      </g>\n     </g>\n     <g id=\"text_20\">\n      <!-- 80 -->\n      <g transform=\"translate(31.111875 168.991709)scale(0.1 -0.1)\">\n       <defs>\n        <path d=\"M 31.78125 34.625 \nQ 24.75 34.625 20.71875 30.859375 \nQ 16.703125 27.09375 16.703125 20.515625 \nQ 16.703125 13.921875 20.71875 10.15625 \nQ 24.75 6.390625 31.78125 6.390625 \nQ 38.8125 6.390625 42.859375 10.171875 \nQ 46.921875 13.96875 46.921875 20.515625 \nQ 46.921875 27.09375 42.890625 30.859375 \nQ 38.875 34.625 31.78125 34.625 \nz\nM 21.921875 38.8125 \nQ 15.578125 40.375 12.03125 44.71875 \nQ 8.5 49.078125 8.5 55.328125 \nQ 8.5 64.0625 14.71875 69.140625 \nQ 20.953125 74.21875 31.78125 74.21875 \nQ 42.671875 74.21875 48.875 69.140625 \nQ 55.078125 64.0625 55.078125 55.328125 \nQ 55.078125 49.078125 51.53125 44.71875 \nQ 48 40.375 41.703125 38.8125 \nQ 48.828125 37.15625 52.796875 32.3125 \nQ 56.78125 27.484375 56.78125 20.515625 \nQ 56.78125 9.90625 50.3125 4.234375 \nQ 43.84375 -1.421875 31.78125 -1.421875 \nQ 19.734375 -1.421875 13.25 4.234375 \nQ 6.78125 9.90625 6.78125 20.515625 \nQ 6.78125 27.484375 10.78125 32.3125 \nQ 14.796875 37.15625 21.921875 38.8125 \nz\nM 18.3125 54.390625 \nQ 18.3125 48.734375 21.84375 45.5625 \nQ 25.390625 42.390625 31.78125 42.390625 \nQ 38.140625 42.390625 41.71875 45.5625 \nQ 45.3125 48.734375 45.3125 54.390625 \nQ 45.3125 60.0625 41.71875 63.234375 \nQ 38.140625 66.40625 31.78125 66.40625 \nQ 25.390625 66.40625 21.84375 63.234375 \nQ 18.3125 60.0625 18.3125 54.390625 \nz\n\" id=\"DejaVuSans-56\"/>\n       </defs>\n       <use xlink:href=\"#DejaVuSans-56\"/>\n       <use x=\"63.623047\" xlink:href=\"#DejaVuSans-48\"/>\n      </g>\n     </g>\n    </g>\n    <g id=\"ytick_6\">\n     <g id=\"line2d_41\">\n      <path clip-path=\"url(#p0cb6aafd35)\" d=\"M 52.336875 117.858612 \nL 475.064148 117.858612 \n\" style=\"fill:none;stroke:#b0b0b0;stroke-linecap:square;stroke-opacity:0.5;stroke-width:0.8;\"/>\n     </g>\n     <g id=\"line2d_42\">\n      <g>\n       <use style=\"stroke:#000000;stroke-width:0.8;\" x=\"52.336875\" xlink:href=\"#m4c7f25099e\" y=\"117.858612\"/>\n      </g>\n     </g>\n     <g id=\"text_21\">\n      <!-- 100 -->\n      <g transform=\"translate(24.749375 121.657831)scale(0.1 -0.1)\">\n       <defs>\n        <path d=\"M 12.40625 8.296875 \nL 28.515625 8.296875 \nL 28.515625 63.921875 \nL 10.984375 60.40625 \nL 10.984375 69.390625 \nL 28.421875 72.90625 \nL 38.28125 72.90625 \nL 38.28125 8.296875 \nL 54.390625 8.296875 \nL 54.390625 0 \nL 12.40625 0 \nz\n\" id=\"DejaVuSans-49\"/>\n       </defs>\n       <use xlink:href=\"#DejaVuSans-49\"/>\n       <use x=\"63.623047\" xlink:href=\"#DejaVuSans-48\"/>\n       <use x=\"127.246094\" xlink:href=\"#DejaVuSans-48\"/>\n      </g>\n     </g>\n    </g>\n    <g id=\"text_22\">\n     <!-- Counts -->\n     <g transform=\"translate(17.837813 248.498375)rotate(-90)scale(0.14 -0.14)\">\n      <use xlink:href=\"#DejaVuSans-67\"/>\n      <use x=\"69.824219\" xlink:href=\"#DejaVuSans-111\"/>\n      <use x=\"131.005859\" xlink:href=\"#DejaVuSans-117\"/>\n      <use x=\"194.384766\" xlink:href=\"#DejaVuSans-110\"/>\n      <use x=\"257.763672\" xlink:href=\"#DejaVuSans-116\"/>\n      <use x=\"296.972656\" xlink:href=\"#DejaVuSans-115\"/>\n     </g>\n    </g>\n   </g>\n   <g id=\"patch_3\">\n    <path clip-path=\"url(#p0cb6aafd35)\" d=\"M 71.551751 354.528 \nL 92.32459 354.528 \nL 92.32459 106.025143 \nL 71.551751 106.025143 \nz\n\" style=\"fill:#800080;\"/>\n   </g>\n   <g id=\"patch_4\">\n    <path clip-path=\"url(#p0cb6aafd35)\" d=\"M 97.5178 354.528 \nL 118.290639 354.528 \nL 118.290639 148.625633 \nL 97.5178 148.625633 \nz\n\" style=\"fill:#ff0000;\"/>\n   </g>\n   <g id=\"patch_5\">\n    <path clip-path=\"url(#p0cb6aafd35)\" d=\"M 123.483848 354.528 \nL 144.256687 354.528 \nL 144.256687 288.260571 \nL 123.483848 288.260571 \nz\n\" style=\"fill:#ff7f50;\"/>\n   </g>\n   <g id=\"patch_6\">\n    <path clip-path=\"url(#p0cb6aafd35)\" d=\"M 149.449897 354.528 \nL 170.222736 354.528 \nL 170.222736 302.460735 \nL 149.449897 302.460735 \nz\n\" style=\"fill:#0000ff;\"/>\n   </g>\n   <g id=\"patch_7\">\n    <path clip-path=\"url(#p0cb6aafd35)\" d=\"M 175.415946 354.528 \nL 196.188785 354.528 \nL 196.188785 323.76098 \nL 175.415946 323.76098 \nz\n\" style=\"fill:#2e8b57;\"/>\n   </g>\n   <g id=\"patch_8\">\n    <path clip-path=\"url(#p0cb6aafd35)\" d=\"M 201.381994 354.528 \nL 222.154833 354.528 \nL 222.154833 328.494367 \nL 201.381994 328.494367 \nz\n\" style=\"fill:#ffa500;\"/>\n   </g>\n   <g id=\"patch_9\">\n    <path clip-path=\"url(#p0cb6aafd35)\" d=\"M 227.348043 354.528 \nL 248.120882 354.528 \nL 248.120882 337.961143 \nL 227.348043 337.961143 \nz\n\" style=\"fill:#cd5c5c;\"/>\n   </g>\n   <g id=\"patch_10\">\n    <path clip-path=\"url(#p0cb6aafd35)\" d=\"M 253.314092 354.528 \nL 274.086931 354.528 \nL 274.086931 342.694531 \nL 253.314092 342.694531 \nz\n\" style=\"fill:#6a5acd;\"/>\n   </g>\n   <g id=\"patch_11\">\n    <path clip-path=\"url(#p0cb6aafd35)\" d=\"M 279.280141 354.528 \nL 300.05298 354.528 \nL 300.05298 345.061224 \nL 279.280141 345.061224 \nz\n\" style=\"fill:#da70d6;\"/>\n   </g>\n   <g id=\"patch_12\">\n    <path clip-path=\"url(#p0cb6aafd35)\" d=\"M 305.246189 354.528 \nL 326.019028 354.528 \nL 326.019028 354.528 \nL 305.246189 354.528 \nz\n\" style=\"fill:#ffd700;\"/>\n   </g>\n   <g id=\"patch_13\">\n    <path clip-path=\"url(#p0cb6aafd35)\" d=\"M 331.212238 354.528 \nL 351.985077 354.528 \nL 351.985077 354.528 \nL 331.212238 354.528 \nz\n\" style=\"fill:#c0c0c0;\"/>\n   </g>\n   <g id=\"patch_14\">\n    <path clip-path=\"url(#p0cb6aafd35)\" d=\"M 357.178287 354.528 \nL 377.951126 354.528 \nL 377.951126 354.528 \nL 357.178287 354.528 \nz\n\" style=\"fill:#db7093;\"/>\n   </g>\n   <g id=\"patch_15\">\n    <path clip-path=\"url(#p0cb6aafd35)\" d=\"M 383.144335 354.528 \nL 403.917174 354.528 \nL 403.917174 354.528 \nL 383.144335 354.528 \nz\n\" style=\"fill:#32cd32;\"/>\n   </g>\n   <g id=\"patch_16\">\n    <path clip-path=\"url(#p0cb6aafd35)\" d=\"M 409.110384 354.528 \nL 429.883223 354.528 \nL 429.883223 354.528 \nL 409.110384 354.528 \nz\n\" style=\"fill:#800000;\"/>\n   </g>\n   <g id=\"patch_17\">\n    <path clip-path=\"url(#p0cb6aafd35)\" d=\"M 435.076433 354.528 \nL 455.849272 354.528 \nL 455.849272 354.528 \nL 435.076433 354.528 \nz\n\" style=\"fill:#800080;\"/>\n   </g>\n   <g id=\"patch_18\">\n    <path d=\"M 52.336875 354.528 \nL 52.336875 93.6 \n\" style=\"fill:none;stroke:#000000;stroke-linecap:square;stroke-linejoin:miter;stroke-width:0.8;\"/>\n   </g>\n   <g id=\"patch_19\">\n    <path d=\"M 475.064148 354.528 \nL 475.064148 93.6 \n\" style=\"fill:none;stroke:#000000;stroke-linecap:square;stroke-linejoin:miter;stroke-width:0.8;\"/>\n   </g>\n   <g id=\"patch_20\">\n    <path d=\"M 52.336875 354.528 \nL 475.064148 354.528 \n\" style=\"fill:none;stroke:#000000;stroke-linecap:square;stroke-linejoin:miter;stroke-width:0.8;\"/>\n   </g>\n   <g id=\"patch_21\">\n    <path d=\"M 52.336875 93.6 \nL 475.064148 93.6 \n\" style=\"fill:none;stroke:#000000;stroke-linecap:square;stroke-linejoin:miter;stroke-width:0.8;\"/>\n   </g>\n   <g id=\"text_23\">\n    <!-- January -->\n    <g transform=\"translate(240.953949 87.6)scale(0.12 -0.12)\">\n     <defs>\n      <path d=\"M 9.8125 72.90625 \nL 19.671875 72.90625 \nL 19.671875 5.078125 \nQ 19.671875 -8.109375 14.671875 -14.0625 \nQ 9.671875 -20.015625 -1.421875 -20.015625 \nL -5.171875 -20.015625 \nL -5.171875 -11.71875 \nL -2.09375 -11.71875 \nQ 4.4375 -11.71875 7.125 -8.046875 \nQ 9.8125 -4.390625 9.8125 5.078125 \nz\n\" id=\"DejaVuSans-74\"/>\n     </defs>\n     <use xlink:href=\"#DejaVuSans-74\"/>\n     <use x=\"29.492188\" xlink:href=\"#DejaVuSans-97\"/>\n     <use x=\"90.771484\" xlink:href=\"#DejaVuSans-110\"/>\n     <use x=\"154.150391\" xlink:href=\"#DejaVuSans-117\"/>\n     <use x=\"217.529297\" xlink:href=\"#DejaVuSans-97\"/>\n     <use x=\"278.808594\" xlink:href=\"#DejaVuSans-114\"/>\n     <use x=\"319.921875\" xlink:href=\"#DejaVuSans-121\"/>\n    </g>\n   </g>\n  </g>\n  <g id=\"axes_2\">\n   <g id=\"patch_22\">\n    <path d=\"M 538.473239 354.528 \nL 961.200511 354.528 \nL 961.200511 93.6 \nL 538.473239 93.6 \nz\n\" style=\"fill:#ffffff;\"/>\n   </g>\n   <g id=\"matplotlib.axis_3\">\n    <g id=\"xtick_16\">\n     <g id=\"line2d_43\">\n      <path clip-path=\"url(#pb477ef6855)\" d=\"M 568.074534 354.528 \nL 568.074534 93.6 \n\" style=\"fill:none;stroke:#b0b0b0;stroke-linecap:square;stroke-opacity:0.5;stroke-width:0.8;\"/>\n     </g>\n     <g id=\"line2d_44\">\n      <g>\n       <use style=\"stroke:#000000;stroke-width:0.8;\" x=\"568.074534\" xlink:href=\"#m9e32518061\" y=\"354.528\"/>\n      </g>\n     </g>\n     <g id=\"text_24\">\n      <!-- Rap/Hip Hop/Trap -->\n      <g transform=\"translate(570.833909 449.998312)rotate(-90)scale(0.1 -0.1)\">\n       <use xlink:href=\"#DejaVuSans-82\"/>\n       <use x=\"67.232422\" xlink:href=\"#DejaVuSans-97\"/>\n       <use x=\"128.511719\" xlink:href=\"#DejaVuSans-112\"/>\n       <use x=\"191.988281\" xlink:href=\"#DejaVuSans-47\"/>\n       <use x=\"225.679688\" xlink:href=\"#DejaVuSans-72\"/>\n       <use x=\"300.875\" xlink:href=\"#DejaVuSans-105\"/>\n       <use x=\"328.658203\" xlink:href=\"#DejaVuSans-112\"/>\n       <use x=\"392.134766\" xlink:href=\"#DejaVuSans-32\"/>\n       <use x=\"423.921875\" xlink:href=\"#DejaVuSans-72\"/>\n       <use x=\"499.117188\" xlink:href=\"#DejaVuSans-111\"/>\n       <use x=\"560.298828\" xlink:href=\"#DejaVuSans-112\"/>\n       <use x=\"623.775391\" xlink:href=\"#DejaVuSans-47\"/>\n       <use x=\"657.466797\" xlink:href=\"#DejaVuSans-84\"/>\n       <use x=\"703.800781\" xlink:href=\"#DejaVuSans-114\"/>\n       <use x=\"744.914062\" xlink:href=\"#DejaVuSans-97\"/>\n       <use x=\"806.193359\" xlink:href=\"#DejaVuSans-112\"/>\n      </g>\n     </g>\n    </g>\n    <g id=\"xtick_17\">\n     <g id=\"line2d_45\">\n      <path clip-path=\"url(#pb477ef6855)\" d=\"M 594.040583 354.528 \nL 594.040583 93.6 \n\" style=\"fill:none;stroke:#b0b0b0;stroke-linecap:square;stroke-opacity:0.5;stroke-width:0.8;\"/>\n     </g>\n     <g id=\"line2d_46\">\n      <g>\n       <use style=\"stroke:#000000;stroke-width:0.8;\" x=\"594.040583\" xlink:href=\"#m9e32518061\" y=\"354.528\"/>\n      </g>\n     </g>\n     <g id=\"text_25\">\n      <!-- Pop -->\n      <g transform=\"translate(596.799958 381.162375)rotate(-90)scale(0.1 -0.1)\">\n       <use xlink:href=\"#DejaVuSans-80\"/>\n       <use x=\"56.677734\" xlink:href=\"#DejaVuSans-111\"/>\n       <use x=\"117.859375\" xlink:href=\"#DejaVuSans-112\"/>\n      </g>\n     </g>\n    </g>\n    <g id=\"xtick_18\">\n     <g id=\"line2d_47\">\n      <path clip-path=\"url(#pb477ef6855)\" d=\"M 620.006632 354.528 \nL 620.006632 93.6 \n\" style=\"fill:none;stroke:#b0b0b0;stroke-linecap:square;stroke-opacity:0.5;stroke-width:0.8;\"/>\n     </g>\n     <g id=\"line2d_48\">\n      <g>\n       <use style=\"stroke:#000000;stroke-width:0.8;\" x=\"620.006632\" xlink:href=\"#m9e32518061\" y=\"354.528\"/>\n      </g>\n     </g>\n     <g id=\"text_26\">\n      <!-- Alternative/Alt -->\n      <g transform=\"translate(622.766007 434.799875)rotate(-90)scale(0.1 -0.1)\">\n       <use xlink:href=\"#DejaVuSans-65\"/>\n       <use x=\"68.408203\" xlink:href=\"#DejaVuSans-108\"/>\n       <use x=\"96.191406\" xlink:href=\"#DejaVuSans-116\"/>\n       <use x=\"135.400391\" xlink:href=\"#DejaVuSans-101\"/>\n       <use x=\"196.923828\" xlink:href=\"#DejaVuSans-114\"/>\n       <use x=\"236.287109\" xlink:href=\"#DejaVuSans-110\"/>\n       <use x=\"299.666016\" xlink:href=\"#DejaVuSans-97\"/>\n       <use x=\"360.945312\" xlink:href=\"#DejaVuSans-116\"/>\n       <use x=\"400.154297\" xlink:href=\"#DejaVuSans-105\"/>\n       <use x=\"427.9375\" xlink:href=\"#DejaVuSans-118\"/>\n       <use x=\"487.117188\" xlink:href=\"#DejaVuSans-101\"/>\n       <use x=\"548.640625\" xlink:href=\"#DejaVuSans-47\"/>\n       <use x=\"582.332031\" xlink:href=\"#DejaVuSans-65\"/>\n       <use x=\"650.740234\" xlink:href=\"#DejaVuSans-108\"/>\n       <use x=\"678.523438\" xlink:href=\"#DejaVuSans-116\"/>\n      </g>\n     </g>\n    </g>\n    <g id=\"xtick_19\">\n     <g id=\"line2d_49\">\n      <path clip-path=\"url(#pb477ef6855)\" d=\"M 645.97268 354.528 \nL 645.97268 93.6 \n\" style=\"fill:none;stroke:#b0b0b0;stroke-linecap:square;stroke-opacity:0.5;stroke-width:0.8;\"/>\n     </g>\n     <g id=\"line2d_50\">\n      <g>\n       <use style=\"stroke:#000000;stroke-width:0.8;\" x=\"645.97268\" xlink:href=\"#m9e32518061\" y=\"354.528\"/>\n      </g>\n     </g>\n     <g id=\"text_27\">\n      <!-- R&amp;B/Soul/Blues -->\n      <g transform=\"translate(648.732055 440.295187)rotate(-90)scale(0.1 -0.1)\">\n       <use xlink:href=\"#DejaVuSans-82\"/>\n       <use x=\"69.482422\" xlink:href=\"#DejaVuSans-38\"/>\n       <use x=\"147.460938\" xlink:href=\"#DejaVuSans-66\"/>\n       <use x=\"216.064453\" xlink:href=\"#DejaVuSans-47\"/>\n       <use x=\"249.755859\" xlink:href=\"#DejaVuSans-83\"/>\n       <use x=\"313.232422\" xlink:href=\"#DejaVuSans-111\"/>\n       <use x=\"374.414062\" xlink:href=\"#DejaVuSans-117\"/>\n       <use x=\"437.792969\" xlink:href=\"#DejaVuSans-108\"/>\n       <use x=\"465.576172\" xlink:href=\"#DejaVuSans-47\"/>\n       <use x=\"499.267578\" xlink:href=\"#DejaVuSans-66\"/>\n       <use x=\"567.871094\" xlink:href=\"#DejaVuSans-108\"/>\n       <use x=\"595.654297\" xlink:href=\"#DejaVuSans-117\"/>\n       <use x=\"659.033203\" xlink:href=\"#DejaVuSans-101\"/>\n       <use x=\"720.556641\" xlink:href=\"#DejaVuSans-115\"/>\n      </g>\n     </g>\n    </g>\n    <g id=\"xtick_20\">\n     <g id=\"line2d_51\">\n      <path clip-path=\"url(#pb477ef6855)\" d=\"M 671.938729 354.528 \nL 671.938729 93.6 \n\" style=\"fill:none;stroke:#b0b0b0;stroke-linecap:square;stroke-opacity:0.5;stroke-width:0.8;\"/>\n     </g>\n     <g id=\"line2d_52\">\n      <g>\n       <use style=\"stroke:#000000;stroke-width:0.8;\" x=\"671.938729\" xlink:href=\"#m9e32518061\" y=\"354.528\"/>\n      </g>\n     </g>\n     <g id=\"text_28\">\n      <!-- Country -->\n      <g transform=\"translate(674.698104 402.754562)rotate(-90)scale(0.1 -0.1)\">\n       <use xlink:href=\"#DejaVuSans-67\"/>\n       <use x=\"69.824219\" xlink:href=\"#DejaVuSans-111\"/>\n       <use x=\"131.005859\" xlink:href=\"#DejaVuSans-117\"/>\n       <use x=\"194.384766\" xlink:href=\"#DejaVuSans-110\"/>\n       <use x=\"257.763672\" xlink:href=\"#DejaVuSans-116\"/>\n       <use x=\"296.972656\" xlink:href=\"#DejaVuSans-114\"/>\n       <use x=\"338.085938\" xlink:href=\"#DejaVuSans-121\"/>\n      </g>\n     </g>\n    </g>\n    <g id=\"xtick_21\">\n     <g id=\"line2d_53\">\n      <path clip-path=\"url(#pb477ef6855)\" d=\"M 697.904778 354.528 \nL 697.904778 93.6 \n\" style=\"fill:none;stroke:#b0b0b0;stroke-linecap:square;stroke-opacity:0.5;stroke-width:0.8;\"/>\n     </g>\n     <g id=\"line2d_54\">\n      <g>\n       <use style=\"stroke:#000000;stroke-width:0.8;\" x=\"697.904778\" xlink:href=\"#m9e32518061\" y=\"354.528\"/>\n      </g>\n     </g>\n     <g id=\"text_29\">\n      <!-- Indie -->\n      <g transform=\"translate(700.664153 387.595187)rotate(-90)scale(0.1 -0.1)\">\n       <use xlink:href=\"#DejaVuSans-73\"/>\n       <use x=\"29.492188\" xlink:href=\"#DejaVuSans-110\"/>\n       <use x=\"92.871094\" xlink:href=\"#DejaVuSans-100\"/>\n       <use x=\"156.347656\" xlink:href=\"#DejaVuSans-105\"/>\n       <use x=\"184.130859\" xlink:href=\"#DejaVuSans-101\"/>\n      </g>\n     </g>\n    </g>\n    <g id=\"xtick_22\">\n     <g id=\"line2d_55\">\n      <path clip-path=\"url(#pb477ef6855)\" d=\"M 723.870826 354.528 \nL 723.870826 93.6 \n\" style=\"fill:none;stroke:#b0b0b0;stroke-linecap:square;stroke-opacity:0.5;stroke-width:0.8;\"/>\n     </g>\n     <g id=\"line2d_56\">\n      <g>\n       <use style=\"stroke:#000000;stroke-width:0.8;\" x=\"723.870826\" xlink:href=\"#m9e32518061\" y=\"354.528\"/>\n      </g>\n     </g>\n     <g id=\"text_30\">\n      <!-- House/EDM -->\n      <g transform=\"translate(726.630201 420.382687)rotate(-90)scale(0.1 -0.1)\">\n       <use xlink:href=\"#DejaVuSans-72\"/>\n       <use x=\"75.195312\" xlink:href=\"#DejaVuSans-111\"/>\n       <use x=\"136.376953\" xlink:href=\"#DejaVuSans-117\"/>\n       <use x=\"199.755859\" xlink:href=\"#DejaVuSans-115\"/>\n       <use x=\"251.855469\" xlink:href=\"#DejaVuSans-101\"/>\n       <use x=\"313.378906\" xlink:href=\"#DejaVuSans-47\"/>\n       <use x=\"347.070312\" xlink:href=\"#DejaVuSans-69\"/>\n       <use x=\"410.253906\" xlink:href=\"#DejaVuSans-68\"/>\n       <use x=\"487.255859\" xlink:href=\"#DejaVuSans-77\"/>\n      </g>\n     </g>\n    </g>\n    <g id=\"xtick_23\">\n     <g id=\"line2d_57\">\n      <path clip-path=\"url(#pb477ef6855)\" d=\"M 749.836875 354.528 \nL 749.836875 93.6 \n\" style=\"fill:none;stroke:#b0b0b0;stroke-linecap:square;stroke-opacity:0.5;stroke-width:0.8;\"/>\n     </g>\n     <g id=\"line2d_58\">\n      <g>\n       <use style=\"stroke:#000000;stroke-width:0.8;\" x=\"749.836875\" xlink:href=\"#m9e32518061\" y=\"354.528\"/>\n      </g>\n     </g>\n     <g id=\"text_31\">\n      <!-- Latin -->\n      <g transform=\"translate(752.59625 387.763937)rotate(-90)scale(0.1 -0.1)\">\n       <use xlink:href=\"#DejaVuSans-76\"/>\n       <use x=\"55.712891\" xlink:href=\"#DejaVuSans-97\"/>\n       <use x=\"116.992188\" xlink:href=\"#DejaVuSans-116\"/>\n       <use x=\"156.201172\" xlink:href=\"#DejaVuSans-105\"/>\n       <use x=\"183.984375\" xlink:href=\"#DejaVuSans-110\"/>\n      </g>\n     </g>\n    </g>\n    <g id=\"xtick_24\">\n     <g id=\"line2d_59\">\n      <path clip-path=\"url(#pb477ef6855)\" d=\"M 775.802924 354.528 \nL 775.802924 93.6 \n\" style=\"fill:none;stroke:#b0b0b0;stroke-linecap:square;stroke-opacity:0.5;stroke-width:0.8;\"/>\n     </g>\n     <g id=\"line2d_60\">\n      <g>\n       <use style=\"stroke:#000000;stroke-width:0.8;\" x=\"775.802924\" xlink:href=\"#m9e32518061\" y=\"354.528\"/>\n      </g>\n     </g>\n     <g id=\"text_32\">\n      <!-- Rock -->\n      <g transform=\"translate(778.562299 386.93425)rotate(-90)scale(0.1 -0.1)\">\n       <use xlink:href=\"#DejaVuSans-82\"/>\n       <use x=\"64.982422\" xlink:href=\"#DejaVuSans-111\"/>\n       <use x=\"126.164062\" xlink:href=\"#DejaVuSans-99\"/>\n       <use x=\"181.144531\" xlink:href=\"#DejaVuSans-107\"/>\n      </g>\n     </g>\n    </g>\n    <g id=\"xtick_25\">\n     <g id=\"line2d_61\">\n      <path clip-path=\"url(#pb477ef6855)\" d=\"M 801.768972 354.528 \nL 801.768972 93.6 \n\" style=\"fill:none;stroke:#b0b0b0;stroke-linecap:square;stroke-opacity:0.5;stroke-width:0.8;\"/>\n     </g>\n     <g id=\"line2d_62\">\n      <g>\n       <use style=\"stroke:#000000;stroke-width:0.8;\" x=\"801.768972\" xlink:href=\"#m9e32518061\" y=\"354.528\"/>\n      </g>\n     </g>\n     <g id=\"text_33\">\n      <!-- Brooklyn Drill -->\n      <g transform=\"translate(804.528347 430.160812)rotate(-90)scale(0.1 -0.1)\">\n       <use xlink:href=\"#DejaVuSans-66\"/>\n       <use x=\"68.603516\" xlink:href=\"#DejaVuSans-114\"/>\n       <use x=\"107.466797\" xlink:href=\"#DejaVuSans-111\"/>\n       <use x=\"168.648438\" xlink:href=\"#DejaVuSans-111\"/>\n       <use x=\"229.830078\" xlink:href=\"#DejaVuSans-107\"/>\n       <use x=\"287.740234\" xlink:href=\"#DejaVuSans-108\"/>\n       <use x=\"315.523438\" xlink:href=\"#DejaVuSans-121\"/>\n       <use x=\"374.703125\" xlink:href=\"#DejaVuSans-110\"/>\n       <use x=\"438.082031\" xlink:href=\"#DejaVuSans-32\"/>\n       <use x=\"469.869141\" xlink:href=\"#DejaVuSans-68\"/>\n       <use x=\"546.871094\" xlink:href=\"#DejaVuSans-114\"/>\n       <use x=\"587.984375\" xlink:href=\"#DejaVuSans-105\"/>\n       <use x=\"615.767578\" xlink:href=\"#DejaVuSans-108\"/>\n       <use x=\"643.550781\" xlink:href=\"#DejaVuSans-108\"/>\n      </g>\n     </g>\n    </g>\n    <g id=\"xtick_26\">\n     <g id=\"line2d_63\">\n      <path clip-path=\"url(#pb477ef6855)\" d=\"M 827.735021 354.528 \nL 827.735021 93.6 \n\" style=\"fill:none;stroke:#b0b0b0;stroke-linecap:square;stroke-opacity:0.5;stroke-width:0.8;\"/>\n     </g>\n     <g id=\"line2d_64\">\n      <g>\n       <use style=\"stroke:#000000;stroke-width:0.8;\" x=\"827.735021\" xlink:href=\"#m9e32518061\" y=\"354.528\"/>\n      </g>\n     </g>\n     <g id=\"text_34\">\n      <!-- Disco -->\n      <g transform=\"translate(830.494396 390.332687)rotate(-90)scale(0.1 -0.1)\">\n       <use xlink:href=\"#DejaVuSans-68\"/>\n       <use x=\"77.001953\" xlink:href=\"#DejaVuSans-105\"/>\n       <use x=\"104.785156\" xlink:href=\"#DejaVuSans-115\"/>\n       <use x=\"156.884766\" xlink:href=\"#DejaVuSans-99\"/>\n       <use x=\"211.865234\" xlink:href=\"#DejaVuSans-111\"/>\n      </g>\n     </g>\n    </g>\n    <g id=\"xtick_27\">\n     <g id=\"line2d_65\">\n      <path clip-path=\"url(#pb477ef6855)\" d=\"M 853.70107 354.528 \nL 853.70107 93.6 \n\" style=\"fill:none;stroke:#b0b0b0;stroke-linecap:square;stroke-opacity:0.5;stroke-width:0.8;\"/>\n     </g>\n     <g id=\"line2d_66\">\n      <g>\n       <use style=\"stroke:#000000;stroke-width:0.8;\" x=\"853.70107\" xlink:href=\"#m9e32518061\" y=\"354.528\"/>\n      </g>\n     </g>\n     <g id=\"text_35\">\n      <!-- Glitchcore -->\n      <g transform=\"translate(856.460445 413.745187)rotate(-90)scale(0.1 -0.1)\">\n       <use xlink:href=\"#DejaVuSans-71\"/>\n       <use x=\"77.490234\" xlink:href=\"#DejaVuSans-108\"/>\n       <use x=\"105.273438\" xlink:href=\"#DejaVuSans-105\"/>\n       <use x=\"133.056641\" xlink:href=\"#DejaVuSans-116\"/>\n       <use x=\"172.265625\" xlink:href=\"#DejaVuSans-99\"/>\n       <use x=\"227.246094\" xlink:href=\"#DejaVuSans-104\"/>\n       <use x=\"290.625\" xlink:href=\"#DejaVuSans-99\"/>\n       <use x=\"345.605469\" xlink:href=\"#DejaVuSans-111\"/>\n       <use x=\"406.787109\" xlink:href=\"#DejaVuSans-114\"/>\n       <use x=\"445.650391\" xlink:href=\"#DejaVuSans-101\"/>\n      </g>\n     </g>\n    </g>\n    <g id=\"xtick_28\">\n     <g id=\"line2d_67\">\n      <path clip-path=\"url(#pb477ef6855)\" d=\"M 879.667118 354.528 \nL 879.667118 93.6 \n\" style=\"fill:none;stroke:#b0b0b0;stroke-linecap:square;stroke-opacity:0.5;stroke-width:0.8;\"/>\n     </g>\n     <g id=\"line2d_68\">\n      <g>\n       <use style=\"stroke:#000000;stroke-width:0.8;\" x=\"879.667118\" xlink:href=\"#m9e32518061\" y=\"354.528\"/>\n      </g>\n     </g>\n     <g id=\"text_36\">\n      <!-- Halloween -->\n      <g transform=\"translate(882.426493 415.173312)rotate(-90)scale(0.1 -0.1)\">\n       <use xlink:href=\"#DejaVuSans-72\"/>\n       <use x=\"75.195312\" xlink:href=\"#DejaVuSans-97\"/>\n       <use x=\"136.474609\" xlink:href=\"#DejaVuSans-108\"/>\n       <use x=\"164.257812\" xlink:href=\"#DejaVuSans-108\"/>\n       <use x=\"192.041016\" xlink:href=\"#DejaVuSans-111\"/>\n       <use x=\"253.222656\" xlink:href=\"#DejaVuSans-119\"/>\n       <use x=\"335.009766\" xlink:href=\"#DejaVuSans-101\"/>\n       <use x=\"396.533203\" xlink:href=\"#DejaVuSans-101\"/>\n       <use x=\"458.056641\" xlink:href=\"#DejaVuSans-110\"/>\n      </g>\n     </g>\n    </g>\n    <g id=\"xtick_29\">\n     <g id=\"line2d_69\">\n      <path clip-path=\"url(#pb477ef6855)\" d=\"M 905.633167 354.528 \nL 905.633167 93.6 \n\" style=\"fill:none;stroke:#b0b0b0;stroke-linecap:square;stroke-opacity:0.5;stroke-width:0.8;\"/>\n     </g>\n     <g id=\"line2d_70\">\n      <g>\n       <use style=\"stroke:#000000;stroke-width:0.8;\" x=\"905.633167\" xlink:href=\"#m9e32518061\" y=\"354.528\"/>\n      </g>\n     </g>\n     <g id=\"text_37\">\n      <!-- Christmas -->\n      <g transform=\"translate(908.392542 413.445187)rotate(-90)scale(0.1 -0.1)\">\n       <use xlink:href=\"#DejaVuSans-67\"/>\n       <use x=\"69.824219\" xlink:href=\"#DejaVuSans-104\"/>\n       <use x=\"133.203125\" xlink:href=\"#DejaVuSans-114\"/>\n       <use x=\"174.316406\" xlink:href=\"#DejaVuSans-105\"/>\n       <use x=\"202.099609\" xlink:href=\"#DejaVuSans-115\"/>\n       <use x=\"254.199219\" xlink:href=\"#DejaVuSans-116\"/>\n       <use x=\"293.408203\" xlink:href=\"#DejaVuSans-109\"/>\n       <use x=\"390.820312\" xlink:href=\"#DejaVuSans-97\"/>\n       <use x=\"452.099609\" xlink:href=\"#DejaVuSans-115\"/>\n      </g>\n     </g>\n    </g>\n    <g id=\"xtick_30\">\n     <g id=\"line2d_71\">\n      <path clip-path=\"url(#pb477ef6855)\" d=\"M 931.599216 354.528 \nL 931.599216 93.6 \n\" style=\"fill:none;stroke:#b0b0b0;stroke-linecap:square;stroke-opacity:0.5;stroke-width:0.8;\"/>\n     </g>\n     <g id=\"line2d_72\">\n      <g>\n       <use style=\"stroke:#000000;stroke-width:0.8;\" x=\"931.599216\" xlink:href=\"#m9e32518061\" y=\"354.528\"/>\n      </g>\n     </g>\n     <g id=\"text_38\">\n      <!-- Classical -->\n      <g transform=\"translate(934.358591 406.518625)rotate(-90)scale(0.1 -0.1)\">\n       <use xlink:href=\"#DejaVuSans-67\"/>\n       <use x=\"69.824219\" xlink:href=\"#DejaVuSans-108\"/>\n       <use x=\"97.607422\" xlink:href=\"#DejaVuSans-97\"/>\n       <use x=\"158.886719\" xlink:href=\"#DejaVuSans-115\"/>\n       <use x=\"210.986328\" xlink:href=\"#DejaVuSans-115\"/>\n       <use x=\"263.085938\" xlink:href=\"#DejaVuSans-105\"/>\n       <use x=\"290.869141\" xlink:href=\"#DejaVuSans-99\"/>\n       <use x=\"345.849609\" xlink:href=\"#DejaVuSans-97\"/>\n       <use x=\"407.128906\" xlink:href=\"#DejaVuSans-108\"/>\n      </g>\n     </g>\n    </g>\n   </g>\n   <g id=\"matplotlib.axis_4\">\n    <g id=\"ytick_7\">\n     <g id=\"line2d_73\">\n      <path clip-path=\"url(#pb477ef6855)\" d=\"M 538.473239 354.528 \nL 961.200511 354.528 \n\" style=\"fill:none;stroke:#b0b0b0;stroke-linecap:square;stroke-opacity:0.5;stroke-width:0.8;\"/>\n     </g>\n     <g id=\"line2d_74\">\n      <defs>\n       <path d=\"M 0 0 \nL -3.5 0 \n\" id=\"m4c24cf152e\" style=\"stroke:#000000;stroke-width:0.8;\"/>\n      </defs>\n      <g>\n       <use style=\"stroke:#000000;stroke-width:0.8;\" x=\"538.473239\" xlink:href=\"#m4c24cf152e\" y=\"354.528\"/>\n      </g>\n     </g>\n     <g id=\"text_39\">\n      <!-- 0 -->\n      <g transform=\"translate(525.110739 358.327219)scale(0.1 -0.1)\">\n       <use xlink:href=\"#DejaVuSans-48\"/>\n      </g>\n     </g>\n    </g>\n    <g id=\"ytick_8\">\n     <g id=\"line2d_75\">\n      <path clip-path=\"url(#pb477ef6855)\" d=\"M 538.473239 307.194122 \nL 961.200511 307.194122 \n\" style=\"fill:none;stroke:#b0b0b0;stroke-linecap:square;stroke-opacity:0.5;stroke-width:0.8;\"/>\n     </g>\n     <g id=\"line2d_76\">\n      <g>\n       <use style=\"stroke:#000000;stroke-width:0.8;\" x=\"538.473239\" xlink:href=\"#m4c24cf152e\" y=\"307.194122\"/>\n      </g>\n     </g>\n     <g id=\"text_40\">\n      <!-- 20 -->\n      <g transform=\"translate(518.748239 310.993341)scale(0.1 -0.1)\">\n       <use xlink:href=\"#DejaVuSans-50\"/>\n       <use x=\"63.623047\" xlink:href=\"#DejaVuSans-48\"/>\n      </g>\n     </g>\n    </g>\n    <g id=\"ytick_9\">\n     <g id=\"line2d_77\">\n      <path clip-path=\"url(#pb477ef6855)\" d=\"M 538.473239 259.860245 \nL 961.200511 259.860245 \n\" style=\"fill:none;stroke:#b0b0b0;stroke-linecap:square;stroke-opacity:0.5;stroke-width:0.8;\"/>\n     </g>\n     <g id=\"line2d_78\">\n      <g>\n       <use style=\"stroke:#000000;stroke-width:0.8;\" x=\"538.473239\" xlink:href=\"#m4c24cf152e\" y=\"259.860245\"/>\n      </g>\n     </g>\n     <g id=\"text_41\">\n      <!-- 40 -->\n      <g transform=\"translate(518.748239 263.659464)scale(0.1 -0.1)\">\n       <use xlink:href=\"#DejaVuSans-52\"/>\n       <use x=\"63.623047\" xlink:href=\"#DejaVuSans-48\"/>\n      </g>\n     </g>\n    </g>\n    <g id=\"ytick_10\">\n     <g id=\"line2d_79\">\n      <path clip-path=\"url(#pb477ef6855)\" d=\"M 538.473239 212.526367 \nL 961.200511 212.526367 \n\" style=\"fill:none;stroke:#b0b0b0;stroke-linecap:square;stroke-opacity:0.5;stroke-width:0.8;\"/>\n     </g>\n     <g id=\"line2d_80\">\n      <g>\n       <use style=\"stroke:#000000;stroke-width:0.8;\" x=\"538.473239\" xlink:href=\"#m4c24cf152e\" y=\"212.526367\"/>\n      </g>\n     </g>\n     <g id=\"text_42\">\n      <!-- 60 -->\n      <g transform=\"translate(518.748239 216.325586)scale(0.1 -0.1)\">\n       <use xlink:href=\"#DejaVuSans-54\"/>\n       <use x=\"63.623047\" xlink:href=\"#DejaVuSans-48\"/>\n      </g>\n     </g>\n    </g>\n    <g id=\"ytick_11\">\n     <g id=\"line2d_81\">\n      <path clip-path=\"url(#pb477ef6855)\" d=\"M 538.473239 165.19249 \nL 961.200511 165.19249 \n\" style=\"fill:none;stroke:#b0b0b0;stroke-linecap:square;stroke-opacity:0.5;stroke-width:0.8;\"/>\n     </g>\n     <g id=\"line2d_82\">\n      <g>\n       <use style=\"stroke:#000000;stroke-width:0.8;\" x=\"538.473239\" xlink:href=\"#m4c24cf152e\" y=\"165.19249\"/>\n      </g>\n     </g>\n     <g id=\"text_43\">\n      <!-- 80 -->\n      <g transform=\"translate(518.748239 168.991709)scale(0.1 -0.1)\">\n       <use xlink:href=\"#DejaVuSans-56\"/>\n       <use x=\"63.623047\" xlink:href=\"#DejaVuSans-48\"/>\n      </g>\n     </g>\n    </g>\n    <g id=\"ytick_12\">\n     <g id=\"line2d_83\">\n      <path clip-path=\"url(#pb477ef6855)\" d=\"M 538.473239 117.858612 \nL 961.200511 117.858612 \n\" style=\"fill:none;stroke:#b0b0b0;stroke-linecap:square;stroke-opacity:0.5;stroke-width:0.8;\"/>\n     </g>\n     <g id=\"line2d_84\">\n      <g>\n       <use style=\"stroke:#000000;stroke-width:0.8;\" x=\"538.473239\" xlink:href=\"#m4c24cf152e\" y=\"117.858612\"/>\n      </g>\n     </g>\n     <g id=\"text_44\">\n      <!-- 100 -->\n      <g transform=\"translate(512.385739 121.657831)scale(0.1 -0.1)\">\n       <use xlink:href=\"#DejaVuSans-49\"/>\n       <use x=\"63.623047\" xlink:href=\"#DejaVuSans-48\"/>\n       <use x=\"127.246094\" xlink:href=\"#DejaVuSans-48\"/>\n      </g>\n     </g>\n    </g>\n   </g>\n   <g id=\"patch_23\">\n    <path clip-path=\"url(#pb477ef6855)\" d=\"M 557.688115 354.528 \nL 578.460954 354.528 \nL 578.460954 136.792163 \nL 557.688115 136.792163 \nz\n\" style=\"fill:#ff0000;\"/>\n   </g>\n   <g id=\"patch_24\">\n    <path clip-path=\"url(#pb477ef6855)\" d=\"M 583.654163 354.528 \nL 604.427002 354.528 \nL 604.427002 165.19249 \nL 583.654163 165.19249 \nz\n\" style=\"fill:#800080;\"/>\n   </g>\n   <g id=\"patch_25\">\n    <path clip-path=\"url(#pb477ef6855)\" d=\"M 609.620212 354.528 \nL 630.393051 354.528 \nL 630.393051 290.627265 \nL 609.620212 290.627265 \nz\n\" style=\"fill:#ff7f50;\"/>\n   </g>\n   <g id=\"patch_26\">\n    <path clip-path=\"url(#pb477ef6855)\" d=\"M 635.586261 354.528 \nL 656.3591 354.528 \nL 656.3591 295.360653 \nL 635.586261 295.360653 \nz\n\" style=\"fill:#0000ff;\"/>\n   </g>\n   <g id=\"patch_27\">\n    <path clip-path=\"url(#pb477ef6855)\" d=\"M 661.552309 354.528 \nL 682.325148 354.528 \nL 682.325148 316.660898 \nL 661.552309 316.660898 \nz\n\" style=\"fill:#ffa500;\"/>\n   </g>\n   <g id=\"patch_28\">\n    <path clip-path=\"url(#pb477ef6855)\" d=\"M 687.518358 354.528 \nL 708.291197 354.528 \nL 708.291197 316.660898 \nL 687.518358 316.660898 \nz\n\" style=\"fill:#2e8b57;\"/>\n   </g>\n   <g id=\"patch_29\">\n    <path clip-path=\"url(#pb477ef6855)\" d=\"M 713.484407 354.528 \nL 734.257246 354.528 \nL 734.257246 333.227755 \nL 713.484407 333.227755 \nz\n\" style=\"fill:#6a5acd;\"/>\n   </g>\n   <g id=\"patch_30\">\n    <path clip-path=\"url(#pb477ef6855)\" d=\"M 739.450456 354.528 \nL 760.223294 354.528 \nL 760.223294 337.961143 \nL 739.450456 337.961143 \nz\n\" style=\"fill:#cd5c5c;\"/>\n   </g>\n   <g id=\"patch_31\">\n    <path clip-path=\"url(#pb477ef6855)\" d=\"M 765.416504 354.528 \nL 786.189343 354.528 \nL 786.189343 340.327837 \nL 765.416504 340.327837 \nz\n\" style=\"fill:#da70d6;\"/>\n   </g>\n   <g id=\"patch_32\">\n    <path clip-path=\"url(#pb477ef6855)\" d=\"M 791.382553 354.528 \nL 812.155392 354.528 \nL 812.155392 342.694531 \nL 791.382553 342.694531 \nz\n\" style=\"fill:#db7093;\"/>\n   </g>\n   <g id=\"patch_33\">\n    <path clip-path=\"url(#pb477ef6855)\" d=\"M 817.348602 354.528 \nL 838.121441 354.528 \nL 838.121441 354.528 \nL 817.348602 354.528 \nz\n\" style=\"fill:#ffd700;\"/>\n   </g>\n   <g id=\"patch_34\">\n    <path clip-path=\"url(#pb477ef6855)\" d=\"M 843.31465 354.528 \nL 864.087489 354.528 \nL 864.087489 354.528 \nL 843.31465 354.528 \nz\n\" style=\"fill:#c0c0c0;\"/>\n   </g>\n   <g id=\"patch_35\">\n    <path clip-path=\"url(#pb477ef6855)\" d=\"M 869.280699 354.528 \nL 890.053538 354.528 \nL 890.053538 354.528 \nL 869.280699 354.528 \nz\n\" style=\"fill:#32cd32;\"/>\n   </g>\n   <g id=\"patch_36\">\n    <path clip-path=\"url(#pb477ef6855)\" d=\"M 895.246748 354.528 \nL 916.019587 354.528 \nL 916.019587 354.528 \nL 895.246748 354.528 \nz\n\" style=\"fill:#800000;\"/>\n   </g>\n   <g id=\"patch_37\">\n    <path clip-path=\"url(#pb477ef6855)\" d=\"M 921.212796 354.528 \nL 941.985635 354.528 \nL 941.985635 354.528 \nL 921.212796 354.528 \nz\n\" style=\"fill:#800080;\"/>\n   </g>\n   <g id=\"patch_38\">\n    <path d=\"M 538.473239 354.528 \nL 538.473239 93.6 \n\" style=\"fill:none;stroke:#000000;stroke-linecap:square;stroke-linejoin:miter;stroke-width:0.8;\"/>\n   </g>\n   <g id=\"patch_39\">\n    <path d=\"M 961.200511 354.528 \nL 961.200511 93.6 \n\" style=\"fill:none;stroke:#000000;stroke-linecap:square;stroke-linejoin:miter;stroke-width:0.8;\"/>\n   </g>\n   <g id=\"patch_40\">\n    <path d=\"M 538.473239 354.528 \nL 961.200511 354.528 \n\" style=\"fill:none;stroke:#000000;stroke-linecap:square;stroke-linejoin:miter;stroke-width:0.8;\"/>\n   </g>\n   <g id=\"patch_41\">\n    <path d=\"M 538.473239 93.6 \nL 961.200511 93.6 \n\" style=\"fill:none;stroke:#000000;stroke-linecap:square;stroke-linejoin:miter;stroke-width:0.8;\"/>\n   </g>\n   <g id=\"text_45\">\n    <!-- March -->\n    <g transform=\"translate(731.55 87.6)scale(0.12 -0.12)\">\n     <use xlink:href=\"#DejaVuSans-77\"/>\n     <use x=\"86.279297\" xlink:href=\"#DejaVuSans-97\"/>\n     <use x=\"147.558594\" xlink:href=\"#DejaVuSans-114\"/>\n     <use x=\"186.421875\" xlink:href=\"#DejaVuSans-99\"/>\n     <use x=\"241.402344\" xlink:href=\"#DejaVuSans-104\"/>\n    </g>\n   </g>\n  </g>\n  <g id=\"axes_3\">\n   <g id=\"patch_42\">\n    <path d=\"M 1024.609602 354.528 \nL 1447.336875 354.528 \nL 1447.336875 93.6 \nL 1024.609602 93.6 \nz\n\" style=\"fill:#ffffff;\"/>\n   </g>\n   <g id=\"matplotlib.axis_5\">\n    <g id=\"xtick_31\">\n     <g id=\"line2d_85\">\n      <path clip-path=\"url(#pdac6a67fba)\" d=\"M 1054.210898 354.528 \nL 1054.210898 93.6 \n\" style=\"fill:none;stroke:#b0b0b0;stroke-linecap:square;stroke-opacity:0.5;stroke-width:0.8;\"/>\n     </g>\n     <g id=\"line2d_86\">\n      <g>\n       <use style=\"stroke:#000000;stroke-width:0.8;\" x=\"1054.210898\" xlink:href=\"#m9e32518061\" y=\"354.528\"/>\n      </g>\n     </g>\n     <g id=\"text_46\">\n      <!-- Pop -->\n      <g transform=\"translate(1056.970273 381.162375)rotate(-90)scale(0.1 -0.1)\">\n       <use xlink:href=\"#DejaVuSans-80\"/>\n       <use x=\"56.677734\" xlink:href=\"#DejaVuSans-111\"/>\n       <use x=\"117.859375\" xlink:href=\"#DejaVuSans-112\"/>\n      </g>\n     </g>\n    </g>\n    <g id=\"xtick_32\">\n     <g id=\"line2d_87\">\n      <path clip-path=\"url(#pdac6a67fba)\" d=\"M 1080.176946 354.528 \nL 1080.176946 93.6 \n\" style=\"fill:none;stroke:#b0b0b0;stroke-linecap:square;stroke-opacity:0.5;stroke-width:0.8;\"/>\n     </g>\n     <g id=\"line2d_88\">\n      <g>\n       <use style=\"stroke:#000000;stroke-width:0.8;\" x=\"1080.176946\" xlink:href=\"#m9e32518061\" y=\"354.528\"/>\n      </g>\n     </g>\n     <g id=\"text_47\">\n      <!-- Rap/Hip Hop/Trap -->\n      <g transform=\"translate(1082.936321 449.998312)rotate(-90)scale(0.1 -0.1)\">\n       <use xlink:href=\"#DejaVuSans-82\"/>\n       <use x=\"67.232422\" xlink:href=\"#DejaVuSans-97\"/>\n       <use x=\"128.511719\" xlink:href=\"#DejaVuSans-112\"/>\n       <use x=\"191.988281\" xlink:href=\"#DejaVuSans-47\"/>\n       <use x=\"225.679688\" xlink:href=\"#DejaVuSans-72\"/>\n       <use x=\"300.875\" xlink:href=\"#DejaVuSans-105\"/>\n       <use x=\"328.658203\" xlink:href=\"#DejaVuSans-112\"/>\n       <use x=\"392.134766\" xlink:href=\"#DejaVuSans-32\"/>\n       <use x=\"423.921875\" xlink:href=\"#DejaVuSans-72\"/>\n       <use x=\"499.117188\" xlink:href=\"#DejaVuSans-111\"/>\n       <use x=\"560.298828\" xlink:href=\"#DejaVuSans-112\"/>\n       <use x=\"623.775391\" xlink:href=\"#DejaVuSans-47\"/>\n       <use x=\"657.466797\" xlink:href=\"#DejaVuSans-84\"/>\n       <use x=\"703.800781\" xlink:href=\"#DejaVuSans-114\"/>\n       <use x=\"744.914062\" xlink:href=\"#DejaVuSans-97\"/>\n       <use x=\"806.193359\" xlink:href=\"#DejaVuSans-112\"/>\n      </g>\n     </g>\n    </g>\n    <g id=\"xtick_33\">\n     <g id=\"line2d_89\">\n      <path clip-path=\"url(#pdac6a67fba)\" d=\"M 1106.142995 354.528 \nL 1106.142995 93.6 \n\" style=\"fill:none;stroke:#b0b0b0;stroke-linecap:square;stroke-opacity:0.5;stroke-width:0.8;\"/>\n     </g>\n     <g id=\"line2d_90\">\n      <g>\n       <use style=\"stroke:#000000;stroke-width:0.8;\" x=\"1106.142995\" xlink:href=\"#m9e32518061\" y=\"354.528\"/>\n      </g>\n     </g>\n     <g id=\"text_48\">\n      <!-- Alternative/Alt -->\n      <g transform=\"translate(1108.90237 434.799875)rotate(-90)scale(0.1 -0.1)\">\n       <use xlink:href=\"#DejaVuSans-65\"/>\n       <use x=\"68.408203\" xlink:href=\"#DejaVuSans-108\"/>\n       <use x=\"96.191406\" xlink:href=\"#DejaVuSans-116\"/>\n       <use x=\"135.400391\" xlink:href=\"#DejaVuSans-101\"/>\n       <use x=\"196.923828\" xlink:href=\"#DejaVuSans-114\"/>\n       <use x=\"236.287109\" xlink:href=\"#DejaVuSans-110\"/>\n       <use x=\"299.666016\" xlink:href=\"#DejaVuSans-97\"/>\n       <use x=\"360.945312\" xlink:href=\"#DejaVuSans-116\"/>\n       <use x=\"400.154297\" xlink:href=\"#DejaVuSans-105\"/>\n       <use x=\"427.9375\" xlink:href=\"#DejaVuSans-118\"/>\n       <use x=\"487.117188\" xlink:href=\"#DejaVuSans-101\"/>\n       <use x=\"548.640625\" xlink:href=\"#DejaVuSans-47\"/>\n       <use x=\"582.332031\" xlink:href=\"#DejaVuSans-65\"/>\n       <use x=\"650.740234\" xlink:href=\"#DejaVuSans-108\"/>\n       <use x=\"678.523438\" xlink:href=\"#DejaVuSans-116\"/>\n      </g>\n     </g>\n    </g>\n    <g id=\"xtick_34\">\n     <g id=\"line2d_91\">\n      <path clip-path=\"url(#pdac6a67fba)\" d=\"M 1132.109044 354.528 \nL 1132.109044 93.6 \n\" style=\"fill:none;stroke:#b0b0b0;stroke-linecap:square;stroke-opacity:0.5;stroke-width:0.8;\"/>\n     </g>\n     <g id=\"line2d_92\">\n      <g>\n       <use style=\"stroke:#000000;stroke-width:0.8;\" x=\"1132.109044\" xlink:href=\"#m9e32518061\" y=\"354.528\"/>\n      </g>\n     </g>\n     <g id=\"text_49\">\n      <!-- Indie -->\n      <g transform=\"translate(1134.868419 387.595187)rotate(-90)scale(0.1 -0.1)\">\n       <use xlink:href=\"#DejaVuSans-73\"/>\n       <use x=\"29.492188\" xlink:href=\"#DejaVuSans-110\"/>\n       <use x=\"92.871094\" xlink:href=\"#DejaVuSans-100\"/>\n       <use x=\"156.347656\" xlink:href=\"#DejaVuSans-105\"/>\n       <use x=\"184.130859\" xlink:href=\"#DejaVuSans-101\"/>\n      </g>\n     </g>\n    </g>\n    <g id=\"xtick_35\">\n     <g id=\"line2d_93\">\n      <path clip-path=\"url(#pdac6a67fba)\" d=\"M 1158.075093 354.528 \nL 1158.075093 93.6 \n\" style=\"fill:none;stroke:#b0b0b0;stroke-linecap:square;stroke-opacity:0.5;stroke-width:0.8;\"/>\n     </g>\n     <g id=\"line2d_94\">\n      <g>\n       <use style=\"stroke:#000000;stroke-width:0.8;\" x=\"1158.075093\" xlink:href=\"#m9e32518061\" y=\"354.528\"/>\n      </g>\n     </g>\n     <g id=\"text_50\">\n      <!-- Country -->\n      <g transform=\"translate(1160.834468 402.754562)rotate(-90)scale(0.1 -0.1)\">\n       <use xlink:href=\"#DejaVuSans-67\"/>\n       <use x=\"69.824219\" xlink:href=\"#DejaVuSans-111\"/>\n       <use x=\"131.005859\" xlink:href=\"#DejaVuSans-117\"/>\n       <use x=\"194.384766\" xlink:href=\"#DejaVuSans-110\"/>\n       <use x=\"257.763672\" xlink:href=\"#DejaVuSans-116\"/>\n       <use x=\"296.972656\" xlink:href=\"#DejaVuSans-114\"/>\n       <use x=\"338.085938\" xlink:href=\"#DejaVuSans-121\"/>\n      </g>\n     </g>\n    </g>\n    <g id=\"xtick_36\">\n     <g id=\"line2d_95\">\n      <path clip-path=\"url(#pdac6a67fba)\" d=\"M 1184.041141 354.528 \nL 1184.041141 93.6 \n\" style=\"fill:none;stroke:#b0b0b0;stroke-linecap:square;stroke-opacity:0.5;stroke-width:0.8;\"/>\n     </g>\n     <g id=\"line2d_96\">\n      <g>\n       <use style=\"stroke:#000000;stroke-width:0.8;\" x=\"1184.041141\" xlink:href=\"#m9e32518061\" y=\"354.528\"/>\n      </g>\n     </g>\n     <g id=\"text_51\">\n      <!-- R&amp;B/Soul/Blues -->\n      <g transform=\"translate(1186.800516 440.295187)rotate(-90)scale(0.1 -0.1)\">\n       <use xlink:href=\"#DejaVuSans-82\"/>\n       <use x=\"69.482422\" xlink:href=\"#DejaVuSans-38\"/>\n       <use x=\"147.460938\" xlink:href=\"#DejaVuSans-66\"/>\n       <use x=\"216.064453\" xlink:href=\"#DejaVuSans-47\"/>\n       <use x=\"249.755859\" xlink:href=\"#DejaVuSans-83\"/>\n       <use x=\"313.232422\" xlink:href=\"#DejaVuSans-111\"/>\n       <use x=\"374.414062\" xlink:href=\"#DejaVuSans-117\"/>\n       <use x=\"437.792969\" xlink:href=\"#DejaVuSans-108\"/>\n       <use x=\"465.576172\" xlink:href=\"#DejaVuSans-47\"/>\n       <use x=\"499.267578\" xlink:href=\"#DejaVuSans-66\"/>\n       <use x=\"567.871094\" xlink:href=\"#DejaVuSans-108\"/>\n       <use x=\"595.654297\" xlink:href=\"#DejaVuSans-117\"/>\n       <use x=\"659.033203\" xlink:href=\"#DejaVuSans-101\"/>\n       <use x=\"720.556641\" xlink:href=\"#DejaVuSans-115\"/>\n      </g>\n     </g>\n    </g>\n    <g id=\"xtick_37\">\n     <g id=\"line2d_97\">\n      <path clip-path=\"url(#pdac6a67fba)\" d=\"M 1210.00719 354.528 \nL 1210.00719 93.6 \n\" style=\"fill:none;stroke:#b0b0b0;stroke-linecap:square;stroke-opacity:0.5;stroke-width:0.8;\"/>\n     </g>\n     <g id=\"line2d_98\">\n      <g>\n       <use style=\"stroke:#000000;stroke-width:0.8;\" x=\"1210.00719\" xlink:href=\"#m9e32518061\" y=\"354.528\"/>\n      </g>\n     </g>\n     <g id=\"text_52\">\n      <!-- House/EDM -->\n      <g transform=\"translate(1212.766565 420.382687)rotate(-90)scale(0.1 -0.1)\">\n       <use xlink:href=\"#DejaVuSans-72\"/>\n       <use x=\"75.195312\" xlink:href=\"#DejaVuSans-111\"/>\n       <use x=\"136.376953\" xlink:href=\"#DejaVuSans-117\"/>\n       <use x=\"199.755859\" xlink:href=\"#DejaVuSans-115\"/>\n       <use x=\"251.855469\" xlink:href=\"#DejaVuSans-101\"/>\n       <use x=\"313.378906\" xlink:href=\"#DejaVuSans-47\"/>\n       <use x=\"347.070312\" xlink:href=\"#DejaVuSans-69\"/>\n       <use x=\"410.253906\" xlink:href=\"#DejaVuSans-68\"/>\n       <use x=\"487.255859\" xlink:href=\"#DejaVuSans-77\"/>\n      </g>\n     </g>\n    </g>\n    <g id=\"xtick_38\">\n     <g id=\"line2d_99\">\n      <path clip-path=\"url(#pdac6a67fba)\" d=\"M 1235.973239 354.528 \nL 1235.973239 93.6 \n\" style=\"fill:none;stroke:#b0b0b0;stroke-linecap:square;stroke-opacity:0.5;stroke-width:0.8;\"/>\n     </g>\n     <g id=\"line2d_100\">\n      <g>\n       <use style=\"stroke:#000000;stroke-width:0.8;\" x=\"1235.973239\" xlink:href=\"#m9e32518061\" y=\"354.528\"/>\n      </g>\n     </g>\n     <g id=\"text_53\">\n      <!-- Rock -->\n      <g transform=\"translate(1238.732614 386.93425)rotate(-90)scale(0.1 -0.1)\">\n       <use xlink:href=\"#DejaVuSans-82\"/>\n       <use x=\"64.982422\" xlink:href=\"#DejaVuSans-111\"/>\n       <use x=\"126.164062\" xlink:href=\"#DejaVuSans-99\"/>\n       <use x=\"181.144531\" xlink:href=\"#DejaVuSans-107\"/>\n      </g>\n     </g>\n    </g>\n    <g id=\"xtick_39\">\n     <g id=\"line2d_101\">\n      <path clip-path=\"url(#pdac6a67fba)\" d=\"M 1261.939287 354.528 \nL 1261.939287 93.6 \n\" style=\"fill:none;stroke:#b0b0b0;stroke-linecap:square;stroke-opacity:0.5;stroke-width:0.8;\"/>\n     </g>\n     <g id=\"line2d_102\">\n      <g>\n       <use style=\"stroke:#000000;stroke-width:0.8;\" x=\"1261.939287\" xlink:href=\"#m9e32518061\" y=\"354.528\"/>\n      </g>\n     </g>\n     <g id=\"text_54\">\n      <!-- Brooklyn Drill -->\n      <g transform=\"translate(1264.698662 430.160812)rotate(-90)scale(0.1 -0.1)\">\n       <use xlink:href=\"#DejaVuSans-66\"/>\n       <use x=\"68.603516\" xlink:href=\"#DejaVuSans-114\"/>\n       <use x=\"107.466797\" xlink:href=\"#DejaVuSans-111\"/>\n       <use x=\"168.648438\" xlink:href=\"#DejaVuSans-111\"/>\n       <use x=\"229.830078\" xlink:href=\"#DejaVuSans-107\"/>\n       <use x=\"287.740234\" xlink:href=\"#DejaVuSans-108\"/>\n       <use x=\"315.523438\" xlink:href=\"#DejaVuSans-121\"/>\n       <use x=\"374.703125\" xlink:href=\"#DejaVuSans-110\"/>\n       <use x=\"438.082031\" xlink:href=\"#DejaVuSans-32\"/>\n       <use x=\"469.869141\" xlink:href=\"#DejaVuSans-68\"/>\n       <use x=\"546.871094\" xlink:href=\"#DejaVuSans-114\"/>\n       <use x=\"587.984375\" xlink:href=\"#DejaVuSans-105\"/>\n       <use x=\"615.767578\" xlink:href=\"#DejaVuSans-108\"/>\n       <use x=\"643.550781\" xlink:href=\"#DejaVuSans-108\"/>\n      </g>\n     </g>\n    </g>\n    <g id=\"xtick_40\">\n     <g id=\"line2d_103\">\n      <path clip-path=\"url(#pdac6a67fba)\" d=\"M 1287.905336 354.528 \nL 1287.905336 93.6 \n\" style=\"fill:none;stroke:#b0b0b0;stroke-linecap:square;stroke-opacity:0.5;stroke-width:0.8;\"/>\n     </g>\n     <g id=\"line2d_104\">\n      <g>\n       <use style=\"stroke:#000000;stroke-width:0.8;\" x=\"1287.905336\" xlink:href=\"#m9e32518061\" y=\"354.528\"/>\n      </g>\n     </g>\n     <g id=\"text_55\">\n      <!-- Latin -->\n      <g transform=\"translate(1290.664711 387.763937)rotate(-90)scale(0.1 -0.1)\">\n       <use xlink:href=\"#DejaVuSans-76\"/>\n       <use x=\"55.712891\" xlink:href=\"#DejaVuSans-97\"/>\n       <use x=\"116.992188\" xlink:href=\"#DejaVuSans-116\"/>\n       <use x=\"156.201172\" xlink:href=\"#DejaVuSans-105\"/>\n       <use x=\"183.984375\" xlink:href=\"#DejaVuSans-110\"/>\n      </g>\n     </g>\n    </g>\n    <g id=\"xtick_41\">\n     <g id=\"line2d_105\">\n      <path clip-path=\"url(#pdac6a67fba)\" d=\"M 1313.871385 354.528 \nL 1313.871385 93.6 \n\" style=\"fill:none;stroke:#b0b0b0;stroke-linecap:square;stroke-opacity:0.5;stroke-width:0.8;\"/>\n     </g>\n     <g id=\"line2d_106\">\n      <g>\n       <use style=\"stroke:#000000;stroke-width:0.8;\" x=\"1313.871385\" xlink:href=\"#m9e32518061\" y=\"354.528\"/>\n      </g>\n     </g>\n     <g id=\"text_56\">\n      <!-- Disco -->\n      <g transform=\"translate(1316.63076 390.332687)rotate(-90)scale(0.1 -0.1)\">\n       <use xlink:href=\"#DejaVuSans-68\"/>\n       <use x=\"77.001953\" xlink:href=\"#DejaVuSans-105\"/>\n       <use x=\"104.785156\" xlink:href=\"#DejaVuSans-115\"/>\n       <use x=\"156.884766\" xlink:href=\"#DejaVuSans-99\"/>\n       <use x=\"211.865234\" xlink:href=\"#DejaVuSans-111\"/>\n      </g>\n     </g>\n    </g>\n    <g id=\"xtick_42\">\n     <g id=\"line2d_107\">\n      <path clip-path=\"url(#pdac6a67fba)\" d=\"M 1339.837433 354.528 \nL 1339.837433 93.6 \n\" style=\"fill:none;stroke:#b0b0b0;stroke-linecap:square;stroke-opacity:0.5;stroke-width:0.8;\"/>\n     </g>\n     <g id=\"line2d_108\">\n      <g>\n       <use style=\"stroke:#000000;stroke-width:0.8;\" x=\"1339.837433\" xlink:href=\"#m9e32518061\" y=\"354.528\"/>\n      </g>\n     </g>\n     <g id=\"text_57\">\n      <!-- Glitchcore -->\n      <g transform=\"translate(1342.596808 413.745187)rotate(-90)scale(0.1 -0.1)\">\n       <use xlink:href=\"#DejaVuSans-71\"/>\n       <use x=\"77.490234\" xlink:href=\"#DejaVuSans-108\"/>\n       <use x=\"105.273438\" xlink:href=\"#DejaVuSans-105\"/>\n       <use x=\"133.056641\" xlink:href=\"#DejaVuSans-116\"/>\n       <use x=\"172.265625\" xlink:href=\"#DejaVuSans-99\"/>\n       <use x=\"227.246094\" xlink:href=\"#DejaVuSans-104\"/>\n       <use x=\"290.625\" xlink:href=\"#DejaVuSans-99\"/>\n       <use x=\"345.605469\" xlink:href=\"#DejaVuSans-111\"/>\n       <use x=\"406.787109\" xlink:href=\"#DejaVuSans-114\"/>\n       <use x=\"445.650391\" xlink:href=\"#DejaVuSans-101\"/>\n      </g>\n     </g>\n    </g>\n    <g id=\"xtick_43\">\n     <g id=\"line2d_109\">\n      <path clip-path=\"url(#pdac6a67fba)\" d=\"M 1365.803482 354.528 \nL 1365.803482 93.6 \n\" style=\"fill:none;stroke:#b0b0b0;stroke-linecap:square;stroke-opacity:0.5;stroke-width:0.8;\"/>\n     </g>\n     <g id=\"line2d_110\">\n      <g>\n       <use style=\"stroke:#000000;stroke-width:0.8;\" x=\"1365.803482\" xlink:href=\"#m9e32518061\" y=\"354.528\"/>\n      </g>\n     </g>\n     <g id=\"text_58\">\n      <!-- Halloween -->\n      <g transform=\"translate(1368.562857 415.173312)rotate(-90)scale(0.1 -0.1)\">\n       <use xlink:href=\"#DejaVuSans-72\"/>\n       <use x=\"75.195312\" xlink:href=\"#DejaVuSans-97\"/>\n       <use x=\"136.474609\" xlink:href=\"#DejaVuSans-108\"/>\n       <use x=\"164.257812\" xlink:href=\"#DejaVuSans-108\"/>\n       <use x=\"192.041016\" xlink:href=\"#DejaVuSans-111\"/>\n       <use x=\"253.222656\" xlink:href=\"#DejaVuSans-119\"/>\n       <use x=\"335.009766\" xlink:href=\"#DejaVuSans-101\"/>\n       <use x=\"396.533203\" xlink:href=\"#DejaVuSans-101\"/>\n       <use x=\"458.056641\" xlink:href=\"#DejaVuSans-110\"/>\n      </g>\n     </g>\n    </g>\n    <g id=\"xtick_44\">\n     <g id=\"line2d_111\">\n      <path clip-path=\"url(#pdac6a67fba)\" d=\"M 1391.769531 354.528 \nL 1391.769531 93.6 \n\" style=\"fill:none;stroke:#b0b0b0;stroke-linecap:square;stroke-opacity:0.5;stroke-width:0.8;\"/>\n     </g>\n     <g id=\"line2d_112\">\n      <g>\n       <use style=\"stroke:#000000;stroke-width:0.8;\" x=\"1391.769531\" xlink:href=\"#m9e32518061\" y=\"354.528\"/>\n      </g>\n     </g>\n     <g id=\"text_59\">\n      <!-- Christmas -->\n      <g transform=\"translate(1394.528906 413.445187)rotate(-90)scale(0.1 -0.1)\">\n       <use xlink:href=\"#DejaVuSans-67\"/>\n       <use x=\"69.824219\" xlink:href=\"#DejaVuSans-104\"/>\n       <use x=\"133.203125\" xlink:href=\"#DejaVuSans-114\"/>\n       <use x=\"174.316406\" xlink:href=\"#DejaVuSans-105\"/>\n       <use x=\"202.099609\" xlink:href=\"#DejaVuSans-115\"/>\n       <use x=\"254.199219\" xlink:href=\"#DejaVuSans-116\"/>\n       <use x=\"293.408203\" xlink:href=\"#DejaVuSans-109\"/>\n       <use x=\"390.820312\" xlink:href=\"#DejaVuSans-97\"/>\n       <use x=\"452.099609\" xlink:href=\"#DejaVuSans-115\"/>\n      </g>\n     </g>\n    </g>\n    <g id=\"xtick_45\">\n     <g id=\"line2d_113\">\n      <path clip-path=\"url(#pdac6a67fba)\" d=\"M 1417.735579 354.528 \nL 1417.735579 93.6 \n\" style=\"fill:none;stroke:#b0b0b0;stroke-linecap:square;stroke-opacity:0.5;stroke-width:0.8;\"/>\n     </g>\n     <g id=\"line2d_114\">\n      <g>\n       <use style=\"stroke:#000000;stroke-width:0.8;\" x=\"1417.735579\" xlink:href=\"#m9e32518061\" y=\"354.528\"/>\n      </g>\n     </g>\n     <g id=\"text_60\">\n      <!-- Classical -->\n      <g transform=\"translate(1420.494954 406.518625)rotate(-90)scale(0.1 -0.1)\">\n       <use xlink:href=\"#DejaVuSans-67\"/>\n       <use x=\"69.824219\" xlink:href=\"#DejaVuSans-108\"/>\n       <use x=\"97.607422\" xlink:href=\"#DejaVuSans-97\"/>\n       <use x=\"158.886719\" xlink:href=\"#DejaVuSans-115\"/>\n       <use x=\"210.986328\" xlink:href=\"#DejaVuSans-115\"/>\n       <use x=\"263.085938\" xlink:href=\"#DejaVuSans-105\"/>\n       <use x=\"290.869141\" xlink:href=\"#DejaVuSans-99\"/>\n       <use x=\"345.849609\" xlink:href=\"#DejaVuSans-97\"/>\n       <use x=\"407.128906\" xlink:href=\"#DejaVuSans-108\"/>\n      </g>\n     </g>\n    </g>\n   </g>\n   <g id=\"matplotlib.axis_6\">\n    <g id=\"ytick_13\">\n     <g id=\"line2d_115\">\n      <path clip-path=\"url(#pdac6a67fba)\" d=\"M 1024.609602 354.528 \nL 1447.336875 354.528 \n\" style=\"fill:none;stroke:#b0b0b0;stroke-linecap:square;stroke-opacity:0.5;stroke-width:0.8;\"/>\n     </g>\n     <g id=\"line2d_116\">\n      <g>\n       <use style=\"stroke:#000000;stroke-width:0.8;\" x=\"1024.609602\" xlink:href=\"#m4c24cf152e\" y=\"354.528\"/>\n      </g>\n     </g>\n     <g id=\"text_61\">\n      <!-- 0 -->\n      <g transform=\"translate(1011.247102 358.327219)scale(0.1 -0.1)\">\n       <use xlink:href=\"#DejaVuSans-48\"/>\n      </g>\n     </g>\n    </g>\n    <g id=\"ytick_14\">\n     <g id=\"line2d_117\">\n      <path clip-path=\"url(#pdac6a67fba)\" d=\"M 1024.609602 307.194122 \nL 1447.336875 307.194122 \n\" style=\"fill:none;stroke:#b0b0b0;stroke-linecap:square;stroke-opacity:0.5;stroke-width:0.8;\"/>\n     </g>\n     <g id=\"line2d_118\">\n      <g>\n       <use style=\"stroke:#000000;stroke-width:0.8;\" x=\"1024.609602\" xlink:href=\"#m4c24cf152e\" y=\"307.194122\"/>\n      </g>\n     </g>\n     <g id=\"text_62\">\n      <!-- 20 -->\n      <g transform=\"translate(1004.884602 310.993341)scale(0.1 -0.1)\">\n       <use xlink:href=\"#DejaVuSans-50\"/>\n       <use x=\"63.623047\" xlink:href=\"#DejaVuSans-48\"/>\n      </g>\n     </g>\n    </g>\n    <g id=\"ytick_15\">\n     <g id=\"line2d_119\">\n      <path clip-path=\"url(#pdac6a67fba)\" d=\"M 1024.609602 259.860245 \nL 1447.336875 259.860245 \n\" style=\"fill:none;stroke:#b0b0b0;stroke-linecap:square;stroke-opacity:0.5;stroke-width:0.8;\"/>\n     </g>\n     <g id=\"line2d_120\">\n      <g>\n       <use style=\"stroke:#000000;stroke-width:0.8;\" x=\"1024.609602\" xlink:href=\"#m4c24cf152e\" y=\"259.860245\"/>\n      </g>\n     </g>\n     <g id=\"text_63\">\n      <!-- 40 -->\n      <g transform=\"translate(1004.884602 263.659464)scale(0.1 -0.1)\">\n       <use xlink:href=\"#DejaVuSans-52\"/>\n       <use x=\"63.623047\" xlink:href=\"#DejaVuSans-48\"/>\n      </g>\n     </g>\n    </g>\n    <g id=\"ytick_16\">\n     <g id=\"line2d_121\">\n      <path clip-path=\"url(#pdac6a67fba)\" d=\"M 1024.609602 212.526367 \nL 1447.336875 212.526367 \n\" style=\"fill:none;stroke:#b0b0b0;stroke-linecap:square;stroke-opacity:0.5;stroke-width:0.8;\"/>\n     </g>\n     <g id=\"line2d_122\">\n      <g>\n       <use style=\"stroke:#000000;stroke-width:0.8;\" x=\"1024.609602\" xlink:href=\"#m4c24cf152e\" y=\"212.526367\"/>\n      </g>\n     </g>\n     <g id=\"text_64\">\n      <!-- 60 -->\n      <g transform=\"translate(1004.884602 216.325586)scale(0.1 -0.1)\">\n       <use xlink:href=\"#DejaVuSans-54\"/>\n       <use x=\"63.623047\" xlink:href=\"#DejaVuSans-48\"/>\n      </g>\n     </g>\n    </g>\n    <g id=\"ytick_17\">\n     <g id=\"line2d_123\">\n      <path clip-path=\"url(#pdac6a67fba)\" d=\"M 1024.609602 165.19249 \nL 1447.336875 165.19249 \n\" style=\"fill:none;stroke:#b0b0b0;stroke-linecap:square;stroke-opacity:0.5;stroke-width:0.8;\"/>\n     </g>\n     <g id=\"line2d_124\">\n      <g>\n       <use style=\"stroke:#000000;stroke-width:0.8;\" x=\"1024.609602\" xlink:href=\"#m4c24cf152e\" y=\"165.19249\"/>\n      </g>\n     </g>\n     <g id=\"text_65\">\n      <!-- 80 -->\n      <g transform=\"translate(1004.884602 168.991709)scale(0.1 -0.1)\">\n       <use xlink:href=\"#DejaVuSans-56\"/>\n       <use x=\"63.623047\" xlink:href=\"#DejaVuSans-48\"/>\n      </g>\n     </g>\n    </g>\n    <g id=\"ytick_18\">\n     <g id=\"line2d_125\">\n      <path clip-path=\"url(#pdac6a67fba)\" d=\"M 1024.609602 117.858612 \nL 1447.336875 117.858612 \n\" style=\"fill:none;stroke:#b0b0b0;stroke-linecap:square;stroke-opacity:0.5;stroke-width:0.8;\"/>\n     </g>\n     <g id=\"line2d_126\">\n      <g>\n       <use style=\"stroke:#000000;stroke-width:0.8;\" x=\"1024.609602\" xlink:href=\"#m4c24cf152e\" y=\"117.858612\"/>\n      </g>\n     </g>\n     <g id=\"text_66\">\n      <!-- 100 -->\n      <g transform=\"translate(998.522102 121.657831)scale(0.1 -0.1)\">\n       <use xlink:href=\"#DejaVuSans-49\"/>\n       <use x=\"63.623047\" xlink:href=\"#DejaVuSans-48\"/>\n       <use x=\"127.246094\" xlink:href=\"#DejaVuSans-48\"/>\n      </g>\n     </g>\n    </g>\n   </g>\n   <g id=\"patch_43\">\n    <path clip-path=\"url(#pdac6a67fba)\" d=\"M 1043.824478 354.528 \nL 1064.597317 354.528 \nL 1064.597317 177.025959 \nL 1043.824478 177.025959 \nz\n\" style=\"fill:#800080;\"/>\n   </g>\n   <g id=\"patch_44\">\n    <path clip-path=\"url(#pdac6a67fba)\" d=\"M 1069.790527 354.528 \nL 1090.563366 354.528 \nL 1090.563366 214.893061 \nL 1069.790527 214.893061 \nz\n\" style=\"fill:#ff0000;\"/>\n   </g>\n   <g id=\"patch_45\">\n    <path clip-path=\"url(#pdac6a67fba)\" d=\"M 1095.756576 354.528 \nL 1116.529415 354.528 \nL 1116.529415 288.260571 \nL 1095.756576 288.260571 \nz\n\" style=\"fill:#ff7f50;\"/>\n   </g>\n   <g id=\"patch_46\">\n    <path clip-path=\"url(#pdac6a67fba)\" d=\"M 1121.722624 354.528 \nL 1142.495463 354.528 \nL 1142.495463 297.727347 \nL 1121.722624 297.727347 \nz\n\" style=\"fill:#2e8b57;\"/>\n   </g>\n   <g id=\"patch_47\">\n    <path clip-path=\"url(#pdac6a67fba)\" d=\"M 1147.688673 354.528 \nL 1168.461512 354.528 \nL 1168.461512 304.827429 \nL 1147.688673 304.827429 \nz\n\" style=\"fill:#ffa500;\"/>\n   </g>\n   <g id=\"patch_48\">\n    <path clip-path=\"url(#pdac6a67fba)\" d=\"M 1173.654722 354.528 \nL 1194.427561 354.528 \nL 1194.427561 309.560816 \nL 1173.654722 309.560816 \nz\n\" style=\"fill:#0000ff;\"/>\n   </g>\n   <g id=\"patch_49\">\n    <path clip-path=\"url(#pdac6a67fba)\" d=\"M 1199.62077 354.528 \nL 1220.393609 354.528 \nL 1220.393609 314.294204 \nL 1199.62077 314.294204 \nz\n\" style=\"fill:#6a5acd;\"/>\n   </g>\n   <g id=\"patch_50\">\n    <path clip-path=\"url(#pdac6a67fba)\" d=\"M 1225.586819 354.528 \nL 1246.359658 354.528 \nL 1246.359658 330.861061 \nL 1225.586819 330.861061 \nz\n\" style=\"fill:#da70d6;\"/>\n   </g>\n   <g id=\"patch_51\">\n    <path clip-path=\"url(#pdac6a67fba)\" d=\"M 1251.552868 354.528 \nL 1272.325707 354.528 \nL 1272.325707 345.061224 \nL 1251.552868 345.061224 \nz\n\" style=\"fill:#db7093;\"/>\n   </g>\n   <g id=\"patch_52\">\n    <path clip-path=\"url(#pdac6a67fba)\" d=\"M 1277.518917 354.528 \nL 1298.291756 354.528 \nL 1298.291756 352.161306 \nL 1277.518917 352.161306 \nz\n\" style=\"fill:#cd5c5c;\"/>\n   </g>\n   <g id=\"patch_53\">\n    <path clip-path=\"url(#pdac6a67fba)\" d=\"M 1303.484965 354.528 \nL 1324.257804 354.528 \nL 1324.257804 354.528 \nL 1303.484965 354.528 \nz\n\" style=\"fill:#ffd700;\"/>\n   </g>\n   <g id=\"patch_54\">\n    <path clip-path=\"url(#pdac6a67fba)\" d=\"M 1329.451014 354.528 \nL 1350.223853 354.528 \nL 1350.223853 354.528 \nL 1329.451014 354.528 \nz\n\" style=\"fill:#c0c0c0;\"/>\n   </g>\n   <g id=\"patch_55\">\n    <path clip-path=\"url(#pdac6a67fba)\" d=\"M 1355.417063 354.528 \nL 1376.189902 354.528 \nL 1376.189902 354.528 \nL 1355.417063 354.528 \nz\n\" style=\"fill:#32cd32;\"/>\n   </g>\n   <g id=\"patch_56\">\n    <path clip-path=\"url(#pdac6a67fba)\" d=\"M 1381.383111 354.528 \nL 1402.15595 354.528 \nL 1402.15595 354.528 \nL 1381.383111 354.528 \nz\n\" style=\"fill:#800000;\"/>\n   </g>\n   <g id=\"patch_57\">\n    <path clip-path=\"url(#pdac6a67fba)\" d=\"M 1407.34916 354.528 \nL 1428.121999 354.528 \nL 1428.121999 354.528 \nL 1407.34916 354.528 \nz\n\" style=\"fill:#800080;\"/>\n   </g>\n   <g id=\"patch_58\">\n    <path d=\"M 1024.609602 354.528 \nL 1024.609602 93.6 \n\" style=\"fill:none;stroke:#000000;stroke-linecap:square;stroke-linejoin:miter;stroke-width:0.8;\"/>\n   </g>\n   <g id=\"patch_59\">\n    <path d=\"M 1447.336875 354.528 \nL 1447.336875 93.6 \n\" style=\"fill:none;stroke:#000000;stroke-linecap:square;stroke-linejoin:miter;stroke-width:0.8;\"/>\n   </g>\n   <g id=\"patch_60\">\n    <path d=\"M 1024.609602 354.528 \nL 1447.336875 354.528 \n\" style=\"fill:none;stroke:#000000;stroke-linecap:square;stroke-linejoin:miter;stroke-width:0.8;\"/>\n   </g>\n   <g id=\"patch_61\">\n    <path d=\"M 1024.609602 93.6 \nL 1447.336875 93.6 \n\" style=\"fill:none;stroke:#000000;stroke-linecap:square;stroke-linejoin:miter;stroke-width:0.8;\"/>\n   </g>\n   <g id=\"text_67\">\n    <!-- May -->\n    <g transform=\"translate(1223.568239 87.6)scale(0.12 -0.12)\">\n     <use xlink:href=\"#DejaVuSans-77\"/>\n     <use x=\"86.279297\" xlink:href=\"#DejaVuSans-97\"/>\n     <use x=\"147.558594\" xlink:href=\"#DejaVuSans-121\"/>\n    </g>\n   </g>\n  </g>\n  <g id=\"axes_4\">\n   <g id=\"patch_62\">\n    <path d=\"M 52.336875 745.92 \nL 475.064148 745.92 \nL 475.064148 484.992 \nL 52.336875 484.992 \nz\n\" style=\"fill:#ffffff;\"/>\n   </g>\n   <g id=\"matplotlib.axis_7\">\n    <g id=\"xtick_46\">\n     <g id=\"line2d_127\">\n      <path clip-path=\"url(#p9ff48e3378)\" d=\"M 81.938171 745.92 \nL 81.938171 484.992 \n\" style=\"fill:none;stroke:#b0b0b0;stroke-linecap:square;stroke-opacity:0.5;stroke-width:0.8;\"/>\n     </g>\n     <g id=\"line2d_128\">\n      <g>\n       <use style=\"stroke:#000000;stroke-width:0.8;\" x=\"81.938171\" xlink:href=\"#m9e32518061\" y=\"745.92\"/>\n      </g>\n     </g>\n     <g id=\"text_68\">\n      <!-- Pop -->\n      <g transform=\"translate(84.697546 772.554375)rotate(-90)scale(0.1 -0.1)\">\n       <use xlink:href=\"#DejaVuSans-80\"/>\n       <use x=\"56.677734\" xlink:href=\"#DejaVuSans-111\"/>\n       <use x=\"117.859375\" xlink:href=\"#DejaVuSans-112\"/>\n      </g>\n     </g>\n    </g>\n    <g id=\"xtick_47\">\n     <g id=\"line2d_129\">\n      <path clip-path=\"url(#p9ff48e3378)\" d=\"M 107.904219 745.92 \nL 107.904219 484.992 \n\" style=\"fill:none;stroke:#b0b0b0;stroke-linecap:square;stroke-opacity:0.5;stroke-width:0.8;\"/>\n     </g>\n     <g id=\"line2d_130\">\n      <g>\n       <use style=\"stroke:#000000;stroke-width:0.8;\" x=\"107.904219\" xlink:href=\"#m9e32518061\" y=\"745.92\"/>\n      </g>\n     </g>\n     <g id=\"text_69\">\n      <!-- Rap/Hip Hop/Trap -->\n      <g transform=\"translate(110.663594 841.390312)rotate(-90)scale(0.1 -0.1)\">\n       <use xlink:href=\"#DejaVuSans-82\"/>\n       <use x=\"67.232422\" xlink:href=\"#DejaVuSans-97\"/>\n       <use x=\"128.511719\" xlink:href=\"#DejaVuSans-112\"/>\n       <use x=\"191.988281\" xlink:href=\"#DejaVuSans-47\"/>\n       <use x=\"225.679688\" xlink:href=\"#DejaVuSans-72\"/>\n       <use x=\"300.875\" xlink:href=\"#DejaVuSans-105\"/>\n       <use x=\"328.658203\" xlink:href=\"#DejaVuSans-112\"/>\n       <use x=\"392.134766\" xlink:href=\"#DejaVuSans-32\"/>\n       <use x=\"423.921875\" xlink:href=\"#DejaVuSans-72\"/>\n       <use x=\"499.117188\" xlink:href=\"#DejaVuSans-111\"/>\n       <use x=\"560.298828\" xlink:href=\"#DejaVuSans-112\"/>\n       <use x=\"623.775391\" xlink:href=\"#DejaVuSans-47\"/>\n       <use x=\"657.466797\" xlink:href=\"#DejaVuSans-84\"/>\n       <use x=\"703.800781\" xlink:href=\"#DejaVuSans-114\"/>\n       <use x=\"744.914062\" xlink:href=\"#DejaVuSans-97\"/>\n       <use x=\"806.193359\" xlink:href=\"#DejaVuSans-112\"/>\n      </g>\n     </g>\n    </g>\n    <g id=\"xtick_48\">\n     <g id=\"line2d_131\">\n      <path clip-path=\"url(#p9ff48e3378)\" d=\"M 133.870268 745.92 \nL 133.870268 484.992 \n\" style=\"fill:none;stroke:#b0b0b0;stroke-linecap:square;stroke-opacity:0.5;stroke-width:0.8;\"/>\n     </g>\n     <g id=\"line2d_132\">\n      <g>\n       <use style=\"stroke:#000000;stroke-width:0.8;\" x=\"133.870268\" xlink:href=\"#m9e32518061\" y=\"745.92\"/>\n      </g>\n     </g>\n     <g id=\"text_70\">\n      <!-- Indie -->\n      <g transform=\"translate(136.629643 778.987187)rotate(-90)scale(0.1 -0.1)\">\n       <use xlink:href=\"#DejaVuSans-73\"/>\n       <use x=\"29.492188\" xlink:href=\"#DejaVuSans-110\"/>\n       <use x=\"92.871094\" xlink:href=\"#DejaVuSans-100\"/>\n       <use x=\"156.347656\" xlink:href=\"#DejaVuSans-105\"/>\n       <use x=\"184.130859\" xlink:href=\"#DejaVuSans-101\"/>\n      </g>\n     </g>\n    </g>\n    <g id=\"xtick_49\">\n     <g id=\"line2d_133\">\n      <path clip-path=\"url(#p9ff48e3378)\" d=\"M 159.836317 745.92 \nL 159.836317 484.992 \n\" style=\"fill:none;stroke:#b0b0b0;stroke-linecap:square;stroke-opacity:0.5;stroke-width:0.8;\"/>\n     </g>\n     <g id=\"line2d_134\">\n      <g>\n       <use style=\"stroke:#000000;stroke-width:0.8;\" x=\"159.836317\" xlink:href=\"#m9e32518061\" y=\"745.92\"/>\n      </g>\n     </g>\n     <g id=\"text_71\">\n      <!-- Alternative/Alt -->\n      <g transform=\"translate(162.595692 826.191875)rotate(-90)scale(0.1 -0.1)\">\n       <use xlink:href=\"#DejaVuSans-65\"/>\n       <use x=\"68.408203\" xlink:href=\"#DejaVuSans-108\"/>\n       <use x=\"96.191406\" xlink:href=\"#DejaVuSans-116\"/>\n       <use x=\"135.400391\" xlink:href=\"#DejaVuSans-101\"/>\n       <use x=\"196.923828\" xlink:href=\"#DejaVuSans-114\"/>\n       <use x=\"236.287109\" xlink:href=\"#DejaVuSans-110\"/>\n       <use x=\"299.666016\" xlink:href=\"#DejaVuSans-97\"/>\n       <use x=\"360.945312\" xlink:href=\"#DejaVuSans-116\"/>\n       <use x=\"400.154297\" xlink:href=\"#DejaVuSans-105\"/>\n       <use x=\"427.9375\" xlink:href=\"#DejaVuSans-118\"/>\n       <use x=\"487.117188\" xlink:href=\"#DejaVuSans-101\"/>\n       <use x=\"548.640625\" xlink:href=\"#DejaVuSans-47\"/>\n       <use x=\"582.332031\" xlink:href=\"#DejaVuSans-65\"/>\n       <use x=\"650.740234\" xlink:href=\"#DejaVuSans-108\"/>\n       <use x=\"678.523438\" xlink:href=\"#DejaVuSans-116\"/>\n      </g>\n     </g>\n    </g>\n    <g id=\"xtick_50\">\n     <g id=\"line2d_135\">\n      <path clip-path=\"url(#p9ff48e3378)\" d=\"M 185.802365 745.92 \nL 185.802365 484.992 \n\" style=\"fill:none;stroke:#b0b0b0;stroke-linecap:square;stroke-opacity:0.5;stroke-width:0.8;\"/>\n     </g>\n     <g id=\"line2d_136\">\n      <g>\n       <use style=\"stroke:#000000;stroke-width:0.8;\" x=\"185.802365\" xlink:href=\"#m9e32518061\" y=\"745.92\"/>\n      </g>\n     </g>\n     <g id=\"text_72\">\n      <!-- R&amp;B/Soul/Blues -->\n      <g transform=\"translate(188.56174 831.687187)rotate(-90)scale(0.1 -0.1)\">\n       <use xlink:href=\"#DejaVuSans-82\"/>\n       <use x=\"69.482422\" xlink:href=\"#DejaVuSans-38\"/>\n       <use x=\"147.460938\" xlink:href=\"#DejaVuSans-66\"/>\n       <use x=\"216.064453\" xlink:href=\"#DejaVuSans-47\"/>\n       <use x=\"249.755859\" xlink:href=\"#DejaVuSans-83\"/>\n       <use x=\"313.232422\" xlink:href=\"#DejaVuSans-111\"/>\n       <use x=\"374.414062\" xlink:href=\"#DejaVuSans-117\"/>\n       <use x=\"437.792969\" xlink:href=\"#DejaVuSans-108\"/>\n       <use x=\"465.576172\" xlink:href=\"#DejaVuSans-47\"/>\n       <use x=\"499.267578\" xlink:href=\"#DejaVuSans-66\"/>\n       <use x=\"567.871094\" xlink:href=\"#DejaVuSans-108\"/>\n       <use x=\"595.654297\" xlink:href=\"#DejaVuSans-117\"/>\n       <use x=\"659.033203\" xlink:href=\"#DejaVuSans-101\"/>\n       <use x=\"720.556641\" xlink:href=\"#DejaVuSans-115\"/>\n      </g>\n     </g>\n    </g>\n    <g id=\"xtick_51\">\n     <g id=\"line2d_137\">\n      <path clip-path=\"url(#p9ff48e3378)\" d=\"M 211.768414 745.92 \nL 211.768414 484.992 \n\" style=\"fill:none;stroke:#b0b0b0;stroke-linecap:square;stroke-opacity:0.5;stroke-width:0.8;\"/>\n     </g>\n     <g id=\"line2d_138\">\n      <g>\n       <use style=\"stroke:#000000;stroke-width:0.8;\" x=\"211.768414\" xlink:href=\"#m9e32518061\" y=\"745.92\"/>\n      </g>\n     </g>\n     <g id=\"text_73\">\n      <!-- House/EDM -->\n      <g transform=\"translate(214.527789 811.774687)rotate(-90)scale(0.1 -0.1)\">\n       <use xlink:href=\"#DejaVuSans-72\"/>\n       <use x=\"75.195312\" xlink:href=\"#DejaVuSans-111\"/>\n       <use x=\"136.376953\" xlink:href=\"#DejaVuSans-117\"/>\n       <use x=\"199.755859\" xlink:href=\"#DejaVuSans-115\"/>\n       <use x=\"251.855469\" xlink:href=\"#DejaVuSans-101\"/>\n       <use x=\"313.378906\" xlink:href=\"#DejaVuSans-47\"/>\n       <use x=\"347.070312\" xlink:href=\"#DejaVuSans-69\"/>\n       <use x=\"410.253906\" xlink:href=\"#DejaVuSans-68\"/>\n       <use x=\"487.255859\" xlink:href=\"#DejaVuSans-77\"/>\n      </g>\n     </g>\n    </g>\n    <g id=\"xtick_52\">\n     <g id=\"line2d_139\">\n      <path clip-path=\"url(#p9ff48e3378)\" d=\"M 237.734463 745.92 \nL 237.734463 484.992 \n\" style=\"fill:none;stroke:#b0b0b0;stroke-linecap:square;stroke-opacity:0.5;stroke-width:0.8;\"/>\n     </g>\n     <g id=\"line2d_140\">\n      <g>\n       <use style=\"stroke:#000000;stroke-width:0.8;\" x=\"237.734463\" xlink:href=\"#m9e32518061\" y=\"745.92\"/>\n      </g>\n     </g>\n     <g id=\"text_74\">\n      <!-- Rock -->\n      <g transform=\"translate(240.493838 778.32625)rotate(-90)scale(0.1 -0.1)\">\n       <use xlink:href=\"#DejaVuSans-82\"/>\n       <use x=\"64.982422\" xlink:href=\"#DejaVuSans-111\"/>\n       <use x=\"126.164062\" xlink:href=\"#DejaVuSans-99\"/>\n       <use x=\"181.144531\" xlink:href=\"#DejaVuSans-107\"/>\n      </g>\n     </g>\n    </g>\n    <g id=\"xtick_53\">\n     <g id=\"line2d_141\">\n      <path clip-path=\"url(#p9ff48e3378)\" d=\"M 263.700511 745.92 \nL 263.700511 484.992 \n\" style=\"fill:none;stroke:#b0b0b0;stroke-linecap:square;stroke-opacity:0.5;stroke-width:0.8;\"/>\n     </g>\n     <g id=\"line2d_142\">\n      <g>\n       <use style=\"stroke:#000000;stroke-width:0.8;\" x=\"263.700511\" xlink:href=\"#m9e32518061\" y=\"745.92\"/>\n      </g>\n     </g>\n     <g id=\"text_75\">\n      <!-- Country -->\n      <g transform=\"translate(266.459886 794.146562)rotate(-90)scale(0.1 -0.1)\">\n       <use xlink:href=\"#DejaVuSans-67\"/>\n       <use x=\"69.824219\" xlink:href=\"#DejaVuSans-111\"/>\n       <use x=\"131.005859\" xlink:href=\"#DejaVuSans-117\"/>\n       <use x=\"194.384766\" xlink:href=\"#DejaVuSans-110\"/>\n       <use x=\"257.763672\" xlink:href=\"#DejaVuSans-116\"/>\n       <use x=\"296.972656\" xlink:href=\"#DejaVuSans-114\"/>\n       <use x=\"338.085938\" xlink:href=\"#DejaVuSans-121\"/>\n      </g>\n     </g>\n    </g>\n    <g id=\"xtick_54\">\n     <g id=\"line2d_143\">\n      <path clip-path=\"url(#p9ff48e3378)\" d=\"M 289.66656 745.92 \nL 289.66656 484.992 \n\" style=\"fill:none;stroke:#b0b0b0;stroke-linecap:square;stroke-opacity:0.5;stroke-width:0.8;\"/>\n     </g>\n     <g id=\"line2d_144\">\n      <g>\n       <use style=\"stroke:#000000;stroke-width:0.8;\" x=\"289.66656\" xlink:href=\"#m9e32518061\" y=\"745.92\"/>\n      </g>\n     </g>\n     <g id=\"text_76\">\n      <!-- Glitchcore -->\n      <g transform=\"translate(292.425935 805.137187)rotate(-90)scale(0.1 -0.1)\">\n       <use xlink:href=\"#DejaVuSans-71\"/>\n       <use x=\"77.490234\" xlink:href=\"#DejaVuSans-108\"/>\n       <use x=\"105.273438\" xlink:href=\"#DejaVuSans-105\"/>\n       <use x=\"133.056641\" xlink:href=\"#DejaVuSans-116\"/>\n       <use x=\"172.265625\" xlink:href=\"#DejaVuSans-99\"/>\n       <use x=\"227.246094\" xlink:href=\"#DejaVuSans-104\"/>\n       <use x=\"290.625\" xlink:href=\"#DejaVuSans-99\"/>\n       <use x=\"345.605469\" xlink:href=\"#DejaVuSans-111\"/>\n       <use x=\"406.787109\" xlink:href=\"#DejaVuSans-114\"/>\n       <use x=\"445.650391\" xlink:href=\"#DejaVuSans-101\"/>\n      </g>\n     </g>\n    </g>\n    <g id=\"xtick_55\">\n     <g id=\"line2d_145\">\n      <path clip-path=\"url(#p9ff48e3378)\" d=\"M 315.632609 745.92 \nL 315.632609 484.992 \n\" style=\"fill:none;stroke:#b0b0b0;stroke-linecap:square;stroke-opacity:0.5;stroke-width:0.8;\"/>\n     </g>\n     <g id=\"line2d_146\">\n      <g>\n       <use style=\"stroke:#000000;stroke-width:0.8;\" x=\"315.632609\" xlink:href=\"#m9e32518061\" y=\"745.92\"/>\n      </g>\n     </g>\n     <g id=\"text_77\">\n      <!-- Latin -->\n      <g transform=\"translate(318.391984 779.155937)rotate(-90)scale(0.1 -0.1)\">\n       <use xlink:href=\"#DejaVuSans-76\"/>\n       <use x=\"55.712891\" xlink:href=\"#DejaVuSans-97\"/>\n       <use x=\"116.992188\" xlink:href=\"#DejaVuSans-116\"/>\n       <use x=\"156.201172\" xlink:href=\"#DejaVuSans-105\"/>\n       <use x=\"183.984375\" xlink:href=\"#DejaVuSans-110\"/>\n      </g>\n     </g>\n    </g>\n    <g id=\"xtick_56\">\n     <g id=\"line2d_147\">\n      <path clip-path=\"url(#p9ff48e3378)\" d=\"M 341.598657 745.92 \nL 341.598657 484.992 \n\" style=\"fill:none;stroke:#b0b0b0;stroke-linecap:square;stroke-opacity:0.5;stroke-width:0.8;\"/>\n     </g>\n     <g id=\"line2d_148\">\n      <g>\n       <use style=\"stroke:#000000;stroke-width:0.8;\" x=\"341.598657\" xlink:href=\"#m9e32518061\" y=\"745.92\"/>\n      </g>\n     </g>\n     <g id=\"text_78\">\n      <!-- Brooklyn Drill -->\n      <g transform=\"translate(344.358032 821.552812)rotate(-90)scale(0.1 -0.1)\">\n       <use xlink:href=\"#DejaVuSans-66\"/>\n       <use x=\"68.603516\" xlink:href=\"#DejaVuSans-114\"/>\n       <use x=\"107.466797\" xlink:href=\"#DejaVuSans-111\"/>\n       <use x=\"168.648438\" xlink:href=\"#DejaVuSans-111\"/>\n       <use x=\"229.830078\" xlink:href=\"#DejaVuSans-107\"/>\n       <use x=\"287.740234\" xlink:href=\"#DejaVuSans-108\"/>\n       <use x=\"315.523438\" xlink:href=\"#DejaVuSans-121\"/>\n       <use x=\"374.703125\" xlink:href=\"#DejaVuSans-110\"/>\n       <use x=\"438.082031\" xlink:href=\"#DejaVuSans-32\"/>\n       <use x=\"469.869141\" xlink:href=\"#DejaVuSans-68\"/>\n       <use x=\"546.871094\" xlink:href=\"#DejaVuSans-114\"/>\n       <use x=\"587.984375\" xlink:href=\"#DejaVuSans-105\"/>\n       <use x=\"615.767578\" xlink:href=\"#DejaVuSans-108\"/>\n       <use x=\"643.550781\" xlink:href=\"#DejaVuSans-108\"/>\n      </g>\n     </g>\n    </g>\n    <g id=\"xtick_57\">\n     <g id=\"line2d_149\">\n      <path clip-path=\"url(#p9ff48e3378)\" d=\"M 367.564706 745.92 \nL 367.564706 484.992 \n\" style=\"fill:none;stroke:#b0b0b0;stroke-linecap:square;stroke-opacity:0.5;stroke-width:0.8;\"/>\n     </g>\n     <g id=\"line2d_150\">\n      <g>\n       <use style=\"stroke:#000000;stroke-width:0.8;\" x=\"367.564706\" xlink:href=\"#m9e32518061\" y=\"745.92\"/>\n      </g>\n     </g>\n     <g id=\"text_79\">\n      <!-- Disco -->\n      <g transform=\"translate(370.324081 781.724687)rotate(-90)scale(0.1 -0.1)\">\n       <use xlink:href=\"#DejaVuSans-68\"/>\n       <use x=\"77.001953\" xlink:href=\"#DejaVuSans-105\"/>\n       <use x=\"104.785156\" xlink:href=\"#DejaVuSans-115\"/>\n       <use x=\"156.884766\" xlink:href=\"#DejaVuSans-99\"/>\n       <use x=\"211.865234\" xlink:href=\"#DejaVuSans-111\"/>\n      </g>\n     </g>\n    </g>\n    <g id=\"xtick_58\">\n     <g id=\"line2d_151\">\n      <path clip-path=\"url(#p9ff48e3378)\" d=\"M 393.530755 745.92 \nL 393.530755 484.992 \n\" style=\"fill:none;stroke:#b0b0b0;stroke-linecap:square;stroke-opacity:0.5;stroke-width:0.8;\"/>\n     </g>\n     <g id=\"line2d_152\">\n      <g>\n       <use style=\"stroke:#000000;stroke-width:0.8;\" x=\"393.530755\" xlink:href=\"#m9e32518061\" y=\"745.92\"/>\n      </g>\n     </g>\n     <g id=\"text_80\">\n      <!-- Halloween -->\n      <g transform=\"translate(396.29013 806.565312)rotate(-90)scale(0.1 -0.1)\">\n       <use xlink:href=\"#DejaVuSans-72\"/>\n       <use x=\"75.195312\" xlink:href=\"#DejaVuSans-97\"/>\n       <use x=\"136.474609\" xlink:href=\"#DejaVuSans-108\"/>\n       <use x=\"164.257812\" xlink:href=\"#DejaVuSans-108\"/>\n       <use x=\"192.041016\" xlink:href=\"#DejaVuSans-111\"/>\n       <use x=\"253.222656\" xlink:href=\"#DejaVuSans-119\"/>\n       <use x=\"335.009766\" xlink:href=\"#DejaVuSans-101\"/>\n       <use x=\"396.533203\" xlink:href=\"#DejaVuSans-101\"/>\n       <use x=\"458.056641\" xlink:href=\"#DejaVuSans-110\"/>\n      </g>\n     </g>\n    </g>\n    <g id=\"xtick_59\">\n     <g id=\"line2d_153\">\n      <path clip-path=\"url(#p9ff48e3378)\" d=\"M 419.496804 745.92 \nL 419.496804 484.992 \n\" style=\"fill:none;stroke:#b0b0b0;stroke-linecap:square;stroke-opacity:0.5;stroke-width:0.8;\"/>\n     </g>\n     <g id=\"line2d_154\">\n      <g>\n       <use style=\"stroke:#000000;stroke-width:0.8;\" x=\"419.496804\" xlink:href=\"#m9e32518061\" y=\"745.92\"/>\n      </g>\n     </g>\n     <g id=\"text_81\">\n      <!-- Christmas -->\n      <g transform=\"translate(422.256179 804.837187)rotate(-90)scale(0.1 -0.1)\">\n       <use xlink:href=\"#DejaVuSans-67\"/>\n       <use x=\"69.824219\" xlink:href=\"#DejaVuSans-104\"/>\n       <use x=\"133.203125\" xlink:href=\"#DejaVuSans-114\"/>\n       <use x=\"174.316406\" xlink:href=\"#DejaVuSans-105\"/>\n       <use x=\"202.099609\" xlink:href=\"#DejaVuSans-115\"/>\n       <use x=\"254.199219\" xlink:href=\"#DejaVuSans-116\"/>\n       <use x=\"293.408203\" xlink:href=\"#DejaVuSans-109\"/>\n       <use x=\"390.820312\" xlink:href=\"#DejaVuSans-97\"/>\n       <use x=\"452.099609\" xlink:href=\"#DejaVuSans-115\"/>\n      </g>\n     </g>\n    </g>\n    <g id=\"xtick_60\">\n     <g id=\"line2d_155\">\n      <path clip-path=\"url(#p9ff48e3378)\" d=\"M 445.462852 745.92 \nL 445.462852 484.992 \n\" style=\"fill:none;stroke:#b0b0b0;stroke-linecap:square;stroke-opacity:0.5;stroke-width:0.8;\"/>\n     </g>\n     <g id=\"line2d_156\">\n      <g>\n       <use style=\"stroke:#000000;stroke-width:0.8;\" x=\"445.462852\" xlink:href=\"#m9e32518061\" y=\"745.92\"/>\n      </g>\n     </g>\n     <g id=\"text_82\">\n      <!-- Classical -->\n      <g transform=\"translate(448.222227 797.910625)rotate(-90)scale(0.1 -0.1)\">\n       <use xlink:href=\"#DejaVuSans-67\"/>\n       <use x=\"69.824219\" xlink:href=\"#DejaVuSans-108\"/>\n       <use x=\"97.607422\" xlink:href=\"#DejaVuSans-97\"/>\n       <use x=\"158.886719\" xlink:href=\"#DejaVuSans-115\"/>\n       <use x=\"210.986328\" xlink:href=\"#DejaVuSans-115\"/>\n       <use x=\"263.085938\" xlink:href=\"#DejaVuSans-105\"/>\n       <use x=\"290.869141\" xlink:href=\"#DejaVuSans-99\"/>\n       <use x=\"345.849609\" xlink:href=\"#DejaVuSans-97\"/>\n       <use x=\"407.128906\" xlink:href=\"#DejaVuSans-108\"/>\n      </g>\n     </g>\n    </g>\n   </g>\n   <g id=\"matplotlib.axis_8\">\n    <g id=\"ytick_19\">\n     <g id=\"line2d_157\">\n      <path clip-path=\"url(#p9ff48e3378)\" d=\"M 52.336875 745.92 \nL 475.064148 745.92 \n\" style=\"fill:none;stroke:#b0b0b0;stroke-linecap:square;stroke-opacity:0.5;stroke-width:0.8;\"/>\n     </g>\n     <g id=\"line2d_158\">\n      <g>\n       <use style=\"stroke:#000000;stroke-width:0.8;\" x=\"52.336875\" xlink:href=\"#m4c7f25099e\" y=\"745.92\"/>\n      </g>\n     </g>\n     <g id=\"text_83\">\n      <!-- 0 -->\n      <g transform=\"translate(37.474375 749.719219)scale(0.1 -0.1)\">\n       <use xlink:href=\"#DejaVuSans-48\"/>\n      </g>\n     </g>\n    </g>\n    <g id=\"ytick_20\">\n     <g id=\"line2d_159\">\n      <path clip-path=\"url(#p9ff48e3378)\" d=\"M 52.336875 700.737662 \nL 475.064148 700.737662 \n\" style=\"fill:none;stroke:#b0b0b0;stroke-linecap:square;stroke-opacity:0.5;stroke-width:0.8;\"/>\n     </g>\n     <g id=\"line2d_160\">\n      <g>\n       <use style=\"stroke:#000000;stroke-width:0.8;\" x=\"52.336875\" xlink:href=\"#m4c7f25099e\" y=\"700.737662\"/>\n      </g>\n     </g>\n     <g id=\"text_84\">\n      <!-- 20 -->\n      <g transform=\"translate(31.111875 704.536881)scale(0.1 -0.1)\">\n       <use xlink:href=\"#DejaVuSans-50\"/>\n       <use x=\"63.623047\" xlink:href=\"#DejaVuSans-48\"/>\n      </g>\n     </g>\n    </g>\n    <g id=\"ytick_21\">\n     <g id=\"line2d_161\">\n      <path clip-path=\"url(#p9ff48e3378)\" d=\"M 52.336875 655.555325 \nL 475.064148 655.555325 \n\" style=\"fill:none;stroke:#b0b0b0;stroke-linecap:square;stroke-opacity:0.5;stroke-width:0.8;\"/>\n     </g>\n     <g id=\"line2d_162\">\n      <g>\n       <use style=\"stroke:#000000;stroke-width:0.8;\" x=\"52.336875\" xlink:href=\"#m4c7f25099e\" y=\"655.555325\"/>\n      </g>\n     </g>\n     <g id=\"text_85\">\n      <!-- 40 -->\n      <g transform=\"translate(31.111875 659.354543)scale(0.1 -0.1)\">\n       <use xlink:href=\"#DejaVuSans-52\"/>\n       <use x=\"63.623047\" xlink:href=\"#DejaVuSans-48\"/>\n      </g>\n     </g>\n    </g>\n    <g id=\"ytick_22\">\n     <g id=\"line2d_163\">\n      <path clip-path=\"url(#p9ff48e3378)\" d=\"M 52.336875 610.372987 \nL 475.064148 610.372987 \n\" style=\"fill:none;stroke:#b0b0b0;stroke-linecap:square;stroke-opacity:0.5;stroke-width:0.8;\"/>\n     </g>\n     <g id=\"line2d_164\">\n      <g>\n       <use style=\"stroke:#000000;stroke-width:0.8;\" x=\"52.336875\" xlink:href=\"#m4c7f25099e\" y=\"610.372987\"/>\n      </g>\n     </g>\n     <g id=\"text_86\">\n      <!-- 60 -->\n      <g transform=\"translate(31.111875 614.172206)scale(0.1 -0.1)\">\n       <use xlink:href=\"#DejaVuSans-54\"/>\n       <use x=\"63.623047\" xlink:href=\"#DejaVuSans-48\"/>\n      </g>\n     </g>\n    </g>\n    <g id=\"ytick_23\">\n     <g id=\"line2d_165\">\n      <path clip-path=\"url(#p9ff48e3378)\" d=\"M 52.336875 565.190649 \nL 475.064148 565.190649 \n\" style=\"fill:none;stroke:#b0b0b0;stroke-linecap:square;stroke-opacity:0.5;stroke-width:0.8;\"/>\n     </g>\n     <g id=\"line2d_166\">\n      <g>\n       <use style=\"stroke:#000000;stroke-width:0.8;\" x=\"52.336875\" xlink:href=\"#m4c7f25099e\" y=\"565.190649\"/>\n      </g>\n     </g>\n     <g id=\"text_87\">\n      <!-- 80 -->\n      <g transform=\"translate(31.111875 568.989868)scale(0.1 -0.1)\">\n       <use xlink:href=\"#DejaVuSans-56\"/>\n       <use x=\"63.623047\" xlink:href=\"#DejaVuSans-48\"/>\n      </g>\n     </g>\n    </g>\n    <g id=\"ytick_24\">\n     <g id=\"line2d_167\">\n      <path clip-path=\"url(#p9ff48e3378)\" d=\"M 52.336875 520.008312 \nL 475.064148 520.008312 \n\" style=\"fill:none;stroke:#b0b0b0;stroke-linecap:square;stroke-opacity:0.5;stroke-width:0.8;\"/>\n     </g>\n     <g id=\"line2d_168\">\n      <g>\n       <use style=\"stroke:#000000;stroke-width:0.8;\" x=\"52.336875\" xlink:href=\"#m4c7f25099e\" y=\"520.008312\"/>\n      </g>\n     </g>\n     <g id=\"text_88\">\n      <!-- 100 -->\n      <g transform=\"translate(24.749375 523.80753)scale(0.1 -0.1)\">\n       <use xlink:href=\"#DejaVuSans-49\"/>\n       <use x=\"63.623047\" xlink:href=\"#DejaVuSans-48\"/>\n       <use x=\"127.246094\" xlink:href=\"#DejaVuSans-48\"/>\n      </g>\n     </g>\n    </g>\n    <g id=\"text_89\">\n     <!-- Counts -->\n     <g transform=\"translate(17.837813 639.890375)rotate(-90)scale(0.14 -0.14)\">\n      <use xlink:href=\"#DejaVuSans-67\"/>\n      <use x=\"69.824219\" xlink:href=\"#DejaVuSans-111\"/>\n      <use x=\"131.005859\" xlink:href=\"#DejaVuSans-117\"/>\n      <use x=\"194.384766\" xlink:href=\"#DejaVuSans-110\"/>\n      <use x=\"257.763672\" xlink:href=\"#DejaVuSans-116\"/>\n      <use x=\"296.972656\" xlink:href=\"#DejaVuSans-115\"/>\n     </g>\n    </g>\n   </g>\n   <g id=\"patch_63\">\n    <path clip-path=\"url(#p9ff48e3378)\" d=\"M 71.551751 745.92 \nL 92.32459 745.92 \nL 92.32459 581.004468 \nL 71.551751 581.004468 \nz\n\" style=\"fill:#800080;\"/>\n   </g>\n   <g id=\"patch_64\">\n    <path clip-path=\"url(#p9ff48e3378)\" d=\"M 97.5178 745.92 \nL 118.290639 745.92 \nL 118.290639 605.854753 \nL 97.5178 605.854753 \nz\n\" style=\"fill:#ff0000;\"/>\n   </g>\n   <g id=\"patch_65\">\n    <path clip-path=\"url(#p9ff48e3378)\" d=\"M 123.483848 745.92 \nL 144.256687 745.92 \nL 144.256687 682.664727 \nL 123.483848 682.664727 \nz\n\" style=\"fill:#2e8b57;\"/>\n   </g>\n   <g id=\"patch_66\">\n    <path clip-path=\"url(#p9ff48e3378)\" d=\"M 149.449897 745.92 \nL 170.222736 745.92 \nL 170.222736 700.737662 \nL 149.449897 700.737662 \nz\n\" style=\"fill:#ff7f50;\"/>\n   </g>\n   <g id=\"patch_67\">\n    <path clip-path=\"url(#p9ff48e3378)\" d=\"M 175.415946 745.92 \nL 196.188785 745.92 \nL 196.188785 705.255896 \nL 175.415946 705.255896 \nz\n\" style=\"fill:#0000ff;\"/>\n   </g>\n   <g id=\"patch_68\">\n    <path clip-path=\"url(#p9ff48e3378)\" d=\"M 201.381994 745.92 \nL 222.154833 745.92 \nL 222.154833 723.328831 \nL 201.381994 723.328831 \nz\n\" style=\"fill:#6a5acd;\"/>\n   </g>\n   <g id=\"patch_69\">\n    <path clip-path=\"url(#p9ff48e3378)\" d=\"M 227.348043 745.92 \nL 248.120882 745.92 \nL 248.120882 725.587948 \nL 227.348043 725.587948 \nz\n\" style=\"fill:#da70d6;\"/>\n   </g>\n   <g id=\"patch_70\">\n    <path clip-path=\"url(#p9ff48e3378)\" d=\"M 253.314092 745.92 \nL 274.086931 745.92 \nL 274.086931 727.847065 \nL 253.314092 727.847065 \nz\n\" style=\"fill:#ffa500;\"/>\n   </g>\n   <g id=\"patch_71\">\n    <path clip-path=\"url(#p9ff48e3378)\" d=\"M 279.280141 745.92 \nL 300.05298 745.92 \nL 300.05298 730.106182 \nL 279.280141 730.106182 \nz\n\" style=\"fill:#c0c0c0;\"/>\n   </g>\n   <g id=\"patch_72\">\n    <path clip-path=\"url(#p9ff48e3378)\" d=\"M 305.246189 745.92 \nL 326.019028 745.92 \nL 326.019028 736.883532 \nL 305.246189 736.883532 \nz\n\" style=\"fill:#cd5c5c;\"/>\n   </g>\n   <g id=\"patch_73\">\n    <path clip-path=\"url(#p9ff48e3378)\" d=\"M 331.212238 745.92 \nL 351.985077 745.92 \nL 351.985077 743.660883 \nL 331.212238 743.660883 \nz\n\" style=\"fill:#db7093;\"/>\n   </g>\n   <g id=\"patch_74\">\n    <path clip-path=\"url(#p9ff48e3378)\" d=\"M 357.178287 745.92 \nL 377.951126 745.92 \nL 377.951126 745.92 \nL 357.178287 745.92 \nz\n\" style=\"fill:#ffd700;\"/>\n   </g>\n   <g id=\"patch_75\">\n    <path clip-path=\"url(#p9ff48e3378)\" d=\"M 383.144335 745.92 \nL 403.917174 745.92 \nL 403.917174 745.92 \nL 383.144335 745.92 \nz\n\" style=\"fill:#32cd32;\"/>\n   </g>\n   <g id=\"patch_76\">\n    <path clip-path=\"url(#p9ff48e3378)\" d=\"M 409.110384 745.92 \nL 429.883223 745.92 \nL 429.883223 745.92 \nL 409.110384 745.92 \nz\n\" style=\"fill:#800000;\"/>\n   </g>\n   <g id=\"patch_77\">\n    <path clip-path=\"url(#p9ff48e3378)\" d=\"M 435.076433 745.92 \nL 455.849272 745.92 \nL 455.849272 745.92 \nL 435.076433 745.92 \nz\n\" style=\"fill:#800080;\"/>\n   </g>\n   <g id=\"patch_78\">\n    <path d=\"M 52.336875 745.92 \nL 52.336875 484.992 \n\" style=\"fill:none;stroke:#000000;stroke-linecap:square;stroke-linejoin:miter;stroke-width:0.8;\"/>\n   </g>\n   <g id=\"patch_79\">\n    <path d=\"M 475.064148 745.92 \nL 475.064148 484.992 \n\" style=\"fill:none;stroke:#000000;stroke-linecap:square;stroke-linejoin:miter;stroke-width:0.8;\"/>\n   </g>\n   <g id=\"patch_80\">\n    <path d=\"M 52.336875 745.92 \nL 475.064148 745.92 \n\" style=\"fill:none;stroke:#000000;stroke-linecap:square;stroke-linejoin:miter;stroke-width:0.8;\"/>\n   </g>\n   <g id=\"patch_81\">\n    <path d=\"M 52.336875 484.992 \nL 475.064148 484.992 \n\" style=\"fill:none;stroke:#000000;stroke-linecap:square;stroke-linejoin:miter;stroke-width:0.8;\"/>\n   </g>\n   <g id=\"text_90\">\n    <!-- July -->\n    <g transform=\"translate(252.909886 478.992)scale(0.12 -0.12)\">\n     <use xlink:href=\"#DejaVuSans-74\"/>\n     <use x=\"29.492188\" xlink:href=\"#DejaVuSans-117\"/>\n     <use x=\"92.871094\" xlink:href=\"#DejaVuSans-108\"/>\n     <use x=\"120.654297\" xlink:href=\"#DejaVuSans-121\"/>\n    </g>\n   </g>\n  </g>\n  <g id=\"axes_5\">\n   <g id=\"patch_82\">\n    <path d=\"M 538.473239 745.92 \nL 961.200511 745.92 \nL 961.200511 484.992 \nL 538.473239 484.992 \nz\n\" style=\"fill:#ffffff;\"/>\n   </g>\n   <g id=\"matplotlib.axis_9\">\n    <g id=\"xtick_61\">\n     <g id=\"line2d_169\">\n      <path clip-path=\"url(#pf6a2153647)\" d=\"M 568.074534 745.92 \nL 568.074534 484.992 \n\" style=\"fill:none;stroke:#b0b0b0;stroke-linecap:square;stroke-opacity:0.5;stroke-width:0.8;\"/>\n     </g>\n     <g id=\"line2d_170\">\n      <g>\n       <use style=\"stroke:#000000;stroke-width:0.8;\" x=\"568.074534\" xlink:href=\"#m9e32518061\" y=\"745.92\"/>\n      </g>\n     </g>\n     <g id=\"text_91\">\n      <!-- Pop -->\n      <g transform=\"translate(570.833909 772.554375)rotate(-90)scale(0.1 -0.1)\">\n       <use xlink:href=\"#DejaVuSans-80\"/>\n       <use x=\"56.677734\" xlink:href=\"#DejaVuSans-111\"/>\n       <use x=\"117.859375\" xlink:href=\"#DejaVuSans-112\"/>\n      </g>\n     </g>\n    </g>\n    <g id=\"xtick_62\">\n     <g id=\"line2d_171\">\n      <path clip-path=\"url(#pf6a2153647)\" d=\"M 594.040583 745.92 \nL 594.040583 484.992 \n\" style=\"fill:none;stroke:#b0b0b0;stroke-linecap:square;stroke-opacity:0.5;stroke-width:0.8;\"/>\n     </g>\n     <g id=\"line2d_172\">\n      <g>\n       <use style=\"stroke:#000000;stroke-width:0.8;\" x=\"594.040583\" xlink:href=\"#m9e32518061\" y=\"745.92\"/>\n      </g>\n     </g>\n     <g id=\"text_92\">\n      <!-- Rap/Hip Hop/Trap -->\n      <g transform=\"translate(596.799958 841.390312)rotate(-90)scale(0.1 -0.1)\">\n       <use xlink:href=\"#DejaVuSans-82\"/>\n       <use x=\"67.232422\" xlink:href=\"#DejaVuSans-97\"/>\n       <use x=\"128.511719\" xlink:href=\"#DejaVuSans-112\"/>\n       <use x=\"191.988281\" xlink:href=\"#DejaVuSans-47\"/>\n       <use x=\"225.679688\" xlink:href=\"#DejaVuSans-72\"/>\n       <use x=\"300.875\" xlink:href=\"#DejaVuSans-105\"/>\n       <use x=\"328.658203\" xlink:href=\"#DejaVuSans-112\"/>\n       <use x=\"392.134766\" xlink:href=\"#DejaVuSans-32\"/>\n       <use x=\"423.921875\" xlink:href=\"#DejaVuSans-72\"/>\n       <use x=\"499.117188\" xlink:href=\"#DejaVuSans-111\"/>\n       <use x=\"560.298828\" xlink:href=\"#DejaVuSans-112\"/>\n       <use x=\"623.775391\" xlink:href=\"#DejaVuSans-47\"/>\n       <use x=\"657.466797\" xlink:href=\"#DejaVuSans-84\"/>\n       <use x=\"703.800781\" xlink:href=\"#DejaVuSans-114\"/>\n       <use x=\"744.914062\" xlink:href=\"#DejaVuSans-97\"/>\n       <use x=\"806.193359\" xlink:href=\"#DejaVuSans-112\"/>\n      </g>\n     </g>\n    </g>\n    <g id=\"xtick_63\">\n     <g id=\"line2d_173\">\n      <path clip-path=\"url(#pf6a2153647)\" d=\"M 620.006632 745.92 \nL 620.006632 484.992 \n\" style=\"fill:none;stroke:#b0b0b0;stroke-linecap:square;stroke-opacity:0.5;stroke-width:0.8;\"/>\n     </g>\n     <g id=\"line2d_174\">\n      <g>\n       <use style=\"stroke:#000000;stroke-width:0.8;\" x=\"620.006632\" xlink:href=\"#m9e32518061\" y=\"745.92\"/>\n      </g>\n     </g>\n     <g id=\"text_93\">\n      <!-- Alternative/Alt -->\n      <g transform=\"translate(622.766007 826.191875)rotate(-90)scale(0.1 -0.1)\">\n       <use xlink:href=\"#DejaVuSans-65\"/>\n       <use x=\"68.408203\" xlink:href=\"#DejaVuSans-108\"/>\n       <use x=\"96.191406\" xlink:href=\"#DejaVuSans-116\"/>\n       <use x=\"135.400391\" xlink:href=\"#DejaVuSans-101\"/>\n       <use x=\"196.923828\" xlink:href=\"#DejaVuSans-114\"/>\n       <use x=\"236.287109\" xlink:href=\"#DejaVuSans-110\"/>\n       <use x=\"299.666016\" xlink:href=\"#DejaVuSans-97\"/>\n       <use x=\"360.945312\" xlink:href=\"#DejaVuSans-116\"/>\n       <use x=\"400.154297\" xlink:href=\"#DejaVuSans-105\"/>\n       <use x=\"427.9375\" xlink:href=\"#DejaVuSans-118\"/>\n       <use x=\"487.117188\" xlink:href=\"#DejaVuSans-101\"/>\n       <use x=\"548.640625\" xlink:href=\"#DejaVuSans-47\"/>\n       <use x=\"582.332031\" xlink:href=\"#DejaVuSans-65\"/>\n       <use x=\"650.740234\" xlink:href=\"#DejaVuSans-108\"/>\n       <use x=\"678.523438\" xlink:href=\"#DejaVuSans-116\"/>\n      </g>\n     </g>\n    </g>\n    <g id=\"xtick_64\">\n     <g id=\"line2d_175\">\n      <path clip-path=\"url(#pf6a2153647)\" d=\"M 645.97268 745.92 \nL 645.97268 484.992 \n\" style=\"fill:none;stroke:#b0b0b0;stroke-linecap:square;stroke-opacity:0.5;stroke-width:0.8;\"/>\n     </g>\n     <g id=\"line2d_176\">\n      <g>\n       <use style=\"stroke:#000000;stroke-width:0.8;\" x=\"645.97268\" xlink:href=\"#m9e32518061\" y=\"745.92\"/>\n      </g>\n     </g>\n     <g id=\"text_94\">\n      <!-- Indie -->\n      <g transform=\"translate(648.732055 778.987187)rotate(-90)scale(0.1 -0.1)\">\n       <use xlink:href=\"#DejaVuSans-73\"/>\n       <use x=\"29.492188\" xlink:href=\"#DejaVuSans-110\"/>\n       <use x=\"92.871094\" xlink:href=\"#DejaVuSans-100\"/>\n       <use x=\"156.347656\" xlink:href=\"#DejaVuSans-105\"/>\n       <use x=\"184.130859\" xlink:href=\"#DejaVuSans-101\"/>\n      </g>\n     </g>\n    </g>\n    <g id=\"xtick_65\">\n     <g id=\"line2d_177\">\n      <path clip-path=\"url(#pf6a2153647)\" d=\"M 671.938729 745.92 \nL 671.938729 484.992 \n\" style=\"fill:none;stroke:#b0b0b0;stroke-linecap:square;stroke-opacity:0.5;stroke-width:0.8;\"/>\n     </g>\n     <g id=\"line2d_178\">\n      <g>\n       <use style=\"stroke:#000000;stroke-width:0.8;\" x=\"671.938729\" xlink:href=\"#m9e32518061\" y=\"745.92\"/>\n      </g>\n     </g>\n     <g id=\"text_95\">\n      <!-- Country -->\n      <g transform=\"translate(674.698104 794.146562)rotate(-90)scale(0.1 -0.1)\">\n       <use xlink:href=\"#DejaVuSans-67\"/>\n       <use x=\"69.824219\" xlink:href=\"#DejaVuSans-111\"/>\n       <use x=\"131.005859\" xlink:href=\"#DejaVuSans-117\"/>\n       <use x=\"194.384766\" xlink:href=\"#DejaVuSans-110\"/>\n       <use x=\"257.763672\" xlink:href=\"#DejaVuSans-116\"/>\n       <use x=\"296.972656\" xlink:href=\"#DejaVuSans-114\"/>\n       <use x=\"338.085938\" xlink:href=\"#DejaVuSans-121\"/>\n      </g>\n     </g>\n    </g>\n    <g id=\"xtick_66\">\n     <g id=\"line2d_179\">\n      <path clip-path=\"url(#pf6a2153647)\" d=\"M 697.904778 745.92 \nL 697.904778 484.992 \n\" style=\"fill:none;stroke:#b0b0b0;stroke-linecap:square;stroke-opacity:0.5;stroke-width:0.8;\"/>\n     </g>\n     <g id=\"line2d_180\">\n      <g>\n       <use style=\"stroke:#000000;stroke-width:0.8;\" x=\"697.904778\" xlink:href=\"#m9e32518061\" y=\"745.92\"/>\n      </g>\n     </g>\n     <g id=\"text_96\">\n      <!-- Latin -->\n      <g transform=\"translate(700.664153 779.155937)rotate(-90)scale(0.1 -0.1)\">\n       <use xlink:href=\"#DejaVuSans-76\"/>\n       <use x=\"55.712891\" xlink:href=\"#DejaVuSans-97\"/>\n       <use x=\"116.992188\" xlink:href=\"#DejaVuSans-116\"/>\n       <use x=\"156.201172\" xlink:href=\"#DejaVuSans-105\"/>\n       <use x=\"183.984375\" xlink:href=\"#DejaVuSans-110\"/>\n      </g>\n     </g>\n    </g>\n    <g id=\"xtick_67\">\n     <g id=\"line2d_181\">\n      <path clip-path=\"url(#pf6a2153647)\" d=\"M 723.870826 745.92 \nL 723.870826 484.992 \n\" style=\"fill:none;stroke:#b0b0b0;stroke-linecap:square;stroke-opacity:0.5;stroke-width:0.8;\"/>\n     </g>\n     <g id=\"line2d_182\">\n      <g>\n       <use style=\"stroke:#000000;stroke-width:0.8;\" x=\"723.870826\" xlink:href=\"#m9e32518061\" y=\"745.92\"/>\n      </g>\n     </g>\n     <g id=\"text_97\">\n      <!-- R&amp;B/Soul/Blues -->\n      <g transform=\"translate(726.630201 831.687187)rotate(-90)scale(0.1 -0.1)\">\n       <use xlink:href=\"#DejaVuSans-82\"/>\n       <use x=\"69.482422\" xlink:href=\"#DejaVuSans-38\"/>\n       <use x=\"147.460938\" xlink:href=\"#DejaVuSans-66\"/>\n       <use x=\"216.064453\" xlink:href=\"#DejaVuSans-47\"/>\n       <use x=\"249.755859\" xlink:href=\"#DejaVuSans-83\"/>\n       <use x=\"313.232422\" xlink:href=\"#DejaVuSans-111\"/>\n       <use x=\"374.414062\" xlink:href=\"#DejaVuSans-117\"/>\n       <use x=\"437.792969\" xlink:href=\"#DejaVuSans-108\"/>\n       <use x=\"465.576172\" xlink:href=\"#DejaVuSans-47\"/>\n       <use x=\"499.267578\" xlink:href=\"#DejaVuSans-66\"/>\n       <use x=\"567.871094\" xlink:href=\"#DejaVuSans-108\"/>\n       <use x=\"595.654297\" xlink:href=\"#DejaVuSans-117\"/>\n       <use x=\"659.033203\" xlink:href=\"#DejaVuSans-101\"/>\n       <use x=\"720.556641\" xlink:href=\"#DejaVuSans-115\"/>\n      </g>\n     </g>\n    </g>\n    <g id=\"xtick_68\">\n     <g id=\"line2d_183\">\n      <path clip-path=\"url(#pf6a2153647)\" d=\"M 749.836875 745.92 \nL 749.836875 484.992 \n\" style=\"fill:none;stroke:#b0b0b0;stroke-linecap:square;stroke-opacity:0.5;stroke-width:0.8;\"/>\n     </g>\n     <g id=\"line2d_184\">\n      <g>\n       <use style=\"stroke:#000000;stroke-width:0.8;\" x=\"749.836875\" xlink:href=\"#m9e32518061\" y=\"745.92\"/>\n      </g>\n     </g>\n     <g id=\"text_98\">\n      <!-- House/EDM -->\n      <g transform=\"translate(752.59625 811.774687)rotate(-90)scale(0.1 -0.1)\">\n       <use xlink:href=\"#DejaVuSans-72\"/>\n       <use x=\"75.195312\" xlink:href=\"#DejaVuSans-111\"/>\n       <use x=\"136.376953\" xlink:href=\"#DejaVuSans-117\"/>\n       <use x=\"199.755859\" xlink:href=\"#DejaVuSans-115\"/>\n       <use x=\"251.855469\" xlink:href=\"#DejaVuSans-101\"/>\n       <use x=\"313.378906\" xlink:href=\"#DejaVuSans-47\"/>\n       <use x=\"347.070312\" xlink:href=\"#DejaVuSans-69\"/>\n       <use x=\"410.253906\" xlink:href=\"#DejaVuSans-68\"/>\n       <use x=\"487.255859\" xlink:href=\"#DejaVuSans-77\"/>\n      </g>\n     </g>\n    </g>\n    <g id=\"xtick_69\">\n     <g id=\"line2d_185\">\n      <path clip-path=\"url(#pf6a2153647)\" d=\"M 775.802924 745.92 \nL 775.802924 484.992 \n\" style=\"fill:none;stroke:#b0b0b0;stroke-linecap:square;stroke-opacity:0.5;stroke-width:0.8;\"/>\n     </g>\n     <g id=\"line2d_186\">\n      <g>\n       <use style=\"stroke:#000000;stroke-width:0.8;\" x=\"775.802924\" xlink:href=\"#m9e32518061\" y=\"745.92\"/>\n      </g>\n     </g>\n     <g id=\"text_99\">\n      <!-- Rock -->\n      <g transform=\"translate(778.562299 778.32625)rotate(-90)scale(0.1 -0.1)\">\n       <use xlink:href=\"#DejaVuSans-82\"/>\n       <use x=\"64.982422\" xlink:href=\"#DejaVuSans-111\"/>\n       <use x=\"126.164062\" xlink:href=\"#DejaVuSans-99\"/>\n       <use x=\"181.144531\" xlink:href=\"#DejaVuSans-107\"/>\n      </g>\n     </g>\n    </g>\n    <g id=\"xtick_70\">\n     <g id=\"line2d_187\">\n      <path clip-path=\"url(#pf6a2153647)\" d=\"M 801.768972 745.92 \nL 801.768972 484.992 \n\" style=\"fill:none;stroke:#b0b0b0;stroke-linecap:square;stroke-opacity:0.5;stroke-width:0.8;\"/>\n     </g>\n     <g id=\"line2d_188\">\n      <g>\n       <use style=\"stroke:#000000;stroke-width:0.8;\" x=\"801.768972\" xlink:href=\"#m9e32518061\" y=\"745.92\"/>\n      </g>\n     </g>\n     <g id=\"text_100\">\n      <!-- Glitchcore -->\n      <g transform=\"translate(804.528347 805.137187)rotate(-90)scale(0.1 -0.1)\">\n       <use xlink:href=\"#DejaVuSans-71\"/>\n       <use x=\"77.490234\" xlink:href=\"#DejaVuSans-108\"/>\n       <use x=\"105.273438\" xlink:href=\"#DejaVuSans-105\"/>\n       <use x=\"133.056641\" xlink:href=\"#DejaVuSans-116\"/>\n       <use x=\"172.265625\" xlink:href=\"#DejaVuSans-99\"/>\n       <use x=\"227.246094\" xlink:href=\"#DejaVuSans-104\"/>\n       <use x=\"290.625\" xlink:href=\"#DejaVuSans-99\"/>\n       <use x=\"345.605469\" xlink:href=\"#DejaVuSans-111\"/>\n       <use x=\"406.787109\" xlink:href=\"#DejaVuSans-114\"/>\n       <use x=\"445.650391\" xlink:href=\"#DejaVuSans-101\"/>\n      </g>\n     </g>\n    </g>\n    <g id=\"xtick_71\">\n     <g id=\"line2d_189\">\n      <path clip-path=\"url(#pf6a2153647)\" d=\"M 827.735021 745.92 \nL 827.735021 484.992 \n\" style=\"fill:none;stroke:#b0b0b0;stroke-linecap:square;stroke-opacity:0.5;stroke-width:0.8;\"/>\n     </g>\n     <g id=\"line2d_190\">\n      <g>\n       <use style=\"stroke:#000000;stroke-width:0.8;\" x=\"827.735021\" xlink:href=\"#m9e32518061\" y=\"745.92\"/>\n      </g>\n     </g>\n     <g id=\"text_101\">\n      <!-- Brooklyn Drill -->\n      <g transform=\"translate(830.494396 821.552812)rotate(-90)scale(0.1 -0.1)\">\n       <use xlink:href=\"#DejaVuSans-66\"/>\n       <use x=\"68.603516\" xlink:href=\"#DejaVuSans-114\"/>\n       <use x=\"107.466797\" xlink:href=\"#DejaVuSans-111\"/>\n       <use x=\"168.648438\" xlink:href=\"#DejaVuSans-111\"/>\n       <use x=\"229.830078\" xlink:href=\"#DejaVuSans-107\"/>\n       <use x=\"287.740234\" xlink:href=\"#DejaVuSans-108\"/>\n       <use x=\"315.523438\" xlink:href=\"#DejaVuSans-121\"/>\n       <use x=\"374.703125\" xlink:href=\"#DejaVuSans-110\"/>\n       <use x=\"438.082031\" xlink:href=\"#DejaVuSans-32\"/>\n       <use x=\"469.869141\" xlink:href=\"#DejaVuSans-68\"/>\n       <use x=\"546.871094\" xlink:href=\"#DejaVuSans-114\"/>\n       <use x=\"587.984375\" xlink:href=\"#DejaVuSans-105\"/>\n       <use x=\"615.767578\" xlink:href=\"#DejaVuSans-108\"/>\n       <use x=\"643.550781\" xlink:href=\"#DejaVuSans-108\"/>\n      </g>\n     </g>\n    </g>\n    <g id=\"xtick_72\">\n     <g id=\"line2d_191\">\n      <path clip-path=\"url(#pf6a2153647)\" d=\"M 853.70107 745.92 \nL 853.70107 484.992 \n\" style=\"fill:none;stroke:#b0b0b0;stroke-linecap:square;stroke-opacity:0.5;stroke-width:0.8;\"/>\n     </g>\n     <g id=\"line2d_192\">\n      <g>\n       <use style=\"stroke:#000000;stroke-width:0.8;\" x=\"853.70107\" xlink:href=\"#m9e32518061\" y=\"745.92\"/>\n      </g>\n     </g>\n     <g id=\"text_102\">\n      <!-- Disco -->\n      <g transform=\"translate(856.460445 781.724687)rotate(-90)scale(0.1 -0.1)\">\n       <use xlink:href=\"#DejaVuSans-68\"/>\n       <use x=\"77.001953\" xlink:href=\"#DejaVuSans-105\"/>\n       <use x=\"104.785156\" xlink:href=\"#DejaVuSans-115\"/>\n       <use x=\"156.884766\" xlink:href=\"#DejaVuSans-99\"/>\n       <use x=\"211.865234\" xlink:href=\"#DejaVuSans-111\"/>\n      </g>\n     </g>\n    </g>\n    <g id=\"xtick_73\">\n     <g id=\"line2d_193\">\n      <path clip-path=\"url(#pf6a2153647)\" d=\"M 879.667118 745.92 \nL 879.667118 484.992 \n\" style=\"fill:none;stroke:#b0b0b0;stroke-linecap:square;stroke-opacity:0.5;stroke-width:0.8;\"/>\n     </g>\n     <g id=\"line2d_194\">\n      <g>\n       <use style=\"stroke:#000000;stroke-width:0.8;\" x=\"879.667118\" xlink:href=\"#m9e32518061\" y=\"745.92\"/>\n      </g>\n     </g>\n     <g id=\"text_103\">\n      <!-- Halloween -->\n      <g transform=\"translate(882.426493 806.565312)rotate(-90)scale(0.1 -0.1)\">\n       <use xlink:href=\"#DejaVuSans-72\"/>\n       <use x=\"75.195312\" xlink:href=\"#DejaVuSans-97\"/>\n       <use x=\"136.474609\" xlink:href=\"#DejaVuSans-108\"/>\n       <use x=\"164.257812\" xlink:href=\"#DejaVuSans-108\"/>\n       <use x=\"192.041016\" xlink:href=\"#DejaVuSans-111\"/>\n       <use x=\"253.222656\" xlink:href=\"#DejaVuSans-119\"/>\n       <use x=\"335.009766\" xlink:href=\"#DejaVuSans-101\"/>\n       <use x=\"396.533203\" xlink:href=\"#DejaVuSans-101\"/>\n       <use x=\"458.056641\" xlink:href=\"#DejaVuSans-110\"/>\n      </g>\n     </g>\n    </g>\n    <g id=\"xtick_74\">\n     <g id=\"line2d_195\">\n      <path clip-path=\"url(#pf6a2153647)\" d=\"M 905.633167 745.92 \nL 905.633167 484.992 \n\" style=\"fill:none;stroke:#b0b0b0;stroke-linecap:square;stroke-opacity:0.5;stroke-width:0.8;\"/>\n     </g>\n     <g id=\"line2d_196\">\n      <g>\n       <use style=\"stroke:#000000;stroke-width:0.8;\" x=\"905.633167\" xlink:href=\"#m9e32518061\" y=\"745.92\"/>\n      </g>\n     </g>\n     <g id=\"text_104\">\n      <!-- Christmas -->\n      <g transform=\"translate(908.392542 804.837187)rotate(-90)scale(0.1 -0.1)\">\n       <use xlink:href=\"#DejaVuSans-67\"/>\n       <use x=\"69.824219\" xlink:href=\"#DejaVuSans-104\"/>\n       <use x=\"133.203125\" xlink:href=\"#DejaVuSans-114\"/>\n       <use x=\"174.316406\" xlink:href=\"#DejaVuSans-105\"/>\n       <use x=\"202.099609\" xlink:href=\"#DejaVuSans-115\"/>\n       <use x=\"254.199219\" xlink:href=\"#DejaVuSans-116\"/>\n       <use x=\"293.408203\" xlink:href=\"#DejaVuSans-109\"/>\n       <use x=\"390.820312\" xlink:href=\"#DejaVuSans-97\"/>\n       <use x=\"452.099609\" xlink:href=\"#DejaVuSans-115\"/>\n      </g>\n     </g>\n    </g>\n    <g id=\"xtick_75\">\n     <g id=\"line2d_197\">\n      <path clip-path=\"url(#pf6a2153647)\" d=\"M 931.599216 745.92 \nL 931.599216 484.992 \n\" style=\"fill:none;stroke:#b0b0b0;stroke-linecap:square;stroke-opacity:0.5;stroke-width:0.8;\"/>\n     </g>\n     <g id=\"line2d_198\">\n      <g>\n       <use style=\"stroke:#000000;stroke-width:0.8;\" x=\"931.599216\" xlink:href=\"#m9e32518061\" y=\"745.92\"/>\n      </g>\n     </g>\n     <g id=\"text_105\">\n      <!-- Classical -->\n      <g transform=\"translate(934.358591 797.910625)rotate(-90)scale(0.1 -0.1)\">\n       <use xlink:href=\"#DejaVuSans-67\"/>\n       <use x=\"69.824219\" xlink:href=\"#DejaVuSans-108\"/>\n       <use x=\"97.607422\" xlink:href=\"#DejaVuSans-97\"/>\n       <use x=\"158.886719\" xlink:href=\"#DejaVuSans-115\"/>\n       <use x=\"210.986328\" xlink:href=\"#DejaVuSans-115\"/>\n       <use x=\"263.085938\" xlink:href=\"#DejaVuSans-105\"/>\n       <use x=\"290.869141\" xlink:href=\"#DejaVuSans-99\"/>\n       <use x=\"345.849609\" xlink:href=\"#DejaVuSans-97\"/>\n       <use x=\"407.128906\" xlink:href=\"#DejaVuSans-108\"/>\n      </g>\n     </g>\n    </g>\n   </g>\n   <g id=\"matplotlib.axis_10\">\n    <g id=\"ytick_25\">\n     <g id=\"line2d_199\">\n      <path clip-path=\"url(#pf6a2153647)\" d=\"M 538.473239 745.92 \nL 961.200511 745.92 \n\" style=\"fill:none;stroke:#b0b0b0;stroke-linecap:square;stroke-opacity:0.5;stroke-width:0.8;\"/>\n     </g>\n     <g id=\"line2d_200\">\n      <g>\n       <use style=\"stroke:#000000;stroke-width:0.8;\" x=\"538.473239\" xlink:href=\"#m4c24cf152e\" y=\"745.92\"/>\n      </g>\n     </g>\n     <g id=\"text_106\">\n      <!-- 0 -->\n      <g transform=\"translate(525.110739 749.719219)scale(0.1 -0.1)\">\n       <use xlink:href=\"#DejaVuSans-48\"/>\n      </g>\n     </g>\n    </g>\n    <g id=\"ytick_26\">\n     <g id=\"line2d_201\">\n      <path clip-path=\"url(#pf6a2153647)\" d=\"M 538.473239 700.737662 \nL 961.200511 700.737662 \n\" style=\"fill:none;stroke:#b0b0b0;stroke-linecap:square;stroke-opacity:0.5;stroke-width:0.8;\"/>\n     </g>\n     <g id=\"line2d_202\">\n      <g>\n       <use style=\"stroke:#000000;stroke-width:0.8;\" x=\"538.473239\" xlink:href=\"#m4c24cf152e\" y=\"700.737662\"/>\n      </g>\n     </g>\n     <g id=\"text_107\">\n      <!-- 20 -->\n      <g transform=\"translate(518.748239 704.536881)scale(0.1 -0.1)\">\n       <use xlink:href=\"#DejaVuSans-50\"/>\n       <use x=\"63.623047\" xlink:href=\"#DejaVuSans-48\"/>\n      </g>\n     </g>\n    </g>\n    <g id=\"ytick_27\">\n     <g id=\"line2d_203\">\n      <path clip-path=\"url(#pf6a2153647)\" d=\"M 538.473239 655.555325 \nL 961.200511 655.555325 \n\" style=\"fill:none;stroke:#b0b0b0;stroke-linecap:square;stroke-opacity:0.5;stroke-width:0.8;\"/>\n     </g>\n     <g id=\"line2d_204\">\n      <g>\n       <use style=\"stroke:#000000;stroke-width:0.8;\" x=\"538.473239\" xlink:href=\"#m4c24cf152e\" y=\"655.555325\"/>\n      </g>\n     </g>\n     <g id=\"text_108\">\n      <!-- 40 -->\n      <g transform=\"translate(518.748239 659.354543)scale(0.1 -0.1)\">\n       <use xlink:href=\"#DejaVuSans-52\"/>\n       <use x=\"63.623047\" xlink:href=\"#DejaVuSans-48\"/>\n      </g>\n     </g>\n    </g>\n    <g id=\"ytick_28\">\n     <g id=\"line2d_205\">\n      <path clip-path=\"url(#pf6a2153647)\" d=\"M 538.473239 610.372987 \nL 961.200511 610.372987 \n\" style=\"fill:none;stroke:#b0b0b0;stroke-linecap:square;stroke-opacity:0.5;stroke-width:0.8;\"/>\n     </g>\n     <g id=\"line2d_206\">\n      <g>\n       <use style=\"stroke:#000000;stroke-width:0.8;\" x=\"538.473239\" xlink:href=\"#m4c24cf152e\" y=\"610.372987\"/>\n      </g>\n     </g>\n     <g id=\"text_109\">\n      <!-- 60 -->\n      <g transform=\"translate(518.748239 614.172206)scale(0.1 -0.1)\">\n       <use xlink:href=\"#DejaVuSans-54\"/>\n       <use x=\"63.623047\" xlink:href=\"#DejaVuSans-48\"/>\n      </g>\n     </g>\n    </g>\n    <g id=\"ytick_29\">\n     <g id=\"line2d_207\">\n      <path clip-path=\"url(#pf6a2153647)\" d=\"M 538.473239 565.190649 \nL 961.200511 565.190649 \n\" style=\"fill:none;stroke:#b0b0b0;stroke-linecap:square;stroke-opacity:0.5;stroke-width:0.8;\"/>\n     </g>\n     <g id=\"line2d_208\">\n      <g>\n       <use style=\"stroke:#000000;stroke-width:0.8;\" x=\"538.473239\" xlink:href=\"#m4c24cf152e\" y=\"565.190649\"/>\n      </g>\n     </g>\n     <g id=\"text_110\">\n      <!-- 80 -->\n      <g transform=\"translate(518.748239 568.989868)scale(0.1 -0.1)\">\n       <use xlink:href=\"#DejaVuSans-56\"/>\n       <use x=\"63.623047\" xlink:href=\"#DejaVuSans-48\"/>\n      </g>\n     </g>\n    </g>\n    <g id=\"ytick_30\">\n     <g id=\"line2d_209\">\n      <path clip-path=\"url(#pf6a2153647)\" d=\"M 538.473239 520.008312 \nL 961.200511 520.008312 \n\" style=\"fill:none;stroke:#b0b0b0;stroke-linecap:square;stroke-opacity:0.5;stroke-width:0.8;\"/>\n     </g>\n     <g id=\"line2d_210\">\n      <g>\n       <use style=\"stroke:#000000;stroke-width:0.8;\" x=\"538.473239\" xlink:href=\"#m4c24cf152e\" y=\"520.008312\"/>\n      </g>\n     </g>\n     <g id=\"text_111\">\n      <!-- 100 -->\n      <g transform=\"translate(512.385739 523.80753)scale(0.1 -0.1)\">\n       <use xlink:href=\"#DejaVuSans-49\"/>\n       <use x=\"63.623047\" xlink:href=\"#DejaVuSans-48\"/>\n       <use x=\"127.246094\" xlink:href=\"#DejaVuSans-48\"/>\n      </g>\n     </g>\n    </g>\n   </g>\n   <g id=\"patch_83\">\n    <path clip-path=\"url(#pf6a2153647)\" d=\"M 557.688115 745.92 \nL 578.460954 745.92 \nL 578.460954 497.417143 \nL 557.688115 497.417143 \nz\n\" style=\"fill:#800080;\"/>\n   </g>\n   <g id=\"patch_84\">\n    <path clip-path=\"url(#pf6a2153647)\" d=\"M 583.654163 745.92 \nL 604.427002 745.92 \nL 604.427002 599.077403 \nL 583.654163 599.077403 \nz\n\" style=\"fill:#ff0000;\"/>\n   </g>\n   <g id=\"patch_85\">\n    <path clip-path=\"url(#pf6a2153647)\" d=\"M 609.620212 745.92 \nL 630.393051 745.92 \nL 630.393051 675.887377 \nL 609.620212 675.887377 \nz\n\" style=\"fill:#ff7f50;\"/>\n   </g>\n   <g id=\"patch_86\">\n    <path clip-path=\"url(#pf6a2153647)\" d=\"M 635.586261 745.92 \nL 656.3591 745.92 \nL 656.3591 678.146494 \nL 635.586261 678.146494 \nz\n\" style=\"fill:#2e8b57;\"/>\n   </g>\n   <g id=\"patch_87\">\n    <path clip-path=\"url(#pf6a2153647)\" d=\"M 661.552309 745.92 \nL 682.325148 745.92 \nL 682.325148 696.219429 \nL 661.552309 696.219429 \nz\n\" style=\"fill:#ffa500;\"/>\n   </g>\n   <g id=\"patch_88\">\n    <path clip-path=\"url(#pf6a2153647)\" d=\"M 687.518358 745.92 \nL 708.291197 745.92 \nL 708.291197 712.033247 \nL 687.518358 712.033247 \nz\n\" style=\"fill:#cd5c5c;\"/>\n   </g>\n   <g id=\"patch_89\">\n    <path clip-path=\"url(#pf6a2153647)\" d=\"M 713.484407 745.92 \nL 734.257246 745.92 \nL 734.257246 730.106182 \nL 713.484407 730.106182 \nz\n\" style=\"fill:#0000ff;\"/>\n   </g>\n   <g id=\"patch_90\">\n    <path clip-path=\"url(#pf6a2153647)\" d=\"M 739.450456 745.92 \nL 760.223294 745.92 \nL 760.223294 730.106182 \nL 739.450456 730.106182 \nz\n\" style=\"fill:#6a5acd;\"/>\n   </g>\n   <g id=\"patch_91\">\n    <path clip-path=\"url(#pf6a2153647)\" d=\"M 765.416504 745.92 \nL 786.189343 745.92 \nL 786.189343 734.624416 \nL 765.416504 734.624416 \nz\n\" style=\"fill:#da70d6;\"/>\n   </g>\n   <g id=\"patch_92\">\n    <path clip-path=\"url(#pf6a2153647)\" d=\"M 791.382553 745.92 \nL 812.155392 745.92 \nL 812.155392 736.883532 \nL 791.382553 736.883532 \nz\n\" style=\"fill:#c0c0c0;\"/>\n   </g>\n   <g id=\"patch_93\">\n    <path clip-path=\"url(#pf6a2153647)\" d=\"M 817.348602 745.92 \nL 838.121441 745.92 \nL 838.121441 741.401766 \nL 817.348602 741.401766 \nz\n\" style=\"fill:#db7093;\"/>\n   </g>\n   <g id=\"patch_94\">\n    <path clip-path=\"url(#pf6a2153647)\" d=\"M 843.31465 745.92 \nL 864.087489 745.92 \nL 864.087489 743.660883 \nL 843.31465 743.660883 \nz\n\" style=\"fill:#ffd700;\"/>\n   </g>\n   <g id=\"patch_95\">\n    <path clip-path=\"url(#pf6a2153647)\" d=\"M 869.280699 745.92 \nL 890.053538 745.92 \nL 890.053538 745.92 \nL 869.280699 745.92 \nz\n\" style=\"fill:#32cd32;\"/>\n   </g>\n   <g id=\"patch_96\">\n    <path clip-path=\"url(#pf6a2153647)\" d=\"M 895.246748 745.92 \nL 916.019587 745.92 \nL 916.019587 745.92 \nL 895.246748 745.92 \nz\n\" style=\"fill:#800000;\"/>\n   </g>\n   <g id=\"patch_97\">\n    <path clip-path=\"url(#pf6a2153647)\" d=\"M 921.212796 745.92 \nL 941.985635 745.92 \nL 941.985635 745.92 \nL 921.212796 745.92 \nz\n\" style=\"fill:#800080;\"/>\n   </g>\n   <g id=\"patch_98\">\n    <path d=\"M 538.473239 745.92 \nL 538.473239 484.992 \n\" style=\"fill:none;stroke:#000000;stroke-linecap:square;stroke-linejoin:miter;stroke-width:0.8;\"/>\n   </g>\n   <g id=\"patch_99\">\n    <path d=\"M 961.200511 745.92 \nL 961.200511 484.992 \n\" style=\"fill:none;stroke:#000000;stroke-linecap:square;stroke-linejoin:miter;stroke-width:0.8;\"/>\n   </g>\n   <g id=\"patch_100\">\n    <path d=\"M 538.473239 745.92 \nL 961.200511 745.92 \n\" style=\"fill:none;stroke:#000000;stroke-linecap:square;stroke-linejoin:miter;stroke-width:0.8;\"/>\n   </g>\n   <g id=\"patch_101\">\n    <path d=\"M 538.473239 484.992 \nL 961.200511 484.992 \n\" style=\"fill:none;stroke:#000000;stroke-linecap:square;stroke-linejoin:miter;stroke-width:0.8;\"/>\n   </g>\n   <g id=\"text_112\">\n    <!-- September -->\n    <g transform=\"translate(716.670937 478.992)scale(0.12 -0.12)\">\n     <defs>\n      <path d=\"M 48.6875 27.296875 \nQ 48.6875 37.203125 44.609375 42.84375 \nQ 40.53125 48.484375 33.40625 48.484375 \nQ 26.265625 48.484375 22.1875 42.84375 \nQ 18.109375 37.203125 18.109375 27.296875 \nQ 18.109375 17.390625 22.1875 11.75 \nQ 26.265625 6.109375 33.40625 6.109375 \nQ 40.53125 6.109375 44.609375 11.75 \nQ 48.6875 17.390625 48.6875 27.296875 \nz\nM 18.109375 46.390625 \nQ 20.953125 51.265625 25.265625 53.625 \nQ 29.59375 56 35.59375 56 \nQ 45.5625 56 51.78125 48.09375 \nQ 58.015625 40.1875 58.015625 27.296875 \nQ 58.015625 14.40625 51.78125 6.484375 \nQ 45.5625 -1.421875 35.59375 -1.421875 \nQ 29.59375 -1.421875 25.265625 0.953125 \nQ 20.953125 3.328125 18.109375 8.203125 \nL 18.109375 0 \nL 9.078125 0 \nL 9.078125 75.984375 \nL 18.109375 75.984375 \nz\n\" id=\"DejaVuSans-98\"/>\n     </defs>\n     <use xlink:href=\"#DejaVuSans-83\"/>\n     <use x=\"63.476562\" xlink:href=\"#DejaVuSans-101\"/>\n     <use x=\"125\" xlink:href=\"#DejaVuSans-112\"/>\n     <use x=\"188.476562\" xlink:href=\"#DejaVuSans-116\"/>\n     <use x=\"227.685547\" xlink:href=\"#DejaVuSans-101\"/>\n     <use x=\"289.208984\" xlink:href=\"#DejaVuSans-109\"/>\n     <use x=\"386.621094\" xlink:href=\"#DejaVuSans-98\"/>\n     <use x=\"450.097656\" xlink:href=\"#DejaVuSans-101\"/>\n     <use x=\"511.621094\" xlink:href=\"#DejaVuSans-114\"/>\n    </g>\n   </g>\n  </g>\n  <g id=\"axes_6\">\n   <g id=\"patch_102\">\n    <path d=\"M 1024.609602 745.92 \nL 1447.336875 745.92 \nL 1447.336875 484.992 \nL 1024.609602 484.992 \nz\n\" style=\"fill:#ffffff;\"/>\n   </g>\n   <g id=\"matplotlib.axis_11\">\n    <g id=\"xtick_76\">\n     <g id=\"line2d_211\">\n      <path clip-path=\"url(#p4a46fcf692)\" d=\"M 1054.210898 745.92 \nL 1054.210898 484.992 \n\" style=\"fill:none;stroke:#b0b0b0;stroke-linecap:square;stroke-opacity:0.5;stroke-width:0.8;\"/>\n     </g>\n     <g id=\"line2d_212\">\n      <g>\n       <use style=\"stroke:#000000;stroke-width:0.8;\" x=\"1054.210898\" xlink:href=\"#m9e32518061\" y=\"745.92\"/>\n      </g>\n     </g>\n     <g id=\"text_113\">\n      <!-- Rap/Hip Hop/Trap -->\n      <g transform=\"translate(1056.970273 841.390312)rotate(-90)scale(0.1 -0.1)\">\n       <use xlink:href=\"#DejaVuSans-82\"/>\n       <use x=\"67.232422\" xlink:href=\"#DejaVuSans-97\"/>\n       <use x=\"128.511719\" xlink:href=\"#DejaVuSans-112\"/>\n       <use x=\"191.988281\" xlink:href=\"#DejaVuSans-47\"/>\n       <use x=\"225.679688\" xlink:href=\"#DejaVuSans-72\"/>\n       <use x=\"300.875\" xlink:href=\"#DejaVuSans-105\"/>\n       <use x=\"328.658203\" xlink:href=\"#DejaVuSans-112\"/>\n       <use x=\"392.134766\" xlink:href=\"#DejaVuSans-32\"/>\n       <use x=\"423.921875\" xlink:href=\"#DejaVuSans-72\"/>\n       <use x=\"499.117188\" xlink:href=\"#DejaVuSans-111\"/>\n       <use x=\"560.298828\" xlink:href=\"#DejaVuSans-112\"/>\n       <use x=\"623.775391\" xlink:href=\"#DejaVuSans-47\"/>\n       <use x=\"657.466797\" xlink:href=\"#DejaVuSans-84\"/>\n       <use x=\"703.800781\" xlink:href=\"#DejaVuSans-114\"/>\n       <use x=\"744.914062\" xlink:href=\"#DejaVuSans-97\"/>\n       <use x=\"806.193359\" xlink:href=\"#DejaVuSans-112\"/>\n      </g>\n     </g>\n    </g>\n    <g id=\"xtick_77\">\n     <g id=\"line2d_213\">\n      <path clip-path=\"url(#p4a46fcf692)\" d=\"M 1080.176946 745.92 \nL 1080.176946 484.992 \n\" style=\"fill:none;stroke:#b0b0b0;stroke-linecap:square;stroke-opacity:0.5;stroke-width:0.8;\"/>\n     </g>\n     <g id=\"line2d_214\">\n      <g>\n       <use style=\"stroke:#000000;stroke-width:0.8;\" x=\"1080.176946\" xlink:href=\"#m9e32518061\" y=\"745.92\"/>\n      </g>\n     </g>\n     <g id=\"text_114\">\n      <!-- Pop -->\n      <g transform=\"translate(1082.936321 772.554375)rotate(-90)scale(0.1 -0.1)\">\n       <use xlink:href=\"#DejaVuSans-80\"/>\n       <use x=\"56.677734\" xlink:href=\"#DejaVuSans-111\"/>\n       <use x=\"117.859375\" xlink:href=\"#DejaVuSans-112\"/>\n      </g>\n     </g>\n    </g>\n    <g id=\"xtick_78\">\n     <g id=\"line2d_215\">\n      <path clip-path=\"url(#p4a46fcf692)\" d=\"M 1106.142995 745.92 \nL 1106.142995 484.992 \n\" style=\"fill:none;stroke:#b0b0b0;stroke-linecap:square;stroke-opacity:0.5;stroke-width:0.8;\"/>\n     </g>\n     <g id=\"line2d_216\">\n      <g>\n       <use style=\"stroke:#000000;stroke-width:0.8;\" x=\"1106.142995\" xlink:href=\"#m9e32518061\" y=\"745.92\"/>\n      </g>\n     </g>\n     <g id=\"text_115\">\n      <!-- Indie -->\n      <g transform=\"translate(1108.90237 778.987187)rotate(-90)scale(0.1 -0.1)\">\n       <use xlink:href=\"#DejaVuSans-73\"/>\n       <use x=\"29.492188\" xlink:href=\"#DejaVuSans-110\"/>\n       <use x=\"92.871094\" xlink:href=\"#DejaVuSans-100\"/>\n       <use x=\"156.347656\" xlink:href=\"#DejaVuSans-105\"/>\n       <use x=\"184.130859\" xlink:href=\"#DejaVuSans-101\"/>\n      </g>\n     </g>\n    </g>\n    <g id=\"xtick_79\">\n     <g id=\"line2d_217\">\n      <path clip-path=\"url(#p4a46fcf692)\" d=\"M 1132.109044 745.92 \nL 1132.109044 484.992 \n\" style=\"fill:none;stroke:#b0b0b0;stroke-linecap:square;stroke-opacity:0.5;stroke-width:0.8;\"/>\n     </g>\n     <g id=\"line2d_218\">\n      <g>\n       <use style=\"stroke:#000000;stroke-width:0.8;\" x=\"1132.109044\" xlink:href=\"#m9e32518061\" y=\"745.92\"/>\n      </g>\n     </g>\n     <g id=\"text_116\">\n      <!-- R&amp;B/Soul/Blues -->\n      <g transform=\"translate(1134.868419 831.687187)rotate(-90)scale(0.1 -0.1)\">\n       <use xlink:href=\"#DejaVuSans-82\"/>\n       <use x=\"69.482422\" xlink:href=\"#DejaVuSans-38\"/>\n       <use x=\"147.460938\" xlink:href=\"#DejaVuSans-66\"/>\n       <use x=\"216.064453\" xlink:href=\"#DejaVuSans-47\"/>\n       <use x=\"249.755859\" xlink:href=\"#DejaVuSans-83\"/>\n       <use x=\"313.232422\" xlink:href=\"#DejaVuSans-111\"/>\n       <use x=\"374.414062\" xlink:href=\"#DejaVuSans-117\"/>\n       <use x=\"437.792969\" xlink:href=\"#DejaVuSans-108\"/>\n       <use x=\"465.576172\" xlink:href=\"#DejaVuSans-47\"/>\n       <use x=\"499.267578\" xlink:href=\"#DejaVuSans-66\"/>\n       <use x=\"567.871094\" xlink:href=\"#DejaVuSans-108\"/>\n       <use x=\"595.654297\" xlink:href=\"#DejaVuSans-117\"/>\n       <use x=\"659.033203\" xlink:href=\"#DejaVuSans-101\"/>\n       <use x=\"720.556641\" xlink:href=\"#DejaVuSans-115\"/>\n      </g>\n     </g>\n    </g>\n    <g id=\"xtick_80\">\n     <g id=\"line2d_219\">\n      <path clip-path=\"url(#p4a46fcf692)\" d=\"M 1158.075093 745.92 \nL 1158.075093 484.992 \n\" style=\"fill:none;stroke:#b0b0b0;stroke-linecap:square;stroke-opacity:0.5;stroke-width:0.8;\"/>\n     </g>\n     <g id=\"line2d_220\">\n      <g>\n       <use style=\"stroke:#000000;stroke-width:0.8;\" x=\"1158.075093\" xlink:href=\"#m9e32518061\" y=\"745.92\"/>\n      </g>\n     </g>\n     <g id=\"text_117\">\n      <!-- Alternative/Alt -->\n      <g transform=\"translate(1160.834468 826.191875)rotate(-90)scale(0.1 -0.1)\">\n       <use xlink:href=\"#DejaVuSans-65\"/>\n       <use x=\"68.408203\" xlink:href=\"#DejaVuSans-108\"/>\n       <use x=\"96.191406\" xlink:href=\"#DejaVuSans-116\"/>\n       <use x=\"135.400391\" xlink:href=\"#DejaVuSans-101\"/>\n       <use x=\"196.923828\" xlink:href=\"#DejaVuSans-114\"/>\n       <use x=\"236.287109\" xlink:href=\"#DejaVuSans-110\"/>\n       <use x=\"299.666016\" xlink:href=\"#DejaVuSans-97\"/>\n       <use x=\"360.945312\" xlink:href=\"#DejaVuSans-116\"/>\n       <use x=\"400.154297\" xlink:href=\"#DejaVuSans-105\"/>\n       <use x=\"427.9375\" xlink:href=\"#DejaVuSans-118\"/>\n       <use x=\"487.117188\" xlink:href=\"#DejaVuSans-101\"/>\n       <use x=\"548.640625\" xlink:href=\"#DejaVuSans-47\"/>\n       <use x=\"582.332031\" xlink:href=\"#DejaVuSans-65\"/>\n       <use x=\"650.740234\" xlink:href=\"#DejaVuSans-108\"/>\n       <use x=\"678.523438\" xlink:href=\"#DejaVuSans-116\"/>\n      </g>\n     </g>\n    </g>\n    <g id=\"xtick_81\">\n     <g id=\"line2d_221\">\n      <path clip-path=\"url(#p4a46fcf692)\" d=\"M 1184.041141 745.92 \nL 1184.041141 484.992 \n\" style=\"fill:none;stroke:#b0b0b0;stroke-linecap:square;stroke-opacity:0.5;stroke-width:0.8;\"/>\n     </g>\n     <g id=\"line2d_222\">\n      <g>\n       <use style=\"stroke:#000000;stroke-width:0.8;\" x=\"1184.041141\" xlink:href=\"#m9e32518061\" y=\"745.92\"/>\n      </g>\n     </g>\n     <g id=\"text_118\">\n      <!-- Rock -->\n      <g transform=\"translate(1186.800516 778.32625)rotate(-90)scale(0.1 -0.1)\">\n       <use xlink:href=\"#DejaVuSans-82\"/>\n       <use x=\"64.982422\" xlink:href=\"#DejaVuSans-111\"/>\n       <use x=\"126.164062\" xlink:href=\"#DejaVuSans-99\"/>\n       <use x=\"181.144531\" xlink:href=\"#DejaVuSans-107\"/>\n      </g>\n     </g>\n    </g>\n    <g id=\"xtick_82\">\n     <g id=\"line2d_223\">\n      <path clip-path=\"url(#p4a46fcf692)\" d=\"M 1210.00719 745.92 \nL 1210.00719 484.992 \n\" style=\"fill:none;stroke:#b0b0b0;stroke-linecap:square;stroke-opacity:0.5;stroke-width:0.8;\"/>\n     </g>\n     <g id=\"line2d_224\">\n      <g>\n       <use style=\"stroke:#000000;stroke-width:0.8;\" x=\"1210.00719\" xlink:href=\"#m9e32518061\" y=\"745.92\"/>\n      </g>\n     </g>\n     <g id=\"text_119\">\n      <!-- House/EDM -->\n      <g transform=\"translate(1212.766565 811.774687)rotate(-90)scale(0.1 -0.1)\">\n       <use xlink:href=\"#DejaVuSans-72\"/>\n       <use x=\"75.195312\" xlink:href=\"#DejaVuSans-111\"/>\n       <use x=\"136.376953\" xlink:href=\"#DejaVuSans-117\"/>\n       <use x=\"199.755859\" xlink:href=\"#DejaVuSans-115\"/>\n       <use x=\"251.855469\" xlink:href=\"#DejaVuSans-101\"/>\n       <use x=\"313.378906\" xlink:href=\"#DejaVuSans-47\"/>\n       <use x=\"347.070312\" xlink:href=\"#DejaVuSans-69\"/>\n       <use x=\"410.253906\" xlink:href=\"#DejaVuSans-68\"/>\n       <use x=\"487.255859\" xlink:href=\"#DejaVuSans-77\"/>\n      </g>\n     </g>\n    </g>\n    <g id=\"xtick_83\">\n     <g id=\"line2d_225\">\n      <path clip-path=\"url(#p4a46fcf692)\" d=\"M 1235.973239 745.92 \nL 1235.973239 484.992 \n\" style=\"fill:none;stroke:#b0b0b0;stroke-linecap:square;stroke-opacity:0.5;stroke-width:0.8;\"/>\n     </g>\n     <g id=\"line2d_226\">\n      <g>\n       <use style=\"stroke:#000000;stroke-width:0.8;\" x=\"1235.973239\" xlink:href=\"#m9e32518061\" y=\"745.92\"/>\n      </g>\n     </g>\n     <g id=\"text_120\">\n      <!-- Country -->\n      <g transform=\"translate(1238.732614 794.146562)rotate(-90)scale(0.1 -0.1)\">\n       <use xlink:href=\"#DejaVuSans-67\"/>\n       <use x=\"69.824219\" xlink:href=\"#DejaVuSans-111\"/>\n       <use x=\"131.005859\" xlink:href=\"#DejaVuSans-117\"/>\n       <use x=\"194.384766\" xlink:href=\"#DejaVuSans-110\"/>\n       <use x=\"257.763672\" xlink:href=\"#DejaVuSans-116\"/>\n       <use x=\"296.972656\" xlink:href=\"#DejaVuSans-114\"/>\n       <use x=\"338.085938\" xlink:href=\"#DejaVuSans-121\"/>\n      </g>\n     </g>\n    </g>\n    <g id=\"xtick_84\">\n     <g id=\"line2d_227\">\n      <path clip-path=\"url(#p4a46fcf692)\" d=\"M 1261.939287 745.92 \nL 1261.939287 484.992 \n\" style=\"fill:none;stroke:#b0b0b0;stroke-linecap:square;stroke-opacity:0.5;stroke-width:0.8;\"/>\n     </g>\n     <g id=\"line2d_228\">\n      <g>\n       <use style=\"stroke:#000000;stroke-width:0.8;\" x=\"1261.939287\" xlink:href=\"#m9e32518061\" y=\"745.92\"/>\n      </g>\n     </g>\n     <g id=\"text_121\">\n      <!-- Latin -->\n      <g transform=\"translate(1264.698662 779.155937)rotate(-90)scale(0.1 -0.1)\">\n       <use xlink:href=\"#DejaVuSans-76\"/>\n       <use x=\"55.712891\" xlink:href=\"#DejaVuSans-97\"/>\n       <use x=\"116.992188\" xlink:href=\"#DejaVuSans-116\"/>\n       <use x=\"156.201172\" xlink:href=\"#DejaVuSans-105\"/>\n       <use x=\"183.984375\" xlink:href=\"#DejaVuSans-110\"/>\n      </g>\n     </g>\n    </g>\n    <g id=\"xtick_85\">\n     <g id=\"line2d_229\">\n      <path clip-path=\"url(#p4a46fcf692)\" d=\"M 1287.905336 745.92 \nL 1287.905336 484.992 \n\" style=\"fill:none;stroke:#b0b0b0;stroke-linecap:square;stroke-opacity:0.5;stroke-width:0.8;\"/>\n     </g>\n     <g id=\"line2d_230\">\n      <g>\n       <use style=\"stroke:#000000;stroke-width:0.8;\" x=\"1287.905336\" xlink:href=\"#m9e32518061\" y=\"745.92\"/>\n      </g>\n     </g>\n     <g id=\"text_122\">\n      <!-- Disco -->\n      <g transform=\"translate(1290.664711 781.724687)rotate(-90)scale(0.1 -0.1)\">\n       <use xlink:href=\"#DejaVuSans-68\"/>\n       <use x=\"77.001953\" xlink:href=\"#DejaVuSans-105\"/>\n       <use x=\"104.785156\" xlink:href=\"#DejaVuSans-115\"/>\n       <use x=\"156.884766\" xlink:href=\"#DejaVuSans-99\"/>\n       <use x=\"211.865234\" xlink:href=\"#DejaVuSans-111\"/>\n      </g>\n     </g>\n    </g>\n    <g id=\"xtick_86\">\n     <g id=\"line2d_231\">\n      <path clip-path=\"url(#p4a46fcf692)\" d=\"M 1313.871385 745.92 \nL 1313.871385 484.992 \n\" style=\"fill:none;stroke:#b0b0b0;stroke-linecap:square;stroke-opacity:0.5;stroke-width:0.8;\"/>\n     </g>\n     <g id=\"line2d_232\">\n      <g>\n       <use style=\"stroke:#000000;stroke-width:0.8;\" x=\"1313.871385\" xlink:href=\"#m9e32518061\" y=\"745.92\"/>\n      </g>\n     </g>\n     <g id=\"text_123\">\n      <!-- Halloween -->\n      <g transform=\"translate(1316.63076 806.565312)rotate(-90)scale(0.1 -0.1)\">\n       <use xlink:href=\"#DejaVuSans-72\"/>\n       <use x=\"75.195312\" xlink:href=\"#DejaVuSans-97\"/>\n       <use x=\"136.474609\" xlink:href=\"#DejaVuSans-108\"/>\n       <use x=\"164.257812\" xlink:href=\"#DejaVuSans-108\"/>\n       <use x=\"192.041016\" xlink:href=\"#DejaVuSans-111\"/>\n       <use x=\"253.222656\" xlink:href=\"#DejaVuSans-119\"/>\n       <use x=\"335.009766\" xlink:href=\"#DejaVuSans-101\"/>\n       <use x=\"396.533203\" xlink:href=\"#DejaVuSans-101\"/>\n       <use x=\"458.056641\" xlink:href=\"#DejaVuSans-110\"/>\n      </g>\n     </g>\n    </g>\n    <g id=\"xtick_87\">\n     <g id=\"line2d_233\">\n      <path clip-path=\"url(#p4a46fcf692)\" d=\"M 1339.837433 745.92 \nL 1339.837433 484.992 \n\" style=\"fill:none;stroke:#b0b0b0;stroke-linecap:square;stroke-opacity:0.5;stroke-width:0.8;\"/>\n     </g>\n     <g id=\"line2d_234\">\n      <g>\n       <use style=\"stroke:#000000;stroke-width:0.8;\" x=\"1339.837433\" xlink:href=\"#m9e32518061\" y=\"745.92\"/>\n      </g>\n     </g>\n     <g id=\"text_124\">\n      <!-- Glitchcore -->\n      <g transform=\"translate(1342.596808 805.137187)rotate(-90)scale(0.1 -0.1)\">\n       <use xlink:href=\"#DejaVuSans-71\"/>\n       <use x=\"77.490234\" xlink:href=\"#DejaVuSans-108\"/>\n       <use x=\"105.273438\" xlink:href=\"#DejaVuSans-105\"/>\n       <use x=\"133.056641\" xlink:href=\"#DejaVuSans-116\"/>\n       <use x=\"172.265625\" xlink:href=\"#DejaVuSans-99\"/>\n       <use x=\"227.246094\" xlink:href=\"#DejaVuSans-104\"/>\n       <use x=\"290.625\" xlink:href=\"#DejaVuSans-99\"/>\n       <use x=\"345.605469\" xlink:href=\"#DejaVuSans-111\"/>\n       <use x=\"406.787109\" xlink:href=\"#DejaVuSans-114\"/>\n       <use x=\"445.650391\" xlink:href=\"#DejaVuSans-101\"/>\n      </g>\n     </g>\n    </g>\n    <g id=\"xtick_88\">\n     <g id=\"line2d_235\">\n      <path clip-path=\"url(#p4a46fcf692)\" d=\"M 1365.803482 745.92 \nL 1365.803482 484.992 \n\" style=\"fill:none;stroke:#b0b0b0;stroke-linecap:square;stroke-opacity:0.5;stroke-width:0.8;\"/>\n     </g>\n     <g id=\"line2d_236\">\n      <g>\n       <use style=\"stroke:#000000;stroke-width:0.8;\" x=\"1365.803482\" xlink:href=\"#m9e32518061\" y=\"745.92\"/>\n      </g>\n     </g>\n     <g id=\"text_125\">\n      <!-- Brooklyn Drill -->\n      <g transform=\"translate(1368.562857 821.552812)rotate(-90)scale(0.1 -0.1)\">\n       <use xlink:href=\"#DejaVuSans-66\"/>\n       <use x=\"68.603516\" xlink:href=\"#DejaVuSans-114\"/>\n       <use x=\"107.466797\" xlink:href=\"#DejaVuSans-111\"/>\n       <use x=\"168.648438\" xlink:href=\"#DejaVuSans-111\"/>\n       <use x=\"229.830078\" xlink:href=\"#DejaVuSans-107\"/>\n       <use x=\"287.740234\" xlink:href=\"#DejaVuSans-108\"/>\n       <use x=\"315.523438\" xlink:href=\"#DejaVuSans-121\"/>\n       <use x=\"374.703125\" xlink:href=\"#DejaVuSans-110\"/>\n       <use x=\"438.082031\" xlink:href=\"#DejaVuSans-32\"/>\n       <use x=\"469.869141\" xlink:href=\"#DejaVuSans-68\"/>\n       <use x=\"546.871094\" xlink:href=\"#DejaVuSans-114\"/>\n       <use x=\"587.984375\" xlink:href=\"#DejaVuSans-105\"/>\n       <use x=\"615.767578\" xlink:href=\"#DejaVuSans-108\"/>\n       <use x=\"643.550781\" xlink:href=\"#DejaVuSans-108\"/>\n      </g>\n     </g>\n    </g>\n    <g id=\"xtick_89\">\n     <g id=\"line2d_237\">\n      <path clip-path=\"url(#p4a46fcf692)\" d=\"M 1391.769531 745.92 \nL 1391.769531 484.992 \n\" style=\"fill:none;stroke:#b0b0b0;stroke-linecap:square;stroke-opacity:0.5;stroke-width:0.8;\"/>\n     </g>\n     <g id=\"line2d_238\">\n      <g>\n       <use style=\"stroke:#000000;stroke-width:0.8;\" x=\"1391.769531\" xlink:href=\"#m9e32518061\" y=\"745.92\"/>\n      </g>\n     </g>\n     <g id=\"text_126\">\n      <!-- Christmas -->\n      <g transform=\"translate(1394.528906 804.837187)rotate(-90)scale(0.1 -0.1)\">\n       <use xlink:href=\"#DejaVuSans-67\"/>\n       <use x=\"69.824219\" xlink:href=\"#DejaVuSans-104\"/>\n       <use x=\"133.203125\" xlink:href=\"#DejaVuSans-114\"/>\n       <use x=\"174.316406\" xlink:href=\"#DejaVuSans-105\"/>\n       <use x=\"202.099609\" xlink:href=\"#DejaVuSans-115\"/>\n       <use x=\"254.199219\" xlink:href=\"#DejaVuSans-116\"/>\n       <use x=\"293.408203\" xlink:href=\"#DejaVuSans-109\"/>\n       <use x=\"390.820312\" xlink:href=\"#DejaVuSans-97\"/>\n       <use x=\"452.099609\" xlink:href=\"#DejaVuSans-115\"/>\n      </g>\n     </g>\n    </g>\n    <g id=\"xtick_90\">\n     <g id=\"line2d_239\">\n      <path clip-path=\"url(#p4a46fcf692)\" d=\"M 1417.735579 745.92 \nL 1417.735579 484.992 \n\" style=\"fill:none;stroke:#b0b0b0;stroke-linecap:square;stroke-opacity:0.5;stroke-width:0.8;\"/>\n     </g>\n     <g id=\"line2d_240\">\n      <g>\n       <use style=\"stroke:#000000;stroke-width:0.8;\" x=\"1417.735579\" xlink:href=\"#m9e32518061\" y=\"745.92\"/>\n      </g>\n     </g>\n     <g id=\"text_127\">\n      <!-- Classical -->\n      <g transform=\"translate(1420.494954 797.910625)rotate(-90)scale(0.1 -0.1)\">\n       <use xlink:href=\"#DejaVuSans-67\"/>\n       <use x=\"69.824219\" xlink:href=\"#DejaVuSans-108\"/>\n       <use x=\"97.607422\" xlink:href=\"#DejaVuSans-97\"/>\n       <use x=\"158.886719\" xlink:href=\"#DejaVuSans-115\"/>\n       <use x=\"210.986328\" xlink:href=\"#DejaVuSans-115\"/>\n       <use x=\"263.085938\" xlink:href=\"#DejaVuSans-105\"/>\n       <use x=\"290.869141\" xlink:href=\"#DejaVuSans-99\"/>\n       <use x=\"345.849609\" xlink:href=\"#DejaVuSans-97\"/>\n       <use x=\"407.128906\" xlink:href=\"#DejaVuSans-108\"/>\n      </g>\n     </g>\n    </g>\n   </g>\n   <g id=\"matplotlib.axis_12\">\n    <g id=\"ytick_31\">\n     <g id=\"line2d_241\">\n      <path clip-path=\"url(#p4a46fcf692)\" d=\"M 1024.609602 745.92 \nL 1447.336875 745.92 \n\" style=\"fill:none;stroke:#b0b0b0;stroke-linecap:square;stroke-opacity:0.5;stroke-width:0.8;\"/>\n     </g>\n     <g id=\"line2d_242\">\n      <g>\n       <use style=\"stroke:#000000;stroke-width:0.8;\" x=\"1024.609602\" xlink:href=\"#m4c24cf152e\" y=\"745.92\"/>\n      </g>\n     </g>\n     <g id=\"text_128\">\n      <!-- 0 -->\n      <g transform=\"translate(1011.247102 749.719219)scale(0.1 -0.1)\">\n       <use xlink:href=\"#DejaVuSans-48\"/>\n      </g>\n     </g>\n    </g>\n    <g id=\"ytick_32\">\n     <g id=\"line2d_243\">\n      <path clip-path=\"url(#p4a46fcf692)\" d=\"M 1024.609602 700.737662 \nL 1447.336875 700.737662 \n\" style=\"fill:none;stroke:#b0b0b0;stroke-linecap:square;stroke-opacity:0.5;stroke-width:0.8;\"/>\n     </g>\n     <g id=\"line2d_244\">\n      <g>\n       <use style=\"stroke:#000000;stroke-width:0.8;\" x=\"1024.609602\" xlink:href=\"#m4c24cf152e\" y=\"700.737662\"/>\n      </g>\n     </g>\n     <g id=\"text_129\">\n      <!-- 20 -->\n      <g transform=\"translate(1004.884602 704.536881)scale(0.1 -0.1)\">\n       <use xlink:href=\"#DejaVuSans-50\"/>\n       <use x=\"63.623047\" xlink:href=\"#DejaVuSans-48\"/>\n      </g>\n     </g>\n    </g>\n    <g id=\"ytick_33\">\n     <g id=\"line2d_245\">\n      <path clip-path=\"url(#p4a46fcf692)\" d=\"M 1024.609602 655.555325 \nL 1447.336875 655.555325 \n\" style=\"fill:none;stroke:#b0b0b0;stroke-linecap:square;stroke-opacity:0.5;stroke-width:0.8;\"/>\n     </g>\n     <g id=\"line2d_246\">\n      <g>\n       <use style=\"stroke:#000000;stroke-width:0.8;\" x=\"1024.609602\" xlink:href=\"#m4c24cf152e\" y=\"655.555325\"/>\n      </g>\n     </g>\n     <g id=\"text_130\">\n      <!-- 40 -->\n      <g transform=\"translate(1004.884602 659.354543)scale(0.1 -0.1)\">\n       <use xlink:href=\"#DejaVuSans-52\"/>\n       <use x=\"63.623047\" xlink:href=\"#DejaVuSans-48\"/>\n      </g>\n     </g>\n    </g>\n    <g id=\"ytick_34\">\n     <g id=\"line2d_247\">\n      <path clip-path=\"url(#p4a46fcf692)\" d=\"M 1024.609602 610.372987 \nL 1447.336875 610.372987 \n\" style=\"fill:none;stroke:#b0b0b0;stroke-linecap:square;stroke-opacity:0.5;stroke-width:0.8;\"/>\n     </g>\n     <g id=\"line2d_248\">\n      <g>\n       <use style=\"stroke:#000000;stroke-width:0.8;\" x=\"1024.609602\" xlink:href=\"#m4c24cf152e\" y=\"610.372987\"/>\n      </g>\n     </g>\n     <g id=\"text_131\">\n      <!-- 60 -->\n      <g transform=\"translate(1004.884602 614.172206)scale(0.1 -0.1)\">\n       <use xlink:href=\"#DejaVuSans-54\"/>\n       <use x=\"63.623047\" xlink:href=\"#DejaVuSans-48\"/>\n      </g>\n     </g>\n    </g>\n    <g id=\"ytick_35\">\n     <g id=\"line2d_249\">\n      <path clip-path=\"url(#p4a46fcf692)\" d=\"M 1024.609602 565.190649 \nL 1447.336875 565.190649 \n\" style=\"fill:none;stroke:#b0b0b0;stroke-linecap:square;stroke-opacity:0.5;stroke-width:0.8;\"/>\n     </g>\n     <g id=\"line2d_250\">\n      <g>\n       <use style=\"stroke:#000000;stroke-width:0.8;\" x=\"1024.609602\" xlink:href=\"#m4c24cf152e\" y=\"565.190649\"/>\n      </g>\n     </g>\n     <g id=\"text_132\">\n      <!-- 80 -->\n      <g transform=\"translate(1004.884602 568.989868)scale(0.1 -0.1)\">\n       <use xlink:href=\"#DejaVuSans-56\"/>\n       <use x=\"63.623047\" xlink:href=\"#DejaVuSans-48\"/>\n      </g>\n     </g>\n    </g>\n    <g id=\"ytick_36\">\n     <g id=\"line2d_251\">\n      <path clip-path=\"url(#p4a46fcf692)\" d=\"M 1024.609602 520.008312 \nL 1447.336875 520.008312 \n\" style=\"fill:none;stroke:#b0b0b0;stroke-linecap:square;stroke-opacity:0.5;stroke-width:0.8;\"/>\n     </g>\n     <g id=\"line2d_252\">\n      <g>\n       <use style=\"stroke:#000000;stroke-width:0.8;\" x=\"1024.609602\" xlink:href=\"#m4c24cf152e\" y=\"520.008312\"/>\n      </g>\n     </g>\n     <g id=\"text_133\">\n      <!-- 100 -->\n      <g transform=\"translate(998.522102 523.80753)scale(0.1 -0.1)\">\n       <use xlink:href=\"#DejaVuSans-49\"/>\n       <use x=\"63.623047\" xlink:href=\"#DejaVuSans-48\"/>\n       <use x=\"127.246094\" xlink:href=\"#DejaVuSans-48\"/>\n      </g>\n     </g>\n    </g>\n   </g>\n   <g id=\"patch_103\">\n    <path clip-path=\"url(#p4a46fcf692)\" d=\"M 1043.824478 745.92 \nL 1064.597317 745.92 \nL 1064.597317 592.300052 \nL 1043.824478 592.300052 \nz\n\" style=\"fill:#ff0000;\"/>\n   </g>\n   <g id=\"patch_104\">\n    <path clip-path=\"url(#p4a46fcf692)\" d=\"M 1069.790527 745.92 \nL 1090.563366 745.92 \nL 1090.563366 628.445922 \nL 1069.790527 628.445922 \nz\n\" style=\"fill:#800080;\"/>\n   </g>\n   <g id=\"patch_105\">\n    <path clip-path=\"url(#p4a46fcf692)\" d=\"M 1095.756576 745.92 \nL 1116.529415 745.92 \nL 1116.529415 689.442078 \nL 1095.756576 689.442078 \nz\n\" style=\"fill:#2e8b57;\"/>\n   </g>\n   <g id=\"patch_106\">\n    <path clip-path=\"url(#p4a46fcf692)\" d=\"M 1121.722624 745.92 \nL 1142.495463 745.92 \nL 1142.495463 700.737662 \nL 1121.722624 700.737662 \nz\n\" style=\"fill:#0000ff;\"/>\n   </g>\n   <g id=\"patch_107\">\n    <path clip-path=\"url(#p4a46fcf692)\" d=\"M 1147.688673 745.92 \nL 1168.461512 745.92 \nL 1168.461512 709.77413 \nL 1147.688673 709.77413 \nz\n\" style=\"fill:#ff7f50;\"/>\n   </g>\n   <g id=\"patch_108\">\n    <path clip-path=\"url(#p4a46fcf692)\" d=\"M 1173.654722 745.92 \nL 1194.427561 745.92 \nL 1194.427561 725.587948 \nL 1173.654722 725.587948 \nz\n\" style=\"fill:#da70d6;\"/>\n   </g>\n   <g id=\"patch_109\">\n    <path clip-path=\"url(#p4a46fcf692)\" d=\"M 1199.62077 745.92 \nL 1220.393609 745.92 \nL 1220.393609 727.847065 \nL 1199.62077 727.847065 \nz\n\" style=\"fill:#6a5acd;\"/>\n   </g>\n   <g id=\"patch_110\">\n    <path clip-path=\"url(#p4a46fcf692)\" d=\"M 1225.586819 745.92 \nL 1246.359658 745.92 \nL 1246.359658 732.365299 \nL 1225.586819 732.365299 \nz\n\" style=\"fill:#ffa500;\"/>\n   </g>\n   <g id=\"patch_111\">\n    <path clip-path=\"url(#p4a46fcf692)\" d=\"M 1251.552868 745.92 \nL 1272.325707 745.92 \nL 1272.325707 743.660883 \nL 1251.552868 743.660883 \nz\n\" style=\"fill:#cd5c5c;\"/>\n   </g>\n   <g id=\"patch_112\">\n    <path clip-path=\"url(#p4a46fcf692)\" d=\"M 1277.518917 745.92 \nL 1298.291756 745.92 \nL 1298.291756 743.660883 \nL 1277.518917 743.660883 \nz\n\" style=\"fill:#ffd700;\"/>\n   </g>\n   <g id=\"patch_113\">\n    <path clip-path=\"url(#p4a46fcf692)\" d=\"M 1303.484965 745.92 \nL 1324.257804 745.92 \nL 1324.257804 743.660883 \nL 1303.484965 743.660883 \nz\n\" style=\"fill:#32cd32;\"/>\n   </g>\n   <g id=\"patch_114\">\n    <path clip-path=\"url(#p4a46fcf692)\" d=\"M 1329.451014 745.92 \nL 1350.223853 745.92 \nL 1350.223853 745.92 \nL 1329.451014 745.92 \nz\n\" style=\"fill:#c0c0c0;\"/>\n   </g>\n   <g id=\"patch_115\">\n    <path clip-path=\"url(#p4a46fcf692)\" d=\"M 1355.417063 745.92 \nL 1376.189902 745.92 \nL 1376.189902 745.92 \nL 1355.417063 745.92 \nz\n\" style=\"fill:#db7093;\"/>\n   </g>\n   <g id=\"patch_116\">\n    <path clip-path=\"url(#p4a46fcf692)\" d=\"M 1381.383111 745.92 \nL 1402.15595 745.92 \nL 1402.15595 745.92 \nL 1381.383111 745.92 \nz\n\" style=\"fill:#800000;\"/>\n   </g>\n   <g id=\"patch_117\">\n    <path clip-path=\"url(#p4a46fcf692)\" d=\"M 1407.34916 745.92 \nL 1428.121999 745.92 \nL 1428.121999 745.92 \nL 1407.34916 745.92 \nz\n\" style=\"fill:#800080;\"/>\n   </g>\n   <g id=\"patch_118\">\n    <path d=\"M 1024.609602 745.92 \nL 1024.609602 484.992 \n\" style=\"fill:none;stroke:#000000;stroke-linecap:square;stroke-linejoin:miter;stroke-width:0.8;\"/>\n   </g>\n   <g id=\"patch_119\">\n    <path d=\"M 1447.336875 745.92 \nL 1447.336875 484.992 \n\" style=\"fill:none;stroke:#000000;stroke-linecap:square;stroke-linejoin:miter;stroke-width:0.8;\"/>\n   </g>\n   <g id=\"patch_120\">\n    <path d=\"M 1024.609602 745.92 \nL 1447.336875 745.92 \n\" style=\"fill:none;stroke:#000000;stroke-linecap:square;stroke-linejoin:miter;stroke-width:0.8;\"/>\n   </g>\n   <g id=\"patch_121\">\n    <path d=\"M 1024.609602 484.992 \nL 1447.336875 484.992 \n\" style=\"fill:none;stroke:#000000;stroke-linecap:square;stroke-linejoin:miter;stroke-width:0.8;\"/>\n   </g>\n   <g id=\"text_134\">\n    <!-- November -->\n    <g transform=\"translate(1204.758239 478.992)scale(0.12 -0.12)\">\n     <defs>\n      <path d=\"M 9.8125 72.90625 \nL 23.09375 72.90625 \nL 55.421875 11.921875 \nL 55.421875 72.90625 \nL 64.984375 72.90625 \nL 64.984375 0 \nL 51.703125 0 \nL 19.390625 60.984375 \nL 19.390625 0 \nL 9.8125 0 \nz\n\" id=\"DejaVuSans-78\"/>\n     </defs>\n     <use xlink:href=\"#DejaVuSans-78\"/>\n     <use x=\"74.804688\" xlink:href=\"#DejaVuSans-111\"/>\n     <use x=\"135.986328\" xlink:href=\"#DejaVuSans-118\"/>\n     <use x=\"195.166016\" xlink:href=\"#DejaVuSans-101\"/>\n     <use x=\"256.689453\" xlink:href=\"#DejaVuSans-109\"/>\n     <use x=\"354.101562\" xlink:href=\"#DejaVuSans-98\"/>\n     <use x=\"417.578125\" xlink:href=\"#DejaVuSans-101\"/>\n     <use x=\"479.101562\" xlink:href=\"#DejaVuSans-114\"/>\n    </g>\n   </g>\n  </g>\n  <g id=\"text_135\">\n   <!-- Distribution of Viral Song Genres in 2020 -->\n   <g transform=\"translate(584.073125 17.837812)scale(0.14 -0.14)\">\n    <defs>\n     <path d=\"M 37.109375 75.984375 \nL 37.109375 68.5 \nL 28.515625 68.5 \nQ 23.6875 68.5 21.796875 66.546875 \nQ 19.921875 64.59375 19.921875 59.515625 \nL 19.921875 54.6875 \nL 34.71875 54.6875 \nL 34.71875 47.703125 \nL 19.921875 47.703125 \nL 19.921875 0 \nL 10.890625 0 \nL 10.890625 47.703125 \nL 2.296875 47.703125 \nL 2.296875 54.6875 \nL 10.890625 54.6875 \nL 10.890625 58.5 \nQ 10.890625 67.625 15.140625 71.796875 \nQ 19.390625 75.984375 28.609375 75.984375 \nz\n\" id=\"DejaVuSans-102\"/>\n     <path d=\"M 28.609375 0 \nL 0.78125 72.90625 \nL 11.078125 72.90625 \nL 34.1875 11.53125 \nL 57.328125 72.90625 \nL 67.578125 72.90625 \nL 39.796875 0 \nz\n\" id=\"DejaVuSans-86\"/>\n     <path d=\"M 45.40625 27.984375 \nQ 45.40625 37.75 41.375 43.109375 \nQ 37.359375 48.484375 30.078125 48.484375 \nQ 22.859375 48.484375 18.828125 43.109375 \nQ 14.796875 37.75 14.796875 27.984375 \nQ 14.796875 18.265625 18.828125 12.890625 \nQ 22.859375 7.515625 30.078125 7.515625 \nQ 37.359375 7.515625 41.375 12.890625 \nQ 45.40625 18.265625 45.40625 27.984375 \nz\nM 54.390625 6.78125 \nQ 54.390625 -7.171875 48.1875 -13.984375 \nQ 42 -20.796875 29.203125 -20.796875 \nQ 24.46875 -20.796875 20.265625 -20.09375 \nQ 16.0625 -19.390625 12.109375 -17.921875 \nL 12.109375 -9.1875 \nQ 16.0625 -11.328125 19.921875 -12.34375 \nQ 23.78125 -13.375 27.78125 -13.375 \nQ 36.625 -13.375 41.015625 -8.765625 \nQ 45.40625 -4.15625 45.40625 5.171875 \nL 45.40625 9.625 \nQ 42.625 4.78125 38.28125 2.390625 \nQ 33.9375 0 27.875 0 \nQ 17.828125 0 11.671875 7.65625 \nQ 5.515625 15.328125 5.515625 27.984375 \nQ 5.515625 40.671875 11.671875 48.328125 \nQ 17.828125 56 27.875 56 \nQ 33.9375 56 38.28125 53.609375 \nQ 42.625 51.21875 45.40625 46.390625 \nL 45.40625 54.6875 \nL 54.390625 54.6875 \nz\n\" id=\"DejaVuSans-103\"/>\n    </defs>\n    <use xlink:href=\"#DejaVuSans-68\"/>\n    <use x=\"77.001953\" xlink:href=\"#DejaVuSans-105\"/>\n    <use x=\"104.785156\" xlink:href=\"#DejaVuSans-115\"/>\n    <use x=\"156.884766\" xlink:href=\"#DejaVuSans-116\"/>\n    <use x=\"196.09375\" xlink:href=\"#DejaVuSans-114\"/>\n    <use x=\"237.207031\" xlink:href=\"#DejaVuSans-105\"/>\n    <use x=\"264.990234\" xlink:href=\"#DejaVuSans-98\"/>\n    <use x=\"328.466797\" xlink:href=\"#DejaVuSans-117\"/>\n    <use x=\"391.845703\" xlink:href=\"#DejaVuSans-116\"/>\n    <use x=\"431.054688\" xlink:href=\"#DejaVuSans-105\"/>\n    <use x=\"458.837891\" xlink:href=\"#DejaVuSans-111\"/>\n    <use x=\"520.019531\" xlink:href=\"#DejaVuSans-110\"/>\n    <use x=\"583.398438\" xlink:href=\"#DejaVuSans-32\"/>\n    <use x=\"615.185547\" xlink:href=\"#DejaVuSans-111\"/>\n    <use x=\"676.367188\" xlink:href=\"#DejaVuSans-102\"/>\n    <use x=\"711.572266\" xlink:href=\"#DejaVuSans-32\"/>\n    <use x=\"743.359375\" xlink:href=\"#DejaVuSans-86\"/>\n    <use x=\"809.517578\" xlink:href=\"#DejaVuSans-105\"/>\n    <use x=\"837.300781\" xlink:href=\"#DejaVuSans-114\"/>\n    <use x=\"878.414062\" xlink:href=\"#DejaVuSans-97\"/>\n    <use x=\"939.693359\" xlink:href=\"#DejaVuSans-108\"/>\n    <use x=\"967.476562\" xlink:href=\"#DejaVuSans-32\"/>\n    <use x=\"999.263672\" xlink:href=\"#DejaVuSans-83\"/>\n    <use x=\"1062.740234\" xlink:href=\"#DejaVuSans-111\"/>\n    <use x=\"1123.921875\" xlink:href=\"#DejaVuSans-110\"/>\n    <use x=\"1187.300781\" xlink:href=\"#DejaVuSans-103\"/>\n    <use x=\"1250.777344\" xlink:href=\"#DejaVuSans-32\"/>\n    <use x=\"1282.564453\" xlink:href=\"#DejaVuSans-71\"/>\n    <use x=\"1360.054688\" xlink:href=\"#DejaVuSans-101\"/>\n    <use x=\"1421.578125\" xlink:href=\"#DejaVuSans-110\"/>\n    <use x=\"1484.957031\" xlink:href=\"#DejaVuSans-114\"/>\n    <use x=\"1523.820312\" xlink:href=\"#DejaVuSans-101\"/>\n    <use x=\"1585.34375\" xlink:href=\"#DejaVuSans-115\"/>\n    <use x=\"1637.443359\" xlink:href=\"#DejaVuSans-32\"/>\n    <use x=\"1669.230469\" xlink:href=\"#DejaVuSans-105\"/>\n    <use x=\"1697.013672\" xlink:href=\"#DejaVuSans-110\"/>\n    <use x=\"1760.392578\" xlink:href=\"#DejaVuSans-32\"/>\n    <use x=\"1792.179688\" xlink:href=\"#DejaVuSans-50\"/>\n    <use x=\"1855.802734\" xlink:href=\"#DejaVuSans-48\"/>\n    <use x=\"1919.425781\" xlink:href=\"#DejaVuSans-50\"/>\n    <use x=\"1983.048828\" xlink:href=\"#DejaVuSans-48\"/>\n   </g>\n  </g>\n </g>\n <defs>\n  <clipPath id=\"p0cb6aafd35\">\n   <rect height=\"260.928\" width=\"422.727273\" x=\"52.336875\" y=\"93.6\"/>\n  </clipPath>\n  <clipPath id=\"pb477ef6855\">\n   <rect height=\"260.928\" width=\"422.727273\" x=\"538.473239\" y=\"93.6\"/>\n  </clipPath>\n  <clipPath id=\"pdac6a67fba\">\n   <rect height=\"260.928\" width=\"422.727273\" x=\"1024.609602\" y=\"93.6\"/>\n  </clipPath>\n  <clipPath id=\"p9ff48e3378\">\n   <rect height=\"260.928\" width=\"422.727273\" x=\"52.336875\" y=\"484.992\"/>\n  </clipPath>\n  <clipPath id=\"pf6a2153647\">\n   <rect height=\"260.928\" width=\"422.727273\" x=\"538.473239\" y=\"484.992\"/>\n  </clipPath>\n  <clipPath id=\"p4a46fcf692\">\n   <rect height=\"260.928\" width=\"422.727273\" x=\"1024.609602\" y=\"484.992\"/>\n  </clipPath>\n </defs>\n</svg>\n",
      "image/png": "[encoded data removed]"
     },
     "metadata": {
      "needs_background": "light"
     }
    }
   ],
   "source": [
    "jan_x = sorted_jan_viral_genre_df['Genre']\n",
    "jan_y = sorted_jan_viral_genre_df['Count']\n",
    "\n",
    "mar_x = sorted_mar_viral_genre_df['Genre']\n",
    "mar_y = sorted_mar_viral_genre_df['Count']\n",
    "\n",
    "may_x = sorted_may_viral_genre_df['Genre']\n",
    "may_y = sorted_may_viral_genre_df['Count']\n",
    "\n",
    "jul_x = sorted_jul_viral_genre_df['Genre']\n",
    "jul_y = sorted_jul_viral_genre_df['Count']\n",
    "\n",
    "sep_x = sorted_sep_viral_genre_df['Genre']\n",
    "sep_y = sorted_sep_viral_genre_df['Count']\n",
    "\n",
    "nov_x = sorted_nov_viral_genre_df['Genre']\n",
    "nov_y = sorted_nov_viral_genre_df['Count']\n",
    "\n",
    "# fig, (ax1,ax2,ax3,ax4,ax5,ax6) = plt.subplots(2,3, sharey=True)\n",
    "fig = plt.figure()\n",
    "fig.add_axes()\n",
    "\n",
    "ax1 = fig.add_subplot(231)\n",
    "ax1.bar(jan_x, jan_y, color=jan_colors, zorder=2)\n",
    "ax1.grid(alpha=0.5, zorder=0)\n",
    "ax1.xaxis.set(ticks=range(len(jan_x)))\n",
    "# ax1.setxticklabels(jan_x, rotation=90)\n",
    "ax1.tick_params(axis='y', direction='inout', length=10)\n",
    "ax1.tick_params(axis='x', direction='inout', length=10, labelrotation=90)\n",
    "ax1.set(title=\"January\")\n",
    "# ax1.set_xlabel('Genre', fontsize=14)\n",
    "ax1.set_ylabel('Counts', fontsize=14)\n",
    "\n",
    "ax2 = fig.add_subplot(232, sharey=ax1)\n",
    "ax2.bar(mar_x, mar_y, color=mar_colors, zorder=2)\n",
    "ax2.grid(alpha=0.5, zorder=0)\n",
    "ax2.xaxis.set(ticks=range(len(mar_x)))\n",
    "# ax1.setxticklabels(jan_x, rotation=90)\n",
    "# ax2.tick_params(axis='y', direction='inout', length=10)\n",
    "ax2.tick_params(axis='x', direction='inout', length=10, labelrotation=90)\n",
    "ax2.set(title=\"March\")\n",
    "# ax2.set_xlabel('Genre', fontsize=14)\n",
    "# ax2.set_ylabel('Counts', fontsize=14)\n",
    "\n",
    "\n",
    "ax3 = fig.add_subplot(233, sharey=ax1)\n",
    "ax3.bar(may_x, may_y, color=may_colors, zorder=2)\n",
    "ax3.grid(alpha=0.5, zorder=0)\n",
    "ax3.xaxis.set(ticks=range(len(may_x)))\n",
    "# ax1.setxticklabels(jan_x, rotation=90)\n",
    "# ax3.tick_params(axis='y', direction='inout', length=10)\n",
    "ax3.tick_params(axis='x', direction='inout', length=10, labelrotation=90)\n",
    "ax3.set(title=\"May\")\n",
    "# ax3.set_xlabel('Genre', fontsize=14)\n",
    "# ax3.set_ylabel('Counts', fontsize=14)\n",
    "\n",
    "\n",
    "ax4 = fig.add_subplot(234)\n",
    "ax4.bar(jul_x, jul_y, color=jul_colors, zorder=2)\n",
    "ax4.grid(alpha=0.5, zorder=0)\n",
    "ax4.xaxis.set(ticks=range(len(jul_x)))\n",
    "# ax1.setxticklabels(jan_x, rotation=90)\n",
    "ax4.tick_params(axis='y', direction='inout', length=10)\n",
    "ax4.tick_params(axis='x', direction='inout', length=10, labelrotation=90)\n",
    "ax4.set(title=\"July\")\n",
    "# ax4.set_xlabel('Genre', fontsize=14)\n",
    "ax4.set_ylabel('Counts', fontsize=14)\n",
    "\n",
    "\n",
    "ax5 = fig.add_subplot(235, sharey=ax4)\n",
    "ax5.bar(sep_x, sep_y, color=sep_colors, zorder=2)\n",
    "ax5.grid(alpha=0.5, zorder=0)\n",
    "ax5.xaxis.set(ticks=range(len(sep_x)))\n",
    "# ax1.setxticklabels(jan_x, rotation=90)\n",
    "# ax5.tick_params(axis='y', direction='inout', length=10)\n",
    "ax5.tick_params(axis='x', direction='inout', length=10, labelrotation=90)\n",
    "ax5.set(title=\"September\")\n",
    "# ax5.set_xlabel('Genre', fontsize=14)\n",
    "# ax5.set_ylabel('Counts', fontsize=14)\n",
    "\n",
    "\n",
    "ax6 = fig.add_subplot(236, sharey=ax4)\n",
    "ax6.bar(nov_x, nov_y, color=nov_colors, zorder=2)\n",
    "ax6.grid(alpha=0.5, zorder=0)\n",
    "ax6.xaxis.set(ticks=range(len(nov_x)))\n",
    "# ax1.setxticklabels(jan_x, rotation=90)\n",
    "# ax6.tick_params(axis='y', direction='inout', length=10)\n",
    "ax6.tick_params(axis='x', direction='inout', length=10, labelrotation=90)\n",
    "ax6.set(title=\"November\")\n",
    "# ax6.set_xlabel('Genre', fontsize=12)\n",
    "# ax6.set_ylabel('Counts', fontsize=14)\n",
    "\n",
    "fig.suptitle('Distribution of Viral Song Genres in 2020', fontsize=14)\n",
    "\n",
    "plt.subplots_adjust(left=None, bottom=None, right=None, top=None, wspace=0.15, hspace=0.5)\n",
    "# plt.bar(names, values, color=['red', 'blue', 'purple', 'orchid', 'orange', 'indianred', 'gold', 'seagreen', 'slateblue', 'coral', 'silver', 'palevioletred', 'limegreen'], zorder=2)\n",
    "# plt.xticks(rotation=90, size=14)\n",
    "# plt.grid(alpha=0.5, zorder=0)\n",
    "# plt.yticks(size=14)\n",
    "# plt.ylabel(\"Counts\", size=14)\n",
    "# plt.title(\"Total Distribution of Viral Song Genres for Sampled Months in 2020\", size=18)\n",
    "# plt.setp(axa.xaxis.get_majorticklabels(), rotation=95)\n",
    "# plt.subplot(221)\n",
    "\n",
    "plt.gcf().set_size_inches(25,12)\n",
    "plt.show()\n",
    "fig.savefig('total_months_viral_genre.png', facecolor='w')"
   ]
  },
  {
   "cell_type": "code",
   "execution_count": 41,
   "metadata": {},
   "outputs": [
    {
     "output_type": "display_data",
     "data": {
      "application/vnd.plotly.v1+json": {
       "config": {
        "plotlyServerURL": "https://plot.ly"
       },
       "data": [
        {
         "alignmentgroup": "True",
         "hovertemplate": "variable=Jan<br>index=%{x}<br>value=%{y}<extra></extra>",
         "legendgroup": "Jan",
         "marker": {
          "color": "#636efa"
         },
         "name": "Jan",
         "offsetgroup": "Jan",
         "orientation": "v",
         "showlegend": true,
         "textposition": "auto",
         "type": "bar",
         "x": [
          0,
          1,
          2,
          3,
          4,
          5,
          6,
          7,
          8,
          9,
          10,
          11,
          12,
          13,
          14
         ],
         "xaxis": "x",
         "y": [
          105,
          87,
          28,
          22,
          13,
          11,
          7,
          5,
          4,
          0,
          0,
          0,
          0,
          0,
          0
         ],
         "yaxis": "y"
        },
        {
         "alignmentgroup": "True",
         "hovertemplate": "variable=Mar<br>index=%{x}<br>value=%{y}<extra></extra>",
         "legendgroup": "Mar",
         "marker": {
          "color": "#EF553B"
         },
         "name": "Mar",
         "offsetgroup": "Mar",
         "orientation": "v",
         "showlegend": true,
         "textposition": "auto",
         "type": "bar",
         "x": [
          0,
          1,
          2,
          3,
          4,
          5,
          6,
          7,
          8,
          9,
          10,
          11,
          12,
          13,
          14
         ],
         "xaxis": "x",
         "y": [
          92,
          80,
          27,
          25,
          16,
          16,
          9,
          7,
          6,
          5,
          0,
          0,
          0,
          0,
          0
         ],
         "yaxis": "y"
        },
        {
         "alignmentgroup": "True",
         "hovertemplate": "variable=May<br>index=%{x}<br>value=%{y}<extra></extra>",
         "legendgroup": "May",
         "marker": {
          "color": "#00cc96"
         },
         "name": "May",
         "offsetgroup": "May",
         "orientation": "v",
         "showlegend": true,
         "textposition": "auto",
         "type": "bar",
         "x": [
          0,
          1,
          2,
          3,
          4,
          5,
          6,
          7,
          8,
          9,
          10,
          11,
          12,
          13,
          14
         ],
         "xaxis": "x",
         "y": [
          75,
          59,
          28,
          24,
          21,
          19,
          17,
          10,
          4,
          1,
          0,
          0,
          0,
          0,
          0
         ],
         "yaxis": "y"
        }
       ],
       "layout": {
        "barmode": "relative",
        "legend": {
         "title": {
          "text": "variable"
         },
         "tracegroupgap": 0
        },
        "margin": {
         "t": 60
        },
        "template": {
         "data": {
          "bar": [
           {
            "error_x": {
             "color": "#2a3f5f"
            },
            "error_y": {
             "color": "#2a3f5f"
            },
            "marker": {
             "line": {
              "color": "#E5ECF6",
              "width": 0.5
             }
            },
            "type": "bar"
           }
          ],
          "barpolar": [
           {
            "marker": {
             "line": {
              "color": "#E5ECF6",
              "width": 0.5
             }
            },
            "type": "barpolar"
           }
          ],
          "carpet": [
           {
            "aaxis": {
             "endlinecolor": "#2a3f5f",
             "gridcolor": "white",
             "linecolor": "white",
             "minorgridcolor": "white",
             "startlinecolor": "#2a3f5f"
            },
            "baxis": {
             "endlinecolor": "#2a3f5f",
             "gridcolor": "white",
             "linecolor": "white",
             "minorgridcolor": "white",
             "startlinecolor": "#2a3f5f"
            },
            "type": "carpet"
           }
          ],
          "choropleth": [
           {
            "colorbar": {
             "outlinewidth": 0,
             "ticks": ""
            },
            "type": "choropleth"
           }
          ],
          "contour": [
           {
            "colorbar": {
             "outlinewidth": 0,
             "ticks": ""
            },
            "colorscale": [
             [
              0,
              "#0d0887"
             ],
             [
              0.1111111111111111,
              "#46039f"
             ],
             [
              0.2222222222222222,
              "#7201a8"
             ],
             [
              0.3333333333333333,
              "#9c179e"
             ],
             [
              0.4444444444444444,
              "#bd3786"
             ],
             [
              0.5555555555555556,
              "#d8576b"
             ],
             [
              0.6666666666666666,
              "#ed7953"
             ],
             [
              0.7777777777777778,
              "#fb9f3a"
             ],
             [
              0.8888888888888888,
              "#fdca26"
             ],
             [
              1,
              "#f0f921"
             ]
            ],
            "type": "contour"
           }
          ],
          "contourcarpet": [
           {
            "colorbar": {
             "outlinewidth": 0,
             "ticks": ""
            },
            "type": "contourcarpet"
           }
          ],
          "heatmap": [
           {
            "colorbar": {
             "outlinewidth": 0,
             "ticks": ""
            },
            "colorscale": [
             [
              0,
              "#0d0887"
             ],
             [
              0.1111111111111111,
              "#46039f"
             ],
             [
              0.2222222222222222,
              "#7201a8"
             ],
             [
              0.3333333333333333,
              "#9c179e"
             ],
             [
              0.4444444444444444,
              "#bd3786"
             ],
             [
              0.5555555555555556,
              "#d8576b"
             ],
             [
              0.6666666666666666,
              "#ed7953"
             ],
             [
              0.7777777777777778,
              "#fb9f3a"
             ],
             [
              0.8888888888888888,
              "#fdca26"
             ],
             [
              1,
              "#f0f921"
             ]
            ],
            "type": "heatmap"
           }
          ],
          "heatmapgl": [
           {
            "colorbar": {
             "outlinewidth": 0,
             "ticks": ""
            },
            "colorscale": [
             [
              0,
              "#0d0887"
             ],
             [
              0.1111111111111111,
              "#46039f"
             ],
             [
              0.2222222222222222,
              "#7201a8"
             ],
             [
              0.3333333333333333,
              "#9c179e"
             ],
             [
              0.4444444444444444,
              "#bd3786"
             ],
             [
              0.5555555555555556,
              "#d8576b"
             ],
             [
              0.6666666666666666,
              "#ed7953"
             ],
             [
              0.7777777777777778,
              "#fb9f3a"
             ],
             [
              0.8888888888888888,
              "#fdca26"
             ],
             [
              1,
              "#f0f921"
             ]
            ],
            "type": "heatmapgl"
           }
          ],
          "histogram": [
           {
            "marker": {
             "colorbar": {
              "outlinewidth": 0,
              "ticks": ""
             }
            },
            "type": "histogram"
           }
          ],
          "histogram2d": [
           {
            "colorbar": {
             "outlinewidth": 0,
             "ticks": ""
            },
            "colorscale": [
             [
              0,
              "#0d0887"
             ],
             [
              0.1111111111111111,
              "#46039f"
             ],
             [
              0.2222222222222222,
              "#7201a8"
             ],
             [
              0.3333333333333333,
              "#9c179e"
             ],
             [
              0.4444444444444444,
              "#bd3786"
             ],
             [
              0.5555555555555556,
              "#d8576b"
             ],
             [
              0.6666666666666666,
              "#ed7953"
             ],
             [
              0.7777777777777778,
              "#fb9f3a"
             ],
             [
              0.8888888888888888,
              "#fdca26"
             ],
             [
              1,
              "#f0f921"
             ]
            ],
            "type": "histogram2d"
           }
          ],
          "histogram2dcontour": [
           {
            "colorbar": {
             "outlinewidth": 0,
             "ticks": ""
            },
            "colorscale": [
             [
              0,
              "#0d0887"
             ],
             [
              0.1111111111111111,
              "#46039f"
             ],
             [
              0.2222222222222222,
              "#7201a8"
             ],
             [
              0.3333333333333333,
              "#9c179e"
             ],
             [
              0.4444444444444444,
              "#bd3786"
             ],
             [
              0.5555555555555556,
              "#d8576b"
             ],
             [
              0.6666666666666666,
              "#ed7953"
             ],
             [
              0.7777777777777778,
              "#fb9f3a"
             ],
             [
              0.8888888888888888,
              "#fdca26"
             ],
             [
              1,
              "#f0f921"
             ]
            ],
            "type": "histogram2dcontour"
           }
          ],
          "mesh3d": [
           {
            "colorbar": {
             "outlinewidth": 0,
             "ticks": ""
            },
            "type": "mesh3d"
           }
          ],
          "parcoords": [
           {
            "line": {
             "colorbar": {
              "outlinewidth": 0,
              "ticks": ""
             }
            },
            "type": "parcoords"
           }
          ],
          "pie": [
           {
            "automargin": true,
            "type": "pie"
           }
          ],
          "scatter": [
           {
            "marker": {
             "colorbar": {
              "outlinewidth": 0,
              "ticks": ""
             }
            },
            "type": "scatter"
           }
          ],
          "scatter3d": [
           {
            "line": {
             "colorbar": {
              "outlinewidth": 0,
              "ticks": ""
             }
            },
            "marker": {
             "colorbar": {
              "outlinewidth": 0,
              "ticks": ""
             }
            },
            "type": "scatter3d"
           }
          ],
          "scattercarpet": [
           {
            "marker": {
             "colorbar": {
              "outlinewidth": 0,
              "ticks": ""
             }
            },
            "type": "scattercarpet"
           }
          ],
          "scattergeo": [
           {
            "marker": {
             "colorbar": {
              "outlinewidth": 0,
              "ticks": ""
             }
            },
            "type": "scattergeo"
           }
          ],
          "scattergl": [
           {
            "marker": {
             "colorbar": {
              "outlinewidth": 0,
              "ticks": ""
             }
            },
            "type": "scattergl"
           }
          ],
          "scattermapbox": [
           {
            "marker": {
             "colorbar": {
              "outlinewidth": 0,
              "ticks": ""
             }
            },
            "type": "scattermapbox"
           }
          ],
          "scatterpolar": [
           {
            "marker": {
             "colorbar": {
              "outlinewidth": 0,
              "ticks": ""
             }
            },
            "type": "scatterpolar"
           }
          ],
          "scatterpolargl": [
           {
            "marker": {
             "colorbar": {
              "outlinewidth": 0,
              "ticks": ""
             }
            },
            "type": "scatterpolargl"
           }
          ],
          "scatterternary": [
           {
            "marker": {
             "colorbar": {
              "outlinewidth": 0,
              "ticks": ""
             }
            },
            "type": "scatterternary"
           }
          ],
          "surface": [
           {
            "colorbar": {
             "outlinewidth": 0,
             "ticks": ""
            },
            "colorscale": [
             [
              0,
              "#0d0887"
             ],
             [
              0.1111111111111111,
              "#46039f"
             ],
             [
              0.2222222222222222,
              "#7201a8"
             ],
             [
              0.3333333333333333,
              "#9c179e"
             ],
             [
              0.4444444444444444,
              "#bd3786"
             ],
             [
              0.5555555555555556,
              "#d8576b"
             ],
             [
              0.6666666666666666,
              "#ed7953"
             ],
             [
              0.7777777777777778,
              "#fb9f3a"
             ],
             [
              0.8888888888888888,
              "#fdca26"
             ],
             [
              1,
              "#f0f921"
             ]
            ],
            "type": "surface"
           }
          ],
          "table": [
           {
            "cells": {
             "fill": {
              "color": "#EBF0F8"
             },
             "line": {
              "color": "white"
             }
            },
            "header": {
             "fill": {
              "color": "#C8D4E3"
             },
             "line": {
              "color": "white"
             }
            },
            "type": "table"
           }
          ]
         },
         "layout": {
          "annotationdefaults": {
           "arrowcolor": "#2a3f5f",
           "arrowhead": 0,
           "arrowwidth": 1
          },
          "autotypenumbers": "strict",
          "coloraxis": {
           "colorbar": {
            "outlinewidth": 0,
            "ticks": ""
           }
          },
          "colorscale": {
           "diverging": [
            [
             0,
             "#8e0152"
            ],
            [
             0.1,
             "#c51b7d"
            ],
            [
             0.2,
             "#de77ae"
            ],
            [
             0.3,
             "#f1b6da"
            ],
            [
             0.4,
             "#fde0ef"
            ],
            [
             0.5,
             "#f7f7f7"
            ],
            [
             0.6,
             "#e6f5d0"
            ],
            [
             0.7,
             "#b8e186"
            ],
            [
             0.8,
             "#7fbc41"
            ],
            [
             0.9,
             "#4d9221"
            ],
            [
             1,
             "#276419"
            ]
           ],
           "sequential": [
            [
             0,
             "#0d0887"
            ],
            [
             0.1111111111111111,
             "#46039f"
            ],
            [
             0.2222222222222222,
             "#7201a8"
            ],
            [
             0.3333333333333333,
             "#9c179e"
            ],
            [
             0.4444444444444444,
             "#bd3786"
            ],
            [
             0.5555555555555556,
             "#d8576b"
            ],
            [
             0.6666666666666666,
             "#ed7953"
            ],
            [
             0.7777777777777778,
             "#fb9f3a"
            ],
            [
             0.8888888888888888,
             "#fdca26"
            ],
            [
             1,
             "#f0f921"
            ]
           ],
           "sequentialminus": [
            [
             0,
             "#0d0887"
            ],
            [
             0.1111111111111111,
             "#46039f"
            ],
            [
             0.2222222222222222,
             "#7201a8"
            ],
            [
             0.3333333333333333,
             "#9c179e"
            ],
            [
             0.4444444444444444,
             "#bd3786"
            ],
            [
             0.5555555555555556,
             "#d8576b"
            ],
            [
             0.6666666666666666,
             "#ed7953"
            ],
            [
             0.7777777777777778,
             "#fb9f3a"
            ],
            [
             0.8888888888888888,
             "#fdca26"
            ],
            [
             1,
             "#f0f921"
            ]
           ]
          },
          "colorway": [
           "#636efa",
           "#EF553B",
           "#00cc96",
           "#ab63fa",
           "#FFA15A",
           "#19d3f3",
           "#FF6692",
           "#B6E880",
           "#FF97FF",
           "#FECB52"
          ],
          "font": {
           "color": "#2a3f5f"
          },
          "geo": {
           "bgcolor": "white",
           "lakecolor": "white",
           "landcolor": "#E5ECF6",
           "showlakes": true,
           "showland": true,
           "subunitcolor": "white"
          },
          "hoverlabel": {
           "align": "left"
          },
          "hovermode": "closest",
          "mapbox": {
           "style": "light"
          },
          "paper_bgcolor": "white",
          "plot_bgcolor": "#E5ECF6",
          "polar": {
           "angularaxis": {
            "gridcolor": "white",
            "linecolor": "white",
            "ticks": ""
           },
           "bgcolor": "#E5ECF6",
           "radialaxis": {
            "gridcolor": "white",
            "linecolor": "white",
            "ticks": ""
           }
          },
          "scene": {
           "xaxis": {
            "backgroundcolor": "#E5ECF6",
            "gridcolor": "white",
            "gridwidth": 2,
            "linecolor": "white",
            "showbackground": true,
            "ticks": "",
            "zerolinecolor": "white"
           },
           "yaxis": {
            "backgroundcolor": "#E5ECF6",
            "gridcolor": "white",
            "gridwidth": 2,
            "linecolor": "white",
            "showbackground": true,
            "ticks": "",
            "zerolinecolor": "white"
           },
           "zaxis": {
            "backgroundcolor": "#E5ECF6",
            "gridcolor": "white",
            "gridwidth": 2,
            "linecolor": "white",
            "showbackground": true,
            "ticks": "",
            "zerolinecolor": "white"
           }
          },
          "shapedefaults": {
           "line": {
            "color": "#2a3f5f"
           }
          },
          "ternary": {
           "aaxis": {
            "gridcolor": "white",
            "linecolor": "white",
            "ticks": ""
           },
           "baxis": {
            "gridcolor": "white",
            "linecolor": "white",
            "ticks": ""
           },
           "bgcolor": "#E5ECF6",
           "caxis": {
            "gridcolor": "white",
            "linecolor": "white",
            "ticks": ""
           }
          },
          "title": {
           "x": 0.05
          },
          "xaxis": {
           "automargin": true,
           "gridcolor": "white",
           "linecolor": "white",
           "ticks": "",
           "title": {
            "standoff": 15
           },
           "zerolinecolor": "white",
           "zerolinewidth": 2
          },
          "yaxis": {
           "automargin": true,
           "gridcolor": "white",
           "linecolor": "white",
           "ticks": "",
           "title": {
            "standoff": 15
           },
           "zerolinecolor": "white",
           "zerolinewidth": 2
          }
         }
        },
        "xaxis": {
         "anchor": "y",
         "domain": [
          0,
          1
         ],
         "title": {
          "text": "index"
         }
        },
        "yaxis": {
         "anchor": "x",
         "domain": [
          0,
          1
         ],
         "title": {
          "text": "value"
         }
        }
       }
      }
     },
     "metadata": {}
    }
   ],
   "source": [
    "pd.options.plotting.backend = \"plotly\"\n",
    "\n",
    "jan = sorted_jan_viral_genre_df['Count'].tolist()\n",
    "mar = sorted_mar_viral_genre_df['Count'].tolist()\n",
    "may = sorted_may_viral_genre_df['Count'].tolist()\n",
    "\n",
    "\n",
    "df = pd.DataFrame(dict(Jan=jan, Mar=mar, May=may))\n",
    "fig = df.plot.bar()\n",
    "fig.show()"
   ]
  },
  {
   "cell_type": "code",
   "execution_count": null,
   "metadata": {},
   "outputs": [],
   "source": []
  },
  {
   "source": [
    "## UI Data"
   ],
   "cell_type": "markdown",
   "metadata": {}
  },
  {
   "cell_type": "code",
   "execution_count": 42,
   "metadata": {},
   "outputs": [
    {
     "output_type": "execute_result",
     "data": {
      "text/plain": [
       "  Unnamed: 0    N.S.A   S.F.     S.A. S.A. 4-Week    N.S.A.1 S.F..1  \\\n",
       "0     1/4/20  335,294  159.4  210,000     218,250  2,249,369  127.4   \n",
       "1    1/11/20  337,798  164.1  206,000     213,000  2,140,671  123.1   \n",
       "2    1/18/20  281,558  128.4  219,000     213,250  2,080,430  121.7   \n",
       "3    1/25/20  228,352  108.7  210,000     211,250  2,153,585  122.9   \n",
       "4     2/1/20  224,543  109.3  205,000     210,000  2,087,362  122.9   \n",
       "\n",
       "      S.A..1 S.A. 4-Week.1  N.S.A.2  S.A..2  Unnamed: 11  \n",
       "0  1,766,000     1,747,000      1.5     1.2  145,230,691  \n",
       "1  1,739,000     1,752,250      1.5     1.2  145,230,691  \n",
       "2  1,709,000     1,748,250      1.4     1.2  145,230,691  \n",
       "3  1,752,000     1,741,500      1.5     1.2  145,230,691  \n",
       "4  1,698,000     1,724,500      1.4     1.2  145,230,691  "
      ],
      "text/html": "<div>\n<style scoped>\n    .dataframe tbody tr th:only-of-type {\n        vertical-align: middle;\n    }\n\n    .dataframe tbody tr th {\n        vertical-align: top;\n    }\n\n    .dataframe thead th {\n        text-align: right;\n    }\n</style>\n<table border=\"1\" class=\"dataframe\">\n  <thead>\n    <tr style=\"text-align: right;\">\n      <th></th>\n      <th>Unnamed: 0</th>\n      <th>N.S.A</th>\n      <th>S.F.</th>\n      <th>S.A.</th>\n      <th>S.A. 4-Week</th>\n      <th>N.S.A.1</th>\n      <th>S.F..1</th>\n      <th>S.A..1</th>\n      <th>S.A. 4-Week.1</th>\n      <th>N.S.A.2</th>\n      <th>S.A..2</th>\n      <th>Unnamed: 11</th>\n    </tr>\n  </thead>\n  <tbody>\n    <tr>\n      <th>0</th>\n      <td>1/4/20</td>\n      <td>335,294</td>\n      <td>159.4</td>\n      <td>210,000</td>\n      <td>218,250</td>\n      <td>2,249,369</td>\n      <td>127.4</td>\n      <td>1,766,000</td>\n      <td>1,747,000</td>\n      <td>1.5</td>\n      <td>1.2</td>\n      <td>145,230,691</td>\n    </tr>\n    <tr>\n      <th>1</th>\n      <td>1/11/20</td>\n      <td>337,798</td>\n      <td>164.1</td>\n      <td>206,000</td>\n      <td>213,000</td>\n      <td>2,140,671</td>\n      <td>123.1</td>\n      <td>1,739,000</td>\n      <td>1,752,250</td>\n      <td>1.5</td>\n      <td>1.2</td>\n      <td>145,230,691</td>\n    </tr>\n    <tr>\n      <th>2</th>\n      <td>1/18/20</td>\n      <td>281,558</td>\n      <td>128.4</td>\n      <td>219,000</td>\n      <td>213,250</td>\n      <td>2,080,430</td>\n      <td>121.7</td>\n      <td>1,709,000</td>\n      <td>1,748,250</td>\n      <td>1.4</td>\n      <td>1.2</td>\n      <td>145,230,691</td>\n    </tr>\n    <tr>\n      <th>3</th>\n      <td>1/25/20</td>\n      <td>228,352</td>\n      <td>108.7</td>\n      <td>210,000</td>\n      <td>211,250</td>\n      <td>2,153,585</td>\n      <td>122.9</td>\n      <td>1,752,000</td>\n      <td>1,741,500</td>\n      <td>1.5</td>\n      <td>1.2</td>\n      <td>145,230,691</td>\n    </tr>\n    <tr>\n      <th>4</th>\n      <td>2/1/20</td>\n      <td>224,543</td>\n      <td>109.3</td>\n      <td>205,000</td>\n      <td>210,000</td>\n      <td>2,087,362</td>\n      <td>122.9</td>\n      <td>1,698,000</td>\n      <td>1,724,500</td>\n      <td>1.4</td>\n      <td>1.2</td>\n      <td>145,230,691</td>\n    </tr>\n  </tbody>\n</table>\n</div>"
     },
     "metadata": {},
     "execution_count": 42
    }
   ],
   "source": [
    "ui_df = pd.read_csv('UI_weekly_2020.csv', skiprows=[0,1],skip_blank_lines=True, skipinitialspace=True)\n",
    "ui_df.head()"
   ]
  },
  {
   "cell_type": "code",
   "execution_count": 43,
   "metadata": {},
   "outputs": [
    {
     "output_type": "execute_result",
     "data": {
      "text/plain": [
       "      Date    N.S.A   S.F.     S.A. S.A. 4-Week    N.S.A.1 S.F..1     S.A..1  \\\n",
       "0   1/4/20  335,294  159.4  210,000     218,250  2,249,369  127.4  1,766,000   \n",
       "1  1/11/20  337,798  164.1  206,000     213,000  2,140,671  123.1  1,739,000   \n",
       "2  1/18/20  281,558  128.4  219,000     213,250  2,080,430  121.7  1,709,000   \n",
       "3  1/25/20  228,352  108.7  210,000     211,250  2,153,585  122.9  1,752,000   \n",
       "4   2/1/20  224,543  109.3  205,000     210,000  2,087,362  122.9  1,698,000   \n",
       "\n",
       "  S.A. 4-Week.1  N.S.A.2  S.A..2  Unnamed: 11  \n",
       "0     1,747,000      1.5     1.2  145,230,691  \n",
       "1     1,752,250      1.5     1.2  145,230,691  \n",
       "2     1,748,250      1.4     1.2  145,230,691  \n",
       "3     1,741,500      1.5     1.2  145,230,691  \n",
       "4     1,724,500      1.4     1.2  145,230,691  "
      ],
      "text/html": "<div>\n<style scoped>\n    .dataframe tbody tr th:only-of-type {\n        vertical-align: middle;\n    }\n\n    .dataframe tbody tr th {\n        vertical-align: top;\n    }\n\n    .dataframe thead th {\n        text-align: right;\n    }\n</style>\n<table border=\"1\" class=\"dataframe\">\n  <thead>\n    <tr style=\"text-align: right;\">\n      <th></th>\n      <th>Date</th>\n      <th>N.S.A</th>\n      <th>S.F.</th>\n      <th>S.A.</th>\n      <th>S.A. 4-Week</th>\n      <th>N.S.A.1</th>\n      <th>S.F..1</th>\n      <th>S.A..1</th>\n      <th>S.A. 4-Week.1</th>\n      <th>N.S.A.2</th>\n      <th>S.A..2</th>\n      <th>Unnamed: 11</th>\n    </tr>\n  </thead>\n  <tbody>\n    <tr>\n      <th>0</th>\n      <td>1/4/20</td>\n      <td>335,294</td>\n      <td>159.4</td>\n      <td>210,000</td>\n      <td>218,250</td>\n      <td>2,249,369</td>\n      <td>127.4</td>\n      <td>1,766,000</td>\n      <td>1,747,000</td>\n      <td>1.5</td>\n      <td>1.2</td>\n      <td>145,230,691</td>\n    </tr>\n    <tr>\n      <th>1</th>\n      <td>1/11/20</td>\n      <td>337,798</td>\n      <td>164.1</td>\n      <td>206,000</td>\n      <td>213,000</td>\n      <td>2,140,671</td>\n      <td>123.1</td>\n      <td>1,739,000</td>\n      <td>1,752,250</td>\n      <td>1.5</td>\n      <td>1.2</td>\n      <td>145,230,691</td>\n    </tr>\n    <tr>\n      <th>2</th>\n      <td>1/18/20</td>\n      <td>281,558</td>\n      <td>128.4</td>\n      <td>219,000</td>\n      <td>213,250</td>\n      <td>2,080,430</td>\n      <td>121.7</td>\n      <td>1,709,000</td>\n      <td>1,748,250</td>\n      <td>1.4</td>\n      <td>1.2</td>\n      <td>145,230,691</td>\n    </tr>\n    <tr>\n      <th>3</th>\n      <td>1/25/20</td>\n      <td>228,352</td>\n      <td>108.7</td>\n      <td>210,000</td>\n      <td>211,250</td>\n      <td>2,153,585</td>\n      <td>122.9</td>\n      <td>1,752,000</td>\n      <td>1,741,500</td>\n      <td>1.5</td>\n      <td>1.2</td>\n      <td>145,230,691</td>\n    </tr>\n    <tr>\n      <th>4</th>\n      <td>2/1/20</td>\n      <td>224,543</td>\n      <td>109.3</td>\n      <td>205,000</td>\n      <td>210,000</td>\n      <td>2,087,362</td>\n      <td>122.9</td>\n      <td>1,698,000</td>\n      <td>1,724,500</td>\n      <td>1.4</td>\n      <td>1.2</td>\n      <td>145,230,691</td>\n    </tr>\n  </tbody>\n</table>\n</div>"
     },
     "metadata": {},
     "execution_count": 43
    }
   ],
   "source": [
    "ui_df = ui_df.rename(columns={'Unnamed: 0': \"Date\"})\n",
    "ui_df.head()"
   ]
  },
  {
   "cell_type": "code",
   "execution_count": 44,
   "metadata": {},
   "outputs": [
    {
     "output_type": "execute_result",
     "data": {
      "text/plain": [
       "                   Date      N.S.A        S.F.       S.A. S.A. 4-Week  \\\n",
       "0                1/4/20    335,294       159.4    210,000     218,250   \n",
       "1               1/11/20    337,798       164.1    206,000     213,000   \n",
       "2               1/18/20    281,558       128.4    219,000     213,250   \n",
       "3               1/25/20    228,352       108.7    210,000     211,250   \n",
       "4                2/1/20    224,543       109.3    205,000     210,000   \n",
       "5                2/8/20    219,404       106.1    207,000     210,250   \n",
       "6               2/15/20    209,179        97.5    215,000     209,250   \n",
       "7               2/22/20    198,832        91.1    218,000     211,250   \n",
       "8               2/29/20    216,605       100.2    216,000     214,000   \n",
       "9                3/7/20    199,885        94.4    212,000     215,250   \n",
       "10              3/14/20    251,851   -4,228.00    256,000     225,500   \n",
       "11              3/21/20  2,914,107   -9,304.00  2,923,000     901,750   \n",
       "12              3/28/20  5,981,787   -3,383.00  5,985,000   2,344,000   \n",
       "13               4/4/20  6,161,308   12,548.00  6,149,000   3,828,250   \n",
       "14              4/11/20  4,897,867   28,444.00  4,869,000   4,981,500   \n",
       "15              4/18/20  4,221,556   19,283.00  4,202,000   5,301,250   \n",
       "16              4/25/20  3,468,261   17,150.00  3,451,000   4,667,750   \n",
       "17               5/2/20  2,793,245    9,633.00  2,784,000   3,826,500   \n",
       "18               5/9/20  2,326,632   11,178.00  2,315,000   3,188,000   \n",
       "19              5/16/20  2,163,595   14,281.00  2,149,000   2,674,750   \n",
       "20              5/23/20  1,902,793   15,600.00  1,887,000   2,283,750   \n",
       "21              5/30/20  1,611,720    6,930.00  1,605,000   1,989,000   \n",
       "22               6/6/20  1,556,548   19,672.00  1,537,000   1,794,500   \n",
       "23              6/13/20  1,457,102  -15,295.00  1,472,000   1,625,250   \n",
       "24              6/20/20  1,447,127  -12,379.00  1,460,000   1,518,500   \n",
       "25              6/27/20  1,426,894   -9,182.00  1,436,000   1,476,250   \n",
       "26               7/4/20  1,391,178   -7,203.00  1,398,000   1,441,500   \n",
       "27              7/11/20  1,512,549   33,998.00  1,479,000   1,443,250   \n",
       "28              7/18/20  1,373,239  -24,450.00  1,398,000   1,427,750   \n",
       "29              7/25/20  1,202,278  -59,487.00  1,262,000   1,384,250   \n",
       "30               8/1/20    983,780  -59,514.00  1,043,000   1,295,500   \n",
       "31               8/8/20    831,251  -51,406.00    883,000   1,146,500   \n",
       "32              8/15/20    879,545  -40,091.00    920,000   1,027,000   \n",
       "33              8/22/20    814,639  -57,762.00    872,000     929,500   \n",
       "34              8/29/20    827,261  -48,038.00    875,000     887,500   \n",
       "35               9/5/20    857,896  -23,060.00    881,000     887,000   \n",
       "36              9/12/20    785,842  -73,976.00    860,000     872,000   \n",
       "37              9/19/20    815,892  -43,844.00    860,000     869,000   \n",
       "38              9/26/20    732,912  -70,012.00    803,000     851,000   \n",
       "39              10/3/20    723,981  -58,495.00    782,000     826,250   \n",
       "40             10/10/20    822,205  -10,669.00    833,000     819,500   \n",
       "41             10/17/20    759,081  -38,612.00    798,000     804,000   \n",
       "42             10/24/20    732,533  -35,084.00    768,000     795,250   \n",
       "43             10/31/20    737,503  -27,351.00    765,000     791,000   \n",
       "44              11/7/20    720,432   -8,012.00    728,000     764,750   \n",
       "45             11/14/20    709,426  -23,071.00    732,000     748,250   \n",
       "46             11/21/20    828,099   65,612.00    762,000     746,750   \n",
       "47             11/28/20    711,416   -7,113.00    719,000     735,250   \n",
       "48              12/5/20    946,661   93,798.00    853,000     766,500   \n",
       "49             12/12/20    928,634   55,637.00    873,000     801,750   \n",
       "50             12/19/20    854,497   51,070.00    803,000     812,000   \n",
       "51             12/26/20    823,788   61,100.00    763,000     823,000   \n",
       "52                 <NA>       <NA>        <NA>       <NA>        <NA>   \n",
       "53  Run Date: 4/28/2021       <NA>        <NA>       <NA>        <NA>   \n",
       "\n",
       "       N.S.A.1       S.F..1      S.A..1 S.A. 4-Week.1  N.S.A.2  S.A..2  \\\n",
       "0    2,249,369        127.4   1,766,000     1,747,000      1.5     1.2   \n",
       "1    2,140,671        123.1   1,739,000     1,752,250      1.5     1.2   \n",
       "2    2,080,430        121.7   1,709,000     1,748,250      1.4     1.2   \n",
       "3    2,153,585        122.9   1,752,000     1,741,500      1.5     1.2   \n",
       "4    2,087,362        122.9   1,698,000     1,724,500      1.4     1.2   \n",
       "5    2,099,321        121.1   1,734,000     1,723,250      1.4     1.2   \n",
       "6    2,061,355        120.9   1,705,000     1,722,250      1.4     1.2   \n",
       "7    2,103,447        121.6   1,730,000     1,716,750      1.4     1.2   \n",
       "8    2,055,156        120.3   1,708,000     1,719,250      1.4     1.2   \n",
       "9    1,977,242        115.3   1,715,000     1,714,500      1.4     1.2   \n",
       "10   2,072,333        117.1   1,770,000     1,730,750      1.4     1.2   \n",
       "11   3,412,516   318,955.00   3,094,000     2,071,750      2.3     2.1   \n",
       "12   8,158,208   290,611.00   7,868,000     3,611,750      5.6     5.4   \n",
       "13  12,445,532   184,560.00  12,261,000     6,248,250      8.5     8.4   \n",
       "14  16,257,202   187,195.00  16,070,000     9,823,250     11.2    11.0   \n",
       "15  17,770,222   114,172.00  17,656,000    13,463,750     12.2    12.1   \n",
       "16  21,754,246    90,294.00  21,664,000    16,912,750     14.9    14.9   \n",
       "17  20,855,301    32,656.00  20,823,000    19,053,250     14.3    14.3   \n",
       "18  23,037,998   -89,800.00  23,128,000    20,817,750     15.8    15.9   \n",
       "19  19,037,741  -143,194.00  19,181,000    21,199,000     13.1    13.2   \n",
       "20  19,118,945  -276,747.00  19,396,000    20,632,000     13.1    13.3   \n",
       "21  19,119,547  -167,565.00  19,287,000    20,248,000     13.1    13.2   \n",
       "22  18,687,253  -240,032.00  18,927,000    19,197,750     12.8    13.0   \n",
       "23  17,823,790  -169,463.00  17,993,000    18,900,750     12.2    12.4   \n",
       "24  17,518,656  -194,748.00  17,713,000    18,480,000     12.0    12.2   \n",
       "25  16,611,272  -168,720.00  16,780,000    17,853,250     11.4    11.5   \n",
       "26  17,393,810   -19,466.00  17,413,000    17,474,750     11.9    11.9   \n",
       "27  16,396,735    11,798.00  16,385,000    17,072,750     11.2    11.2   \n",
       "28  16,882,632   -30,757.00  16,913,000    16,872,750     11.6    11.6   \n",
       "29  15,913,644   -50,509.00  15,964,000    16,668,750     10.9    10.9   \n",
       "30  15,254,654   -48,205.00  15,303,000    16,141,250     10.4    10.5   \n",
       "31  14,155,552   -61,846.00  14,217,000    15,599,250      9.7     9.7   \n",
       "32  13,839,980  -108,392.00  13,948,000    14,858,000      9.5     9.5   \n",
       "33  13,111,418  -134,767.00  13,246,000    14,178,500      9.0     9.1   \n",
       "34  13,325,972  -202,238.00  13,528,000    13,734,750      9.1     9.3   \n",
       "35  12,407,776  -347,719.00  12,755,000    13,369,250      8.5     8.7   \n",
       "36  12,391,891  -314,168.00  12,706,000    13,058,750      8.5     8.7   \n",
       "37  11,037,718  -343,009.00  11,381,000    12,592,500      7.6     7.8   \n",
       "38  10,156,754  -320,659.00  10,477,000    11,829,750      7.0     7.2   \n",
       "39   8,917,837  -341,414.00   9,259,000    10,955,750      6.1     6.3   \n",
       "40   8,079,362  -304,926.00   8,384,000     9,875,250      5.5     5.7   \n",
       "41   7,458,511  -240,069.00   7,699,000     8,954,750      5.1     5.3   \n",
       "42   6,857,323  -218,676.00   7,076,000     8,104,500      4.7     4.8   \n",
       "43   6,463,834  -259,840.00   6,724,000     7,470,750      4.4     4.6   \n",
       "44   6,061,961  -326,729.00   6,389,000     6,972,000      4.1     4.4   \n",
       "45   5,917,233  -220,584.00   6,138,000     6,581,750      4.0     4.2   \n",
       "46   5,233,689  -372,100.00   5,606,000     6,214,250      3.6     3.8   \n",
       "47   5,790,579   -38,391.00   5,829,000     5,990,500      4.0     4.0   \n",
       "48   5,479,756  -134,207.00   5,614,000     5,796,750      3.7     3.8   \n",
       "49   5,415,945   -16,709.00   5,433,000     5,620,500      3.7     3.7   \n",
       "50   5,225,796   -85,549.00   5,311,000     5,546,750      3.6     3.6   \n",
       "51   5,362,688   182,814.00   5,180,000     5,384,500      3.7     3.5   \n",
       "52        <NA>         <NA>        <NA>          <NA>      NaN     NaN   \n",
       "53        <NA>         <NA>        <NA>          <NA>      NaN     NaN   \n",
       "\n",
       "    Unnamed: 11  \n",
       "0   145,230,691  \n",
       "1   145,230,691  \n",
       "2   145,230,691  \n",
       "3   145,230,691  \n",
       "4   145,230,691  \n",
       "5   145,230,691  \n",
       "6   145,230,691  \n",
       "7   145,230,691  \n",
       "8   145,230,691  \n",
       "9   145,230,691  \n",
       "10  145,230,691  \n",
       "11  145,230,691  \n",
       "12  145,230,691  \n",
       "13  145,671,710  \n",
       "14  145,671,710  \n",
       "15  145,671,710  \n",
       "16  145,671,710  \n",
       "17  145,671,710  \n",
       "18  145,671,710  \n",
       "19  145,671,710  \n",
       "20  145,671,710  \n",
       "21  145,671,710  \n",
       "22  145,671,710  \n",
       "23  145,671,710  \n",
       "24  145,671,710  \n",
       "25  145,671,710  \n",
       "26  146,125,989  \n",
       "27  146,125,989  \n",
       "28  146,125,989  \n",
       "29  146,125,989  \n",
       "30  146,125,989  \n",
       "31  146,125,989  \n",
       "32  146,125,989  \n",
       "33  146,125,989  \n",
       "34  146,125,989  \n",
       "35  146,125,989  \n",
       "36  146,125,989  \n",
       "37  146,125,989  \n",
       "38  146,125,989  \n",
       "39  146,534,375  \n",
       "40  146,534,375  \n",
       "41  146,534,375  \n",
       "42  146,534,375  \n",
       "43  146,534,375  \n",
       "44  146,534,375  \n",
       "45  146,534,375  \n",
       "46  146,534,375  \n",
       "47  146,534,375  \n",
       "48  146,534,375  \n",
       "49  146,534,375  \n",
       "50  146,534,375  \n",
       "51  146,534,375  \n",
       "52         <NA>  \n",
       "53         <NA>  "
      ],
      "text/html": "<div>\n<style scoped>\n    .dataframe tbody tr th:only-of-type {\n        vertical-align: middle;\n    }\n\n    .dataframe tbody tr th {\n        vertical-align: top;\n    }\n\n    .dataframe thead th {\n        text-align: right;\n    }\n</style>\n<table border=\"1\" class=\"dataframe\">\n  <thead>\n    <tr style=\"text-align: right;\">\n      <th></th>\n      <th>Date</th>\n      <th>N.S.A</th>\n      <th>S.F.</th>\n      <th>S.A.</th>\n      <th>S.A. 4-Week</th>\n      <th>N.S.A.1</th>\n      <th>S.F..1</th>\n      <th>S.A..1</th>\n      <th>S.A. 4-Week.1</th>\n      <th>N.S.A.2</th>\n      <th>S.A..2</th>\n      <th>Unnamed: 11</th>\n    </tr>\n  </thead>\n  <tbody>\n    <tr>\n      <th>0</th>\n      <td>1/4/20</td>\n      <td>335,294</td>\n      <td>159.4</td>\n      <td>210,000</td>\n      <td>218,250</td>\n      <td>2,249,369</td>\n      <td>127.4</td>\n      <td>1,766,000</td>\n      <td>1,747,000</td>\n      <td>1.5</td>\n      <td>1.2</td>\n      <td>145,230,691</td>\n    </tr>\n    <tr>\n      <th>1</th>\n      <td>1/11/20</td>\n      <td>337,798</td>\n      <td>164.1</td>\n      <td>206,000</td>\n      <td>213,000</td>\n      <td>2,140,671</td>\n      <td>123.1</td>\n      <td>1,739,000</td>\n      <td>1,752,250</td>\n      <td>1.5</td>\n      <td>1.2</td>\n      <td>145,230,691</td>\n    </tr>\n    <tr>\n      <th>2</th>\n      <td>1/18/20</td>\n      <td>281,558</td>\n      <td>128.4</td>\n      <td>219,000</td>\n      <td>213,250</td>\n      <td>2,080,430</td>\n      <td>121.7</td>\n      <td>1,709,000</td>\n      <td>1,748,250</td>\n      <td>1.4</td>\n      <td>1.2</td>\n      <td>145,230,691</td>\n    </tr>\n    <tr>\n      <th>3</th>\n      <td>1/25/20</td>\n      <td>228,352</td>\n      <td>108.7</td>\n      <td>210,000</td>\n      <td>211,250</td>\n      <td>2,153,585</td>\n      <td>122.9</td>\n      <td>1,752,000</td>\n      <td>1,741,500</td>\n      <td>1.5</td>\n      <td>1.2</td>\n      <td>145,230,691</td>\n    </tr>\n    <tr>\n      <th>4</th>\n      <td>2/1/20</td>\n      <td>224,543</td>\n      <td>109.3</td>\n      <td>205,000</td>\n      <td>210,000</td>\n      <td>2,087,362</td>\n      <td>122.9</td>\n      <td>1,698,000</td>\n      <td>1,724,500</td>\n      <td>1.4</td>\n      <td>1.2</td>\n      <td>145,230,691</td>\n    </tr>\n    <tr>\n      <th>5</th>\n      <td>2/8/20</td>\n      <td>219,404</td>\n      <td>106.1</td>\n      <td>207,000</td>\n      <td>210,250</td>\n      <td>2,099,321</td>\n      <td>121.1</td>\n      <td>1,734,000</td>\n      <td>1,723,250</td>\n      <td>1.4</td>\n      <td>1.2</td>\n      <td>145,230,691</td>\n    </tr>\n    <tr>\n      <th>6</th>\n      <td>2/15/20</td>\n      <td>209,179</td>\n      <td>97.5</td>\n      <td>215,000</td>\n      <td>209,250</td>\n      <td>2,061,355</td>\n      <td>120.9</td>\n      <td>1,705,000</td>\n      <td>1,722,250</td>\n      <td>1.4</td>\n      <td>1.2</td>\n      <td>145,230,691</td>\n    </tr>\n    <tr>\n      <th>7</th>\n      <td>2/22/20</td>\n      <td>198,832</td>\n      <td>91.1</td>\n      <td>218,000</td>\n      <td>211,250</td>\n      <td>2,103,447</td>\n      <td>121.6</td>\n      <td>1,730,000</td>\n      <td>1,716,750</td>\n      <td>1.4</td>\n      <td>1.2</td>\n      <td>145,230,691</td>\n    </tr>\n    <tr>\n      <th>8</th>\n      <td>2/29/20</td>\n      <td>216,605</td>\n      <td>100.2</td>\n      <td>216,000</td>\n      <td>214,000</td>\n      <td>2,055,156</td>\n      <td>120.3</td>\n      <td>1,708,000</td>\n      <td>1,719,250</td>\n      <td>1.4</td>\n      <td>1.2</td>\n      <td>145,230,691</td>\n    </tr>\n    <tr>\n      <th>9</th>\n      <td>3/7/20</td>\n      <td>199,885</td>\n      <td>94.4</td>\n      <td>212,000</td>\n      <td>215,250</td>\n      <td>1,977,242</td>\n      <td>115.3</td>\n      <td>1,715,000</td>\n      <td>1,714,500</td>\n      <td>1.4</td>\n      <td>1.2</td>\n      <td>145,230,691</td>\n    </tr>\n    <tr>\n      <th>10</th>\n      <td>3/14/20</td>\n      <td>251,851</td>\n      <td>-4,228.00</td>\n      <td>256,000</td>\n      <td>225,500</td>\n      <td>2,072,333</td>\n      <td>117.1</td>\n      <td>1,770,000</td>\n      <td>1,730,750</td>\n      <td>1.4</td>\n      <td>1.2</td>\n      <td>145,230,691</td>\n    </tr>\n    <tr>\n      <th>11</th>\n      <td>3/21/20</td>\n      <td>2,914,107</td>\n      <td>-9,304.00</td>\n      <td>2,923,000</td>\n      <td>901,750</td>\n      <td>3,412,516</td>\n      <td>318,955.00</td>\n      <td>3,094,000</td>\n      <td>2,071,750</td>\n      <td>2.3</td>\n      <td>2.1</td>\n      <td>145,230,691</td>\n    </tr>\n    <tr>\n      <th>12</th>\n      <td>3/28/20</td>\n      <td>5,981,787</td>\n      <td>-3,383.00</td>\n      <td>5,985,000</td>\n      <td>2,344,000</td>\n      <td>8,158,208</td>\n      <td>290,611.00</td>\n      <td>7,868,000</td>\n      <td>3,611,750</td>\n      <td>5.6</td>\n      <td>5.4</td>\n      <td>145,230,691</td>\n    </tr>\n    <tr>\n      <th>13</th>\n      <td>4/4/20</td>\n      <td>6,161,308</td>\n      <td>12,548.00</td>\n      <td>6,149,000</td>\n      <td>3,828,250</td>\n      <td>12,445,532</td>\n      <td>184,560.00</td>\n      <td>12,261,000</td>\n      <td>6,248,250</td>\n      <td>8.5</td>\n      <td>8.4</td>\n      <td>145,671,710</td>\n    </tr>\n    <tr>\n      <th>14</th>\n      <td>4/11/20</td>\n      <td>4,897,867</td>\n      <td>28,444.00</td>\n      <td>4,869,000</td>\n      <td>4,981,500</td>\n      <td>16,257,202</td>\n      <td>187,195.00</td>\n      <td>16,070,000</td>\n      <td>9,823,250</td>\n      <td>11.2</td>\n      <td>11.0</td>\n      <td>145,671,710</td>\n    </tr>\n    <tr>\n      <th>15</th>\n      <td>4/18/20</td>\n      <td>4,221,556</td>\n      <td>19,283.00</td>\n      <td>4,202,000</td>\n      <td>5,301,250</td>\n      <td>17,770,222</td>\n      <td>114,172.00</td>\n      <td>17,656,000</td>\n      <td>13,463,750</td>\n      <td>12.2</td>\n      <td>12.1</td>\n      <td>145,671,710</td>\n    </tr>\n    <tr>\n      <th>16</th>\n      <td>4/25/20</td>\n      <td>3,468,261</td>\n      <td>17,150.00</td>\n      <td>3,451,000</td>\n      <td>4,667,750</td>\n      <td>21,754,246</td>\n      <td>90,294.00</td>\n      <td>21,664,000</td>\n      <td>16,912,750</td>\n      <td>14.9</td>\n      <td>14.9</td>\n      <td>145,671,710</td>\n    </tr>\n    <tr>\n      <th>17</th>\n      <td>5/2/20</td>\n      <td>2,793,245</td>\n      <td>9,633.00</td>\n      <td>2,784,000</td>\n      <td>3,826,500</td>\n      <td>20,855,301</td>\n      <td>32,656.00</td>\n      <td>20,823,000</td>\n      <td>19,053,250</td>\n      <td>14.3</td>\n      <td>14.3</td>\n      <td>145,671,710</td>\n    </tr>\n    <tr>\n      <th>18</th>\n      <td>5/9/20</td>\n      <td>2,326,632</td>\n      <td>11,178.00</td>\n      <td>2,315,000</td>\n      <td>3,188,000</td>\n      <td>23,037,998</td>\n      <td>-89,800.00</td>\n      <td>23,128,000</td>\n      <td>20,817,750</td>\n      <td>15.8</td>\n      <td>15.9</td>\n      <td>145,671,710</td>\n    </tr>\n    <tr>\n      <th>19</th>\n      <td>5/16/20</td>\n      <td>2,163,595</td>\n      <td>14,281.00</td>\n      <td>2,149,000</td>\n      <td>2,674,750</td>\n      <td>19,037,741</td>\n      <td>-143,194.00</td>\n      <td>19,181,000</td>\n      <td>21,199,000</td>\n      <td>13.1</td>\n      <td>13.2</td>\n      <td>145,671,710</td>\n    </tr>\n    <tr>\n      <th>20</th>\n      <td>5/23/20</td>\n      <td>1,902,793</td>\n      <td>15,600.00</td>\n      <td>1,887,000</td>\n      <td>2,283,750</td>\n      <td>19,118,945</td>\n      <td>-276,747.00</td>\n      <td>19,396,000</td>\n      <td>20,632,000</td>\n      <td>13.1</td>\n      <td>13.3</td>\n      <td>145,671,710</td>\n    </tr>\n    <tr>\n      <th>21</th>\n      <td>5/30/20</td>\n      <td>1,611,720</td>\n      <td>6,930.00</td>\n      <td>1,605,000</td>\n      <td>1,989,000</td>\n      <td>19,119,547</td>\n      <td>-167,565.00</td>\n      <td>19,287,000</td>\n      <td>20,248,000</td>\n      <td>13.1</td>\n      <td>13.2</td>\n      <td>145,671,710</td>\n    </tr>\n    <tr>\n      <th>22</th>\n      <td>6/6/20</td>\n      <td>1,556,548</td>\n      <td>19,672.00</td>\n      <td>1,537,000</td>\n      <td>1,794,500</td>\n      <td>18,687,253</td>\n      <td>-240,032.00</td>\n      <td>18,927,000</td>\n      <td>19,197,750</td>\n      <td>12.8</td>\n      <td>13.0</td>\n      <td>145,671,710</td>\n    </tr>\n    <tr>\n      <th>23</th>\n      <td>6/13/20</td>\n      <td>1,457,102</td>\n      <td>-15,295.00</td>\n      <td>1,472,000</td>\n      <td>1,625,250</td>\n      <td>17,823,790</td>\n      <td>-169,463.00</td>\n      <td>17,993,000</td>\n      <td>18,900,750</td>\n      <td>12.2</td>\n      <td>12.4</td>\n      <td>145,671,710</td>\n    </tr>\n    <tr>\n      <th>24</th>\n      <td>6/20/20</td>\n      <td>1,447,127</td>\n      <td>-12,379.00</td>\n      <td>1,460,000</td>\n      <td>1,518,500</td>\n      <td>17,518,656</td>\n      <td>-194,748.00</td>\n      <td>17,713,000</td>\n      <td>18,480,000</td>\n      <td>12.0</td>\n      <td>12.2</td>\n      <td>145,671,710</td>\n    </tr>\n    <tr>\n      <th>25</th>\n      <td>6/27/20</td>\n      <td>1,426,894</td>\n      <td>-9,182.00</td>\n      <td>1,436,000</td>\n      <td>1,476,250</td>\n      <td>16,611,272</td>\n      <td>-168,720.00</td>\n      <td>16,780,000</td>\n      <td>17,853,250</td>\n      <td>11.4</td>\n      <td>11.5</td>\n      <td>145,671,710</td>\n    </tr>\n    <tr>\n      <th>26</th>\n      <td>7/4/20</td>\n      <td>1,391,178</td>\n      <td>-7,203.00</td>\n      <td>1,398,000</td>\n      <td>1,441,500</td>\n      <td>17,393,810</td>\n      <td>-19,466.00</td>\n      <td>17,413,000</td>\n      <td>17,474,750</td>\n      <td>11.9</td>\n      <td>11.9</td>\n      <td>146,125,989</td>\n    </tr>\n    <tr>\n      <th>27</th>\n      <td>7/11/20</td>\n      <td>1,512,549</td>\n      <td>33,998.00</td>\n      <td>1,479,000</td>\n      <td>1,443,250</td>\n      <td>16,396,735</td>\n      <td>11,798.00</td>\n      <td>16,385,000</td>\n      <td>17,072,750</td>\n      <td>11.2</td>\n      <td>11.2</td>\n      <td>146,125,989</td>\n    </tr>\n    <tr>\n      <th>28</th>\n      <td>7/18/20</td>\n      <td>1,373,239</td>\n      <td>-24,450.00</td>\n      <td>1,398,000</td>\n      <td>1,427,750</td>\n      <td>16,882,632</td>\n      <td>-30,757.00</td>\n      <td>16,913,000</td>\n      <td>16,872,750</td>\n      <td>11.6</td>\n      <td>11.6</td>\n      <td>146,125,989</td>\n    </tr>\n    <tr>\n      <th>29</th>\n      <td>7/25/20</td>\n      <td>1,202,278</td>\n      <td>-59,487.00</td>\n      <td>1,262,000</td>\n      <td>1,384,250</td>\n      <td>15,913,644</td>\n      <td>-50,509.00</td>\n      <td>15,964,000</td>\n      <td>16,668,750</td>\n      <td>10.9</td>\n      <td>10.9</td>\n      <td>146,125,989</td>\n    </tr>\n    <tr>\n      <th>30</th>\n      <td>8/1/20</td>\n      <td>983,780</td>\n      <td>-59,514.00</td>\n      <td>1,043,000</td>\n      <td>1,295,500</td>\n      <td>15,254,654</td>\n      <td>-48,205.00</td>\n      <td>15,303,000</td>\n      <td>16,141,250</td>\n      <td>10.4</td>\n      <td>10.5</td>\n      <td>146,125,989</td>\n    </tr>\n    <tr>\n      <th>31</th>\n      <td>8/8/20</td>\n      <td>831,251</td>\n      <td>-51,406.00</td>\n      <td>883,000</td>\n      <td>1,146,500</td>\n      <td>14,155,552</td>\n      <td>-61,846.00</td>\n      <td>14,217,000</td>\n      <td>15,599,250</td>\n      <td>9.7</td>\n      <td>9.7</td>\n      <td>146,125,989</td>\n    </tr>\n    <tr>\n      <th>32</th>\n      <td>8/15/20</td>\n      <td>879,545</td>\n      <td>-40,091.00</td>\n      <td>920,000</td>\n      <td>1,027,000</td>\n      <td>13,839,980</td>\n      <td>-108,392.00</td>\n      <td>13,948,000</td>\n      <td>14,858,000</td>\n      <td>9.5</td>\n      <td>9.5</td>\n      <td>146,125,989</td>\n    </tr>\n    <tr>\n      <th>33</th>\n      <td>8/22/20</td>\n      <td>814,639</td>\n      <td>-57,762.00</td>\n      <td>872,000</td>\n      <td>929,500</td>\n      <td>13,111,418</td>\n      <td>-134,767.00</td>\n      <td>13,246,000</td>\n      <td>14,178,500</td>\n      <td>9.0</td>\n      <td>9.1</td>\n      <td>146,125,989</td>\n    </tr>\n    <tr>\n      <th>34</th>\n      <td>8/29/20</td>\n      <td>827,261</td>\n      <td>-48,038.00</td>\n      <td>875,000</td>\n      <td>887,500</td>\n      <td>13,325,972</td>\n      <td>-202,238.00</td>\n      <td>13,528,000</td>\n      <td>13,734,750</td>\n      <td>9.1</td>\n      <td>9.3</td>\n      <td>146,125,989</td>\n    </tr>\n    <tr>\n      <th>35</th>\n      <td>9/5/20</td>\n      <td>857,896</td>\n      <td>-23,060.00</td>\n      <td>881,000</td>\n      <td>887,000</td>\n      <td>12,407,776</td>\n      <td>-347,719.00</td>\n      <td>12,755,000</td>\n      <td>13,369,250</td>\n      <td>8.5</td>\n      <td>8.7</td>\n      <td>146,125,989</td>\n    </tr>\n    <tr>\n      <th>36</th>\n      <td>9/12/20</td>\n      <td>785,842</td>\n      <td>-73,976.00</td>\n      <td>860,000</td>\n      <td>872,000</td>\n      <td>12,391,891</td>\n      <td>-314,168.00</td>\n      <td>12,706,000</td>\n      <td>13,058,750</td>\n      <td>8.5</td>\n      <td>8.7</td>\n      <td>146,125,989</td>\n    </tr>\n    <tr>\n      <th>37</th>\n      <td>9/19/20</td>\n      <td>815,892</td>\n      <td>-43,844.00</td>\n      <td>860,000</td>\n      <td>869,000</td>\n      <td>11,037,718</td>\n      <td>-343,009.00</td>\n      <td>11,381,000</td>\n      <td>12,592,500</td>\n      <td>7.6</td>\n      <td>7.8</td>\n      <td>146,125,989</td>\n    </tr>\n    <tr>\n      <th>38</th>\n      <td>9/26/20</td>\n      <td>732,912</td>\n      <td>-70,012.00</td>\n      <td>803,000</td>\n      <td>851,000</td>\n      <td>10,156,754</td>\n      <td>-320,659.00</td>\n      <td>10,477,000</td>\n      <td>11,829,750</td>\n      <td>7.0</td>\n      <td>7.2</td>\n      <td>146,125,989</td>\n    </tr>\n    <tr>\n      <th>39</th>\n      <td>10/3/20</td>\n      <td>723,981</td>\n      <td>-58,495.00</td>\n      <td>782,000</td>\n      <td>826,250</td>\n      <td>8,917,837</td>\n      <td>-341,414.00</td>\n      <td>9,259,000</td>\n      <td>10,955,750</td>\n      <td>6.1</td>\n      <td>6.3</td>\n      <td>146,534,375</td>\n    </tr>\n    <tr>\n      <th>40</th>\n      <td>10/10/20</td>\n      <td>822,205</td>\n      <td>-10,669.00</td>\n      <td>833,000</td>\n      <td>819,500</td>\n      <td>8,079,362</td>\n      <td>-304,926.00</td>\n      <td>8,384,000</td>\n      <td>9,875,250</td>\n      <td>5.5</td>\n      <td>5.7</td>\n      <td>146,534,375</td>\n    </tr>\n    <tr>\n      <th>41</th>\n      <td>10/17/20</td>\n      <td>759,081</td>\n      <td>-38,612.00</td>\n      <td>798,000</td>\n      <td>804,000</td>\n      <td>7,458,511</td>\n      <td>-240,069.00</td>\n      <td>7,699,000</td>\n      <td>8,954,750</td>\n      <td>5.1</td>\n      <td>5.3</td>\n      <td>146,534,375</td>\n    </tr>\n    <tr>\n      <th>42</th>\n      <td>10/24/20</td>\n      <td>732,533</td>\n      <td>-35,084.00</td>\n      <td>768,000</td>\n      <td>795,250</td>\n      <td>6,857,323</td>\n      <td>-218,676.00</td>\n      <td>7,076,000</td>\n      <td>8,104,500</td>\n      <td>4.7</td>\n      <td>4.8</td>\n      <td>146,534,375</td>\n    </tr>\n    <tr>\n      <th>43</th>\n      <td>10/31/20</td>\n      <td>737,503</td>\n      <td>-27,351.00</td>\n      <td>765,000</td>\n      <td>791,000</td>\n      <td>6,463,834</td>\n      <td>-259,840.00</td>\n      <td>6,724,000</td>\n      <td>7,470,750</td>\n      <td>4.4</td>\n      <td>4.6</td>\n      <td>146,534,375</td>\n    </tr>\n    <tr>\n      <th>44</th>\n      <td>11/7/20</td>\n      <td>720,432</td>\n      <td>-8,012.00</td>\n      <td>728,000</td>\n      <td>764,750</td>\n      <td>6,061,961</td>\n      <td>-326,729.00</td>\n      <td>6,389,000</td>\n      <td>6,972,000</td>\n      <td>4.1</td>\n      <td>4.4</td>\n      <td>146,534,375</td>\n    </tr>\n    <tr>\n      <th>45</th>\n      <td>11/14/20</td>\n      <td>709,426</td>\n      <td>-23,071.00</td>\n      <td>732,000</td>\n      <td>748,250</td>\n      <td>5,917,233</td>\n      <td>-220,584.00</td>\n      <td>6,138,000</td>\n      <td>6,581,750</td>\n      <td>4.0</td>\n      <td>4.2</td>\n      <td>146,534,375</td>\n    </tr>\n    <tr>\n      <th>46</th>\n      <td>11/21/20</td>\n      <td>828,099</td>\n      <td>65,612.00</td>\n      <td>762,000</td>\n      <td>746,750</td>\n      <td>5,233,689</td>\n      <td>-372,100.00</td>\n      <td>5,606,000</td>\n      <td>6,214,250</td>\n      <td>3.6</td>\n      <td>3.8</td>\n      <td>146,534,375</td>\n    </tr>\n    <tr>\n      <th>47</th>\n      <td>11/28/20</td>\n      <td>711,416</td>\n      <td>-7,113.00</td>\n      <td>719,000</td>\n      <td>735,250</td>\n      <td>5,790,579</td>\n      <td>-38,391.00</td>\n      <td>5,829,000</td>\n      <td>5,990,500</td>\n      <td>4.0</td>\n      <td>4.0</td>\n      <td>146,534,375</td>\n    </tr>\n    <tr>\n      <th>48</th>\n      <td>12/5/20</td>\n      <td>946,661</td>\n      <td>93,798.00</td>\n      <td>853,000</td>\n      <td>766,500</td>\n      <td>5,479,756</td>\n      <td>-134,207.00</td>\n      <td>5,614,000</td>\n      <td>5,796,750</td>\n      <td>3.7</td>\n      <td>3.8</td>\n      <td>146,534,375</td>\n    </tr>\n    <tr>\n      <th>49</th>\n      <td>12/12/20</td>\n      <td>928,634</td>\n      <td>55,637.00</td>\n      <td>873,000</td>\n      <td>801,750</td>\n      <td>5,415,945</td>\n      <td>-16,709.00</td>\n      <td>5,433,000</td>\n      <td>5,620,500</td>\n      <td>3.7</td>\n      <td>3.7</td>\n      <td>146,534,375</td>\n    </tr>\n    <tr>\n      <th>50</th>\n      <td>12/19/20</td>\n      <td>854,497</td>\n      <td>51,070.00</td>\n      <td>803,000</td>\n      <td>812,000</td>\n      <td>5,225,796</td>\n      <td>-85,549.00</td>\n      <td>5,311,000</td>\n      <td>5,546,750</td>\n      <td>3.6</td>\n      <td>3.6</td>\n      <td>146,534,375</td>\n    </tr>\n    <tr>\n      <th>51</th>\n      <td>12/26/20</td>\n      <td>823,788</td>\n      <td>61,100.00</td>\n      <td>763,000</td>\n      <td>823,000</td>\n      <td>5,362,688</td>\n      <td>182,814.00</td>\n      <td>5,180,000</td>\n      <td>5,384,500</td>\n      <td>3.7</td>\n      <td>3.5</td>\n      <td>146,534,375</td>\n    </tr>\n    <tr>\n      <th>52</th>\n      <td>&lt;NA&gt;</td>\n      <td>&lt;NA&gt;</td>\n      <td>&lt;NA&gt;</td>\n      <td>&lt;NA&gt;</td>\n      <td>&lt;NA&gt;</td>\n      <td>&lt;NA&gt;</td>\n      <td>&lt;NA&gt;</td>\n      <td>&lt;NA&gt;</td>\n      <td>&lt;NA&gt;</td>\n      <td>NaN</td>\n      <td>NaN</td>\n      <td>&lt;NA&gt;</td>\n    </tr>\n    <tr>\n      <th>53</th>\n      <td>Run Date: 4/28/2021</td>\n      <td>&lt;NA&gt;</td>\n      <td>&lt;NA&gt;</td>\n      <td>&lt;NA&gt;</td>\n      <td>&lt;NA&gt;</td>\n      <td>&lt;NA&gt;</td>\n      <td>&lt;NA&gt;</td>\n      <td>&lt;NA&gt;</td>\n      <td>&lt;NA&gt;</td>\n      <td>NaN</td>\n      <td>NaN</td>\n      <td>&lt;NA&gt;</td>\n    </tr>\n  </tbody>\n</table>\n</div>"
     },
     "metadata": {},
     "execution_count": 44
    }
   ],
   "source": [
    "ui_df.convert_dtypes(infer_objects=True, convert_integer=True)"
   ]
  },
  {
   "cell_type": "code",
   "execution_count": 45,
   "metadata": {},
   "outputs": [
    {
     "output_type": "execute_result",
     "data": {
      "text/plain": [
       "Date              object\n",
       "N.S.A             object\n",
       "S.F.              object\n",
       "S.A.              object\n",
       "S.A. 4-Week       object\n",
       "N.S.A.1           object\n",
       "S.F..1            object\n",
       "S.A..1            object\n",
       "S.A. 4-Week.1     object\n",
       "N.S.A.2          float64\n",
       "S.A..2           float64\n",
       "Unnamed: 11       object\n",
       "dtype: object"
      ]
     },
     "metadata": {},
     "execution_count": 45
    }
   ],
   "source": [
    "ui_df.dtypes"
   ]
  },
  {
   "cell_type": "code",
   "execution_count": 13,
   "metadata": {},
   "outputs": [
    {
     "output_type": "execute_result",
     "data": {
      "text/plain": [
       "        Date    N.S.A   S.F.     S.A. S.A. 4-Week    N.S.A.1 S.F..1  \\\n",
       "0 2020-01-04  335,294  159.4  210,000     218,250  2,249,369  127.4   \n",
       "1 2020-01-11  337,798  164.1  206,000     213,000  2,140,671  123.1   \n",
       "2 2020-01-18  281,558  128.4  219,000     213,250  2,080,430  121.7   \n",
       "3 2020-01-25  228,352  108.7  210,000     211,250  2,153,585  122.9   \n",
       "4 2020-02-01  224,543  109.3  205,000     210,000  2,087,362  122.9   \n",
       "\n",
       "      S.A..1 S.A. 4-Week.1  N.S.A.2  S.A..2  Unnamed: 11  Week Number  \n",
       "0  1,766,000     1,747,000      1.5     1.2  145,230,691          1.0  \n",
       "1  1,739,000     1,752,250      1.5     1.2  145,230,691          2.0  \n",
       "2  1,709,000     1,748,250      1.4     1.2  145,230,691          3.0  \n",
       "3  1,752,000     1,741,500      1.5     1.2  145,230,691          4.0  \n",
       "4  1,698,000     1,724,500      1.4     1.2  145,230,691          5.0  "
      ],
      "text/html": "<div>\n<style scoped>\n    .dataframe tbody tr th:only-of-type {\n        vertical-align: middle;\n    }\n\n    .dataframe tbody tr th {\n        vertical-align: top;\n    }\n\n    .dataframe thead th {\n        text-align: right;\n    }\n</style>\n<table border=\"1\" class=\"dataframe\">\n  <thead>\n    <tr style=\"text-align: right;\">\n      <th></th>\n      <th>Date</th>\n      <th>N.S.A</th>\n      <th>S.F.</th>\n      <th>S.A.</th>\n      <th>S.A. 4-Week</th>\n      <th>N.S.A.1</th>\n      <th>S.F..1</th>\n      <th>S.A..1</th>\n      <th>S.A. 4-Week.1</th>\n      <th>N.S.A.2</th>\n      <th>S.A..2</th>\n      <th>Unnamed: 11</th>\n      <th>Week Number</th>\n    </tr>\n  </thead>\n  <tbody>\n    <tr>\n      <th>0</th>\n      <td>2020-01-04</td>\n      <td>335,294</td>\n      <td>159.4</td>\n      <td>210,000</td>\n      <td>218,250</td>\n      <td>2,249,369</td>\n      <td>127.4</td>\n      <td>1,766,000</td>\n      <td>1,747,000</td>\n      <td>1.5</td>\n      <td>1.2</td>\n      <td>145,230,691</td>\n      <td>1.0</td>\n    </tr>\n    <tr>\n      <th>1</th>\n      <td>2020-01-11</td>\n      <td>337,798</td>\n      <td>164.1</td>\n      <td>206,000</td>\n      <td>213,000</td>\n      <td>2,140,671</td>\n      <td>123.1</td>\n      <td>1,739,000</td>\n      <td>1,752,250</td>\n      <td>1.5</td>\n      <td>1.2</td>\n      <td>145,230,691</td>\n      <td>2.0</td>\n    </tr>\n    <tr>\n      <th>2</th>\n      <td>2020-01-18</td>\n      <td>281,558</td>\n      <td>128.4</td>\n      <td>219,000</td>\n      <td>213,250</td>\n      <td>2,080,430</td>\n      <td>121.7</td>\n      <td>1,709,000</td>\n      <td>1,748,250</td>\n      <td>1.4</td>\n      <td>1.2</td>\n      <td>145,230,691</td>\n      <td>3.0</td>\n    </tr>\n    <tr>\n      <th>3</th>\n      <td>2020-01-25</td>\n      <td>228,352</td>\n      <td>108.7</td>\n      <td>210,000</td>\n      <td>211,250</td>\n      <td>2,153,585</td>\n      <td>122.9</td>\n      <td>1,752,000</td>\n      <td>1,741,500</td>\n      <td>1.5</td>\n      <td>1.2</td>\n      <td>145,230,691</td>\n      <td>4.0</td>\n    </tr>\n    <tr>\n      <th>4</th>\n      <td>2020-02-01</td>\n      <td>224,543</td>\n      <td>109.3</td>\n      <td>205,000</td>\n      <td>210,000</td>\n      <td>2,087,362</td>\n      <td>122.9</td>\n      <td>1,698,000</td>\n      <td>1,724,500</td>\n      <td>1.4</td>\n      <td>1.2</td>\n      <td>145,230,691</td>\n      <td>5.0</td>\n    </tr>\n  </tbody>\n</table>\n</div>"
     },
     "metadata": {},
     "execution_count": 13
    }
   ],
   "source": [
    "new_ui_df.head()"
   ]
  },
  {
   "cell_type": "code",
   "execution_count": 19,
   "metadata": {},
   "outputs": [
    {
     "output_type": "error",
     "ename": "TypeError",
     "evalue": "'value' must be an instance of str or bytes, not a float",
     "traceback": [
      "\u001b[0;31m---------------------------------------------------------------------------\u001b[0m",
      "\u001b[0;31mTypeError\u001b[0m                                 Traceback (most recent call last)",
      "\u001b[0;32m<ipython-input-19-c41d28488304>\u001b[0m in \u001b[0;36m<module>\u001b[0;34m\u001b[0m\n\u001b[1;32m      6\u001b[0m \u001b[0;34m\u001b[0m\u001b[0m\n\u001b[1;32m      7\u001b[0m \u001b[0max1\u001b[0m \u001b[0;34m=\u001b[0m \u001b[0mfig\u001b[0m\u001b[0;34m.\u001b[0m\u001b[0madd_subplot\u001b[0m\u001b[0;34m(\u001b[0m\u001b[0;36m211\u001b[0m\u001b[0;34m)\u001b[0m\u001b[0;34m\u001b[0m\u001b[0;34m\u001b[0m\u001b[0m\n\u001b[0;32m----> 8\u001b[0;31m \u001b[0max1\u001b[0m\u001b[0;34m.\u001b[0m\u001b[0mplot\u001b[0m\u001b[0;34m(\u001b[0m\u001b[0mx_UI\u001b[0m\u001b[0;34m,\u001b[0m \u001b[0my_UI\u001b[0m\u001b[0;34m,\u001b[0m \u001b[0mzorder\u001b[0m\u001b[0;34m=\u001b[0m\u001b[0;36m2\u001b[0m\u001b[0;34m)\u001b[0m\u001b[0;34m\u001b[0m\u001b[0;34m\u001b[0m\u001b[0m\n\u001b[0m\u001b[1;32m      9\u001b[0m \u001b[0max1\u001b[0m\u001b[0;34m.\u001b[0m\u001b[0mgrid\u001b[0m\u001b[0;34m(\u001b[0m\u001b[0malpha\u001b[0m\u001b[0;34m=\u001b[0m\u001b[0;36m0.5\u001b[0m\u001b[0;34m,\u001b[0m \u001b[0mzorder\u001b[0m\u001b[0;34m=\u001b[0m\u001b[0;36m0\u001b[0m\u001b[0;34m)\u001b[0m\u001b[0;34m\u001b[0m\u001b[0;34m\u001b[0m\u001b[0m\n\u001b[1;32m     10\u001b[0m \u001b[0max1\u001b[0m\u001b[0;34m.\u001b[0m\u001b[0mxaxis\u001b[0m\u001b[0;34m.\u001b[0m\u001b[0mset\u001b[0m\u001b[0;34m(\u001b[0m\u001b[0mticks\u001b[0m\u001b[0;34m=\u001b[0m\u001b[0mrange\u001b[0m\u001b[0;34m(\u001b[0m\u001b[0mlen\u001b[0m\u001b[0;34m(\u001b[0m\u001b[0mx\u001b[0m\u001b[0;34m)\u001b[0m\u001b[0;34m)\u001b[0m\u001b[0;34m)\u001b[0m\u001b[0;34m\u001b[0m\u001b[0;34m\u001b[0m\u001b[0m\n",
      "\u001b[0;32m~/opt/anaconda3/envs/PythonData/lib/python3.7/site-packages/matplotlib/axes/_axes.py\u001b[0m in \u001b[0;36mplot\u001b[0;34m(self, scalex, scaley, data, *args, **kwargs)\u001b[0m\n\u001b[1;32m   1741\u001b[0m         \"\"\"\n\u001b[1;32m   1742\u001b[0m         \u001b[0mkwargs\u001b[0m \u001b[0;34m=\u001b[0m \u001b[0mcbook\u001b[0m\u001b[0;34m.\u001b[0m\u001b[0mnormalize_kwargs\u001b[0m\u001b[0;34m(\u001b[0m\u001b[0mkwargs\u001b[0m\u001b[0;34m,\u001b[0m \u001b[0mmlines\u001b[0m\u001b[0;34m.\u001b[0m\u001b[0mLine2D\u001b[0m\u001b[0;34m)\u001b[0m\u001b[0;34m\u001b[0m\u001b[0;34m\u001b[0m\u001b[0m\n\u001b[0;32m-> 1743\u001b[0;31m         \u001b[0mlines\u001b[0m \u001b[0;34m=\u001b[0m \u001b[0;34m[\u001b[0m\u001b[0;34m*\u001b[0m\u001b[0mself\u001b[0m\u001b[0;34m.\u001b[0m\u001b[0m_get_lines\u001b[0m\u001b[0;34m(\u001b[0m\u001b[0;34m*\u001b[0m\u001b[0margs\u001b[0m\u001b[0;34m,\u001b[0m \u001b[0mdata\u001b[0m\u001b[0;34m=\u001b[0m\u001b[0mdata\u001b[0m\u001b[0;34m,\u001b[0m \u001b[0;34m**\u001b[0m\u001b[0mkwargs\u001b[0m\u001b[0;34m)\u001b[0m\u001b[0;34m]\u001b[0m\u001b[0;34m\u001b[0m\u001b[0;34m\u001b[0m\u001b[0m\n\u001b[0m\u001b[1;32m   1744\u001b[0m         \u001b[0;32mfor\u001b[0m \u001b[0mline\u001b[0m \u001b[0;32min\u001b[0m \u001b[0mlines\u001b[0m\u001b[0;34m:\u001b[0m\u001b[0;34m\u001b[0m\u001b[0;34m\u001b[0m\u001b[0m\n\u001b[1;32m   1745\u001b[0m             \u001b[0mself\u001b[0m\u001b[0;34m.\u001b[0m\u001b[0madd_line\u001b[0m\u001b[0;34m(\u001b[0m\u001b[0mline\u001b[0m\u001b[0;34m)\u001b[0m\u001b[0;34m\u001b[0m\u001b[0;34m\u001b[0m\u001b[0m\n",
      "\u001b[0;32m~/opt/anaconda3/envs/PythonData/lib/python3.7/site-packages/matplotlib/axes/_base.py\u001b[0m in \u001b[0;36m__call__\u001b[0;34m(self, data, *args, **kwargs)\u001b[0m\n\u001b[1;32m    271\u001b[0m                 \u001b[0mthis\u001b[0m \u001b[0;34m+=\u001b[0m \u001b[0margs\u001b[0m\u001b[0;34m[\u001b[0m\u001b[0;36m0\u001b[0m\u001b[0;34m]\u001b[0m\u001b[0;34m,\u001b[0m\u001b[0;34m\u001b[0m\u001b[0;34m\u001b[0m\u001b[0m\n\u001b[1;32m    272\u001b[0m                 \u001b[0margs\u001b[0m \u001b[0;34m=\u001b[0m \u001b[0margs\u001b[0m\u001b[0;34m[\u001b[0m\u001b[0;36m1\u001b[0m\u001b[0;34m:\u001b[0m\u001b[0;34m]\u001b[0m\u001b[0;34m\u001b[0m\u001b[0;34m\u001b[0m\u001b[0m\n\u001b[0;32m--> 273\u001b[0;31m             \u001b[0;32myield\u001b[0m \u001b[0;32mfrom\u001b[0m \u001b[0mself\u001b[0m\u001b[0;34m.\u001b[0m\u001b[0m_plot_args\u001b[0m\u001b[0;34m(\u001b[0m\u001b[0mthis\u001b[0m\u001b[0;34m,\u001b[0m \u001b[0mkwargs\u001b[0m\u001b[0;34m)\u001b[0m\u001b[0;34m\u001b[0m\u001b[0;34m\u001b[0m\u001b[0m\n\u001b[0m\u001b[1;32m    274\u001b[0m \u001b[0;34m\u001b[0m\u001b[0m\n\u001b[1;32m    275\u001b[0m     \u001b[0;32mdef\u001b[0m \u001b[0mget_next_color\u001b[0m\u001b[0;34m(\u001b[0m\u001b[0mself\u001b[0m\u001b[0;34m)\u001b[0m\u001b[0;34m:\u001b[0m\u001b[0;34m\u001b[0m\u001b[0;34m\u001b[0m\u001b[0m\n",
      "\u001b[0;32m~/opt/anaconda3/envs/PythonData/lib/python3.7/site-packages/matplotlib/axes/_base.py\u001b[0m in \u001b[0;36m_plot_args\u001b[0;34m(self, tup, kwargs)\u001b[0m\n\u001b[1;32m    394\u001b[0m             \u001b[0mself\u001b[0m\u001b[0;34m.\u001b[0m\u001b[0maxes\u001b[0m\u001b[0;34m.\u001b[0m\u001b[0mxaxis\u001b[0m\u001b[0;34m.\u001b[0m\u001b[0mupdate_units\u001b[0m\u001b[0;34m(\u001b[0m\u001b[0mx\u001b[0m\u001b[0;34m)\u001b[0m\u001b[0;34m\u001b[0m\u001b[0;34m\u001b[0m\u001b[0m\n\u001b[1;32m    395\u001b[0m         \u001b[0;32mif\u001b[0m \u001b[0mself\u001b[0m\u001b[0;34m.\u001b[0m\u001b[0maxes\u001b[0m\u001b[0;34m.\u001b[0m\u001b[0myaxis\u001b[0m \u001b[0;32mis\u001b[0m \u001b[0;32mnot\u001b[0m \u001b[0;32mNone\u001b[0m\u001b[0;34m:\u001b[0m\u001b[0;34m\u001b[0m\u001b[0;34m\u001b[0m\u001b[0m\n\u001b[0;32m--> 396\u001b[0;31m             \u001b[0mself\u001b[0m\u001b[0;34m.\u001b[0m\u001b[0maxes\u001b[0m\u001b[0;34m.\u001b[0m\u001b[0myaxis\u001b[0m\u001b[0;34m.\u001b[0m\u001b[0mupdate_units\u001b[0m\u001b[0;34m(\u001b[0m\u001b[0my\u001b[0m\u001b[0;34m)\u001b[0m\u001b[0;34m\u001b[0m\u001b[0;34m\u001b[0m\u001b[0m\n\u001b[0m\u001b[1;32m    397\u001b[0m \u001b[0;34m\u001b[0m\u001b[0m\n\u001b[1;32m    398\u001b[0m         \u001b[0;32mif\u001b[0m \u001b[0mx\u001b[0m\u001b[0;34m.\u001b[0m\u001b[0mshape\u001b[0m\u001b[0;34m[\u001b[0m\u001b[0;36m0\u001b[0m\u001b[0;34m]\u001b[0m \u001b[0;34m!=\u001b[0m \u001b[0my\u001b[0m\u001b[0;34m.\u001b[0m\u001b[0mshape\u001b[0m\u001b[0;34m[\u001b[0m\u001b[0;36m0\u001b[0m\u001b[0;34m]\u001b[0m\u001b[0;34m:\u001b[0m\u001b[0;34m\u001b[0m\u001b[0;34m\u001b[0m\u001b[0m\n",
      "\u001b[0;32m~/opt/anaconda3/envs/PythonData/lib/python3.7/site-packages/matplotlib/axis.py\u001b[0m in \u001b[0;36mupdate_units\u001b[0;34m(self, data)\u001b[0m\n\u001b[1;32m   1461\u001b[0m         \u001b[0mneednew\u001b[0m \u001b[0;34m=\u001b[0m \u001b[0mself\u001b[0m\u001b[0;34m.\u001b[0m\u001b[0mconverter\u001b[0m \u001b[0;34m!=\u001b[0m \u001b[0mconverter\u001b[0m\u001b[0;34m\u001b[0m\u001b[0;34m\u001b[0m\u001b[0m\n\u001b[1;32m   1462\u001b[0m         \u001b[0mself\u001b[0m\u001b[0;34m.\u001b[0m\u001b[0mconverter\u001b[0m \u001b[0;34m=\u001b[0m \u001b[0mconverter\u001b[0m\u001b[0;34m\u001b[0m\u001b[0;34m\u001b[0m\u001b[0m\n\u001b[0;32m-> 1463\u001b[0;31m         \u001b[0mdefault\u001b[0m \u001b[0;34m=\u001b[0m \u001b[0mself\u001b[0m\u001b[0;34m.\u001b[0m\u001b[0mconverter\u001b[0m\u001b[0;34m.\u001b[0m\u001b[0mdefault_units\u001b[0m\u001b[0;34m(\u001b[0m\u001b[0mdata\u001b[0m\u001b[0;34m,\u001b[0m \u001b[0mself\u001b[0m\u001b[0;34m)\u001b[0m\u001b[0;34m\u001b[0m\u001b[0;34m\u001b[0m\u001b[0m\n\u001b[0m\u001b[1;32m   1464\u001b[0m         \u001b[0;32mif\u001b[0m \u001b[0mdefault\u001b[0m \u001b[0;32mis\u001b[0m \u001b[0;32mnot\u001b[0m \u001b[0;32mNone\u001b[0m \u001b[0;32mand\u001b[0m \u001b[0mself\u001b[0m\u001b[0;34m.\u001b[0m\u001b[0munits\u001b[0m \u001b[0;32mis\u001b[0m \u001b[0;32mNone\u001b[0m\u001b[0;34m:\u001b[0m\u001b[0;34m\u001b[0m\u001b[0;34m\u001b[0m\u001b[0m\n\u001b[1;32m   1465\u001b[0m             \u001b[0mself\u001b[0m\u001b[0;34m.\u001b[0m\u001b[0mset_units\u001b[0m\u001b[0;34m(\u001b[0m\u001b[0mdefault\u001b[0m\u001b[0;34m)\u001b[0m\u001b[0;34m\u001b[0m\u001b[0;34m\u001b[0m\u001b[0m\n",
      "\u001b[0;32m~/opt/anaconda3/envs/PythonData/lib/python3.7/site-packages/matplotlib/category.py\u001b[0m in \u001b[0;36mdefault_units\u001b[0;34m(data, axis)\u001b[0m\n\u001b[1;32m    105\u001b[0m         \u001b[0;31m# the conversion call stack is default_units -> axis_info -> convert\u001b[0m\u001b[0;34m\u001b[0m\u001b[0;34m\u001b[0m\u001b[0;34m\u001b[0m\u001b[0m\n\u001b[1;32m    106\u001b[0m         \u001b[0;32mif\u001b[0m \u001b[0maxis\u001b[0m\u001b[0;34m.\u001b[0m\u001b[0munits\u001b[0m \u001b[0;32mis\u001b[0m \u001b[0;32mNone\u001b[0m\u001b[0;34m:\u001b[0m\u001b[0;34m\u001b[0m\u001b[0;34m\u001b[0m\u001b[0m\n\u001b[0;32m--> 107\u001b[0;31m             \u001b[0maxis\u001b[0m\u001b[0;34m.\u001b[0m\u001b[0mset_units\u001b[0m\u001b[0;34m(\u001b[0m\u001b[0mUnitData\u001b[0m\u001b[0;34m(\u001b[0m\u001b[0mdata\u001b[0m\u001b[0;34m)\u001b[0m\u001b[0;34m)\u001b[0m\u001b[0;34m\u001b[0m\u001b[0;34m\u001b[0m\u001b[0m\n\u001b[0m\u001b[1;32m    108\u001b[0m         \u001b[0;32melse\u001b[0m\u001b[0;34m:\u001b[0m\u001b[0;34m\u001b[0m\u001b[0;34m\u001b[0m\u001b[0m\n\u001b[1;32m    109\u001b[0m             \u001b[0maxis\u001b[0m\u001b[0;34m.\u001b[0m\u001b[0munits\u001b[0m\u001b[0;34m.\u001b[0m\u001b[0mupdate\u001b[0m\u001b[0;34m(\u001b[0m\u001b[0mdata\u001b[0m\u001b[0;34m)\u001b[0m\u001b[0;34m\u001b[0m\u001b[0;34m\u001b[0m\u001b[0m\n",
      "\u001b[0;32m~/opt/anaconda3/envs/PythonData/lib/python3.7/site-packages/matplotlib/category.py\u001b[0m in \u001b[0;36m__init__\u001b[0;34m(self, data)\u001b[0m\n\u001b[1;32m    174\u001b[0m         \u001b[0mself\u001b[0m\u001b[0;34m.\u001b[0m\u001b[0m_counter\u001b[0m \u001b[0;34m=\u001b[0m \u001b[0mitertools\u001b[0m\u001b[0;34m.\u001b[0m\u001b[0mcount\u001b[0m\u001b[0;34m(\u001b[0m\u001b[0;34m)\u001b[0m\u001b[0;34m\u001b[0m\u001b[0;34m\u001b[0m\u001b[0m\n\u001b[1;32m    175\u001b[0m         \u001b[0;32mif\u001b[0m \u001b[0mdata\u001b[0m \u001b[0;32mis\u001b[0m \u001b[0;32mnot\u001b[0m \u001b[0;32mNone\u001b[0m\u001b[0;34m:\u001b[0m\u001b[0;34m\u001b[0m\u001b[0;34m\u001b[0m\u001b[0m\n\u001b[0;32m--> 176\u001b[0;31m             \u001b[0mself\u001b[0m\u001b[0;34m.\u001b[0m\u001b[0mupdate\u001b[0m\u001b[0;34m(\u001b[0m\u001b[0mdata\u001b[0m\u001b[0;34m)\u001b[0m\u001b[0;34m\u001b[0m\u001b[0;34m\u001b[0m\u001b[0m\n\u001b[0m\u001b[1;32m    177\u001b[0m \u001b[0;34m\u001b[0m\u001b[0m\n\u001b[1;32m    178\u001b[0m     \u001b[0;34m@\u001b[0m\u001b[0mstaticmethod\u001b[0m\u001b[0;34m\u001b[0m\u001b[0;34m\u001b[0m\u001b[0m\n",
      "\u001b[0;32m~/opt/anaconda3/envs/PythonData/lib/python3.7/site-packages/matplotlib/category.py\u001b[0m in \u001b[0;36mupdate\u001b[0;34m(self, data)\u001b[0m\n\u001b[1;32m    209\u001b[0m         \u001b[0;32mfor\u001b[0m \u001b[0mval\u001b[0m \u001b[0;32min\u001b[0m \u001b[0mOrderedDict\u001b[0m\u001b[0;34m.\u001b[0m\u001b[0mfromkeys\u001b[0m\u001b[0;34m(\u001b[0m\u001b[0mdata\u001b[0m\u001b[0;34m)\u001b[0m\u001b[0;34m:\u001b[0m\u001b[0;34m\u001b[0m\u001b[0;34m\u001b[0m\u001b[0m\n\u001b[1;32m    210\u001b[0m             \u001b[0;31m# OrderedDict just iterates over unique values in data.\u001b[0m\u001b[0;34m\u001b[0m\u001b[0;34m\u001b[0m\u001b[0;34m\u001b[0m\u001b[0m\n\u001b[0;32m--> 211\u001b[0;31m             \u001b[0mcbook\u001b[0m\u001b[0;34m.\u001b[0m\u001b[0m_check_isinstance\u001b[0m\u001b[0;34m(\u001b[0m\u001b[0;34m(\u001b[0m\u001b[0mstr\u001b[0m\u001b[0;34m,\u001b[0m \u001b[0mbytes\u001b[0m\u001b[0;34m)\u001b[0m\u001b[0;34m,\u001b[0m \u001b[0mvalue\u001b[0m\u001b[0;34m=\u001b[0m\u001b[0mval\u001b[0m\u001b[0;34m)\u001b[0m\u001b[0;34m\u001b[0m\u001b[0;34m\u001b[0m\u001b[0m\n\u001b[0m\u001b[1;32m    212\u001b[0m             \u001b[0;32mif\u001b[0m \u001b[0mconvertible\u001b[0m\u001b[0;34m:\u001b[0m\u001b[0;34m\u001b[0m\u001b[0;34m\u001b[0m\u001b[0m\n\u001b[1;32m    213\u001b[0m                 \u001b[0;31m# this will only be called so long as convertible is True.\u001b[0m\u001b[0;34m\u001b[0m\u001b[0;34m\u001b[0m\u001b[0;34m\u001b[0m\u001b[0m\n",
      "\u001b[0;32m~/opt/anaconda3/envs/PythonData/lib/python3.7/site-packages/matplotlib/cbook/__init__.py\u001b[0m in \u001b[0;36m_check_isinstance\u001b[0;34m(_types, **kwargs)\u001b[0m\n\u001b[1;32m   2249\u001b[0m                     \u001b[0;34m\", \"\u001b[0m\u001b[0;34m.\u001b[0m\u001b[0mjoin\u001b[0m\u001b[0;34m(\u001b[0m\u001b[0mnames\u001b[0m\u001b[0;34m[\u001b[0m\u001b[0;34m:\u001b[0m\u001b[0;34m-\u001b[0m\u001b[0;36m1\u001b[0m\u001b[0;34m]\u001b[0m\u001b[0;34m)\u001b[0m \u001b[0;34m+\u001b[0m \u001b[0;34m\" or \"\u001b[0m \u001b[0;34m+\u001b[0m \u001b[0mnames\u001b[0m\u001b[0;34m[\u001b[0m\u001b[0;34m-\u001b[0m\u001b[0;36m1\u001b[0m\u001b[0;34m]\u001b[0m\u001b[0;34m\u001b[0m\u001b[0;34m\u001b[0m\u001b[0m\n\u001b[1;32m   2250\u001b[0m                     \u001b[0;32mif\u001b[0m \u001b[0mlen\u001b[0m\u001b[0;34m(\u001b[0m\u001b[0mnames\u001b[0m\u001b[0;34m)\u001b[0m \u001b[0;34m>\u001b[0m \u001b[0;36m1\u001b[0m \u001b[0;32melse\u001b[0m \u001b[0mnames\u001b[0m\u001b[0;34m[\u001b[0m\u001b[0;36m0\u001b[0m\u001b[0;34m]\u001b[0m\u001b[0;34m,\u001b[0m\u001b[0;34m\u001b[0m\u001b[0;34m\u001b[0m\u001b[0m\n\u001b[0;32m-> 2251\u001b[0;31m                     type_name(type(v))))\n\u001b[0m\u001b[1;32m   2252\u001b[0m \u001b[0;34m\u001b[0m\u001b[0m\n\u001b[1;32m   2253\u001b[0m \u001b[0;34m\u001b[0m\u001b[0m\n",
      "\u001b[0;31mTypeError\u001b[0m: 'value' must be an instance of str or bytes, not a float"
     ]
    }
   ],
   "source": [
    "x_UI= new_ui_df[\"Week Number\"].tolist()\n",
    "y_UI= new_ui_df['N.S.A']\n",
    "\n",
    "fig = plt.figure()\n",
    "fig.add_axes()\n",
    "\n",
    "ax1 = fig.add_subplot(211)\n",
    "ax1.plot(x_UI, y_UI, zorder=2)\n",
    "ax1.grid(alpha=0.5, zorder=0)\n",
    "ax1.xaxis.set(ticks=range(len(x)))\n",
    "# ax1.setxticklabels(jan_x, rotation=90)\n",
    "ax1.tick_params(axis='y', direction='inout', length=10)\n",
    "ax1.tick_params(axis='x', direction='inout', length=10)\n",
    "ax1.set(title=\"Weekly Unemployment Insurance Claims in 2020\")\n",
    "# ax1.set_xlabel('Genre', fontsize=14)\n",
    "ax1.set_ylabel('Number of Claims', fontsize=14)\n",
    "\n",
    "plt.gcf().set_size_inches(25,10)\n",
    "plt.show()"
   ]
  },
  {
   "cell_type": "code",
   "execution_count": null,
   "metadata": {},
   "outputs": [],
   "source": []
  }
 ]
}