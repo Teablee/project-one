{
 "metadata": {
  "language_info": {
   "codemirror_mode": {
    "name": "ipython",
    "version": 3
   },
   "file_extension": ".py",
   "mimetype": "text/x-python",
   "name": "python",
   "nbconvert_exporter": "python",
   "pygments_lexer": "ipython3",
   "version": "3.8.5"
  },
  "orig_nbformat": 2,
  "kernelspec": {
   "name": "python385jvsc74a57bd08db30581eada7fc949e663d6eb5b9fbb6fa0d3e0e859dcefca3786a9362448d9",
   "display_name": "Python 3.8.5 64-bit ('PythonData': conda)"
  }
 },
 "nbformat": 4,
 "nbformat_minor": 2,
 "cells": [
  {
   "cell_type": "code",
   "execution_count": 10,
   "metadata": {},
   "outputs": [],
   "source": [
    "# Import dependencies\n",
    "import matplotlib.pyplot as plt\n",
    "import pandas as pd\n",
    "import numpy as np\n",
    "import glob\n",
    "import datetime"
   ]
  },
  {
   "cell_type": "code",
   "execution_count": 11,
   "metadata": {},
   "outputs": [
    {
     "output_type": "execute_result",
     "data": {
      "text/plain": [
       "    Position                                         Track Name  \\\n",
       "0          1                                            The Box   \n",
       "1          2  All I Want - From \"High School Musical: The Mu...   \n",
       "2          3                                    Blueberry Fergo   \n",
       "3          4                                  GOODMORNINGTOKYO!   \n",
       "4          5                                             Kraazy   \n",
       "..       ...                                                ...   \n",
       "45        46                                             Maniac   \n",
       "46        47                         Ballin' (with Roddy Ricch)   \n",
       "47        48                                            The Mop   \n",
       "48        49                              Y U Gotta B Like That   \n",
       "49        50                                            Glitter   \n",
       "\n",
       "             Artist                                                URL  \\\n",
       "0       Roddy Ricch  https://open.spotify.com/track/0nbXyq5TXYPCO7p...   \n",
       "1    Olivia Rodrigo  https://open.spotify.com/track/4Yxc55NX3tAXC2m...   \n",
       "2         Lil Monet  https://open.spotify.com/track/6CrMU5zXlKNGsip...   \n",
       "3   TOKYO’S REVENGE  https://open.spotify.com/track/0Q2n5yzl2XRqYbV...   \n",
       "4            Likybo  https://open.spotify.com/track/3s2Qd1rsWqbvOox...   \n",
       "..              ...                                                ...   \n",
       "45       Conan Gray  https://open.spotify.com/track/7hpJ9tATWb2vztl...   \n",
       "46          Mustard  https://open.spotify.com/track/3QzAOrNlsabgbMw...   \n",
       "47       TisaKorean  https://open.spotify.com/track/3osCREknZZMgitJ...   \n",
       "48      Audrey Mika  https://open.spotify.com/track/45StvejYUdIsyUw...   \n",
       "49            BENEE  https://open.spotify.com/track/23TPP1eeElFfvYV...   \n",
       "\n",
       "                                      Filename    Month  Week Number  \\\n",
       "0   viral-us-weekly-2020-01-09--2020-01-09.csv  January            2   \n",
       "1   viral-us-weekly-2020-01-09--2020-01-09.csv  January            2   \n",
       "2   viral-us-weekly-2020-01-09--2020-01-09.csv  January            2   \n",
       "3   viral-us-weekly-2020-01-09--2020-01-09.csv  January            2   \n",
       "4   viral-us-weekly-2020-01-09--2020-01-09.csv  January            2   \n",
       "..                                         ...      ...          ...   \n",
       "45  viral-us-weekly-2020-01-16--2020-01-16.csv  January            3   \n",
       "46  viral-us-weekly-2020-01-16--2020-01-16.csv  January            3   \n",
       "47  viral-us-weekly-2020-01-16--2020-01-16.csv  January            3   \n",
       "48  viral-us-weekly-2020-01-16--2020-01-16.csv  January            3   \n",
       "49  viral-us-weekly-2020-01-16--2020-01-16.csv  January            3   \n",
       "\n",
       "        Type       Date  \n",
       "0   Viral 50 2020-01-09  \n",
       "1   Viral 50 2020-01-09  \n",
       "2   Viral 50 2020-01-09  \n",
       "3   Viral 50 2020-01-09  \n",
       "4   Viral 50 2020-01-09  \n",
       "..       ...        ...  \n",
       "45  Viral 50 2020-01-16  \n",
       "46  Viral 50 2020-01-16  \n",
       "47  Viral 50 2020-01-16  \n",
       "48  Viral 50 2020-01-16  \n",
       "49  Viral 50 2020-01-16  \n",
       "\n",
       "[200 rows x 9 columns]"
      ],
      "text/html": "<div>\n<style scoped>\n    .dataframe tbody tr th:only-of-type {\n        vertical-align: middle;\n    }\n\n    .dataframe tbody tr th {\n        vertical-align: top;\n    }\n\n    .dataframe thead th {\n        text-align: right;\n    }\n</style>\n<table border=\"1\" class=\"dataframe\">\n  <thead>\n    <tr style=\"text-align: right;\">\n      <th></th>\n      <th>Position</th>\n      <th>Track Name</th>\n      <th>Artist</th>\n      <th>URL</th>\n      <th>Filename</th>\n      <th>Month</th>\n      <th>Week Number</th>\n      <th>Type</th>\n      <th>Date</th>\n    </tr>\n  </thead>\n  <tbody>\n    <tr>\n      <th>0</th>\n      <td>1</td>\n      <td>The Box</td>\n      <td>Roddy Ricch</td>\n      <td>https://open.spotify.com/track/0nbXyq5TXYPCO7p...</td>\n      <td>viral-us-weekly-2020-01-09--2020-01-09.csv</td>\n      <td>January</td>\n      <td>2</td>\n      <td>Viral 50</td>\n      <td>2020-01-09</td>\n    </tr>\n    <tr>\n      <th>1</th>\n      <td>2</td>\n      <td>All I Want - From \"High School Musical: The Mu...</td>\n      <td>Olivia Rodrigo</td>\n      <td>https://open.spotify.com/track/4Yxc55NX3tAXC2m...</td>\n      <td>viral-us-weekly-2020-01-09--2020-01-09.csv</td>\n      <td>January</td>\n      <td>2</td>\n      <td>Viral 50</td>\n      <td>2020-01-09</td>\n    </tr>\n    <tr>\n      <th>2</th>\n      <td>3</td>\n      <td>Blueberry Fergo</td>\n      <td>Lil Monet</td>\n      <td>https://open.spotify.com/track/6CrMU5zXlKNGsip...</td>\n      <td>viral-us-weekly-2020-01-09--2020-01-09.csv</td>\n      <td>January</td>\n      <td>2</td>\n      <td>Viral 50</td>\n      <td>2020-01-09</td>\n    </tr>\n    <tr>\n      <th>3</th>\n      <td>4</td>\n      <td>GOODMORNINGTOKYO!</td>\n      <td>TOKYO’S REVENGE</td>\n      <td>https://open.spotify.com/track/0Q2n5yzl2XRqYbV...</td>\n      <td>viral-us-weekly-2020-01-09--2020-01-09.csv</td>\n      <td>January</td>\n      <td>2</td>\n      <td>Viral 50</td>\n      <td>2020-01-09</td>\n    </tr>\n    <tr>\n      <th>4</th>\n      <td>5</td>\n      <td>Kraazy</td>\n      <td>Likybo</td>\n      <td>https://open.spotify.com/track/3s2Qd1rsWqbvOox...</td>\n      <td>viral-us-weekly-2020-01-09--2020-01-09.csv</td>\n      <td>January</td>\n      <td>2</td>\n      <td>Viral 50</td>\n      <td>2020-01-09</td>\n    </tr>\n    <tr>\n      <th>...</th>\n      <td>...</td>\n      <td>...</td>\n      <td>...</td>\n      <td>...</td>\n      <td>...</td>\n      <td>...</td>\n      <td>...</td>\n      <td>...</td>\n      <td>...</td>\n    </tr>\n    <tr>\n      <th>45</th>\n      <td>46</td>\n      <td>Maniac</td>\n      <td>Conan Gray</td>\n      <td>https://open.spotify.com/track/7hpJ9tATWb2vztl...</td>\n      <td>viral-us-weekly-2020-01-16--2020-01-16.csv</td>\n      <td>January</td>\n      <td>3</td>\n      <td>Viral 50</td>\n      <td>2020-01-16</td>\n    </tr>\n    <tr>\n      <th>46</th>\n      <td>47</td>\n      <td>Ballin' (with Roddy Ricch)</td>\n      <td>Mustard</td>\n      <td>https://open.spotify.com/track/3QzAOrNlsabgbMw...</td>\n      <td>viral-us-weekly-2020-01-16--2020-01-16.csv</td>\n      <td>January</td>\n      <td>3</td>\n      <td>Viral 50</td>\n      <td>2020-01-16</td>\n    </tr>\n    <tr>\n      <th>47</th>\n      <td>48</td>\n      <td>The Mop</td>\n      <td>TisaKorean</td>\n      <td>https://open.spotify.com/track/3osCREknZZMgitJ...</td>\n      <td>viral-us-weekly-2020-01-16--2020-01-16.csv</td>\n      <td>January</td>\n      <td>3</td>\n      <td>Viral 50</td>\n      <td>2020-01-16</td>\n    </tr>\n    <tr>\n      <th>48</th>\n      <td>49</td>\n      <td>Y U Gotta B Like That</td>\n      <td>Audrey Mika</td>\n      <td>https://open.spotify.com/track/45StvejYUdIsyUw...</td>\n      <td>viral-us-weekly-2020-01-16--2020-01-16.csv</td>\n      <td>January</td>\n      <td>3</td>\n      <td>Viral 50</td>\n      <td>2020-01-16</td>\n    </tr>\n    <tr>\n      <th>49</th>\n      <td>50</td>\n      <td>Glitter</td>\n      <td>BENEE</td>\n      <td>https://open.spotify.com/track/23TPP1eeElFfvYV...</td>\n      <td>viral-us-weekly-2020-01-16--2020-01-16.csv</td>\n      <td>January</td>\n      <td>3</td>\n      <td>Viral 50</td>\n      <td>2020-01-16</td>\n    </tr>\n  </tbody>\n</table>\n<p>200 rows × 9 columns</p>\n</div>"
     },
     "metadata": {},
     "execution_count": 11
    }
   ],
   "source": [
    "# merge viral 50 for January\n",
    "files = glob.glob('/Users/amber/Desktop/GitHub/project-one/Data/viral_50/jan/*.csv')\n",
    "jan_viral_50 = pd.concat([pd.read_csv(fp).assign(Filename=os.path.basename(fp)) for fp in files])\n",
    "\n",
    "\n",
    "jan_viral_50['Month']=''\n",
    "jan_viral_50['Week Number']=''\n",
    "jan_viral_50['Type']=''\n",
    "\n",
    "# Extract Date from Filename using slice\n",
    "jan_viral_50['Date'] = jan_viral_50['Filename'].str.slice(16,26)\n",
    "\n",
    "# Convert to datetime\n",
    "jan_viral_50['Date'] = pd.to_datetime(jan_viral_50['Date'])\n",
    "\n",
    "# Get Week Number from Date\n",
    "jan_viral_50['Week Number'] = jan_viral_50['Date'].dt.isocalendar().week\n",
    "\n",
    "for index, row in jan_viral_50.iterrows():\n",
    "    jan_viral_50.loc[index, 'Month'] = 'January'\n",
    "    jan_viral_50.loc[index, 'Type'] = 'Viral 50'\n",
    "\n",
    "jan_viral_50.to_csv('/Users/amber/Desktop/GitHub/project-one/Data/viral_50/jan/jan_viral_50.csv')\n",
    "\n",
    "jan_viral_50"
   ]
  },
  {
   "cell_type": "code",
   "execution_count": null,
   "metadata": {},
   "outputs": [],
   "source": [
    "# top 200 slicing is (19,29)"
   ]
  }
 ]
}