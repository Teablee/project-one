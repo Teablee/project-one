{
 "metadata": {
  "language_info": {
   "codemirror_mode": {
    "name": "ipython",
    "version": 3
   },
   "file_extension": ".py",
   "mimetype": "text/x-python",
   "name": "python",
   "nbconvert_exporter": "python",
   "pygments_lexer": "ipython3",
   "version": "3.7.9-final"
  },
  "orig_nbformat": 2,
  "kernelspec": {
   "name": "python3",
   "display_name": "Python 3.7.9 64-bit ('PythonData': conda)",
   "metadata": {
    "interpreter": {
     "hash": "e3896c66a75c41725fea970d0c2a2982cf91def990c8dcb709e7b9c0cc3a398d"
    }
   }
  }
 },
 "nbformat": 4,
 "nbformat_minor": 2,
 "cells": [
  {
   "cell_type": "code",
   "execution_count": 3,
   "metadata": {},
   "outputs": [],
   "source": [
    "import matplotlib.pyplot as plt\n",
    "import matplotlib\n",
    "import pandas as pd\n",
    "import numpy as np\n",
    "import time"
   ]
  },
  {
   "cell_type": "code",
   "execution_count": 4,
   "metadata": {},
   "outputs": [],
   "source": [
    "viral_all = pd.read_csv('viral_all.csv')"
   ]
  },
  {
   "cell_type": "code",
   "execution_count": 5,
   "metadata": {},
   "outputs": [
    {
     "output_type": "execute_result",
     "data": {
      "text/plain": [
       "     Unnamed: 0  Position                            Track Name  \\\n",
       "400         400         1                                50//50   \n",
       "401         401         2  ily (i love you baby) (feat. Emilee)   \n",
       "402         402         3                         Con Tus Besos   \n",
       "403         403         4                                   LMK   \n",
       "404         404         5                                  Yoga   \n",
       "..          ...       ...                                   ...   \n",
       "595         595        46                          Break Things   \n",
       "596         596        47                              Skechers   \n",
       "597         597        48                          Disingenuous   \n",
       "598         598        49                           Sunday Best   \n",
       "599         599        50                           Breaking Me   \n",
       "\n",
       "             Artist                                                URL  \\\n",
       "400         Vantage  https://open.spotify.com/track/36lNDeaRf8F8aYa...   \n",
       "401       Surf Mesa  https://open.spotify.com/track/62aP9fBQKYKxi7P...   \n",
       "402  Eslabon Armado  https://open.spotify.com/track/6WYB1odDfMPVMyp...   \n",
       "403        Lil Xxel  https://open.spotify.com/track/0efL46uAuNEfukX...   \n",
       "404           645AR  https://open.spotify.com/track/2DiybJZJGXyV1UY...   \n",
       "..              ...                                                ...   \n",
       "595    Kylie Morgan  https://open.spotify.com/track/45hbxz8xCxQfa9v...   \n",
       "596      DripReport  https://open.spotify.com/track/2alc8VZAzDgdAsL...   \n",
       "597          Flight  https://open.spotify.com/track/77N3t8CNrUQV2f2...   \n",
       "598        Surfaces  https://open.spotify.com/track/1Cv1YLb4q0RzL6p...   \n",
       "599           Topic  https://open.spotify.com/track/3H7ihDc1dqLriiW...   \n",
       "\n",
       "                                       Filename Month  Week Number      Type  \\\n",
       "400  viral-us-weekly-2020-05-07--2020-05-07.csv   May           19  Viral 50   \n",
       "401  viral-us-weekly-2020-05-07--2020-05-07.csv   May           19  Viral 50   \n",
       "402  viral-us-weekly-2020-05-07--2020-05-07.csv   May           19  Viral 50   \n",
       "403  viral-us-weekly-2020-05-07--2020-05-07.csv   May           19  Viral 50   \n",
       "404  viral-us-weekly-2020-05-07--2020-05-07.csv   May           19  Viral 50   \n",
       "..                                          ...   ...          ...       ...   \n",
       "595  viral-us-weekly-2020-05-28--2020-05-28.csv   May           22  Viral 50   \n",
       "596  viral-us-weekly-2020-05-28--2020-05-28.csv   May           22  Viral 50   \n",
       "597  viral-us-weekly-2020-05-28--2020-05-28.csv   May           22  Viral 50   \n",
       "598  viral-us-weekly-2020-05-28--2020-05-28.csv   May           22  Viral 50   \n",
       "599  viral-us-weekly-2020-05-28--2020-05-28.csv   May           22  Viral 50   \n",
       "\n",
       "           Date               Artist ID               Genre 1  \\\n",
       "400  2020-05-07  6owH8F2INpb18PhnISiVh2           future funk   \n",
       "401  2020-05-07  1lmU3giNF3CSbkVSQmLpHQ        tropical house   \n",
       "402  2020-05-07  0XeEobZplHxzM9QzFQWLiR     corridos tumbados   \n",
       "403  2020-05-07  7iDeMFJKjI1ak40N3hoYOZ               pop r&b   \n",
       "404  2020-05-07  3Iv3mOsjFV8vZkXphpQ8hz           unspecified   \n",
       "..          ...                     ...                   ...   \n",
       "595  2020-05-28  3g2yaL04Uapb5fxmwsUZgV  contemporary country   \n",
       "596  2020-05-28  3O5HD95HTEPgoPFOjAb7yV             viral rap   \n",
       "597  2020-05-28  5e4gmiVV4XkRfnXhqRBEOk       texas latin rap   \n",
       "598  2020-05-28  4ETSs924pXMzjIeD6E9b4u          bedroom soul   \n",
       "599  2020-05-28  0u6GtibW46tFX7koQ6uNJZ             dance pop   \n",
       "\n",
       "                     Genre 2       Genre 3  \n",
       "400                      NaN           NaN  \n",
       "401                      NaN           NaN  \n",
       "402  nuevo regional mexicano      sierreno  \n",
       "403                      NaN           NaN  \n",
       "404                      NaN           NaN  \n",
       "..                       ...           ...  \n",
       "595              country pop           NaN  \n",
       "596                      NaN           NaN  \n",
       "597                      NaN           NaN  \n",
       "598                      pop           NaN  \n",
       "599                      edm  german dance  \n",
       "\n",
       "[200 rows x 14 columns]"
      ],
      "text/html": "<div>\n<style scoped>\n    .dataframe tbody tr th:only-of-type {\n        vertical-align: middle;\n    }\n\n    .dataframe tbody tr th {\n        vertical-align: top;\n    }\n\n    .dataframe thead th {\n        text-align: right;\n    }\n</style>\n<table border=\"1\" class=\"dataframe\">\n  <thead>\n    <tr style=\"text-align: right;\">\n      <th></th>\n      <th>Unnamed: 0</th>\n      <th>Position</th>\n      <th>Track Name</th>\n      <th>Artist</th>\n      <th>URL</th>\n      <th>Filename</th>\n      <th>Month</th>\n      <th>Week Number</th>\n      <th>Type</th>\n      <th>Date</th>\n      <th>Artist ID</th>\n      <th>Genre 1</th>\n      <th>Genre 2</th>\n      <th>Genre 3</th>\n    </tr>\n  </thead>\n  <tbody>\n    <tr>\n      <th>400</th>\n      <td>400</td>\n      <td>1</td>\n      <td>50//50</td>\n      <td>Vantage</td>\n      <td>https://open.spotify.com/track/36lNDeaRf8F8aYa...</td>\n      <td>viral-us-weekly-2020-05-07--2020-05-07.csv</td>\n      <td>May</td>\n      <td>19</td>\n      <td>Viral 50</td>\n      <td>2020-05-07</td>\n      <td>6owH8F2INpb18PhnISiVh2</td>\n      <td>future funk</td>\n      <td>NaN</td>\n      <td>NaN</td>\n    </tr>\n    <tr>\n      <th>401</th>\n      <td>401</td>\n      <td>2</td>\n      <td>ily (i love you baby) (feat. Emilee)</td>\n      <td>Surf Mesa</td>\n      <td>https://open.spotify.com/track/62aP9fBQKYKxi7P...</td>\n      <td>viral-us-weekly-2020-05-07--2020-05-07.csv</td>\n      <td>May</td>\n      <td>19</td>\n      <td>Viral 50</td>\n      <td>2020-05-07</td>\n      <td>1lmU3giNF3CSbkVSQmLpHQ</td>\n      <td>tropical house</td>\n      <td>NaN</td>\n      <td>NaN</td>\n    </tr>\n    <tr>\n      <th>402</th>\n      <td>402</td>\n      <td>3</td>\n      <td>Con Tus Besos</td>\n      <td>Eslabon Armado</td>\n      <td>https://open.spotify.com/track/6WYB1odDfMPVMyp...</td>\n      <td>viral-us-weekly-2020-05-07--2020-05-07.csv</td>\n      <td>May</td>\n      <td>19</td>\n      <td>Viral 50</td>\n      <td>2020-05-07</td>\n      <td>0XeEobZplHxzM9QzFQWLiR</td>\n      <td>corridos tumbados</td>\n      <td>nuevo regional mexicano</td>\n      <td>sierreno</td>\n    </tr>\n    <tr>\n      <th>403</th>\n      <td>403</td>\n      <td>4</td>\n      <td>LMK</td>\n      <td>Lil Xxel</td>\n      <td>https://open.spotify.com/track/0efL46uAuNEfukX...</td>\n      <td>viral-us-weekly-2020-05-07--2020-05-07.csv</td>\n      <td>May</td>\n      <td>19</td>\n      <td>Viral 50</td>\n      <td>2020-05-07</td>\n      <td>7iDeMFJKjI1ak40N3hoYOZ</td>\n      <td>pop r&amp;b</td>\n      <td>NaN</td>\n      <td>NaN</td>\n    </tr>\n    <tr>\n      <th>404</th>\n      <td>404</td>\n      <td>5</td>\n      <td>Yoga</td>\n      <td>645AR</td>\n      <td>https://open.spotify.com/track/2DiybJZJGXyV1UY...</td>\n      <td>viral-us-weekly-2020-05-07--2020-05-07.csv</td>\n      <td>May</td>\n      <td>19</td>\n      <td>Viral 50</td>\n      <td>2020-05-07</td>\n      <td>3Iv3mOsjFV8vZkXphpQ8hz</td>\n      <td>unspecified</td>\n      <td>NaN</td>\n      <td>NaN</td>\n    </tr>\n    <tr>\n      <th>...</th>\n      <td>...</td>\n      <td>...</td>\n      <td>...</td>\n      <td>...</td>\n      <td>...</td>\n      <td>...</td>\n      <td>...</td>\n      <td>...</td>\n      <td>...</td>\n      <td>...</td>\n      <td>...</td>\n      <td>...</td>\n      <td>...</td>\n      <td>...</td>\n    </tr>\n    <tr>\n      <th>595</th>\n      <td>595</td>\n      <td>46</td>\n      <td>Break Things</td>\n      <td>Kylie Morgan</td>\n      <td>https://open.spotify.com/track/45hbxz8xCxQfa9v...</td>\n      <td>viral-us-weekly-2020-05-28--2020-05-28.csv</td>\n      <td>May</td>\n      <td>22</td>\n      <td>Viral 50</td>\n      <td>2020-05-28</td>\n      <td>3g2yaL04Uapb5fxmwsUZgV</td>\n      <td>contemporary country</td>\n      <td>country pop</td>\n      <td>NaN</td>\n    </tr>\n    <tr>\n      <th>596</th>\n      <td>596</td>\n      <td>47</td>\n      <td>Skechers</td>\n      <td>DripReport</td>\n      <td>https://open.spotify.com/track/2alc8VZAzDgdAsL...</td>\n      <td>viral-us-weekly-2020-05-28--2020-05-28.csv</td>\n      <td>May</td>\n      <td>22</td>\n      <td>Viral 50</td>\n      <td>2020-05-28</td>\n      <td>3O5HD95HTEPgoPFOjAb7yV</td>\n      <td>viral rap</td>\n      <td>NaN</td>\n      <td>NaN</td>\n    </tr>\n    <tr>\n      <th>597</th>\n      <td>597</td>\n      <td>48</td>\n      <td>Disingenuous</td>\n      <td>Flight</td>\n      <td>https://open.spotify.com/track/77N3t8CNrUQV2f2...</td>\n      <td>viral-us-weekly-2020-05-28--2020-05-28.csv</td>\n      <td>May</td>\n      <td>22</td>\n      <td>Viral 50</td>\n      <td>2020-05-28</td>\n      <td>5e4gmiVV4XkRfnXhqRBEOk</td>\n      <td>texas latin rap</td>\n      <td>NaN</td>\n      <td>NaN</td>\n    </tr>\n    <tr>\n      <th>598</th>\n      <td>598</td>\n      <td>49</td>\n      <td>Sunday Best</td>\n      <td>Surfaces</td>\n      <td>https://open.spotify.com/track/1Cv1YLb4q0RzL6p...</td>\n      <td>viral-us-weekly-2020-05-28--2020-05-28.csv</td>\n      <td>May</td>\n      <td>22</td>\n      <td>Viral 50</td>\n      <td>2020-05-28</td>\n      <td>4ETSs924pXMzjIeD6E9b4u</td>\n      <td>bedroom soul</td>\n      <td>pop</td>\n      <td>NaN</td>\n    </tr>\n    <tr>\n      <th>599</th>\n      <td>599</td>\n      <td>50</td>\n      <td>Breaking Me</td>\n      <td>Topic</td>\n      <td>https://open.spotify.com/track/3H7ihDc1dqLriiW...</td>\n      <td>viral-us-weekly-2020-05-28--2020-05-28.csv</td>\n      <td>May</td>\n      <td>22</td>\n      <td>Viral 50</td>\n      <td>2020-05-28</td>\n      <td>0u6GtibW46tFX7koQ6uNJZ</td>\n      <td>dance pop</td>\n      <td>edm</td>\n      <td>german dance</td>\n    </tr>\n  </tbody>\n</table>\n<p>200 rows × 14 columns</p>\n</div>"
     },
     "metadata": {},
     "execution_count": 5
    }
   ],
   "source": [
    "may_viral_genre_df = viral_all[viral_all['Month'] == 'May']\n",
    "may_viral_genre_df"
   ]
  },
  {
   "cell_type": "code",
   "execution_count": 6,
   "metadata": {},
   "outputs": [
    {
     "output_type": "execute_result",
     "data": {
      "text/plain": [
       "Genre 1\n",
       "unspecified                24\n",
       "alt z                      16\n",
       "contemporary country       14\n",
       "viral rap                  10\n",
       "pop r&b                     7\n",
       "melodic rap                 7\n",
       "dance pop                   7\n",
       "alternative r&b             7\n",
       "country pop                 5\n",
       "afroswing                   5\n",
       "rap                         4\n",
       "ccm                         4\n",
       "tropical house              4\n",
       "emo rap                     4\n",
       "escape room                 4\n",
       "corridos tumbados           4\n",
       "future funk                 4\n",
       "art pop                     4\n",
       "indie pop                   4\n",
       "canadian hip hop            4\n",
       "brooklyn drill              4\n",
       "bedroom soul                4\n",
       "corrido                     3\n",
       "social media pop            3\n",
       "north carolina hip hop      3\n",
       "edm                         3\n",
       "belarusian indie            3\n",
       "alternative hip hop         2\n",
       "bedroom pop                 2\n",
       "adult standards             2\n",
       "dark trap                   2\n",
       "florida rap                 2\n",
       "nz pop                      2\n",
       "neo-psychedelic             2\n",
       "modern rock                 2\n",
       "modern alternative rock     2\n",
       "indie rock                  1\n",
       "houston rap                 1\n",
       "texas latin rap             1\n",
       "album rock                  1\n",
       "texas country               1\n",
       "alternative country         1\n",
       "reggaeton flow              1\n",
       "ohio hip hop                1\n",
       "banda                       1\n",
       "indie soul                  1\n",
       "icelandic pop               1\n",
       "colombian pop               1\n",
       "chicago rap                 1\n",
       "louisville indie            1\n",
       "brostep                     1\n",
       "canadian electronic         1\n",
       "electro                     1\n",
       "dtype: int64"
      ]
     },
     "metadata": {},
     "execution_count": 6
    }
   ],
   "source": [
    "\n",
    "for index, row in may_viral_genre_df.iterrows():\n",
    "    if row['Genre 1'] == \"\" :\n",
    "        may_viral_genre_df.loc[index, 'Genre 1'] = \"unspecified\"\n",
    "\n",
    "may_viral_genre_df.value_counts('Genre 1')"
   ]
  },
  {
   "cell_type": "code",
   "execution_count": 8,
   "metadata": {},
   "outputs": [
    {
     "output_type": "execute_result",
     "data": {
      "text/plain": [
       "     Position                            Track Name          Artist  \\\n",
       "400         1                                50//50         Vantage   \n",
       "401         2  ily (i love you baby) (feat. Emilee)       Surf Mesa   \n",
       "402         3                         Con Tus Besos  Eslabon Armado   \n",
       "403         4                                   LMK        Lil Xxel   \n",
       "404         5                                  Yoga           645AR   \n",
       "\n",
       "                                                   URL  \\\n",
       "400  https://open.spotify.com/track/36lNDeaRf8F8aYa...   \n",
       "401  https://open.spotify.com/track/62aP9fBQKYKxi7P...   \n",
       "402  https://open.spotify.com/track/6WYB1odDfMPVMyp...   \n",
       "403  https://open.spotify.com/track/0efL46uAuNEfukX...   \n",
       "404  https://open.spotify.com/track/2DiybJZJGXyV1UY...   \n",
       "\n",
       "                                       Filename Month  Week Number      Type  \\\n",
       "400  viral-us-weekly-2020-05-07--2020-05-07.csv   May           19  Viral 50   \n",
       "401  viral-us-weekly-2020-05-07--2020-05-07.csv   May           19  Viral 50   \n",
       "402  viral-us-weekly-2020-05-07--2020-05-07.csv   May           19  Viral 50   \n",
       "403  viral-us-weekly-2020-05-07--2020-05-07.csv   May           19  Viral 50   \n",
       "404  viral-us-weekly-2020-05-07--2020-05-07.csv   May           19  Viral 50   \n",
       "\n",
       "           Date               Artist ID            Genre 1  \\\n",
       "400  2020-05-07  6owH8F2INpb18PhnISiVh2        future funk   \n",
       "401  2020-05-07  1lmU3giNF3CSbkVSQmLpHQ     tropical house   \n",
       "402  2020-05-07  0XeEobZplHxzM9QzFQWLiR  corridos tumbados   \n",
       "403  2020-05-07  7iDeMFJKjI1ak40N3hoYOZ            pop r&b   \n",
       "404  2020-05-07  3Iv3mOsjFV8vZkXphpQ8hz        unspecified   \n",
       "\n",
       "                     Genre 2   Genre 3  \n",
       "400                      NaN       NaN  \n",
       "401                      NaN       NaN  \n",
       "402  nuevo regional mexicano  sierreno  \n",
       "403                      NaN       NaN  \n",
       "404                      NaN       NaN  "
      ],
      "text/html": "<div>\n<style scoped>\n    .dataframe tbody tr th:only-of-type {\n        vertical-align: middle;\n    }\n\n    .dataframe tbody tr th {\n        vertical-align: top;\n    }\n\n    .dataframe thead th {\n        text-align: right;\n    }\n</style>\n<table border=\"1\" class=\"dataframe\">\n  <thead>\n    <tr style=\"text-align: right;\">\n      <th></th>\n      <th>Position</th>\n      <th>Track Name</th>\n      <th>Artist</th>\n      <th>URL</th>\n      <th>Filename</th>\n      <th>Month</th>\n      <th>Week Number</th>\n      <th>Type</th>\n      <th>Date</th>\n      <th>Artist ID</th>\n      <th>Genre 1</th>\n      <th>Genre 2</th>\n      <th>Genre 3</th>\n    </tr>\n  </thead>\n  <tbody>\n    <tr>\n      <th>400</th>\n      <td>1</td>\n      <td>50//50</td>\n      <td>Vantage</td>\n      <td>https://open.spotify.com/track/36lNDeaRf8F8aYa...</td>\n      <td>viral-us-weekly-2020-05-07--2020-05-07.csv</td>\n      <td>May</td>\n      <td>19</td>\n      <td>Viral 50</td>\n      <td>2020-05-07</td>\n      <td>6owH8F2INpb18PhnISiVh2</td>\n      <td>future funk</td>\n      <td>NaN</td>\n      <td>NaN</td>\n    </tr>\n    <tr>\n      <th>401</th>\n      <td>2</td>\n      <td>ily (i love you baby) (feat. Emilee)</td>\n      <td>Surf Mesa</td>\n      <td>https://open.spotify.com/track/62aP9fBQKYKxi7P...</td>\n      <td>viral-us-weekly-2020-05-07--2020-05-07.csv</td>\n      <td>May</td>\n      <td>19</td>\n      <td>Viral 50</td>\n      <td>2020-05-07</td>\n      <td>1lmU3giNF3CSbkVSQmLpHQ</td>\n      <td>tropical house</td>\n      <td>NaN</td>\n      <td>NaN</td>\n    </tr>\n    <tr>\n      <th>402</th>\n      <td>3</td>\n      <td>Con Tus Besos</td>\n      <td>Eslabon Armado</td>\n      <td>https://open.spotify.com/track/6WYB1odDfMPVMyp...</td>\n      <td>viral-us-weekly-2020-05-07--2020-05-07.csv</td>\n      <td>May</td>\n      <td>19</td>\n      <td>Viral 50</td>\n      <td>2020-05-07</td>\n      <td>0XeEobZplHxzM9QzFQWLiR</td>\n      <td>corridos tumbados</td>\n      <td>nuevo regional mexicano</td>\n      <td>sierreno</td>\n    </tr>\n    <tr>\n      <th>403</th>\n      <td>4</td>\n      <td>LMK</td>\n      <td>Lil Xxel</td>\n      <td>https://open.spotify.com/track/0efL46uAuNEfukX...</td>\n      <td>viral-us-weekly-2020-05-07--2020-05-07.csv</td>\n      <td>May</td>\n      <td>19</td>\n      <td>Viral 50</td>\n      <td>2020-05-07</td>\n      <td>7iDeMFJKjI1ak40N3hoYOZ</td>\n      <td>pop r&amp;b</td>\n      <td>NaN</td>\n      <td>NaN</td>\n    </tr>\n    <tr>\n      <th>404</th>\n      <td>5</td>\n      <td>Yoga</td>\n      <td>645AR</td>\n      <td>https://open.spotify.com/track/2DiybJZJGXyV1UY...</td>\n      <td>viral-us-weekly-2020-05-07--2020-05-07.csv</td>\n      <td>May</td>\n      <td>19</td>\n      <td>Viral 50</td>\n      <td>2020-05-07</td>\n      <td>3Iv3mOsjFV8vZkXphpQ8hz</td>\n      <td>unspecified</td>\n      <td>NaN</td>\n      <td>NaN</td>\n    </tr>\n  </tbody>\n</table>\n</div>"
     },
     "metadata": {},
     "execution_count": 8
    }
   ],
   "source": [
    "may_viral_genre_df = may_viral_genre_df.drop([\"Unnamed: 0\"], axis=1)\n",
    "may_viral_genre_df.head()"
   ]
  },
  {
   "cell_type": "code",
   "execution_count": 12,
   "metadata": {},
   "outputs": [
    {
     "output_type": "execute_result",
     "data": {
      "text/plain": [
       "              Genre  Count\n",
       "0  Rap/Hip Hop/Trap     59\n",
       "1    R&B/Soul/Blues     19\n",
       "2               Pop     75\n",
       "3              Rock     10\n",
       "4           Country     21"
      ],
      "text/html": "<div>\n<style scoped>\n    .dataframe tbody tr th:only-of-type {\n        vertical-align: middle;\n    }\n\n    .dataframe tbody tr th {\n        vertical-align: top;\n    }\n\n    .dataframe thead th {\n        text-align: right;\n    }\n</style>\n<table border=\"1\" class=\"dataframe\">\n  <thead>\n    <tr style=\"text-align: right;\">\n      <th></th>\n      <th>Genre</th>\n      <th>Count</th>\n    </tr>\n  </thead>\n  <tbody>\n    <tr>\n      <th>0</th>\n      <td>Rap/Hip Hop/Trap</td>\n      <td>59</td>\n    </tr>\n    <tr>\n      <th>1</th>\n      <td>R&amp;B/Soul/Blues</td>\n      <td>19</td>\n    </tr>\n    <tr>\n      <th>2</th>\n      <td>Pop</td>\n      <td>75</td>\n    </tr>\n    <tr>\n      <th>3</th>\n      <td>Rock</td>\n      <td>10</td>\n    </tr>\n    <tr>\n      <th>4</th>\n      <td>Country</td>\n      <td>21</td>\n    </tr>\n  </tbody>\n</table>\n</div>"
     },
     "metadata": {},
     "execution_count": 12
    }
   ],
   "source": [
    "genre_data = {\n",
    "    'Genre': ['Rap/Hip Hop/Trap', 'R&B/Soul/Blues',  'Pop', 'Rock', 'Country', 'Latin', 'Disco', 'Indie', 'House/EDM', 'Alternative/Alt', 'Glitchcore', 'Brooklyn Drill', 'Halloween', 'Christmas', 'Classical'],\n",
    "    'Count': [len(may_viral_genre_df[may_viral_genre_df['Genre 1'].str.contains('rap|hip hop|trap') | may_viral_genre_df['Genre 2'].str.contains('rap|hip hop|trap') | may_viral_genre_df['Genre 3'].str.contains('rap|hip hop|trap')]), len(may_viral_genre_df[may_viral_genre_df['Genre 1'].str.contains('r&b|soul|blues') | may_viral_genre_df['Genre 2'].str.contains('r&b|soul|blues') | may_viral_genre_df['Genre 3'].str.contains('r&b|soul|blues')]), len(may_viral_genre_df[may_viral_genre_df['Genre 1'].str.contains('pop') | may_viral_genre_df['Genre 2'].str.contains('pop') | may_viral_genre_df['Genre 3'].str.contains('pop')]), len(may_viral_genre_df[may_viral_genre_df['Genre 1'].str.contains('rock') | may_viral_genre_df['Genre 2'].str.contains('rock') | may_viral_genre_df['Genre 3'].str.contains('rock')]), len(may_viral_genre_df[may_viral_genre_df['Genre 1'].str.contains('country') | may_viral_genre_df['Genre 2'].str.contains('country') | may_viral_genre_df['Genre 3'].str.contains('country')]), len(may_viral_genre_df[may_viral_genre_df['Genre 1'].str.contains('latin') | may_viral_genre_df['Genre 2'].str.contains('latin') | may_viral_genre_df['Genre 3'].str.contains('latin')]), len(may_viral_genre_df[may_viral_genre_df['Genre 1'].str.contains('disco') | may_viral_genre_df['Genre 2'].str.contains('disco') | may_viral_genre_df['Genre 3'].str.contains('disco')]), len(may_viral_genre_df[may_viral_genre_df['Genre 1'].str.contains('indie') | may_viral_genre_df['Genre 2'].str.contains('indie') | may_viral_genre_df['Genre 3'].str.contains('indie')]), len(may_viral_genre_df[may_viral_genre_df['Genre 1'].str.contains('house|edm') | may_viral_genre_df['Genre 2'].str.contains('house|edm') | may_viral_genre_df['Genre 3'].str.contains('house|edm')]), len(may_viral_genre_df[may_viral_genre_df['Genre 1'].str.contains('alt|alternative') | may_viral_genre_df['Genre 2'].str.contains('alt|alternative') | may_viral_genre_df['Genre 3'].str.contains('alt|alternative')]), len(may_viral_genre_df[may_viral_genre_df['Genre 1'].str.contains('glitchcore') | may_viral_genre_df['Genre 2'].str.contains('glitchcore') | may_viral_genre_df['Genre 3'].str.contains('glitchcore')]), len(may_viral_genre_df[may_viral_genre_df['Genre 1'].str.contains('brooklyn drill') | may_viral_genre_df['Genre 2'].str.contains('brooklyn drill') | may_viral_genre_df['Genre 3'].str.contains('brooklyn drill')]), len(may_viral_genre_df[may_viral_genre_df['Genre 1'].str.contains('halloween') | may_viral_genre_df['Genre 2'].str.contains('halloween') | may_viral_genre_df['Genre 3'].str.contains('halloween')]), len(may_viral_genre_df[may_viral_genre_df['Genre 1'].str.contains('christmas') | may_viral_genre_df['Genre 2'].str.contains('christmas') | may_viral_genre_df['Genre 3'].str.contains('christmas')]), len(may_viral_genre_df[may_viral_genre_df['Genre 1'].str.contains('classical') | may_viral_genre_df['Genre 2'].str.contains('classical') | may_viral_genre_df['Genre 3'].str.contains('classical')])]\n",
    "}\n",
    "may_viral_genre_df = pd.DataFrame(genre_data)\n",
    "may_viral_genre_df.head()"
   ]
  },
  {
   "cell_type": "code",
   "execution_count": 13,
   "metadata": {},
   "outputs": [],
   "source": [
    "may_viral_genre_df.to_csv('may_viral_genre.csv')\n"
   ]
  },
  {
   "cell_type": "code",
   "execution_count": 14,
   "metadata": {},
   "outputs": [
    {
     "output_type": "execute_result",
     "data": {
      "text/plain": [
       "     Unnamed: 0  Position                        Track Name  \\\n",
       "600         600         1                         I See Red   \n",
       "601         601         2  Then Leave (feat. Queendom Come)   \n",
       "602         602         3    Stunnin' (feat. Harm Franklin)   \n",
       "603         603         4                         Hood Baby   \n",
       "604         604         5                       Hard For Me   \n",
       "\n",
       "                        Artist  \\\n",
       "600  Everybody Loves an Outlaw   \n",
       "601                   BeatKing   \n",
       "602              Curtis Waters   \n",
       "603                       KBFR   \n",
       "604            Michele Morrone   \n",
       "\n",
       "                                                   URL  \\\n",
       "600  https://open.spotify.com/track/2Xau3uNsnIb9Fwz...   \n",
       "601  https://open.spotify.com/track/2Xoc4gqPbBa3QHK...   \n",
       "602  https://open.spotify.com/track/2D0dj3hVkRQJCp6...   \n",
       "603  https://open.spotify.com/track/5au5NgWCdev4WeL...   \n",
       "604  https://open.spotify.com/track/00PesUdTmC3Y5xt...   \n",
       "\n",
       "                                       Filename Month  Week Number      Type  \\\n",
       "600  viral-us-weekly-2020-07-02--2020-07-02.csv  July           27  Viral 50   \n",
       "601  viral-us-weekly-2020-07-02--2020-07-02.csv  July           27  Viral 50   \n",
       "602  viral-us-weekly-2020-07-02--2020-07-02.csv  July           27  Viral 50   \n",
       "603  viral-us-weekly-2020-07-02--2020-07-02.csv  July           27  Viral 50   \n",
       "604  viral-us-weekly-2020-07-02--2020-07-02.csv  July           27  Viral 50   \n",
       "\n",
       "           Date               Artist ID            Genre 1 Genre 2 Genre 3  \n",
       "600  2020-07-02  5RCWMaArEntbkeWYVxCiFW  modern blues rock     NaN     NaN  \n",
       "601  2020-07-02  5L8p9kDnX2cgoI8VLUL2p4        houston rap     NaN     NaN  \n",
       "602  2020-07-02  2JbE7jUIGtpXSzytnyMg6U        unspecified     NaN     NaN  \n",
       "603  2020-07-02  0JFjWic1b9Mvv7WcNYhDvZ          viral rap     NaN     NaN  \n",
       "604  2020-07-02  03fLoIOO015incUitpfkad        unspecified     NaN     NaN  "
      ],
      "text/html": "<div>\n<style scoped>\n    .dataframe tbody tr th:only-of-type {\n        vertical-align: middle;\n    }\n\n    .dataframe tbody tr th {\n        vertical-align: top;\n    }\n\n    .dataframe thead th {\n        text-align: right;\n    }\n</style>\n<table border=\"1\" class=\"dataframe\">\n  <thead>\n    <tr style=\"text-align: right;\">\n      <th></th>\n      <th>Unnamed: 0</th>\n      <th>Position</th>\n      <th>Track Name</th>\n      <th>Artist</th>\n      <th>URL</th>\n      <th>Filename</th>\n      <th>Month</th>\n      <th>Week Number</th>\n      <th>Type</th>\n      <th>Date</th>\n      <th>Artist ID</th>\n      <th>Genre 1</th>\n      <th>Genre 2</th>\n      <th>Genre 3</th>\n    </tr>\n  </thead>\n  <tbody>\n    <tr>\n      <th>600</th>\n      <td>600</td>\n      <td>1</td>\n      <td>I See Red</td>\n      <td>Everybody Loves an Outlaw</td>\n      <td>https://open.spotify.com/track/2Xau3uNsnIb9Fwz...</td>\n      <td>viral-us-weekly-2020-07-02--2020-07-02.csv</td>\n      <td>July</td>\n      <td>27</td>\n      <td>Viral 50</td>\n      <td>2020-07-02</td>\n      <td>5RCWMaArEntbkeWYVxCiFW</td>\n      <td>modern blues rock</td>\n      <td>NaN</td>\n      <td>NaN</td>\n    </tr>\n    <tr>\n      <th>601</th>\n      <td>601</td>\n      <td>2</td>\n      <td>Then Leave (feat. Queendom Come)</td>\n      <td>BeatKing</td>\n      <td>https://open.spotify.com/track/2Xoc4gqPbBa3QHK...</td>\n      <td>viral-us-weekly-2020-07-02--2020-07-02.csv</td>\n      <td>July</td>\n      <td>27</td>\n      <td>Viral 50</td>\n      <td>2020-07-02</td>\n      <td>5L8p9kDnX2cgoI8VLUL2p4</td>\n      <td>houston rap</td>\n      <td>NaN</td>\n      <td>NaN</td>\n    </tr>\n    <tr>\n      <th>602</th>\n      <td>602</td>\n      <td>3</td>\n      <td>Stunnin' (feat. Harm Franklin)</td>\n      <td>Curtis Waters</td>\n      <td>https://open.spotify.com/track/2D0dj3hVkRQJCp6...</td>\n      <td>viral-us-weekly-2020-07-02--2020-07-02.csv</td>\n      <td>July</td>\n      <td>27</td>\n      <td>Viral 50</td>\n      <td>2020-07-02</td>\n      <td>2JbE7jUIGtpXSzytnyMg6U</td>\n      <td>unspecified</td>\n      <td>NaN</td>\n      <td>NaN</td>\n    </tr>\n    <tr>\n      <th>603</th>\n      <td>603</td>\n      <td>4</td>\n      <td>Hood Baby</td>\n      <td>KBFR</td>\n      <td>https://open.spotify.com/track/5au5NgWCdev4WeL...</td>\n      <td>viral-us-weekly-2020-07-02--2020-07-02.csv</td>\n      <td>July</td>\n      <td>27</td>\n      <td>Viral 50</td>\n      <td>2020-07-02</td>\n      <td>0JFjWic1b9Mvv7WcNYhDvZ</td>\n      <td>viral rap</td>\n      <td>NaN</td>\n      <td>NaN</td>\n    </tr>\n    <tr>\n      <th>604</th>\n      <td>604</td>\n      <td>5</td>\n      <td>Hard For Me</td>\n      <td>Michele Morrone</td>\n      <td>https://open.spotify.com/track/00PesUdTmC3Y5xt...</td>\n      <td>viral-us-weekly-2020-07-02--2020-07-02.csv</td>\n      <td>July</td>\n      <td>27</td>\n      <td>Viral 50</td>\n      <td>2020-07-02</td>\n      <td>03fLoIOO015incUitpfkad</td>\n      <td>unspecified</td>\n      <td>NaN</td>\n      <td>NaN</td>\n    </tr>\n  </tbody>\n</table>\n</div>"
     },
     "metadata": {},
     "execution_count": 14
    }
   ],
   "source": [
    "jul_viral_genre_df = viral_all[viral_all['Month'] == 'July']\n",
    "jul_viral_genre_df.head()"
   ]
  },
  {
   "cell_type": "code",
   "execution_count": 15,
   "metadata": {},
   "outputs": [
    {
     "output_type": "execute_result",
     "data": {
      "text/plain": [
       "Genre 1\n",
       "unspecified                 18\n",
       "alternative r&b             10\n",
       "hollywood                    9\n",
       "melodic rap                  8\n",
       "viral rap                    8\n",
       "                            ..\n",
       "deep underground hip hop     1\n",
       "german pop                   1\n",
       "emo rap                      1\n",
       "escape room                  1\n",
       "adult standards              1\n",
       "Length: 62, dtype: int64"
      ]
     },
     "metadata": {},
     "execution_count": 15
    }
   ],
   "source": [
    "for index, row in jul_viral_genre_df.iterrows():\n",
    "    if row['Genre 1'] == \"\" :\n",
    "        jul_viral_genre_df.loc[index, 'Genre 1'] = \"unspecified\"\n",
    "\n",
    "jul_viral_genre_df.value_counts('Genre 1')"
   ]
  },
  {
   "cell_type": "code",
   "execution_count": 16,
   "metadata": {},
   "outputs": [
    {
     "output_type": "execute_result",
     "data": {
      "text/plain": [
       "     Position                        Track Name                     Artist  \\\n",
       "600         1                         I See Red  Everybody Loves an Outlaw   \n",
       "601         2  Then Leave (feat. Queendom Come)                   BeatKing   \n",
       "602         3    Stunnin' (feat. Harm Franklin)              Curtis Waters   \n",
       "603         4                         Hood Baby                       KBFR   \n",
       "604         5                       Hard For Me            Michele Morrone   \n",
       "\n",
       "                                                   URL  \\\n",
       "600  https://open.spotify.com/track/2Xau3uNsnIb9Fwz...   \n",
       "601  https://open.spotify.com/track/2Xoc4gqPbBa3QHK...   \n",
       "602  https://open.spotify.com/track/2D0dj3hVkRQJCp6...   \n",
       "603  https://open.spotify.com/track/5au5NgWCdev4WeL...   \n",
       "604  https://open.spotify.com/track/00PesUdTmC3Y5xt...   \n",
       "\n",
       "                                       Filename Month  Week Number      Type  \\\n",
       "600  viral-us-weekly-2020-07-02--2020-07-02.csv  July           27  Viral 50   \n",
       "601  viral-us-weekly-2020-07-02--2020-07-02.csv  July           27  Viral 50   \n",
       "602  viral-us-weekly-2020-07-02--2020-07-02.csv  July           27  Viral 50   \n",
       "603  viral-us-weekly-2020-07-02--2020-07-02.csv  July           27  Viral 50   \n",
       "604  viral-us-weekly-2020-07-02--2020-07-02.csv  July           27  Viral 50   \n",
       "\n",
       "           Date               Artist ID            Genre 1 Genre 2 Genre 3  \n",
       "600  2020-07-02  5RCWMaArEntbkeWYVxCiFW  modern blues rock     NaN     NaN  \n",
       "601  2020-07-02  5L8p9kDnX2cgoI8VLUL2p4        houston rap     NaN     NaN  \n",
       "602  2020-07-02  2JbE7jUIGtpXSzytnyMg6U        unspecified     NaN     NaN  \n",
       "603  2020-07-02  0JFjWic1b9Mvv7WcNYhDvZ          viral rap     NaN     NaN  \n",
       "604  2020-07-02  03fLoIOO015incUitpfkad        unspecified     NaN     NaN  "
      ],
      "text/html": "<div>\n<style scoped>\n    .dataframe tbody tr th:only-of-type {\n        vertical-align: middle;\n    }\n\n    .dataframe tbody tr th {\n        vertical-align: top;\n    }\n\n    .dataframe thead th {\n        text-align: right;\n    }\n</style>\n<table border=\"1\" class=\"dataframe\">\n  <thead>\n    <tr style=\"text-align: right;\">\n      <th></th>\n      <th>Position</th>\n      <th>Track Name</th>\n      <th>Artist</th>\n      <th>URL</th>\n      <th>Filename</th>\n      <th>Month</th>\n      <th>Week Number</th>\n      <th>Type</th>\n      <th>Date</th>\n      <th>Artist ID</th>\n      <th>Genre 1</th>\n      <th>Genre 2</th>\n      <th>Genre 3</th>\n    </tr>\n  </thead>\n  <tbody>\n    <tr>\n      <th>600</th>\n      <td>1</td>\n      <td>I See Red</td>\n      <td>Everybody Loves an Outlaw</td>\n      <td>https://open.spotify.com/track/2Xau3uNsnIb9Fwz...</td>\n      <td>viral-us-weekly-2020-07-02--2020-07-02.csv</td>\n      <td>July</td>\n      <td>27</td>\n      <td>Viral 50</td>\n      <td>2020-07-02</td>\n      <td>5RCWMaArEntbkeWYVxCiFW</td>\n      <td>modern blues rock</td>\n      <td>NaN</td>\n      <td>NaN</td>\n    </tr>\n    <tr>\n      <th>601</th>\n      <td>2</td>\n      <td>Then Leave (feat. Queendom Come)</td>\n      <td>BeatKing</td>\n      <td>https://open.spotify.com/track/2Xoc4gqPbBa3QHK...</td>\n      <td>viral-us-weekly-2020-07-02--2020-07-02.csv</td>\n      <td>July</td>\n      <td>27</td>\n      <td>Viral 50</td>\n      <td>2020-07-02</td>\n      <td>5L8p9kDnX2cgoI8VLUL2p4</td>\n      <td>houston rap</td>\n      <td>NaN</td>\n      <td>NaN</td>\n    </tr>\n    <tr>\n      <th>602</th>\n      <td>3</td>\n      <td>Stunnin' (feat. Harm Franklin)</td>\n      <td>Curtis Waters</td>\n      <td>https://open.spotify.com/track/2D0dj3hVkRQJCp6...</td>\n      <td>viral-us-weekly-2020-07-02--2020-07-02.csv</td>\n      <td>July</td>\n      <td>27</td>\n      <td>Viral 50</td>\n      <td>2020-07-02</td>\n      <td>2JbE7jUIGtpXSzytnyMg6U</td>\n      <td>unspecified</td>\n      <td>NaN</td>\n      <td>NaN</td>\n    </tr>\n    <tr>\n      <th>603</th>\n      <td>4</td>\n      <td>Hood Baby</td>\n      <td>KBFR</td>\n      <td>https://open.spotify.com/track/5au5NgWCdev4WeL...</td>\n      <td>viral-us-weekly-2020-07-02--2020-07-02.csv</td>\n      <td>July</td>\n      <td>27</td>\n      <td>Viral 50</td>\n      <td>2020-07-02</td>\n      <td>0JFjWic1b9Mvv7WcNYhDvZ</td>\n      <td>viral rap</td>\n      <td>NaN</td>\n      <td>NaN</td>\n    </tr>\n    <tr>\n      <th>604</th>\n      <td>5</td>\n      <td>Hard For Me</td>\n      <td>Michele Morrone</td>\n      <td>https://open.spotify.com/track/00PesUdTmC3Y5xt...</td>\n      <td>viral-us-weekly-2020-07-02--2020-07-02.csv</td>\n      <td>July</td>\n      <td>27</td>\n      <td>Viral 50</td>\n      <td>2020-07-02</td>\n      <td>03fLoIOO015incUitpfkad</td>\n      <td>unspecified</td>\n      <td>NaN</td>\n      <td>NaN</td>\n    </tr>\n  </tbody>\n</table>\n</div>"
     },
     "metadata": {},
     "execution_count": 16
    }
   ],
   "source": [
    "jul_viral_genre_df = jul_viral_genre_df.drop([\"Unnamed: 0\"], axis=1)\n",
    "jul_viral_genre_df.head()"
   ]
  },
  {
   "cell_type": "code",
   "execution_count": 17,
   "metadata": {},
   "outputs": [
    {
     "output_type": "execute_result",
     "data": {
      "text/plain": [
       "              Genre  Count\n",
       "0  Rap/Hip Hop/Trap     62\n",
       "1    R&B/Soul/Blues     18\n",
       "2               Pop     73\n",
       "3              Rock      9\n",
       "4           Country      8"
      ],
      "text/html": "<div>\n<style scoped>\n    .dataframe tbody tr th:only-of-type {\n        vertical-align: middle;\n    }\n\n    .dataframe tbody tr th {\n        vertical-align: top;\n    }\n\n    .dataframe thead th {\n        text-align: right;\n    }\n</style>\n<table border=\"1\" class=\"dataframe\">\n  <thead>\n    <tr style=\"text-align: right;\">\n      <th></th>\n      <th>Genre</th>\n      <th>Count</th>\n    </tr>\n  </thead>\n  <tbody>\n    <tr>\n      <th>0</th>\n      <td>Rap/Hip Hop/Trap</td>\n      <td>62</td>\n    </tr>\n    <tr>\n      <th>1</th>\n      <td>R&amp;B/Soul/Blues</td>\n      <td>18</td>\n    </tr>\n    <tr>\n      <th>2</th>\n      <td>Pop</td>\n      <td>73</td>\n    </tr>\n    <tr>\n      <th>3</th>\n      <td>Rock</td>\n      <td>9</td>\n    </tr>\n    <tr>\n      <th>4</th>\n      <td>Country</td>\n      <td>8</td>\n    </tr>\n  </tbody>\n</table>\n</div>"
     },
     "metadata": {},
     "execution_count": 17
    }
   ],
   "source": [
    "genre_data = {\n",
    "    'Genre': ['Rap/Hip Hop/Trap', 'R&B/Soul/Blues',  'Pop', 'Rock', 'Country', 'Latin', 'Disco', 'Indie', 'House/EDM', 'Alternative/Alt', 'Glitchcore', 'Brooklyn Drill', 'Halloween', 'Christmas', 'Classical'],\n",
    "    'Count': [len(jul_viral_genre_df[jul_viral_genre_df['Genre 1'].str.contains('rap|hip hop|trap') | jul_viral_genre_df['Genre 2'].str.contains('rap|hip hop|trap') | jul_viral_genre_df['Genre 3'].str.contains('rap|hip hop|trap')]), len(jul_viral_genre_df[jul_viral_genre_df['Genre 1'].str.contains('r&b|soul|blues') | jul_viral_genre_df['Genre 2'].str.contains('r&b|soul|blues') | jul_viral_genre_df['Genre 3'].str.contains('r&b|soul|blues')]), len(jul_viral_genre_df[jul_viral_genre_df['Genre 1'].str.contains('pop') | jul_viral_genre_df['Genre 2'].str.contains('pop') | jul_viral_genre_df['Genre 3'].str.contains('pop')]), len(jul_viral_genre_df[jul_viral_genre_df['Genre 1'].str.contains('rock') | jul_viral_genre_df['Genre 2'].str.contains('rock') | jul_viral_genre_df['Genre 3'].str.contains('rock')]), len(jul_viral_genre_df[jul_viral_genre_df['Genre 1'].str.contains('country') | jul_viral_genre_df['Genre 2'].str.contains('country') | jul_viral_genre_df['Genre 3'].str.contains('country')]), len(jul_viral_genre_df[jul_viral_genre_df['Genre 1'].str.contains('latin') | jul_viral_genre_df['Genre 2'].str.contains('latin') | jul_viral_genre_df['Genre 3'].str.contains('latin')]), len(jul_viral_genre_df[jul_viral_genre_df['Genre 1'].str.contains('disco') | jul_viral_genre_df['Genre 2'].str.contains('disco') | jul_viral_genre_df['Genre 3'].str.contains('disco')]), len(jul_viral_genre_df[jul_viral_genre_df['Genre 1'].str.contains('indie') | jul_viral_genre_df['Genre 2'].str.contains('indie') | jul_viral_genre_df['Genre 3'].str.contains('indie')]), len(jul_viral_genre_df[jul_viral_genre_df['Genre 1'].str.contains('house|edm') | jul_viral_genre_df['Genre 2'].str.contains('house|edm') | jul_viral_genre_df['Genre 3'].str.contains('house|edm')]), len(jul_viral_genre_df[jul_viral_genre_df['Genre 1'].str.contains('alt|alternative') | jul_viral_genre_df['Genre 2'].str.contains('alt|alternative') | jul_viral_genre_df['Genre 3'].str.contains('alt|alternative')]), len(jul_viral_genre_df[jul_viral_genre_df['Genre 1'].str.contains('glitchcore') | jul_viral_genre_df['Genre 2'].str.contains('glitchcore') | jul_viral_genre_df['Genre 3'].str.contains('glitchcore')]), len(jul_viral_genre_df[jul_viral_genre_df['Genre 1'].str.contains('brooklyn drill') | jul_viral_genre_df['Genre 2'].str.contains('brooklyn drill') | jul_viral_genre_df['Genre 3'].str.contains('brooklyn drill')]), len(jul_viral_genre_df[jul_viral_genre_df['Genre 1'].str.contains('halloween') | jul_viral_genre_df['Genre 2'].str.contains('halloween') | jul_viral_genre_df['Genre 3'].str.contains('halloween')]), len(jul_viral_genre_df[jul_viral_genre_df['Genre 1'].str.contains('christmas') | jul_viral_genre_df['Genre 2'].str.contains('christmas') | jul_viral_genre_df['Genre 3'].str.contains('christmas')]), len(jul_viral_genre_df[jul_viral_genre_df['Genre 1'].str.contains('classical') | jul_viral_genre_df['Genre 2'].str.contains('classical') | jul_viral_genre_df['Genre 3'].str.contains('classical')])]\n",
    "}\n",
    "jul_viral_genre_df = pd.DataFrame(genre_data)\n",
    "jul_viral_genre_df.head()"
   ]
  },
  {
   "cell_type": "code",
   "execution_count": 18,
   "metadata": {},
   "outputs": [],
   "source": [
    "jul_viral_genre_df.to_csv('jul_viral_genre.csv')"
   ]
  },
  {
   "cell_type": "code",
   "execution_count": 20,
   "metadata": {},
   "outputs": [],
   "source": [
    "mayjul_top200 = pd.read_csv('combined_top_200_mayjuly.csv')"
   ]
  },
  {
   "cell_type": "code",
   "execution_count": 21,
   "metadata": {},
   "outputs": [
    {
     "output_type": "execute_result",
     "data": {
      "text/plain": [
       "   Unnamed: 0  Position                      Track Name               Artist  \\\n",
       "0           0         1                      THE SCOTTS           THE SCOTTS   \n",
       "1           1         2                    Toosie Slide                Drake   \n",
       "2           2         3  Pain 1993 (with Playboi Carti)                Drake   \n",
       "3           3         4    ROCKSTAR (feat. Roddy Ricch)               DaBaby   \n",
       "4           4         5    Savage Remix (feat. Beyoncé)  Megan Thee Stallion   \n",
       "\n",
       "    Streams                                                URL  \\\n",
       "0  12864147  https://open.spotify.com/track/39Yp9wwQiSRIDOv...   \n",
       "1  11648985  https://open.spotify.com/track/466cKvZn1j45Ipx...   \n",
       "2  10082722  https://open.spotify.com/track/6Kj17Afjo1OKJYp...   \n",
       "3  10028561  https://open.spotify.com/track/7ytR5pFWmSjzHJI...   \n",
       "4   8965215  https://open.spotify.com/track/5v4GgrXPMghOnBB...   \n",
       "\n",
       "                                        Filename Month        Date  \\\n",
       "0  regional-us-weekly-2020-05-01--2020-05-08.csv   May  2020-05-01   \n",
       "1  regional-us-weekly-2020-05-01--2020-05-08.csv   May  2020-05-01   \n",
       "2  regional-us-weekly-2020-05-01--2020-05-08.csv   May  2020-05-01   \n",
       "3  regional-us-weekly-2020-05-01--2020-05-08.csv   May  2020-05-01   \n",
       "4  regional-us-weekly-2020-05-01--2020-05-08.csv   May  2020-05-01   \n",
       "\n",
       "   Week Number     Type               Artist ID                 Genre 1  \\\n",
       "0           18  Top 200  2PaZWGu5T5nHjY2xxAkFsT             unspecified   \n",
       "1           18  Top 200  3TVXtAsR1Inumwj472S9r4        canadian hip hop   \n",
       "2           18  Top 200  3TVXtAsR1Inumwj472S9r4        canadian hip hop   \n",
       "3           18  Top 200  4r63FhuTkUYltbVAg5TQnk  north carolina hip hop   \n",
       "4           18  Top 200  181bsRPaVXVlUKXrxwZfHK             houston rap   \n",
       "\n",
       "        Genre 2  Genre 3  \n",
       "0           NaN      NaN  \n",
       "1  canadian pop  hip hop  \n",
       "2  canadian pop  hip hop  \n",
       "3           rap      NaN  \n",
       "4           pop  pop rap  "
      ],
      "text/html": "<div>\n<style scoped>\n    .dataframe tbody tr th:only-of-type {\n        vertical-align: middle;\n    }\n\n    .dataframe tbody tr th {\n        vertical-align: top;\n    }\n\n    .dataframe thead th {\n        text-align: right;\n    }\n</style>\n<table border=\"1\" class=\"dataframe\">\n  <thead>\n    <tr style=\"text-align: right;\">\n      <th></th>\n      <th>Unnamed: 0</th>\n      <th>Position</th>\n      <th>Track Name</th>\n      <th>Artist</th>\n      <th>Streams</th>\n      <th>URL</th>\n      <th>Filename</th>\n      <th>Month</th>\n      <th>Date</th>\n      <th>Week Number</th>\n      <th>Type</th>\n      <th>Artist ID</th>\n      <th>Genre 1</th>\n      <th>Genre 2</th>\n      <th>Genre 3</th>\n    </tr>\n  </thead>\n  <tbody>\n    <tr>\n      <th>0</th>\n      <td>0</td>\n      <td>1</td>\n      <td>THE SCOTTS</td>\n      <td>THE SCOTTS</td>\n      <td>12864147</td>\n      <td>https://open.spotify.com/track/39Yp9wwQiSRIDOv...</td>\n      <td>regional-us-weekly-2020-05-01--2020-05-08.csv</td>\n      <td>May</td>\n      <td>2020-05-01</td>\n      <td>18</td>\n      <td>Top 200</td>\n      <td>2PaZWGu5T5nHjY2xxAkFsT</td>\n      <td>unspecified</td>\n      <td>NaN</td>\n      <td>NaN</td>\n    </tr>\n    <tr>\n      <th>1</th>\n      <td>1</td>\n      <td>2</td>\n      <td>Toosie Slide</td>\n      <td>Drake</td>\n      <td>11648985</td>\n      <td>https://open.spotify.com/track/466cKvZn1j45Ipx...</td>\n      <td>regional-us-weekly-2020-05-01--2020-05-08.csv</td>\n      <td>May</td>\n      <td>2020-05-01</td>\n      <td>18</td>\n      <td>Top 200</td>\n      <td>3TVXtAsR1Inumwj472S9r4</td>\n      <td>canadian hip hop</td>\n      <td>canadian pop</td>\n      <td>hip hop</td>\n    </tr>\n    <tr>\n      <th>2</th>\n      <td>2</td>\n      <td>3</td>\n      <td>Pain 1993 (with Playboi Carti)</td>\n      <td>Drake</td>\n      <td>10082722</td>\n      <td>https://open.spotify.com/track/6Kj17Afjo1OKJYp...</td>\n      <td>regional-us-weekly-2020-05-01--2020-05-08.csv</td>\n      <td>May</td>\n      <td>2020-05-01</td>\n      <td>18</td>\n      <td>Top 200</td>\n      <td>3TVXtAsR1Inumwj472S9r4</td>\n      <td>canadian hip hop</td>\n      <td>canadian pop</td>\n      <td>hip hop</td>\n    </tr>\n    <tr>\n      <th>3</th>\n      <td>3</td>\n      <td>4</td>\n      <td>ROCKSTAR (feat. Roddy Ricch)</td>\n      <td>DaBaby</td>\n      <td>10028561</td>\n      <td>https://open.spotify.com/track/7ytR5pFWmSjzHJI...</td>\n      <td>regional-us-weekly-2020-05-01--2020-05-08.csv</td>\n      <td>May</td>\n      <td>2020-05-01</td>\n      <td>18</td>\n      <td>Top 200</td>\n      <td>4r63FhuTkUYltbVAg5TQnk</td>\n      <td>north carolina hip hop</td>\n      <td>rap</td>\n      <td>NaN</td>\n    </tr>\n    <tr>\n      <th>4</th>\n      <td>4</td>\n      <td>5</td>\n      <td>Savage Remix (feat. Beyoncé)</td>\n      <td>Megan Thee Stallion</td>\n      <td>8965215</td>\n      <td>https://open.spotify.com/track/5v4GgrXPMghOnBB...</td>\n      <td>regional-us-weekly-2020-05-01--2020-05-08.csv</td>\n      <td>May</td>\n      <td>2020-05-01</td>\n      <td>18</td>\n      <td>Top 200</td>\n      <td>181bsRPaVXVlUKXrxwZfHK</td>\n      <td>houston rap</td>\n      <td>pop</td>\n      <td>pop rap</td>\n    </tr>\n  </tbody>\n</table>\n</div>"
     },
     "metadata": {},
     "execution_count": 21
    }
   ],
   "source": [
    "may_top200_genre_df = mayjul_top200[mayjul_top200['Month'] == 'May']\n",
    "may_top200_genre_df.head()"
   ]
  },
  {
   "cell_type": "code",
   "execution_count": 22,
   "metadata": {},
   "outputs": [
    {
     "output_type": "execute_result",
     "data": {
      "text/plain": [
       "Genre 1\n",
       "melodic rap                  79\n",
       "atl hip hop                  73\n",
       "dance pop                    63\n",
       "contemporary country         55\n",
       "chicago rap                  55\n",
       "canadian hip hop             49\n",
       "pop                          39\n",
       "north carolina hip hop       32\n",
       "dfw rap                      31\n",
       "alt z                        28\n",
       "rap                          27\n",
       "electropop                   25\n",
       "latin                        23\n",
       "emo rap                      23\n",
       "canadian contemporary r&b    17\n",
       "alternative r&b              17\n",
       "hip hop                      14\n",
       "houston rap                  12\n",
       "pop rap                      10\n",
       "brooklyn drill                9\n",
       "canadian pop                  8\n",
       "australian pop                8\n",
       "cali rap                      8\n",
       "memphis hip hop               8\n",
       "indie pop                     7\n",
       "brostep                       6\n",
       "boy band                      6\n",
       "conscious hip hop             6\n",
       "chicago drill                 5\n",
       "viral rap                     4\n",
       "unspecified                   4\n",
       "deep underground hip hop      4\n",
       "detroit hip hop               4\n",
       "australian psych              4\n",
       "bedroom soul                  4\n",
       "florida rap                   4\n",
       "modern rock                   4\n",
       "tropical house                4\n",
       "bmore                         4\n",
       "baton rouge rap               3\n",
       "dark trap                     2\n",
       "boston hip hop                2\n",
       "edm                           2\n",
       "ohio hip hop                  2\n",
       "banda                         1\n",
       "k-rap                         1\n",
       "modern alternative rock       1\n",
       "social media pop              1\n",
       "album rock                    1\n",
       "afrofuturism                  1\n",
       "dtype: int64"
      ]
     },
     "metadata": {},
     "execution_count": 22
    }
   ],
   "source": [
    "for index, row in may_top200_genre_df.iterrows():\n",
    "    if row['Genre 1'] == \"\" :\n",
    "        may_top200_genre_df.loc[index, 'Genre 1'] = \"unspecified\"\n",
    "\n",
    "may_top200_genre_df.value_counts('Genre 1')"
   ]
  },
  {
   "cell_type": "code",
   "execution_count": 23,
   "metadata": {},
   "outputs": [
    {
     "output_type": "execute_result",
     "data": {
      "text/plain": [
       "   Position                      Track Name               Artist   Streams  \\\n",
       "0         1                      THE SCOTTS           THE SCOTTS  12864147   \n",
       "1         2                    Toosie Slide                Drake  11648985   \n",
       "2         3  Pain 1993 (with Playboi Carti)                Drake  10082722   \n",
       "3         4    ROCKSTAR (feat. Roddy Ricch)               DaBaby  10028561   \n",
       "4         5    Savage Remix (feat. Beyoncé)  Megan Thee Stallion   8965215   \n",
       "\n",
       "                                                 URL  \\\n",
       "0  https://open.spotify.com/track/39Yp9wwQiSRIDOv...   \n",
       "1  https://open.spotify.com/track/466cKvZn1j45Ipx...   \n",
       "2  https://open.spotify.com/track/6Kj17Afjo1OKJYp...   \n",
       "3  https://open.spotify.com/track/7ytR5pFWmSjzHJI...   \n",
       "4  https://open.spotify.com/track/5v4GgrXPMghOnBB...   \n",
       "\n",
       "                                        Filename Month        Date  \\\n",
       "0  regional-us-weekly-2020-05-01--2020-05-08.csv   May  2020-05-01   \n",
       "1  regional-us-weekly-2020-05-01--2020-05-08.csv   May  2020-05-01   \n",
       "2  regional-us-weekly-2020-05-01--2020-05-08.csv   May  2020-05-01   \n",
       "3  regional-us-weekly-2020-05-01--2020-05-08.csv   May  2020-05-01   \n",
       "4  regional-us-weekly-2020-05-01--2020-05-08.csv   May  2020-05-01   \n",
       "\n",
       "   Week Number     Type               Artist ID                 Genre 1  \\\n",
       "0           18  Top 200  2PaZWGu5T5nHjY2xxAkFsT             unspecified   \n",
       "1           18  Top 200  3TVXtAsR1Inumwj472S9r4        canadian hip hop   \n",
       "2           18  Top 200  3TVXtAsR1Inumwj472S9r4        canadian hip hop   \n",
       "3           18  Top 200  4r63FhuTkUYltbVAg5TQnk  north carolina hip hop   \n",
       "4           18  Top 200  181bsRPaVXVlUKXrxwZfHK             houston rap   \n",
       "\n",
       "        Genre 2  Genre 3  \n",
       "0           NaN      NaN  \n",
       "1  canadian pop  hip hop  \n",
       "2  canadian pop  hip hop  \n",
       "3           rap      NaN  \n",
       "4           pop  pop rap  "
      ],
      "text/html": "<div>\n<style scoped>\n    .dataframe tbody tr th:only-of-type {\n        vertical-align: middle;\n    }\n\n    .dataframe tbody tr th {\n        vertical-align: top;\n    }\n\n    .dataframe thead th {\n        text-align: right;\n    }\n</style>\n<table border=\"1\" class=\"dataframe\">\n  <thead>\n    <tr style=\"text-align: right;\">\n      <th></th>\n      <th>Position</th>\n      <th>Track Name</th>\n      <th>Artist</th>\n      <th>Streams</th>\n      <th>URL</th>\n      <th>Filename</th>\n      <th>Month</th>\n      <th>Date</th>\n      <th>Week Number</th>\n      <th>Type</th>\n      <th>Artist ID</th>\n      <th>Genre 1</th>\n      <th>Genre 2</th>\n      <th>Genre 3</th>\n    </tr>\n  </thead>\n  <tbody>\n    <tr>\n      <th>0</th>\n      <td>1</td>\n      <td>THE SCOTTS</td>\n      <td>THE SCOTTS</td>\n      <td>12864147</td>\n      <td>https://open.spotify.com/track/39Yp9wwQiSRIDOv...</td>\n      <td>regional-us-weekly-2020-05-01--2020-05-08.csv</td>\n      <td>May</td>\n      <td>2020-05-01</td>\n      <td>18</td>\n      <td>Top 200</td>\n      <td>2PaZWGu5T5nHjY2xxAkFsT</td>\n      <td>unspecified</td>\n      <td>NaN</td>\n      <td>NaN</td>\n    </tr>\n    <tr>\n      <th>1</th>\n      <td>2</td>\n      <td>Toosie Slide</td>\n      <td>Drake</td>\n      <td>11648985</td>\n      <td>https://open.spotify.com/track/466cKvZn1j45Ipx...</td>\n      <td>regional-us-weekly-2020-05-01--2020-05-08.csv</td>\n      <td>May</td>\n      <td>2020-05-01</td>\n      <td>18</td>\n      <td>Top 200</td>\n      <td>3TVXtAsR1Inumwj472S9r4</td>\n      <td>canadian hip hop</td>\n      <td>canadian pop</td>\n      <td>hip hop</td>\n    </tr>\n    <tr>\n      <th>2</th>\n      <td>3</td>\n      <td>Pain 1993 (with Playboi Carti)</td>\n      <td>Drake</td>\n      <td>10082722</td>\n      <td>https://open.spotify.com/track/6Kj17Afjo1OKJYp...</td>\n      <td>regional-us-weekly-2020-05-01--2020-05-08.csv</td>\n      <td>May</td>\n      <td>2020-05-01</td>\n      <td>18</td>\n      <td>Top 200</td>\n      <td>3TVXtAsR1Inumwj472S9r4</td>\n      <td>canadian hip hop</td>\n      <td>canadian pop</td>\n      <td>hip hop</td>\n    </tr>\n    <tr>\n      <th>3</th>\n      <td>4</td>\n      <td>ROCKSTAR (feat. Roddy Ricch)</td>\n      <td>DaBaby</td>\n      <td>10028561</td>\n      <td>https://open.spotify.com/track/7ytR5pFWmSjzHJI...</td>\n      <td>regional-us-weekly-2020-05-01--2020-05-08.csv</td>\n      <td>May</td>\n      <td>2020-05-01</td>\n      <td>18</td>\n      <td>Top 200</td>\n      <td>4r63FhuTkUYltbVAg5TQnk</td>\n      <td>north carolina hip hop</td>\n      <td>rap</td>\n      <td>NaN</td>\n    </tr>\n    <tr>\n      <th>4</th>\n      <td>5</td>\n      <td>Savage Remix (feat. Beyoncé)</td>\n      <td>Megan Thee Stallion</td>\n      <td>8965215</td>\n      <td>https://open.spotify.com/track/5v4GgrXPMghOnBB...</td>\n      <td>regional-us-weekly-2020-05-01--2020-05-08.csv</td>\n      <td>May</td>\n      <td>2020-05-01</td>\n      <td>18</td>\n      <td>Top 200</td>\n      <td>181bsRPaVXVlUKXrxwZfHK</td>\n      <td>houston rap</td>\n      <td>pop</td>\n      <td>pop rap</td>\n    </tr>\n  </tbody>\n</table>\n</div>"
     },
     "metadata": {},
     "execution_count": 23
    }
   ],
   "source": [
    "may_top200_genre_df = may_top200_genre_df.drop([\"Unnamed: 0\"], axis=1)\n",
    "may_top200_genre_df.head()"
   ]
  },
  {
   "cell_type": "code",
   "execution_count": 25,
   "metadata": {},
   "outputs": [
    {
     "output_type": "execute_result",
     "data": {
      "text/plain": [
       "              Genre  Count\n",
       "0  Rap/Hip Hop/Trap    540\n",
       "1    R&B/Soul/Blues     46\n",
       "2               Pop    356\n",
       "3              Rock     17\n",
       "4           Country     55"
      ],
      "text/html": "<div>\n<style scoped>\n    .dataframe tbody tr th:only-of-type {\n        vertical-align: middle;\n    }\n\n    .dataframe tbody tr th {\n        vertical-align: top;\n    }\n\n    .dataframe thead th {\n        text-align: right;\n    }\n</style>\n<table border=\"1\" class=\"dataframe\">\n  <thead>\n    <tr style=\"text-align: right;\">\n      <th></th>\n      <th>Genre</th>\n      <th>Count</th>\n    </tr>\n  </thead>\n  <tbody>\n    <tr>\n      <th>0</th>\n      <td>Rap/Hip Hop/Trap</td>\n      <td>540</td>\n    </tr>\n    <tr>\n      <th>1</th>\n      <td>R&amp;B/Soul/Blues</td>\n      <td>46</td>\n    </tr>\n    <tr>\n      <th>2</th>\n      <td>Pop</td>\n      <td>356</td>\n    </tr>\n    <tr>\n      <th>3</th>\n      <td>Rock</td>\n      <td>17</td>\n    </tr>\n    <tr>\n      <th>4</th>\n      <td>Country</td>\n      <td>55</td>\n    </tr>\n  </tbody>\n</table>\n</div>"
     },
     "metadata": {},
     "execution_count": 25
    }
   ],
   "source": [
    "genre_data = {\n",
    "    'Genre': ['Rap/Hip Hop/Trap', 'R&B/Soul/Blues',  'Pop', 'Rock', 'Country', 'Latin', 'Disco', 'Indie', 'House/EDM', 'Alternative/Alt', 'Glitchcore', 'Brooklyn Drill', 'Halloween', 'Christmas', 'Classical'],\n",
    "    'Count': [len(may_top200_genre_df[may_top200_genre_df['Genre 1'].str.contains('rap|hip hop|trap') | may_top200_genre_df['Genre 2'].str.contains('rap|hip hop|trap') | may_top200_genre_df['Genre 3'].str.contains('rap|hip hop|trap')]), len(may_top200_genre_df[may_top200_genre_df['Genre 1'].str.contains('r&b|soul|blues') | may_top200_genre_df['Genre 2'].str.contains('r&b|soul|blues') | may_top200_genre_df['Genre 3'].str.contains('r&b|soul|blues')]), len(may_top200_genre_df[may_top200_genre_df['Genre 1'].str.contains('pop') | may_top200_genre_df['Genre 2'].str.contains('pop') | may_top200_genre_df['Genre 3'].str.contains('pop')]), len(may_top200_genre_df[may_top200_genre_df['Genre 1'].str.contains('rock') | may_top200_genre_df['Genre 2'].str.contains('rock') | may_top200_genre_df['Genre 3'].str.contains('rock')]), len(may_top200_genre_df[may_top200_genre_df['Genre 1'].str.contains('country') | may_top200_genre_df['Genre 2'].str.contains('country') | may_top200_genre_df['Genre 3'].str.contains('country')]), len(may_top200_genre_df[may_top200_genre_df['Genre 1'].str.contains('latin') | may_top200_genre_df['Genre 2'].str.contains('latin') | may_top200_genre_df['Genre 3'].str.contains('latin')]), len(may_top200_genre_df[may_top200_genre_df['Genre 1'].str.contains('disco') | may_top200_genre_df['Genre 2'].str.contains('disco') | may_top200_genre_df['Genre 3'].str.contains('disco')]), len(may_top200_genre_df[may_top200_genre_df['Genre 1'].str.contains('indie') | may_top200_genre_df['Genre 2'].str.contains('indie') | may_top200_genre_df['Genre 3'].str.contains('indie')]), len(may_top200_genre_df[may_top200_genre_df['Genre 1'].str.contains('house|edm') | may_top200_genre_df['Genre 2'].str.contains('house|edm') | may_top200_genre_df['Genre 3'].str.contains('house|edm')]), len(may_top200_genre_df[may_top200_genre_df['Genre 1'].str.contains('alt|alternative') | may_top200_genre_df['Genre 2'].str.contains('alt|alternative') | may_top200_genre_df['Genre 3'].str.contains('alt|alternative')]), len(may_top200_genre_df[may_top200_genre_df['Genre 1'].str.contains('glitchcore') | may_top200_genre_df['Genre 2'].str.contains('glitchcore') | may_top200_genre_df['Genre 3'].str.contains('glitchcore')]), len(may_top200_genre_df[may_top200_genre_df['Genre 1'].str.contains('brooklyn drill') | may_top200_genre_df['Genre 2'].str.contains('brooklyn drill') | may_top200_genre_df['Genre 3'].str.contains('brooklyn drill')]), len(may_top200_genre_df[may_top200_genre_df['Genre 1'].str.contains('halloween') | may_top200_genre_df['Genre 2'].str.contains('halloween') | may_top200_genre_df['Genre 3'].str.contains('halloween')]), len(may_top200_genre_df[may_top200_genre_df['Genre 1'].str.contains('christmas') | may_top200_genre_df['Genre 2'].str.contains('christmas') | may_top200_genre_df['Genre 3'].str.contains('christmas')]), len(may_top200_genre_df[may_top200_genre_df['Genre 1'].str.contains('classical') | may_top200_genre_df['Genre 2'].str.contains('classical') | may_top200_genre_df['Genre 3'].str.contains('classical')])]\n",
    "}\n",
    "may_top200_genre_df = pd.DataFrame(genre_data)\n",
    "may_top200_genre_df.head()"
   ]
  },
  {
   "cell_type": "code",
   "execution_count": 26,
   "metadata": {},
   "outputs": [],
   "source": [
    "may_top200_genre_df.to_csv('may_top200_genre.csv')"
   ]
  },
  {
   "cell_type": "code",
   "execution_count": 27,
   "metadata": {},
   "outputs": [
    {
     "output_type": "execute_result",
     "data": {
      "text/plain": [
       "     Unnamed: 0  Position                                         Track Name  \\\n",
       "800         800         1                       ROCKSTAR (feat. Roddy Ricch)   \n",
       "801         801         2            For The Night (feat. Lil Baby & DaBaby)   \n",
       "802         802         3  WHATS POPPIN (feat. DaBaby, Tory Lanez & Lil W...   \n",
       "803         803         4                                   Watermelon Sugar   \n",
       "804         804         5                                    Blueberry Faygo   \n",
       "\n",
       "           Artist   Streams  \\\n",
       "800        DaBaby  10375792   \n",
       "801     Pop Smoke   7298716   \n",
       "802   Jack Harlow   7189682   \n",
       "803  Harry Styles   6689854   \n",
       "804     Lil Mosey   6492849   \n",
       "\n",
       "                                                   URL  \\\n",
       "800  https://open.spotify.com/track/7ytR5pFWmSjzHJI...   \n",
       "801  https://open.spotify.com/track/0PvFJmanyNQMseI...   \n",
       "802  https://open.spotify.com/track/2MbdDtCv5LUVjYy...   \n",
       "803  https://open.spotify.com/track/6UelLqGlWMcVH1E...   \n",
       "804  https://open.spotify.com/track/22LAwLoDA5b4AaG...   \n",
       "\n",
       "                                          Filename Month        Date  \\\n",
       "800  regional-us-weekly-2020-07-03--2020-07-10.csv  July  2020-07-03   \n",
       "801  regional-us-weekly-2020-07-03--2020-07-10.csv  July  2020-07-03   \n",
       "802  regional-us-weekly-2020-07-03--2020-07-10.csv  July  2020-07-03   \n",
       "803  regional-us-weekly-2020-07-03--2020-07-10.csv  July  2020-07-03   \n",
       "804  regional-us-weekly-2020-07-03--2020-07-10.csv  July  2020-07-03   \n",
       "\n",
       "     Week Number     Type               Artist ID                   Genre 1  \\\n",
       "800           27  Top 200  4r63FhuTkUYltbVAg5TQnk    north carolina hip hop   \n",
       "801           27  Top 200  0eDvMgVFoNV3TpwtrVCoTj            brooklyn drill   \n",
       "802           27  Top 200  2LIk90788K0zvyj2JJVwkJ  deep underground hip hop   \n",
       "803           27  Top 200  6KImCVD70vtIoJWnq6nGn3                       pop   \n",
       "804           27  Top 200  5zctI4wO9XSKS8XwcnqEHk               melodic rap   \n",
       "\n",
       "              Genre 2        Genre 3  \n",
       "800               rap            NaN  \n",
       "801               NaN            NaN  \n",
       "802  kentucky hip hop        pop rap  \n",
       "803     post-teen pop            NaN  \n",
       "804               rap  rap conscient  "
      ],
      "text/html": "<div>\n<style scoped>\n    .dataframe tbody tr th:only-of-type {\n        vertical-align: middle;\n    }\n\n    .dataframe tbody tr th {\n        vertical-align: top;\n    }\n\n    .dataframe thead th {\n        text-align: right;\n    }\n</style>\n<table border=\"1\" class=\"dataframe\">\n  <thead>\n    <tr style=\"text-align: right;\">\n      <th></th>\n      <th>Unnamed: 0</th>\n      <th>Position</th>\n      <th>Track Name</th>\n      <th>Artist</th>\n      <th>Streams</th>\n      <th>URL</th>\n      <th>Filename</th>\n      <th>Month</th>\n      <th>Date</th>\n      <th>Week Number</th>\n      <th>Type</th>\n      <th>Artist ID</th>\n      <th>Genre 1</th>\n      <th>Genre 2</th>\n      <th>Genre 3</th>\n    </tr>\n  </thead>\n  <tbody>\n    <tr>\n      <th>800</th>\n      <td>800</td>\n      <td>1</td>\n      <td>ROCKSTAR (feat. Roddy Ricch)</td>\n      <td>DaBaby</td>\n      <td>10375792</td>\n      <td>https://open.spotify.com/track/7ytR5pFWmSjzHJI...</td>\n      <td>regional-us-weekly-2020-07-03--2020-07-10.csv</td>\n      <td>July</td>\n      <td>2020-07-03</td>\n      <td>27</td>\n      <td>Top 200</td>\n      <td>4r63FhuTkUYltbVAg5TQnk</td>\n      <td>north carolina hip hop</td>\n      <td>rap</td>\n      <td>NaN</td>\n    </tr>\n    <tr>\n      <th>801</th>\n      <td>801</td>\n      <td>2</td>\n      <td>For The Night (feat. Lil Baby &amp; DaBaby)</td>\n      <td>Pop Smoke</td>\n      <td>7298716</td>\n      <td>https://open.spotify.com/track/0PvFJmanyNQMseI...</td>\n      <td>regional-us-weekly-2020-07-03--2020-07-10.csv</td>\n      <td>July</td>\n      <td>2020-07-03</td>\n      <td>27</td>\n      <td>Top 200</td>\n      <td>0eDvMgVFoNV3TpwtrVCoTj</td>\n      <td>brooklyn drill</td>\n      <td>NaN</td>\n      <td>NaN</td>\n    </tr>\n    <tr>\n      <th>802</th>\n      <td>802</td>\n      <td>3</td>\n      <td>WHATS POPPIN (feat. DaBaby, Tory Lanez &amp; Lil W...</td>\n      <td>Jack Harlow</td>\n      <td>7189682</td>\n      <td>https://open.spotify.com/track/2MbdDtCv5LUVjYy...</td>\n      <td>regional-us-weekly-2020-07-03--2020-07-10.csv</td>\n      <td>July</td>\n      <td>2020-07-03</td>\n      <td>27</td>\n      <td>Top 200</td>\n      <td>2LIk90788K0zvyj2JJVwkJ</td>\n      <td>deep underground hip hop</td>\n      <td>kentucky hip hop</td>\n      <td>pop rap</td>\n    </tr>\n    <tr>\n      <th>803</th>\n      <td>803</td>\n      <td>4</td>\n      <td>Watermelon Sugar</td>\n      <td>Harry Styles</td>\n      <td>6689854</td>\n      <td>https://open.spotify.com/track/6UelLqGlWMcVH1E...</td>\n      <td>regional-us-weekly-2020-07-03--2020-07-10.csv</td>\n      <td>July</td>\n      <td>2020-07-03</td>\n      <td>27</td>\n      <td>Top 200</td>\n      <td>6KImCVD70vtIoJWnq6nGn3</td>\n      <td>pop</td>\n      <td>post-teen pop</td>\n      <td>NaN</td>\n    </tr>\n    <tr>\n      <th>804</th>\n      <td>804</td>\n      <td>5</td>\n      <td>Blueberry Faygo</td>\n      <td>Lil Mosey</td>\n      <td>6492849</td>\n      <td>https://open.spotify.com/track/22LAwLoDA5b4AaG...</td>\n      <td>regional-us-weekly-2020-07-03--2020-07-10.csv</td>\n      <td>July</td>\n      <td>2020-07-03</td>\n      <td>27</td>\n      <td>Top 200</td>\n      <td>5zctI4wO9XSKS8XwcnqEHk</td>\n      <td>melodic rap</td>\n      <td>rap</td>\n      <td>rap conscient</td>\n    </tr>\n  </tbody>\n</table>\n</div>"
     },
     "metadata": {},
     "execution_count": 27
    }
   ],
   "source": [
    "july_top200_genre_df = mayjul_top200[mayjul_top200['Month'] == 'July']\n",
    "july_top200_genre_df.head()"
   ]
  },
  {
   "cell_type": "code",
   "execution_count": 29,
   "metadata": {},
   "outputs": [
    {
     "output_type": "execute_result",
     "data": {
      "text/plain": [
       "Genre 1\n",
       "chicago rap                  104\n",
       "melodic rap                   59\n",
       "brooklyn drill                53\n",
       "pop                           49\n",
       "dance pop                     49\n",
       "contemporary country          38\n",
       "atl hip hop                   38\n",
       "dfw rap                       28\n",
       "alt z                         26\n",
       "electropop                    25\n",
       "emo rap                       25\n",
       "conscious hip hop             24\n",
       "rap                           21\n",
       "alternative r&b               20\n",
       "latin                         18\n",
       "hollywood                     18\n",
       "canadian hip hop              17\n",
       "north carolina hip hop        12\n",
       "cali rap                      11\n",
       "houston rap                   11\n",
       "hip hop                       10\n",
       "australian hip hop             9\n",
       "canadian contemporary r&b      8\n",
       "deep underground hip hop       8\n",
       "indie pop                      8\n",
       "memphis hip hop                8\n",
       "pop rap                        8\n",
       "chicago drill                  8\n",
       "unspecified                    8\n",
       "florida rap                    7\n",
       "canadian pop                   7\n",
       "edm                            5\n",
       "bmore                          5\n",
       "bedroom soul                   4\n",
       "australian psych               4\n",
       "brostep                        4\n",
       "australian pop                 4\n",
       "dark trap                      4\n",
       "detroit hip hop                4\n",
       "k-pop                          4\n",
       "nz pop                         4\n",
       "tropical house                 4\n",
       "afrofuturism                   4\n",
       "boy band                       3\n",
       "r&b en espanol                 3\n",
       "nyc rap                        2\n",
       "album rock                     2\n",
       "complextro                     1\n",
       "corridos tumbados              1\n",
       "dance rock                     1\n",
       "uk hip hop                     1\n",
       "miami hip hop                  1\n",
       "dtype: int64"
      ]
     },
     "metadata": {},
     "execution_count": 29
    }
   ],
   "source": [
    "for index, row in july_top200_genre_df.iterrows():\n",
    "    if row['Genre 1'] == \"\" :\n",
    "        july_top200_genre_df.loc[index, 'Genre 1'] = \"unspecified\"\n",
    "\n",
    "july_top200_genre_df.value_counts('Genre 1')"
   ]
  },
  {
   "cell_type": "code",
   "execution_count": 30,
   "metadata": {},
   "outputs": [
    {
     "output_type": "execute_result",
     "data": {
      "text/plain": [
       "     Position                                         Track Name  \\\n",
       "800         1                       ROCKSTAR (feat. Roddy Ricch)   \n",
       "801         2            For The Night (feat. Lil Baby & DaBaby)   \n",
       "802         3  WHATS POPPIN (feat. DaBaby, Tory Lanez & Lil W...   \n",
       "803         4                                   Watermelon Sugar   \n",
       "804         5                                    Blueberry Faygo   \n",
       "\n",
       "           Artist   Streams  \\\n",
       "800        DaBaby  10375792   \n",
       "801     Pop Smoke   7298716   \n",
       "802   Jack Harlow   7189682   \n",
       "803  Harry Styles   6689854   \n",
       "804     Lil Mosey   6492849   \n",
       "\n",
       "                                                   URL  \\\n",
       "800  https://open.spotify.com/track/7ytR5pFWmSjzHJI...   \n",
       "801  https://open.spotify.com/track/0PvFJmanyNQMseI...   \n",
       "802  https://open.spotify.com/track/2MbdDtCv5LUVjYy...   \n",
       "803  https://open.spotify.com/track/6UelLqGlWMcVH1E...   \n",
       "804  https://open.spotify.com/track/22LAwLoDA5b4AaG...   \n",
       "\n",
       "                                          Filename Month        Date  \\\n",
       "800  regional-us-weekly-2020-07-03--2020-07-10.csv  July  2020-07-03   \n",
       "801  regional-us-weekly-2020-07-03--2020-07-10.csv  July  2020-07-03   \n",
       "802  regional-us-weekly-2020-07-03--2020-07-10.csv  July  2020-07-03   \n",
       "803  regional-us-weekly-2020-07-03--2020-07-10.csv  July  2020-07-03   \n",
       "804  regional-us-weekly-2020-07-03--2020-07-10.csv  July  2020-07-03   \n",
       "\n",
       "     Week Number     Type               Artist ID                   Genre 1  \\\n",
       "800           27  Top 200  4r63FhuTkUYltbVAg5TQnk    north carolina hip hop   \n",
       "801           27  Top 200  0eDvMgVFoNV3TpwtrVCoTj            brooklyn drill   \n",
       "802           27  Top 200  2LIk90788K0zvyj2JJVwkJ  deep underground hip hop   \n",
       "803           27  Top 200  6KImCVD70vtIoJWnq6nGn3                       pop   \n",
       "804           27  Top 200  5zctI4wO9XSKS8XwcnqEHk               melodic rap   \n",
       "\n",
       "              Genre 2        Genre 3  \n",
       "800               rap            NaN  \n",
       "801               NaN            NaN  \n",
       "802  kentucky hip hop        pop rap  \n",
       "803     post-teen pop            NaN  \n",
       "804               rap  rap conscient  "
      ],
      "text/html": "<div>\n<style scoped>\n    .dataframe tbody tr th:only-of-type {\n        vertical-align: middle;\n    }\n\n    .dataframe tbody tr th {\n        vertical-align: top;\n    }\n\n    .dataframe thead th {\n        text-align: right;\n    }\n</style>\n<table border=\"1\" class=\"dataframe\">\n  <thead>\n    <tr style=\"text-align: right;\">\n      <th></th>\n      <th>Position</th>\n      <th>Track Name</th>\n      <th>Artist</th>\n      <th>Streams</th>\n      <th>URL</th>\n      <th>Filename</th>\n      <th>Month</th>\n      <th>Date</th>\n      <th>Week Number</th>\n      <th>Type</th>\n      <th>Artist ID</th>\n      <th>Genre 1</th>\n      <th>Genre 2</th>\n      <th>Genre 3</th>\n    </tr>\n  </thead>\n  <tbody>\n    <tr>\n      <th>800</th>\n      <td>1</td>\n      <td>ROCKSTAR (feat. Roddy Ricch)</td>\n      <td>DaBaby</td>\n      <td>10375792</td>\n      <td>https://open.spotify.com/track/7ytR5pFWmSjzHJI...</td>\n      <td>regional-us-weekly-2020-07-03--2020-07-10.csv</td>\n      <td>July</td>\n      <td>2020-07-03</td>\n      <td>27</td>\n      <td>Top 200</td>\n      <td>4r63FhuTkUYltbVAg5TQnk</td>\n      <td>north carolina hip hop</td>\n      <td>rap</td>\n      <td>NaN</td>\n    </tr>\n    <tr>\n      <th>801</th>\n      <td>2</td>\n      <td>For The Night (feat. Lil Baby &amp; DaBaby)</td>\n      <td>Pop Smoke</td>\n      <td>7298716</td>\n      <td>https://open.spotify.com/track/0PvFJmanyNQMseI...</td>\n      <td>regional-us-weekly-2020-07-03--2020-07-10.csv</td>\n      <td>July</td>\n      <td>2020-07-03</td>\n      <td>27</td>\n      <td>Top 200</td>\n      <td>0eDvMgVFoNV3TpwtrVCoTj</td>\n      <td>brooklyn drill</td>\n      <td>NaN</td>\n      <td>NaN</td>\n    </tr>\n    <tr>\n      <th>802</th>\n      <td>3</td>\n      <td>WHATS POPPIN (feat. DaBaby, Tory Lanez &amp; Lil W...</td>\n      <td>Jack Harlow</td>\n      <td>7189682</td>\n      <td>https://open.spotify.com/track/2MbdDtCv5LUVjYy...</td>\n      <td>regional-us-weekly-2020-07-03--2020-07-10.csv</td>\n      <td>July</td>\n      <td>2020-07-03</td>\n      <td>27</td>\n      <td>Top 200</td>\n      <td>2LIk90788K0zvyj2JJVwkJ</td>\n      <td>deep underground hip hop</td>\n      <td>kentucky hip hop</td>\n      <td>pop rap</td>\n    </tr>\n    <tr>\n      <th>803</th>\n      <td>4</td>\n      <td>Watermelon Sugar</td>\n      <td>Harry Styles</td>\n      <td>6689854</td>\n      <td>https://open.spotify.com/track/6UelLqGlWMcVH1E...</td>\n      <td>regional-us-weekly-2020-07-03--2020-07-10.csv</td>\n      <td>July</td>\n      <td>2020-07-03</td>\n      <td>27</td>\n      <td>Top 200</td>\n      <td>6KImCVD70vtIoJWnq6nGn3</td>\n      <td>pop</td>\n      <td>post-teen pop</td>\n      <td>NaN</td>\n    </tr>\n    <tr>\n      <th>804</th>\n      <td>5</td>\n      <td>Blueberry Faygo</td>\n      <td>Lil Mosey</td>\n      <td>6492849</td>\n      <td>https://open.spotify.com/track/22LAwLoDA5b4AaG...</td>\n      <td>regional-us-weekly-2020-07-03--2020-07-10.csv</td>\n      <td>July</td>\n      <td>2020-07-03</td>\n      <td>27</td>\n      <td>Top 200</td>\n      <td>5zctI4wO9XSKS8XwcnqEHk</td>\n      <td>melodic rap</td>\n      <td>rap</td>\n      <td>rap conscient</td>\n    </tr>\n  </tbody>\n</table>\n</div>"
     },
     "metadata": {},
     "execution_count": 30
    }
   ],
   "source": [
    "july_top200_genre_df = july_top200_genre_df.drop([\"Unnamed: 0\"], axis=1)\n",
    "july_top200_genre_df.head()"
   ]
  },
  {
   "cell_type": "code",
   "execution_count": 31,
   "metadata": {},
   "outputs": [
    {
     "output_type": "execute_result",
     "data": {
      "text/plain": [
       "              Genre  Count\n",
       "0  Rap/Hip Hop/Trap    479\n",
       "1    R&B/Soul/Blues     46\n",
       "2               Pop    289\n",
       "3              Rock     20\n",
       "4           Country     41"
      ],
      "text/html": "<div>\n<style scoped>\n    .dataframe tbody tr th:only-of-type {\n        vertical-align: middle;\n    }\n\n    .dataframe tbody tr th {\n        vertical-align: top;\n    }\n\n    .dataframe thead th {\n        text-align: right;\n    }\n</style>\n<table border=\"1\" class=\"dataframe\">\n  <thead>\n    <tr style=\"text-align: right;\">\n      <th></th>\n      <th>Genre</th>\n      <th>Count</th>\n    </tr>\n  </thead>\n  <tbody>\n    <tr>\n      <th>0</th>\n      <td>Rap/Hip Hop/Trap</td>\n      <td>479</td>\n    </tr>\n    <tr>\n      <th>1</th>\n      <td>R&amp;B/Soul/Blues</td>\n      <td>46</td>\n    </tr>\n    <tr>\n      <th>2</th>\n      <td>Pop</td>\n      <td>289</td>\n    </tr>\n    <tr>\n      <th>3</th>\n      <td>Rock</td>\n      <td>20</td>\n    </tr>\n    <tr>\n      <th>4</th>\n      <td>Country</td>\n      <td>41</td>\n    </tr>\n  </tbody>\n</table>\n</div>"
     },
     "metadata": {},
     "execution_count": 31
    }
   ],
   "source": [
    "genre_data = {\n",
    "    'Genre': ['Rap/Hip Hop/Trap', 'R&B/Soul/Blues',  'Pop', 'Rock', 'Country', 'Latin', 'Disco', 'Indie', 'House/EDM', 'Alternative/Alt', 'Glitchcore', 'Brooklyn Drill', 'Halloween', 'Christmas', 'Classical'],\n",
    "    'Count': [len(july_top200_genre_df[july_top200_genre_df['Genre 1'].str.contains('rap|hip hop|trap') | july_top200_genre_df['Genre 2'].str.contains('rap|hip hop|trap') | july_top200_genre_df['Genre 3'].str.contains('rap|hip hop|trap')]), len(july_top200_genre_df[july_top200_genre_df['Genre 1'].str.contains('r&b|soul|blues') | july_top200_genre_df['Genre 2'].str.contains('r&b|soul|blues') | july_top200_genre_df['Genre 3'].str.contains('r&b|soul|blues')]), len(july_top200_genre_df[july_top200_genre_df['Genre 1'].str.contains('pop') | july_top200_genre_df['Genre 2'].str.contains('pop') | july_top200_genre_df['Genre 3'].str.contains('pop')]), len(july_top200_genre_df[july_top200_genre_df['Genre 1'].str.contains('rock') | july_top200_genre_df['Genre 2'].str.contains('rock') | july_top200_genre_df['Genre 3'].str.contains('rock')]), len(july_top200_genre_df[july_top200_genre_df['Genre 1'].str.contains('country') | july_top200_genre_df['Genre 2'].str.contains('country') | july_top200_genre_df['Genre 3'].str.contains('country')]), len(july_top200_genre_df[july_top200_genre_df['Genre 1'].str.contains('latin') | july_top200_genre_df['Genre 2'].str.contains('latin') | july_top200_genre_df['Genre 3'].str.contains('latin')]), len(july_top200_genre_df[july_top200_genre_df['Genre 1'].str.contains('disco') | july_top200_genre_df['Genre 2'].str.contains('disco') | july_top200_genre_df['Genre 3'].str.contains('disco')]), len(july_top200_genre_df[july_top200_genre_df['Genre 1'].str.contains('indie') | july_top200_genre_df['Genre 2'].str.contains('indie') | july_top200_genre_df['Genre 3'].str.contains('indie')]), len(july_top200_genre_df[july_top200_genre_df['Genre 1'].str.contains('house|edm') | july_top200_genre_df['Genre 2'].str.contains('house|edm') | july_top200_genre_df['Genre 3'].str.contains('house|edm')]), len(july_top200_genre_df[july_top200_genre_df['Genre 1'].str.contains('alt|alternative') | july_top200_genre_df['Genre 2'].str.contains('alt|alternative') | july_top200_genre_df['Genre 3'].str.contains('alt|alternative')]), len(july_top200_genre_df[july_top200_genre_df['Genre 1'].str.contains('glitchcore') | july_top200_genre_df['Genre 2'].str.contains('glitchcore') | july_top200_genre_df['Genre 3'].str.contains('glitchcore')]), len(july_top200_genre_df[july_top200_genre_df['Genre 1'].str.contains('brooklyn drill') | july_top200_genre_df['Genre 2'].str.contains('brooklyn drill') | july_top200_genre_df['Genre 3'].str.contains('brooklyn drill')]), len(july_top200_genre_df[july_top200_genre_df['Genre 1'].str.contains('halloween') | july_top200_genre_df['Genre 2'].str.contains('halloween') | july_top200_genre_df['Genre 3'].str.contains('halloween')]), len(july_top200_genre_df[july_top200_genre_df['Genre 1'].str.contains('christmas') | july_top200_genre_df['Genre 2'].str.contains('christmas') | july_top200_genre_df['Genre 3'].str.contains('christmas')]), len(july_top200_genre_df[july_top200_genre_df['Genre 1'].str.contains('classical') | july_top200_genre_df['Genre 2'].str.contains('classical') | july_top200_genre_df['Genre 3'].str.contains('classical')])]\n",
    "}\n",
    "july_top200_genre_df = pd.DataFrame(genre_data)\n",
    "july_top200_genre_df.head()"
   ]
  },
  {
   "cell_type": "code",
   "execution_count": 33,
   "metadata": {},
   "outputs": [],
   "source": [
    "july_top200_genre_df.to_csv('july_top200_genre.csv')"
   ]
  }
 ]
}