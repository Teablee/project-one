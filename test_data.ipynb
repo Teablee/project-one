{
 "metadata": {
  "language_info": {
   "codemirror_mode": {
    "name": "ipython",
    "version": 3
   },
   "file_extension": ".py",
   "mimetype": "text/x-python",
   "name": "python",
   "nbconvert_exporter": "python",
   "pygments_lexer": "ipython3",
   "version": "3.7.9-final"
  },
  "orig_nbformat": 2,
  "kernelspec": {
   "name": "python3",
   "display_name": "Python 3.7.9 64-bit ('PythonData': conda)",
   "metadata": {
    "interpreter": {
     "hash": "e3896c66a75c41725fea970d0c2a2982cf91def990c8dcb709e7b9c0cc3a398d"
    }
   }
  }
 },
 "nbformat": 4,
 "nbformat_minor": 2,
 "cells": [
  {
   "cell_type": "code",
   "execution_count": 4,
   "metadata": {},
   "outputs": [],
   "source": [
    "import pandas as pd\n",
    "import icecream as ic\n",
    "import os"
   ]
  },
  {
   "cell_type": "code",
   "execution_count": 5,
   "metadata": {},
   "outputs": [
    {
     "output_type": "stream",
     "name": "stdout",
     "text": [
      "regional-us-weekly-2020-10-23--2020-10-30.csv\n"
     ]
    }
   ],
   "source": [
    "filename = os.path.basename(\"/Users/rosaicelaroman/Desktop/Data_BootCamp/Projects/project-one/Resources/regional-us-weekly-2020-10-23--2020-10-30.csv\")\n",
    "print(filename)"
   ]
  },
  {
   "cell_type": "code",
   "execution_count": null,
   "metadata": {},
   "outputs": [],
   "source": []
  },
  {
   "cell_type": "code",
   "execution_count": 22,
   "metadata": {},
   "outputs": [],
   "source": [
    "csv_file_list = [\"Resources/regional-us-weekly-2020-08-21--2020-08-28.csv\", \"Resources/regional-us-weekly-2020-05-08--2020-05-15.csv\", 'Resources/regional-us-weekly-2020-05-15--2020-05-22.csv', 'Resources/regional-us-weekly-2020-05-22--2020-05-29.csv']\n",
    "\n",
    "list_of_dataframes = []\n",
    "# list_of_dates = []\n",
    "for filename in csv_file_list:\n",
    "    list_of_dataframes.append(pd.read_csv(filename, skiprows=[0]))\n",
    "    \n",
    "merged_df = pd.concat(list_of_dataframes)"
   ]
  },
  {
   "cell_type": "code",
   "execution_count": 23,
   "metadata": {},
   "outputs": [
    {
     "output_type": "execute_result",
     "data": {
      "text/plain": [
       "     Position                                Track Name        Artist  \\\n",
       "0           1           WAP (feat. Megan Thee Stallion)       Cardi B   \n",
       "1           2      Laugh Now Cry Later (feat. Lil Durk)         Drake   \n",
       "2           3                    Mood (feat. iann dior)      24kGoldn   \n",
       "3           4                                  Dynamite           BTS   \n",
       "4           5              ROCKSTAR (feat. Roddy Ricch)        DaBaby   \n",
       "..        ...                                       ...           ...   \n",
       "195       196                                   Legends    Juice WRLD   \n",
       "196       197  Meant to Be (feat. Florida Georgia Line)    Bebe Rexha   \n",
       "197       198                                 Hurricane    Luke Combs   \n",
       "198       199                            No Role Modelz       J. Cole   \n",
       "199       200                                 Lights Up  Harry Styles   \n",
       "\n",
       "      Streams                                                URL  \n",
       "0    18436479  https://open.spotify.com/track/4Oun2ylbjFKMPTi...  \n",
       "1    12108138  https://open.spotify.com/track/2SAqBLGA283SUiw...  \n",
       "2     8682698  https://open.spotify.com/track/3tjFYV6RSFtuktY...  \n",
       "3     8547583  https://open.spotify.com/track/0v1x6rN6JHRapa0...  \n",
       "4     7296587  https://open.spotify.com/track/7ytR5pFWmSjzHJI...  \n",
       "..        ...                                                ...  \n",
       "195   1496245  https://open.spotify.com/track/1Knctxx9vGZxpZf...  \n",
       "196   1495527  https://open.spotify.com/track/4e4fqjx0Izh4svv...  \n",
       "197   1495471  https://open.spotify.com/track/6xHI9KjUjYT0FPt...  \n",
       "198   1495066  https://open.spotify.com/track/62vpWI1CHwFy7tM...  \n",
       "199   1494534  https://open.spotify.com/track/4jAIqgrPjKLTY9G...  \n",
       "\n",
       "[800 rows x 5 columns]"
      ],
      "text/html": "<div>\n<style scoped>\n    .dataframe tbody tr th:only-of-type {\n        vertical-align: middle;\n    }\n\n    .dataframe tbody tr th {\n        vertical-align: top;\n    }\n\n    .dataframe thead th {\n        text-align: right;\n    }\n</style>\n<table border=\"1\" class=\"dataframe\">\n  <thead>\n    <tr style=\"text-align: right;\">\n      <th></th>\n      <th>Position</th>\n      <th>Track Name</th>\n      <th>Artist</th>\n      <th>Streams</th>\n      <th>URL</th>\n    </tr>\n  </thead>\n  <tbody>\n    <tr>\n      <th>0</th>\n      <td>1</td>\n      <td>WAP (feat. Megan Thee Stallion)</td>\n      <td>Cardi B</td>\n      <td>18436479</td>\n      <td>https://open.spotify.com/track/4Oun2ylbjFKMPTi...</td>\n    </tr>\n    <tr>\n      <th>1</th>\n      <td>2</td>\n      <td>Laugh Now Cry Later (feat. Lil Durk)</td>\n      <td>Drake</td>\n      <td>12108138</td>\n      <td>https://open.spotify.com/track/2SAqBLGA283SUiw...</td>\n    </tr>\n    <tr>\n      <th>2</th>\n      <td>3</td>\n      <td>Mood (feat. iann dior)</td>\n      <td>24kGoldn</td>\n      <td>8682698</td>\n      <td>https://open.spotify.com/track/3tjFYV6RSFtuktY...</td>\n    </tr>\n    <tr>\n      <th>3</th>\n      <td>4</td>\n      <td>Dynamite</td>\n      <td>BTS</td>\n      <td>8547583</td>\n      <td>https://open.spotify.com/track/0v1x6rN6JHRapa0...</td>\n    </tr>\n    <tr>\n      <th>4</th>\n      <td>5</td>\n      <td>ROCKSTAR (feat. Roddy Ricch)</td>\n      <td>DaBaby</td>\n      <td>7296587</td>\n      <td>https://open.spotify.com/track/7ytR5pFWmSjzHJI...</td>\n    </tr>\n    <tr>\n      <th>...</th>\n      <td>...</td>\n      <td>...</td>\n      <td>...</td>\n      <td>...</td>\n      <td>...</td>\n    </tr>\n    <tr>\n      <th>195</th>\n      <td>196</td>\n      <td>Legends</td>\n      <td>Juice WRLD</td>\n      <td>1496245</td>\n      <td>https://open.spotify.com/track/1Knctxx9vGZxpZf...</td>\n    </tr>\n    <tr>\n      <th>196</th>\n      <td>197</td>\n      <td>Meant to Be (feat. Florida Georgia Line)</td>\n      <td>Bebe Rexha</td>\n      <td>1495527</td>\n      <td>https://open.spotify.com/track/4e4fqjx0Izh4svv...</td>\n    </tr>\n    <tr>\n      <th>197</th>\n      <td>198</td>\n      <td>Hurricane</td>\n      <td>Luke Combs</td>\n      <td>1495471</td>\n      <td>https://open.spotify.com/track/6xHI9KjUjYT0FPt...</td>\n    </tr>\n    <tr>\n      <th>198</th>\n      <td>199</td>\n      <td>No Role Modelz</td>\n      <td>J. Cole</td>\n      <td>1495066</td>\n      <td>https://open.spotify.com/track/62vpWI1CHwFy7tM...</td>\n    </tr>\n    <tr>\n      <th>199</th>\n      <td>200</td>\n      <td>Lights Up</td>\n      <td>Harry Styles</td>\n      <td>1494534</td>\n      <td>https://open.spotify.com/track/4jAIqgrPjKLTY9G...</td>\n    </tr>\n  </tbody>\n</table>\n<p>800 rows × 5 columns</p>\n</div>"
     },
     "metadata": {},
     "execution_count": 23
    }
   ],
   "source": [
    "merged_df"
   ]
  },
  {
   "cell_type": "code",
   "execution_count": null,
   "metadata": {},
   "outputs": [],
   "source": []
  }
 ]
}