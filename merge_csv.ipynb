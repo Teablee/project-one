{
 "metadata": {
  "language_info": {
   "codemirror_mode": {
    "name": "ipython",
    "version": 3
   },
   "file_extension": ".py",
   "mimetype": "text/x-python",
   "name": "python",
   "nbconvert_exporter": "python",
   "pygments_lexer": "ipython3",
   "version": "3.7.9"
  },
  "orig_nbformat": 2,
  "kernelspec": {
   "name": "python379jvsc74a57bd0bd230f86950030d0145785e8ad3e4440ba8f9dbe936dc92717eba51f4029bf4b",
   "display_name": "Python 3.7.9 64-bit ('PythonData': conda)"
  }
 },
 "nbformat": 4,
 "nbformat_minor": 2,
 "cells": [
  {
   "cell_type": "code",
   "execution_count": 3,
   "metadata": {},
   "outputs": [
    {
     "output_type": "error",
     "ename": "FileNotFoundError",
     "evalue": "[WinError 2] The system cannot find the file specified: '\\\\Test_merge'",
     "traceback": [
      "\u001b[1;31m---------------------------------------------------------------------------\u001b[0m",
      "\u001b[1;31mFileNotFoundError\u001b[0m                         Traceback (most recent call last)",
      "\u001b[1;32m<ipython-input-3-8a9ead32f3c1>\u001b[0m in \u001b[0;36m<module>\u001b[1;34m\u001b[0m\n\u001b[0;32m      2\u001b[0m \u001b[1;32mimport\u001b[0m \u001b[0mos\u001b[0m\u001b[1;33m\u001b[0m\u001b[1;33m\u001b[0m\u001b[0m\n\u001b[0;32m      3\u001b[0m \u001b[1;32mimport\u001b[0m \u001b[0mpandas\u001b[0m \u001b[1;32mas\u001b[0m \u001b[0mpd\u001b[0m\u001b[1;33m\u001b[0m\u001b[1;33m\u001b[0m\u001b[0m\n\u001b[1;32m----> 4\u001b[1;33m \u001b[0mos\u001b[0m\u001b[1;33m.\u001b[0m\u001b[0mchdir\u001b[0m\u001b[1;33m(\u001b[0m\u001b[1;34m\"\\\\Test_merge\"\u001b[0m\u001b[1;33m)\u001b[0m\u001b[1;33m\u001b[0m\u001b[1;33m\u001b[0m\u001b[0m\n\u001b[0m\u001b[0;32m      5\u001b[0m \u001b[0mextension\u001b[0m \u001b[1;33m=\u001b[0m \u001b[1;34m'csv'\u001b[0m\u001b[1;33m\u001b[0m\u001b[1;33m\u001b[0m\u001b[0m\n\u001b[0;32m      6\u001b[0m \u001b[0mall_filenames\u001b[0m \u001b[1;33m=\u001b[0m \u001b[1;33m[\u001b[0m\u001b[0mi\u001b[0m \u001b[1;32mfor\u001b[0m \u001b[0mi\u001b[0m \u001b[1;32min\u001b[0m \u001b[0mglob\u001b[0m\u001b[1;33m.\u001b[0m\u001b[0mglob\u001b[0m\u001b[1;33m(\u001b[0m\u001b[1;34m'*.{}'\u001b[0m\u001b[1;33m.\u001b[0m\u001b[0mformat\u001b[0m\u001b[1;33m(\u001b[0m\u001b[0mextension\u001b[0m\u001b[1;33m)\u001b[0m\u001b[1;33m)\u001b[0m\u001b[1;33m]\u001b[0m\u001b[1;33m\u001b[0m\u001b[1;33m\u001b[0m\u001b[0m\n",
      "\u001b[1;31mFileNotFoundError\u001b[0m: [WinError 2] The system cannot find the file specified: '\\\\Test_merge'"
     ]
    }
   ],
   "source": [
    "import glob\n",
    "import os\n",
    "import pandas as pd \n",
    "os.chdir(\"\\\\Test_merge\")\n",
    "extension = 'csv'\n",
    "all_filenames = [i for i in glob.glob('*.{}'.format(extension))]\n",
    "combined_csv = pd.concat([pd.read_csv(f) for f in all_filenames])\n",
    "combined_csv.to_csv(\"combined_csv.scv\", index=False, encoding='utf-8-sig')"
   ]
  },
  {
   "cell_type": "code",
   "execution_count": 27,
   "metadata": {},
   "outputs": [],
   "source": [
    "import glob\n",
    "import os\n",
    "import pandas as pd \n",
    "\n",
    "# Merge top 200\n",
    "files = glob.glob('Test_merge\\Top 200\\September\\*.csv')\n",
    "# print(files)\n",
    "\n",
    "sept_combined_df_top200 = pd.concat([pd.read_csv(fp, skiprows=[0], skip_blank_lines=True).assign(Filename=os.path.basename(fp)) for fp in files])\n",
    "\n",
    "sept_combined_df_top200\n",
    "\n",
    "sept_combined_df_top200.to_csv(\"sept_combined_top_200.csv\")\n",
    "\n",
    "\n"
   ]
  },
  {
   "cell_type": "code",
   "execution_count": 62,
   "metadata": {},
   "outputs": [
    {
     "output_type": "stream",
     "name": "stdout",
     "text": [
      "                                        Dates\n0  viral-us-weekly-2020-09-03--2020-09-03.csv\n2  viral-us-weekly-2020-09-10--2020-09-10.csv\n1  viral-us-weekly-2020-09-17--2020-09-17.csv\n3  viral-us-weekly-2020-09-24--2020-09-24.csv\n"
     ]
    }
   ],
   "source": [
    "\n",
    "#Merge viral top 50\n",
    "files = glob.glob('Test_merge\\Viral\\September\\*.csv')\n",
    "# print(files)\n",
    "\n",
    "sept_combined_df_viral = pd.concat([pd.read_csv(fp).assign(Filename=os.path.basename(fp)) for fp in files])\n",
    "\n",
    "sept_combined_df_viral\n",
    "\n",
    "# Make new columns for month and week numbers\n",
    "sept_combined_df_viral[\"Month\"] = \"\"\n",
    "sept_combined_df_viral[\"Week Number\"] = \"\"\n",
    "\n",
    "week_names = pd.DataFrame(sept_combined_df_viral['Filename'].value_counts())\n",
    "week_names = week_names.reset_index()\n",
    "week_names = week_names.drop(columns=['Filename'])\n",
    "week_names = week_names.rename(columns ={'index': 'Dates'})\n",
    "week_names = week_names.sort_values('Dates')\n",
    "week_names\n",
    "\n",
    "for index, row in sept_combined_df_viral.iterrows():\n",
    "    sept_combined_df_viral.loc[index, \"Month\"] = \"September\"\n",
    "\n",
    "    if row['Filename'] == week_names.iloc[0, 0]:\n",
    "        sept_combined_df_viral.loc[index, \"Week Number\"] = \"1\"\n",
    "    if row['Filename'] == week_names.iloc[1, 0]:\n",
    "        sept_combined_df_viral.loc[index, \"Week Number\"] = \"2\"\n",
    "    if row['Filename'] == week_names.iloc[2, 0]:\n",
    "        sept_combined_df_viral.loc[index, \"Week Number\"] = \"3\"\n",
    "    if row['Filename'] == week_names.iloc[3, 0]:\n",
    "        sept_combined_df_viral.loc[index, \"Week Number\"] = \"4\"\n",
    "\n",
    "sept_combined_df_viral\n",
    "\n",
    "print(week_names)\n",
    "\n",
    "# sept_combined_df_viral.to_csv(\"combined_viral.csv\")\n"
   ]
  },
  {
   "cell_type": "code",
   "execution_count": 18,
   "metadata": {},
   "outputs": [
    {
     "output_type": "stream",
     "name": "stdout",
     "text": [
      "['Test_merge\\\\Top 200\\\\regional-us-weekly-2020-08-21--2020-08-28.csv', 'Test_merge\\\\Top 200\\\\regional-us-weekly-2020-08-28--2020-09-04.csv', 'Test_merge\\\\Top 200\\\\regional-us-weekly-2020-09-04--2020-09-11.csv', 'Test_merge\\\\Top 200\\\\regional-us-weekly-2020-09-11--2020-09-18.csv', 'Test_merge\\\\Top 200\\\\regional-us-weekly-2020-09-18--2020-09-25.csv', 'Test_merge\\\\Top 200\\\\regional-us-weekly-2020-09-25--2020-10-02.csv', 'Test_merge\\\\Top 200\\\\regional-us-weekly-2020-10-23--2020-10-30.csv', 'Test_merge\\\\Top 200\\\\regional-us-weekly-2020-10-30--2020-11-06.csv', 'Test_merge\\\\Top 200\\\\regional-us-weekly-2020-11-06--2020-11-13.csv', 'Test_merge\\\\Top 200\\\\regional-us-weekly-2020-11-13--2020-11-20.csv', 'Test_merge\\\\Top 200\\\\regional-us-weekly-2020-11-20--2020-11-27.csv', 'Test_merge\\\\Top 200\\\\regional-us-weekly-2020-11-27--2020-12-04.csv']\n['Test_merge\\\\Viral\\\\viral-us-weekly-2020-08-27--2020-08-27.csv', 'Test_merge\\\\Viral\\\\viral-us-weekly-2020-09-03--2020-09-03.csv', 'Test_merge\\\\Viral\\\\viral-us-weekly-2020-09-10--2020-09-10.csv', 'Test_merge\\\\Viral\\\\viral-us-weekly-2020-09-17--2020-09-17.csv', 'Test_merge\\\\Viral\\\\viral-us-weekly-2020-09-24--2020-09-24.csv', 'Test_merge\\\\Viral\\\\viral-us-weekly-2020-10-01--2020-10-01.csv', 'Test_merge\\\\Viral\\\\viral-us-weekly-2020-10-29--2020-10-29.csv', 'Test_merge\\\\Viral\\\\viral-us-weekly-2020-11-05--2020-11-05.csv', 'Test_merge\\\\Viral\\\\viral-us-weekly-2020-11-12--2020-11-12.csv', 'Test_merge\\\\Viral\\\\viral-us-weekly-2020-11-19--2020-11-19.csv', 'Test_merge\\\\Viral\\\\viral-us-weekly-2020-11-26--2020-11-26.csv', 'Test_merge\\\\Viral\\\\viral-us-weekly-2020-12-03--2020-12-03.csv']\n"
     ]
    }
   ],
   "source": [
    "# print file names in list\n",
    "\n",
    "files_viral = glob.glob('Test_merge\\Viral\\*.csv')\n",
    "files_top200 = glob.glob('Test_merge\\Top 200\\*.csv')\n",
    "\n",
    "print(files_top200)\n",
    "\n",
    "print(files_viral)"
   ]
  },
  {
   "cell_type": "code",
   "execution_count": 26,
   "metadata": {},
   "outputs": [
    {
     "output_type": "error",
     "ename": "SyntaxError",
     "evalue": "invalid syntax (<ipython-input-26-797b3417f8d3>, line 9)",
     "traceback": [
      "\u001b[1;36m  File \u001b[1;32m\"<ipython-input-26-797b3417f8d3>\"\u001b[1;36m, line \u001b[1;32m9\u001b[0m\n\u001b[1;33m    def:\u001b[0m\n\u001b[1;37m       ^\u001b[0m\n\u001b[1;31mSyntaxError\u001b[0m\u001b[1;31m:\u001b[0m invalid syntax\n"
     ]
    }
   ],
   "source": [
    "# if combined_df_top200['Filename'] in combined_df_top200 == 2020-08-21--2020-08-28\n",
    "\n",
    "# lookup = combined_df_top200['Filename']\n",
    "\n",
    "# combined_df_top200['Month'] = \"\"\n",
    "# combined_df_top200['Week #'] = \"\"\n",
    "\n",
    "\n",
    "for index, row in combined_df_top200.iterrows():\n",
    "    \"2020-08-21--2020-08-28\" in row['Filename']\n",
    "    return\n",
    "    combined_df_top200.loc[index, 'Month'] = \"August\"\n",
    "    break\n",
    "\n",
    "combined_df_top200.head()\n",
    "\n",
    "# 2020-08-28--2020-09-04\n",
    "# 2020-09-04--2020-09-11\n",
    "# 2020-09-11--2020-09-18\n",
    "# 2020-09-18--2020-09-25\n",
    "# 2020-09-25--2020-10-02\n",
    "# 2020-10-23--2020-10-30\n",
    "# 2020-10-30--2020-11-06\n",
    "# 2020-11-06--2020-11-13\n",
    "# 2020-11-13--2020-11-20\n",
    "# 2020-11-20--2020-11-27\n",
    "# 2020-11-27--2020-12-04\n"
   ]
  },
  {
   "cell_type": "code",
   "execution_count": null,
   "metadata": {},
   "outputs": [],
   "source": []
  }
 ]
}