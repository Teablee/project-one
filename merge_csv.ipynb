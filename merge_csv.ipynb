{
 "metadata": {
  "language_info": {
   "codemirror_mode": {
    "name": "ipython",
    "version": 3
   },
   "file_extension": ".py",
   "mimetype": "text/x-python",
   "name": "python",
   "nbconvert_exporter": "python",
   "pygments_lexer": "ipython3",
   "version": "3.7.9"
  },
  "orig_nbformat": 2,
  "kernelspec": {
   "name": "python379jvsc74a57bd0bd230f86950030d0145785e8ad3e4440ba8f9dbe936dc92717eba51f4029bf4b",
   "display_name": "Python 3.7.9 64-bit ('PythonData': conda)"
  }
 },
 "nbformat": 4,
 "nbformat_minor": 2,
 "cells": [
  {
   "cell_type": "code",
   "execution_count": 21,
   "metadata": {},
   "outputs": [
    {
     "output_type": "stream",
     "name": "stderr",
     "text": [
      "ipykernel_launcher:24: FutureWarning: Series.dt.weekofyear and Series.dt.week have been deprecated.  Please use Series.dt.isocalendar().week instead.\n"
     ]
    },
    {
     "output_type": "execute_result",
     "data": {
      "text/plain": [
       "     Position                                 Track Name           Artist  \\\n",
       "0           1            WAP (feat. Megan Thee Stallion)          Cardi B   \n",
       "1           2                     Mood (feat. iann dior)         24kGoldn   \n",
       "2           3       Laugh Now Cry Later (feat. Lil Durk)            Drake   \n",
       "3           4    For The Night (feat. Lil Baby & DaBaby)        Pop Smoke   \n",
       "4           5  Lemonade (feat. Gunna, Don Toliver & NAV)   Internet Money   \n",
       "..        ...                                        ...              ...   \n",
       "195       196             Stuntin' On You (feat. DaBaby)       Tyla Yaweh   \n",
       "196       197                             Mr. Brightside      The Killers   \n",
       "197       198                                     Say So         Doja Cat   \n",
       "198       199                          Tennessee Whiskey  Chris Stapleton   \n",
       "199       200                           Relación - Remix             Sech   \n",
       "\n",
       "      Streams                                                URL  \\\n",
       "0    15398897  https://open.spotify.com/track/4Oun2ylbjFKMPTi...   \n",
       "1    10323110  https://open.spotify.com/track/3tjFYV6RSFtuktY...   \n",
       "2     9934418  https://open.spotify.com/track/2SAqBLGA283SUiw...   \n",
       "3     7522385  https://open.spotify.com/track/0PvFJmanyNQMseI...   \n",
       "4     6743659  https://open.spotify.com/track/2DQNYMRjisN3KAP...   \n",
       "..        ...                                                ...   \n",
       "195   1483403  https://open.spotify.com/track/341lTIxmhybbQsg...   \n",
       "196   1482940  https://open.spotify.com/track/003vvx7Niy0yvhv...   \n",
       "197   1468594  https://open.spotify.com/track/3Dv1eDb0MEgF93G...   \n",
       "198   1465220  https://open.spotify.com/track/3fqwjXwUGN6vbzI...   \n",
       "199   1462509  https://open.spotify.com/track/35UUpTmrcFXNIVI...   \n",
       "\n",
       "                                          Filename       Date  Week Number  \\\n",
       "0    regional-us-weekly-2020-09-04--2020-09-11.csv 2020-09-04           36   \n",
       "1    regional-us-weekly-2020-09-04--2020-09-11.csv 2020-09-04           36   \n",
       "2    regional-us-weekly-2020-09-04--2020-09-11.csv 2020-09-04           36   \n",
       "3    regional-us-weekly-2020-09-04--2020-09-11.csv 2020-09-04           36   \n",
       "4    regional-us-weekly-2020-09-04--2020-09-11.csv 2020-09-04           36   \n",
       "..                                             ...        ...          ...   \n",
       "195  regional-us-weekly-2020-09-25--2020-10-02.csv 2020-09-25           39   \n",
       "196  regional-us-weekly-2020-09-25--2020-10-02.csv 2020-09-25           39   \n",
       "197  regional-us-weekly-2020-09-25--2020-10-02.csv 2020-09-25           39   \n",
       "198  regional-us-weekly-2020-09-25--2020-10-02.csv 2020-09-25           39   \n",
       "199  regional-us-weekly-2020-09-25--2020-10-02.csv 2020-09-25           39   \n",
       "\n",
       "         Month     Type  \n",
       "0    September  Top 200  \n",
       "1    September  Top 200  \n",
       "2    September  Top 200  \n",
       "3    September  Top 200  \n",
       "4    September  Top 200  \n",
       "..         ...      ...  \n",
       "195  September  Top 200  \n",
       "196  September  Top 200  \n",
       "197  September  Top 200  \n",
       "198  September  Top 200  \n",
       "199  September  Top 200  \n",
       "\n",
       "[800 rows x 10 columns]"
      ],
      "text/html": "<div>\n<style scoped>\n    .dataframe tbody tr th:only-of-type {\n        vertical-align: middle;\n    }\n\n    .dataframe tbody tr th {\n        vertical-align: top;\n    }\n\n    .dataframe thead th {\n        text-align: right;\n    }\n</style>\n<table border=\"1\" class=\"dataframe\">\n  <thead>\n    <tr style=\"text-align: right;\">\n      <th></th>\n      <th>Position</th>\n      <th>Track Name</th>\n      <th>Artist</th>\n      <th>Streams</th>\n      <th>URL</th>\n      <th>Filename</th>\n      <th>Date</th>\n      <th>Week Number</th>\n      <th>Month</th>\n      <th>Type</th>\n    </tr>\n  </thead>\n  <tbody>\n    <tr>\n      <th>0</th>\n      <td>1</td>\n      <td>WAP (feat. Megan Thee Stallion)</td>\n      <td>Cardi B</td>\n      <td>15398897</td>\n      <td>https://open.spotify.com/track/4Oun2ylbjFKMPTi...</td>\n      <td>regional-us-weekly-2020-09-04--2020-09-11.csv</td>\n      <td>2020-09-04</td>\n      <td>36</td>\n      <td>September</td>\n      <td>Top 200</td>\n    </tr>\n    <tr>\n      <th>1</th>\n      <td>2</td>\n      <td>Mood (feat. iann dior)</td>\n      <td>24kGoldn</td>\n      <td>10323110</td>\n      <td>https://open.spotify.com/track/3tjFYV6RSFtuktY...</td>\n      <td>regional-us-weekly-2020-09-04--2020-09-11.csv</td>\n      <td>2020-09-04</td>\n      <td>36</td>\n      <td>September</td>\n      <td>Top 200</td>\n    </tr>\n    <tr>\n      <th>2</th>\n      <td>3</td>\n      <td>Laugh Now Cry Later (feat. Lil Durk)</td>\n      <td>Drake</td>\n      <td>9934418</td>\n      <td>https://open.spotify.com/track/2SAqBLGA283SUiw...</td>\n      <td>regional-us-weekly-2020-09-04--2020-09-11.csv</td>\n      <td>2020-09-04</td>\n      <td>36</td>\n      <td>September</td>\n      <td>Top 200</td>\n    </tr>\n    <tr>\n      <th>3</th>\n      <td>4</td>\n      <td>For The Night (feat. Lil Baby &amp; DaBaby)</td>\n      <td>Pop Smoke</td>\n      <td>7522385</td>\n      <td>https://open.spotify.com/track/0PvFJmanyNQMseI...</td>\n      <td>regional-us-weekly-2020-09-04--2020-09-11.csv</td>\n      <td>2020-09-04</td>\n      <td>36</td>\n      <td>September</td>\n      <td>Top 200</td>\n    </tr>\n    <tr>\n      <th>4</th>\n      <td>5</td>\n      <td>Lemonade (feat. Gunna, Don Toliver &amp; NAV)</td>\n      <td>Internet Money</td>\n      <td>6743659</td>\n      <td>https://open.spotify.com/track/2DQNYMRjisN3KAP...</td>\n      <td>regional-us-weekly-2020-09-04--2020-09-11.csv</td>\n      <td>2020-09-04</td>\n      <td>36</td>\n      <td>September</td>\n      <td>Top 200</td>\n    </tr>\n    <tr>\n      <th>...</th>\n      <td>...</td>\n      <td>...</td>\n      <td>...</td>\n      <td>...</td>\n      <td>...</td>\n      <td>...</td>\n      <td>...</td>\n      <td>...</td>\n      <td>...</td>\n      <td>...</td>\n    </tr>\n    <tr>\n      <th>195</th>\n      <td>196</td>\n      <td>Stuntin' On You (feat. DaBaby)</td>\n      <td>Tyla Yaweh</td>\n      <td>1483403</td>\n      <td>https://open.spotify.com/track/341lTIxmhybbQsg...</td>\n      <td>regional-us-weekly-2020-09-25--2020-10-02.csv</td>\n      <td>2020-09-25</td>\n      <td>39</td>\n      <td>September</td>\n      <td>Top 200</td>\n    </tr>\n    <tr>\n      <th>196</th>\n      <td>197</td>\n      <td>Mr. Brightside</td>\n      <td>The Killers</td>\n      <td>1482940</td>\n      <td>https://open.spotify.com/track/003vvx7Niy0yvhv...</td>\n      <td>regional-us-weekly-2020-09-25--2020-10-02.csv</td>\n      <td>2020-09-25</td>\n      <td>39</td>\n      <td>September</td>\n      <td>Top 200</td>\n    </tr>\n    <tr>\n      <th>197</th>\n      <td>198</td>\n      <td>Say So</td>\n      <td>Doja Cat</td>\n      <td>1468594</td>\n      <td>https://open.spotify.com/track/3Dv1eDb0MEgF93G...</td>\n      <td>regional-us-weekly-2020-09-25--2020-10-02.csv</td>\n      <td>2020-09-25</td>\n      <td>39</td>\n      <td>September</td>\n      <td>Top 200</td>\n    </tr>\n    <tr>\n      <th>198</th>\n      <td>199</td>\n      <td>Tennessee Whiskey</td>\n      <td>Chris Stapleton</td>\n      <td>1465220</td>\n      <td>https://open.spotify.com/track/3fqwjXwUGN6vbzI...</td>\n      <td>regional-us-weekly-2020-09-25--2020-10-02.csv</td>\n      <td>2020-09-25</td>\n      <td>39</td>\n      <td>September</td>\n      <td>Top 200</td>\n    </tr>\n    <tr>\n      <th>199</th>\n      <td>200</td>\n      <td>Relación - Remix</td>\n      <td>Sech</td>\n      <td>1462509</td>\n      <td>https://open.spotify.com/track/35UUpTmrcFXNIVI...</td>\n      <td>regional-us-weekly-2020-09-25--2020-10-02.csv</td>\n      <td>2020-09-25</td>\n      <td>39</td>\n      <td>September</td>\n      <td>Top 200</td>\n    </tr>\n  </tbody>\n</table>\n<p>800 rows × 10 columns</p>\n</div>"
     },
     "metadata": {},
     "execution_count": 21
    }
   ],
   "source": [
    "import datetime\n",
    "import glob\n",
    "import os\n",
    "import pandas as pd \n",
    "\n",
    "# Merge top 200\n",
    "files = glob.glob('Test_merge\\Top 200\\September\\*.csv')\n",
    "# print(files)\n",
    "\n",
    "sept_combined_df_top200 = pd.concat([pd.read_csv(fp, skiprows=[0], skip_blank_lines=True).assign(Filename=os.path.basename(fp)) for fp in files])\n",
    "\n",
    "sept_combined_df_top200\n",
    "\n",
    "# Make new columns for month and week numbers\n",
    "sept_combined_df_viral[\"Month\"] = \"\"\n",
    "sept_combined_df_viral[\"Week Number\"] = \"\"\n",
    "sept_combined_df_viral[\"Type\"] = \"\"\n",
    "\n",
    "# Extract Date from filename using slice top 200 slice is 19, 29\n",
    "sept_combined_df_top200[\"Date\"] = sept_combined_df_top200['Filename'].str.slice(19,29)\n",
    "# convert to Datetime\n",
    "sept_combined_df_top200[\"Date\"]=pd.to_datetime(sept_combined_df_top200[\"Date\"])\n",
    "# get week number form Date\n",
    "sept_combined_df_top200[\"Week Number\"] = sept_combined_df_top200['Date'].dt.week\n",
    "\n",
    "for index, row in sept_combined_df_top200.iterrows():\n",
    "    sept_combined_df_top200.loc[index, \"Month\"] = \"September\"\n",
    "    sept_combined_df_top200.loc[index, \"Type\"] = \"Top 200\"\n",
    "\n",
    "\n",
    "sept_combined_df_top200.to_csv(\"sept_combined_top200.csv\")\n",
    "\n",
    "sept_combined_df_top20 = sept_combined_df_top200.sort_values(['Week Number', 'Position'], ascending=True)\n",
    "sept_combined_df_top20\n",
    "\n",
    "\n"
   ]
  },
  {
   "cell_type": "code",
   "execution_count": 11,
   "metadata": {},
   "outputs": [
    {
     "output_type": "stream",
     "name": "stderr",
     "text": [
      "ipykernel_launcher:21: FutureWarning: Series.dt.weekofyear and Series.dt.week have been deprecated.  Please use Series.dt.isocalendar().week instead.\n"
     ]
    },
    {
     "output_type": "execute_result",
     "data": {
      "text/plain": [
       "    Position                                     Track Name  \\\n",
       "0          1                                  Mad at Disney   \n",
       "1          2                WAP (feat. Megan Thee Stallion)   \n",
       "2          3                         Mood (feat. iann dior)   \n",
       "3          4                                   3 Musketeers   \n",
       "4          5                                   Backyard Boy   \n",
       "..       ...                                            ...   \n",
       "45        46                         ALL GIRLS ARE THE SAME   \n",
       "46        47  Wrap Me In Plastic - Marcus Layton Radio Edit   \n",
       "47        48                               People So Stupid   \n",
       "48        49                                      Mi Cuarto   \n",
       "49        50                                       Promises   \n",
       "\n",
       "                 Artist                                                URL  \\\n",
       "0           salem ilese  https://open.spotify.com/track/7aGyRfJWtLqgJaZ...   \n",
       "1               Cardi B  https://open.spotify.com/track/4Oun2ylbjFKMPTi...   \n",
       "2              24kGoldn  https://open.spotify.com/track/3tjFYV6RSFtuktY...   \n",
       "3           NextYoungin  https://open.spotify.com/track/57Oi4yqY27uJzCy...   \n",
       "4     Claire Rosinkranz  https://open.spotify.com/track/0QpOqKz66ZxHNqj...   \n",
       "..                  ...                                                ...   \n",
       "45                RØNIN  https://open.spotify.com/track/4xhWfr0tyA7BGL7...   \n",
       "46            CHROMANCE  https://open.spotify.com/track/3n2P3ipLt5mPFVa...   \n",
       "47        Tom MacDonald  https://open.spotify.com/track/3rjJAqZWPjDhsTk...   \n",
       "48             Jerry Di  https://open.spotify.com/track/6fmQjRuo7XvRFCK...   \n",
       "49  Maverick City Music  https://open.spotify.com/track/0aZFEiDKLK2B4gz...   \n",
       "\n",
       "                                      Filename      Month  Week Number  \\\n",
       "0   viral-us-weekly-2020-09-03--2020-09-03.csv  September           36   \n",
       "1   viral-us-weekly-2020-09-03--2020-09-03.csv  September           36   \n",
       "2   viral-us-weekly-2020-09-03--2020-09-03.csv  September           36   \n",
       "3   viral-us-weekly-2020-09-03--2020-09-03.csv  September           36   \n",
       "4   viral-us-weekly-2020-09-03--2020-09-03.csv  September           36   \n",
       "..                                         ...        ...          ...   \n",
       "45  viral-us-weekly-2020-09-24--2020-09-24.csv  September           39   \n",
       "46  viral-us-weekly-2020-09-24--2020-09-24.csv  September           39   \n",
       "47  viral-us-weekly-2020-09-24--2020-09-24.csv  September           39   \n",
       "48  viral-us-weekly-2020-09-24--2020-09-24.csv  September           39   \n",
       "49  viral-us-weekly-2020-09-24--2020-09-24.csv  September           39   \n",
       "\n",
       "        Type       Date  \n",
       "0   Viral 50 2020-09-03  \n",
       "1   Viral 50 2020-09-03  \n",
       "2   Viral 50 2020-09-03  \n",
       "3   Viral 50 2020-09-03  \n",
       "4   Viral 50 2020-09-03  \n",
       "..       ...        ...  \n",
       "45  Viral 50 2020-09-24  \n",
       "46  Viral 50 2020-09-24  \n",
       "47  Viral 50 2020-09-24  \n",
       "48  Viral 50 2020-09-24  \n",
       "49  Viral 50 2020-09-24  \n",
       "\n",
       "[200 rows x 9 columns]"
      ],
      "text/html": "<div>\n<style scoped>\n    .dataframe tbody tr th:only-of-type {\n        vertical-align: middle;\n    }\n\n    .dataframe tbody tr th {\n        vertical-align: top;\n    }\n\n    .dataframe thead th {\n        text-align: right;\n    }\n</style>\n<table border=\"1\" class=\"dataframe\">\n  <thead>\n    <tr style=\"text-align: right;\">\n      <th></th>\n      <th>Position</th>\n      <th>Track Name</th>\n      <th>Artist</th>\n      <th>URL</th>\n      <th>Filename</th>\n      <th>Month</th>\n      <th>Week Number</th>\n      <th>Type</th>\n      <th>Date</th>\n    </tr>\n  </thead>\n  <tbody>\n    <tr>\n      <th>0</th>\n      <td>1</td>\n      <td>Mad at Disney</td>\n      <td>salem ilese</td>\n      <td>https://open.spotify.com/track/7aGyRfJWtLqgJaZ...</td>\n      <td>viral-us-weekly-2020-09-03--2020-09-03.csv</td>\n      <td>September</td>\n      <td>36</td>\n      <td>Viral 50</td>\n      <td>2020-09-03</td>\n    </tr>\n    <tr>\n      <th>1</th>\n      <td>2</td>\n      <td>WAP (feat. Megan Thee Stallion)</td>\n      <td>Cardi B</td>\n      <td>https://open.spotify.com/track/4Oun2ylbjFKMPTi...</td>\n      <td>viral-us-weekly-2020-09-03--2020-09-03.csv</td>\n      <td>September</td>\n      <td>36</td>\n      <td>Viral 50</td>\n      <td>2020-09-03</td>\n    </tr>\n    <tr>\n      <th>2</th>\n      <td>3</td>\n      <td>Mood (feat. iann dior)</td>\n      <td>24kGoldn</td>\n      <td>https://open.spotify.com/track/3tjFYV6RSFtuktY...</td>\n      <td>viral-us-weekly-2020-09-03--2020-09-03.csv</td>\n      <td>September</td>\n      <td>36</td>\n      <td>Viral 50</td>\n      <td>2020-09-03</td>\n    </tr>\n    <tr>\n      <th>3</th>\n      <td>4</td>\n      <td>3 Musketeers</td>\n      <td>NextYoungin</td>\n      <td>https://open.spotify.com/track/57Oi4yqY27uJzCy...</td>\n      <td>viral-us-weekly-2020-09-03--2020-09-03.csv</td>\n      <td>September</td>\n      <td>36</td>\n      <td>Viral 50</td>\n      <td>2020-09-03</td>\n    </tr>\n    <tr>\n      <th>4</th>\n      <td>5</td>\n      <td>Backyard Boy</td>\n      <td>Claire Rosinkranz</td>\n      <td>https://open.spotify.com/track/0QpOqKz66ZxHNqj...</td>\n      <td>viral-us-weekly-2020-09-03--2020-09-03.csv</td>\n      <td>September</td>\n      <td>36</td>\n      <td>Viral 50</td>\n      <td>2020-09-03</td>\n    </tr>\n    <tr>\n      <th>...</th>\n      <td>...</td>\n      <td>...</td>\n      <td>...</td>\n      <td>...</td>\n      <td>...</td>\n      <td>...</td>\n      <td>...</td>\n      <td>...</td>\n      <td>...</td>\n    </tr>\n    <tr>\n      <th>45</th>\n      <td>46</td>\n      <td>ALL GIRLS ARE THE SAME</td>\n      <td>RØNIN</td>\n      <td>https://open.spotify.com/track/4xhWfr0tyA7BGL7...</td>\n      <td>viral-us-weekly-2020-09-24--2020-09-24.csv</td>\n      <td>September</td>\n      <td>39</td>\n      <td>Viral 50</td>\n      <td>2020-09-24</td>\n    </tr>\n    <tr>\n      <th>46</th>\n      <td>47</td>\n      <td>Wrap Me In Plastic - Marcus Layton Radio Edit</td>\n      <td>CHROMANCE</td>\n      <td>https://open.spotify.com/track/3n2P3ipLt5mPFVa...</td>\n      <td>viral-us-weekly-2020-09-24--2020-09-24.csv</td>\n      <td>September</td>\n      <td>39</td>\n      <td>Viral 50</td>\n      <td>2020-09-24</td>\n    </tr>\n    <tr>\n      <th>47</th>\n      <td>48</td>\n      <td>People So Stupid</td>\n      <td>Tom MacDonald</td>\n      <td>https://open.spotify.com/track/3rjJAqZWPjDhsTk...</td>\n      <td>viral-us-weekly-2020-09-24--2020-09-24.csv</td>\n      <td>September</td>\n      <td>39</td>\n      <td>Viral 50</td>\n      <td>2020-09-24</td>\n    </tr>\n    <tr>\n      <th>48</th>\n      <td>49</td>\n      <td>Mi Cuarto</td>\n      <td>Jerry Di</td>\n      <td>https://open.spotify.com/track/6fmQjRuo7XvRFCK...</td>\n      <td>viral-us-weekly-2020-09-24--2020-09-24.csv</td>\n      <td>September</td>\n      <td>39</td>\n      <td>Viral 50</td>\n      <td>2020-09-24</td>\n    </tr>\n    <tr>\n      <th>49</th>\n      <td>50</td>\n      <td>Promises</td>\n      <td>Maverick City Music</td>\n      <td>https://open.spotify.com/track/0aZFEiDKLK2B4gz...</td>\n      <td>viral-us-weekly-2020-09-24--2020-09-24.csv</td>\n      <td>September</td>\n      <td>39</td>\n      <td>Viral 50</td>\n      <td>2020-09-24</td>\n    </tr>\n  </tbody>\n</table>\n<p>200 rows × 9 columns</p>\n</div>"
     },
     "metadata": {},
     "execution_count": 11
    }
   ],
   "source": [
    "import datetime\n",
    "import glob\n",
    "import os\n",
    "import pandas as pd \n",
    "\n",
    "#Merge viral top 50\n",
    "files = glob.glob('Test_merge\\Viral\\September\\*.csv')\n",
    "# print(files)\n",
    "\n",
    "sept_combined_df_viral = pd.concat([pd.read_csv(fp).assign(Filename=os.path.basename(fp)) for fp in files])\n",
    "\n",
    "sept_combined_df_viral\n",
    "\n",
    "# Make new columns for month and week numbers\n",
    "sept_combined_df_viral[\"Month\"] = \"\"\n",
    "sept_combined_df_viral[\"Week Number\"] = \"\"\n",
    "sept_combined_df_viral[\"Type\"] = \"\"\n",
    "\n",
    "# Extract Date from filename using slice viral slice is 16, 26\n",
    "sept_combined_df_viral[\"Date\"] = sept_combined_df_viral['Filename'].str.slice(16,26)\n",
    "# convert to Datetime\n",
    "sept_combined_df_viral[\"Date\"]=pd.to_datetime(sept_combined_df_viral[\"Date\"])\n",
    "# get week number form Date\n",
    "sept_combined_df_viral[\"Week Number\"] = sept_combined_df_viral['Date'].dt.week\n",
    "\n",
    "for index, row in sept_combined_df_viral.iterrows():\n",
    "    sept_combined_df_viral.loc[index, \"Month\"] = \"September\"\n",
    "    sept_combined_df_viral.loc[index, \"Type\"] = \"Viral 50\"\n",
    "\n",
    "\n",
    "sept_combined_df_viral.to_csv(\"sept_combined_viral.csv\")\n",
    "\n",
    "sept_combined_df_viral\n"
   ]
  },
  {
   "cell_type": "code",
   "execution_count": 18,
   "metadata": {},
   "outputs": [
    {
     "output_type": "stream",
     "name": "stdout",
     "text": [
      "['Test_merge\\\\Top 200\\\\regional-us-weekly-2020-08-21--2020-08-28.csv', 'Test_merge\\\\Top 200\\\\regional-us-weekly-2020-08-28--2020-09-04.csv', 'Test_merge\\\\Top 200\\\\regional-us-weekly-2020-09-04--2020-09-11.csv', 'Test_merge\\\\Top 200\\\\regional-us-weekly-2020-09-11--2020-09-18.csv', 'Test_merge\\\\Top 200\\\\regional-us-weekly-2020-09-18--2020-09-25.csv', 'Test_merge\\\\Top 200\\\\regional-us-weekly-2020-09-25--2020-10-02.csv', 'Test_merge\\\\Top 200\\\\regional-us-weekly-2020-10-23--2020-10-30.csv', 'Test_merge\\\\Top 200\\\\regional-us-weekly-2020-10-30--2020-11-06.csv', 'Test_merge\\\\Top 200\\\\regional-us-weekly-2020-11-06--2020-11-13.csv', 'Test_merge\\\\Top 200\\\\regional-us-weekly-2020-11-13--2020-11-20.csv', 'Test_merge\\\\Top 200\\\\regional-us-weekly-2020-11-20--2020-11-27.csv', 'Test_merge\\\\Top 200\\\\regional-us-weekly-2020-11-27--2020-12-04.csv']\n['Test_merge\\\\Viral\\\\viral-us-weekly-2020-08-27--2020-08-27.csv', 'Test_merge\\\\Viral\\\\viral-us-weekly-2020-09-03--2020-09-03.csv', 'Test_merge\\\\Viral\\\\viral-us-weekly-2020-09-10--2020-09-10.csv', 'Test_merge\\\\Viral\\\\viral-us-weekly-2020-09-17--2020-09-17.csv', 'Test_merge\\\\Viral\\\\viral-us-weekly-2020-09-24--2020-09-24.csv', 'Test_merge\\\\Viral\\\\viral-us-weekly-2020-10-01--2020-10-01.csv', 'Test_merge\\\\Viral\\\\viral-us-weekly-2020-10-29--2020-10-29.csv', 'Test_merge\\\\Viral\\\\viral-us-weekly-2020-11-05--2020-11-05.csv', 'Test_merge\\\\Viral\\\\viral-us-weekly-2020-11-12--2020-11-12.csv', 'Test_merge\\\\Viral\\\\viral-us-weekly-2020-11-19--2020-11-19.csv', 'Test_merge\\\\Viral\\\\viral-us-weekly-2020-11-26--2020-11-26.csv', 'Test_merge\\\\Viral\\\\viral-us-weekly-2020-12-03--2020-12-03.csv']\n"
     ]
    }
   ],
   "source": [
    "# print file names in list\n",
    "\n",
    "files_viral = glob.glob('Test_merge\\Viral\\*.csv')\n",
    "files_top200 = glob.glob('Test_merge\\Top 200\\*.csv')\n",
    "\n",
    "print(files_top200)\n",
    "\n",
    "print(files_viral)"
   ]
  },
  {
   "cell_type": "code",
   "execution_count": 26,
   "metadata": {},
   "outputs": [
    {
     "output_type": "error",
     "ename": "SyntaxError",
     "evalue": "invalid syntax (<ipython-input-26-797b3417f8d3>, line 9)",
     "traceback": [
      "\u001b[1;36m  File \u001b[1;32m\"<ipython-input-26-797b3417f8d3>\"\u001b[1;36m, line \u001b[1;32m9\u001b[0m\n\u001b[1;33m    def:\u001b[0m\n\u001b[1;37m       ^\u001b[0m\n\u001b[1;31mSyntaxError\u001b[0m\u001b[1;31m:\u001b[0m invalid syntax\n"
     ]
    }
   ],
   "source": [
    "# if combined_df_top200['Filename'] in combined_df_top200 == 2020-08-21--2020-08-28\n",
    "\n",
    "# lookup = combined_df_top200['Filename']\n",
    "\n",
    "# combined_df_top200['Month'] = \"\"\n",
    "# combined_df_top200['Week #'] = \"\"\n",
    "\n",
    "\n",
    "for index, row in combined_df_top200.iterrows():\n",
    "    \"2020-08-21--2020-08-28\" in row['Filename']\n",
    "    return\n",
    "    combined_df_top200.loc[index, 'Month'] = \"August\"\n",
    "    break\n",
    "\n",
    "combined_df_top200.head()\n",
    "\n",
    "# 2020-08-28--2020-09-04\n",
    "# 2020-09-04--2020-09-11\n",
    "# 2020-09-11--2020-09-18\n",
    "# 2020-09-18--2020-09-25\n",
    "# 2020-09-25--2020-10-02\n",
    "# 2020-10-23--2020-10-30\n",
    "# 2020-10-30--2020-11-06\n",
    "# 2020-11-06--2020-11-13\n",
    "# 2020-11-13--2020-11-20\n",
    "# 2020-11-20--2020-11-27\n",
    "# 2020-11-27--2020-12-04\n"
   ]
  },
  {
   "cell_type": "code",
   "execution_count": null,
   "metadata": {},
   "outputs": [],
   "source": []
  }
 ]
}